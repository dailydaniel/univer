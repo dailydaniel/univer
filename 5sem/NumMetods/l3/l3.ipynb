{
 "cells": [
  {
   "cell_type": "code",
   "execution_count": 1,
   "metadata": {
    "collapsed": true
   },
   "outputs": [],
   "source": [
    "#!/usr/bin/python\n",
    "# -*- coding: UTF-8 -*-\n",
    "\n",
    "import sys\n",
    "import argparse\n",
    "\n",
    "import math\n",
    "import pylab\n",
    "from matplotlib import mlab\n",
    "import numpy as np\n",
    "import pprint\n"
   ]
  },
  {
   "cell_type": "code",
   "execution_count": 2,
   "metadata": {},
   "outputs": [
    {
     "name": "stdout",
     "output_type": "stream",
     "text": [
      "x - y\n",
      "-2.0 - 0.1353352832366127\n",
      "-1.0 - 0.36787944117144233\n",
      "0.0 - 1.0\n",
      "1.0 - 2.718281828459045\n"
     ]
    }
   ],
   "source": [
    "a = [-2.0, -1.0, 0.0, 1.0]\n",
    "b = [math.exp(t) for t in a]\n",
    "xz = 0.5\n",
    "print('x - y')\n",
    "for i in range(len(a)):\n",
    "    print(str(a[i])+' - '+str(b[i]))"
   ]
  },
  {
   "cell_type": "code",
   "execution_count": 3,
   "metadata": {},
   "outputs": [
    {
     "data": {
      "image/png": "[encoded data removed]",
      "text/plain": [
       "<matplotlib.figure.Figure at 0x10f64c5c0>"
      ]
     },
     "metadata": {},
     "output_type": "display_data"
    }
   ],
   "source": [
    "xmin = -2.0\n",
    "xmax = 1.0\n",
    "\n",
    "dx = 0.01\n",
    "xlist = mlab.frange(xmin, xmax, dx)\n",
    "\n",
    "ylist = [math.exp(x) for x in xlist]\n",
    "\n",
    "pylab.plot(xlist, ylist)\n",
    "pylab.grid(True)\n",
    "pylab.show()"
   ]
  },
  {
   "cell_type": "markdown",
   "metadata": {},
   "source": [
    "### Lagrange"
   ]
  },
  {
   "cell_type": "code",
   "execution_count": 12,
   "metadata": {
    "collapsed": true
   },
   "outputs": [],
   "source": [
    "def lagr(a, b, n, x):\n",
    "    r = 0\n",
    "    for i in range(n):\n",
    "        g = 1\n",
    "        for k in range(n):\n",
    "            if i != k:\n",
    "                g *= (x-a[k]) / (a[i] - a[k])\n",
    "        r += g * b[i]\n",
    "    return r\n",
    "\n",
    "def first(a, b, n, x):\n",
    "    r = 0\n",
    "    for i in range(n):\n",
    "        g = 1\n",
    "        for k in range(n):\n",
    "            if i != k:\n",
    "                g *= 1 / (a[i] - a[k])\n",
    "        r += g * b[i] \n",
    "    return r"
   ]
  },
  {
   "cell_type": "markdown",
   "metadata": {},
   "source": [
    "### Newton"
   ]
  },
  {
   "cell_type": "code",
   "execution_count": 5,
   "metadata": {
    "collapsed": true
   },
   "outputs": [],
   "source": [
    "def icf(a, b, n1, n2):\n",
    "    if n1 == n2:\n",
    "        return b[n2]\n",
    "    else:\n",
    "        return (icf(a, b, n1+1, n2) - icf(a, b, n1, n2-1)) / (a[n2] - a[n1])\n",
    "    \n",
    "def inwt(a, b, n, x):\n",
    "    r = icf(a, b, 0, 0)\n",
    "    s = 1\n",
    "    for i in range(n-1):\n",
    "        s *= (x - a[i])\n",
    "        r += (s * icf(a, b, 0, i+1))\n",
    "    return r"
   ]
  },
  {
   "cell_type": "markdown",
   "metadata": {},
   "source": [
    "### result"
   ]
  },
  {
   "cell_type": "code",
   "execution_count": 15,
   "metadata": {},
   "outputs": [
    {
     "name": "stdout",
     "output_type": "stream",
     "text": [
      "2\n",
      "Exp(2.0) = 7.38905609893065\n",
      "Lagr(2.0) = 6.209309795285337\n",
      "iNwt(2.0) = 6.209309795285337\n",
      "DOP(2.0) = 0.11443081145612655\n"
     ]
    }
   ],
   "source": [
    "readed = float(input())\n",
    "print('Exp('+str(readed)+') = '+str(math.exp(readed)))\n",
    "print('Lagr('+str(readed)+') = '+str(lagr(a,b,4,readed)))\n",
    "print('iNwt('+str(readed)+') = '+str(inwt(a,b,4,readed)))\n",
    "print('DOP('+str(readed)+') = '+str(first(a,b,4,readed)))"
   ]
  },
  {
   "cell_type": "markdown",
   "metadata": {},
   "source": [
    "### Lagrange"
   ]
  },
  {
   "cell_type": "code",
   "execution_count": 8,
   "metadata": {},
   "outputs": [
    {
     "name": "stdout",
     "output_type": "stream",
     "text": [
      "Lagrange graph:\n"
     ]
    },
    {
     "data": {
      "image/png": "[encoded data removed]",
      "text/plain": [
       "<matplotlib.figure.Figure at 0x107dbcfd0>"
      ]
     },
     "metadata": {},
     "output_type": "display_data"
    }
   ],
   "source": [
    "print('Lagrange graph:')\n",
    "xmin = -2.0\n",
    "xmax = 1.0\n",
    "\n",
    "dx = 0.01\n",
    "xlist = mlab.frange(xmin, xmax, dx)\n",
    "\n",
    "ylist = [lagr(a, b, 4, x) for x in xlist]\n",
    "\n",
    "pylab.plot (xlist, ylist)\n",
    "pylab.grid(True)\n",
    "pylab.show()"
   ]
  },
  {
   "cell_type": "markdown",
   "metadata": {},
   "source": [
    "### Newton"
   ]
  },
  {
   "cell_type": "code",
   "execution_count": 9,
   "metadata": {},
   "outputs": [
    {
     "name": "stdout",
     "output_type": "stream",
     "text": [
      "Newton graph:\n"
     ]
    },
    {
     "data": {
      "image/png": "[encoded data removed]",
      "text/plain": [
       "<matplotlib.figure.Figure at 0x1080ba048>"
      ]
     },
     "metadata": {},
     "output_type": "display_data"
    }
   ],
   "source": [
    "print('Newton graph:')\n",
    "xmin = -2.0\n",
    "xmax = 1.0\n",
    "\n",
    "dx = 0.01\n",
    "xlist = mlab.frange(xmin, xmax, dx)\n",
    "\n",
    "ylist = [inwt(a, b, 4, x) for x in xlist]\n",
    "\n",
    "pylab.plot(xlist, ylist)\n",
    "pylab.grid(True)\n",
    "pylab.show()"
   ]
  }
 ],
 "metadata": {
  "kernelspec": {
   "display_name": "Python 3",
   "language": "python",
   "name": "python3"
  },
  "language_info": {
   "codemirror_mode": {
    "name": "ipython",
    "version": 3
   },
   "file_extension": ".py",
   "mimetype": "text/x-python",
   "name": "python",
   "nbconvert_exporter": "python",
   "pygments_lexer": "ipython3",
   "version": "3.5.1"
  }
 },
 "nbformat": 4,
 "nbformat_minor": 2
}
