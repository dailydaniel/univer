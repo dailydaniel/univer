{
 "cells": [
  {
   "cell_type": "code",
   "execution_count": 1,
   "metadata": {
    "collapsed": true
   },
   "outputs": [],
   "source": [
    "import pylab\n",
    "from matplotlib import mlab\n",
    "\n",
    "from l4 import S\n",
    "from l4 import readata, findh, matrix, makec, abd"
   ]
  },
  {
   "cell_type": "code",
   "execution_count": 2,
   "metadata": {},
   "outputs": [
    {
     "name": "stdout",
     "output_type": "stream",
     "text": [
      "x = [0.0, 0.9, 1.8, 2.7, 3.6]\n",
      "y = [0.0, 0.36892, 0.85408, 1.7856, 6.3138]\n"
     ]
    }
   ],
   "source": [
    "x, y = readata('l4.txt')\n",
    "print('x = {0}\\ny = {1}'.format(x, y))"
   ]
  },
  {
   "cell_type": "code",
   "execution_count": 3,
   "metadata": {},
   "outputs": [
    {
     "name": "stdout",
     "output_type": "stream",
     "text": [
      "h = [0.9, 0.9, 0.9, 0.9]\n"
     ]
    }
   ],
   "source": [
    "h = findh(x)\n",
    "print('h = {0}'.format(h))"
   ]
  },
  {
   "cell_type": "code",
   "execution_count": 4,
   "metadata": {},
   "outputs": [
    {
     "name": "stdout",
     "output_type": "stream",
     "text": [
      "matrix = \n",
      "[[ 3.6         0.9         0.          0.38746667]\n",
      " [ 0.9         3.6         0.9         1.48786667]\n",
      " [ 0.          0.9         3.6        11.98893333]]\n"
     ]
    }
   ],
   "source": [
    "m = matrix(h, y)\n",
    "print('matrix = \\n{0}'.format(m))"
   ]
  },
  {
   "cell_type": "code",
   "execution_count": 5,
   "metadata": {
    "collapsed": true
   },
   "outputs": [],
   "source": [
    "c = makec(m)"
   ]
  },
  {
   "cell_type": "code",
   "execution_count": 6,
   "metadata": {},
   "outputs": [
    {
     "name": "stdout",
     "output_type": "stream",
     "text": [
      "a = [0.0, 0.36892, 0.85408, 1.7856]\n",
      "b = [0.339379, 0.550976, 0.30365, 2.956691]\n",
      "c = [0.0, 0.235108, -0.509915, 3.457738]\n",
      "d = [0.087077, -0.275934, 1.469501, -1.280644]\n"
     ]
    }
   ],
   "source": [
    "a, b, d = abd(c, h, y)\n",
    "print('a = {0}\\nb = {1}\\nc = {2}\\nd = {3}'.format(a, b, c, d))"
   ]
  },
  {
   "cell_type": "code",
   "execution_count": 7,
   "metadata": {},
   "outputs": [
    {
     "name": "stdout",
     "output_type": "stream",
     "text": [
      "0.724543\n"
     ]
    }
   ],
   "source": [
    "s = S(a, b, c, d, x)\n",
    "X = 1.5\n",
    "res = s.fit(X)\n",
    "print(res)"
   ]
  },
  {
   "cell_type": "markdown",
   "metadata": {},
   "source": [
    "### some draw"
   ]
  },
  {
   "cell_type": "code",
   "execution_count": 8,
   "metadata": {},
   "outputs": [
    {
     "data": {
      "image/png": "[encoded data removed]",
      "text/plain": [
       "<matplotlib.figure.Figure at 0x11028df60>"
      ]
     },
     "metadata": {},
     "output_type": "display_data"
    }
   ],
   "source": [
    "xmin = s.x[s.findi(X, s.x)]\n",
    "xmax = s.x[s.findi(X, s.x) + 1]\n",
    "\n",
    "dx = 0.001\n",
    "xlist = mlab.frange(xmin, xmax, dx)\n",
    "\n",
    "ylist = [s.fit(x) for x in xlist]\n",
    "\n",
    "pylab.plot(xlist, ylist)\n",
    "pylab.grid(True)\n",
    "pylab.show()"
   ]
  },
  {
   "cell_type": "code",
   "execution_count": 12,
   "metadata": {},
   "outputs": [
    {
     "name": "stdout",
     "output_type": "stream",
     "text": [
      "dS left = 0.3036507799999999\n",
      "dS right = 0.30365\n",
      "Correct!\n"
     ]
    }
   ],
   "source": [
    "s.LandR(1.8)"
   ]
  },
  {
   "cell_type": "code",
   "execution_count": null,
   "metadata": {
    "collapsed": true
   },
   "outputs": [],
   "source": []
  }
 ],
 "metadata": {
  "kernelspec": {
   "display_name": "Python 3",
   "language": "python",
   "name": "python3"
  },
  "language_info": {
   "codemirror_mode": {
    "name": "ipython",
    "version": 3
   },
   "file_extension": ".py",
   "mimetype": "text/x-python",
   "name": "python",
   "nbconvert_exporter": "python",
   "pygments_lexer": "ipython3",
   "version": "3.5.1"
  }
 },
 "nbformat": 4,
 "nbformat_minor": 2
}
