{
 "cells": [
  {
   "cell_type": "code",
   "execution_count": 1,
   "metadata": {
    "collapsed": true
   },
   "outputs": [],
   "source": [
    "from l6 import lSquareIntegral, rSquareIntegral, mSquareIntegral, tIntegral, SimpsonIntegral\n",
    "from l6 import runge"
   ]
  },
  {
   "cell_type": "code",
   "execution_count": 6,
   "metadata": {
    "collapsed": true
   },
   "outputs": [],
   "source": [
    "def f(x: float) -> float:\n",
    "    return x / ((3 * x + 4) ** 3)\n",
    "\n",
    "a = -1.0\n",
    "b = 1.0\n",
    "h = 0.05"
   ]
  },
  {
   "cell_type": "code",
   "execution_count": 3,
   "metadata": {
    "collapsed": true
   },
   "outputs": [],
   "source": [
    "def f(x: float) -> float:\n",
    "    return (3 * x + 4) / (2 * x + 7)\n",
    "\n",
    "a = -2.0\n",
    "b = 2.0\n",
    "h = 0.5"
   ]
  },
  {
   "cell_type": "code",
   "execution_count": 4,
   "metadata": {
    "collapsed": true
   },
   "outputs": [],
   "source": [
    "def f(x: float) -> float:\n",
    "    return 1 / (x ** 2 + 4)\n",
    "\n",
    "a = -2.0\n",
    "b = 2.0\n",
    "h = 1.0"
   ]
  },
  {
   "cell_type": "code",
   "execution_count": 7,
   "metadata": {},
   "outputs": [
    {
     "name": "stdout",
     "output_type": "stream",
     "text": [
      "левые прямоугольники => -0.14958887435112259\n",
      "погрешность => 0.004694541172727347\n",
      "\n",
      "правые прмоугольники => -0.09944310175637035\n",
      "погрешность => 0.0036630875930647316\n",
      "\n",
      "средние прямоугольники => -0.12142162731475863\n",
      "погрешность => 0.00025594363296825573\n",
      "\n",
      "трапеции => -0.12451598805374643\n",
      "погрешность => 0.0005157267898313148\n",
      "\n",
      "интеграл Симпсона => -0.1224530808944212\n",
      "погрешность => 2.559682596520174e-07\n",
      "\n"
     ]
    }
   ],
   "source": [
    "for item in [('левые прямоугольники', lSquareIntegral, 3), \n",
    "                 ('правые прмоугольники', rSquareIntegral, 3), \n",
    "                 ('средние прямоугольники', mSquareIntegral, 3), \n",
    "                 ('трапеции', tIntegral, 3), \n",
    "                 ('интеграл Симпсона', SimpsonIntegral, 15)]:\n",
    "    \n",
    "    print('{0} => {1}\\nпогрешность => {2}\\n'.format(item[0], \n",
    "                                                   item[1](f, a, b, h),\n",
    "                                                   runge(item[1], f, a, b, h, item[2])))"
   ]
  },
  {
   "cell_type": "code",
   "execution_count": null,
   "metadata": {
    "collapsed": true
   },
   "outputs": [],
   "source": []
  }
 ],
 "metadata": {
  "kernelspec": {
   "display_name": "Python 3",
   "language": "python",
   "name": "python3"
  },
  "language_info": {
   "codemirror_mode": {
    "name": "ipython",
    "version": 3
   },
   "file_extension": ".py",
   "mimetype": "text/x-python",
   "name": "python",
   "nbconvert_exporter": "python",
   "pygments_lexer": "ipython3",
   "version": "3.5.1"
  }
 },
 "nbformat": 4,
 "nbformat_minor": 2
}
