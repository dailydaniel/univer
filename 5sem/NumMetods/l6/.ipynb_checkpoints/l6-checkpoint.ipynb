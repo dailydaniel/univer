{
 "cells": [
  {
   "cell_type": "code",
   "execution_count": 1,
   "metadata": {
    "collapsed": true
   },
   "outputs": [],
   "source": [
    "from l6 import lSquareIntegral, rSquareIntegral, mSquareIntegral, tIntegral, SimpsonIntegral\n",
    "from l6 import runge"
   ]
  },
  {
   "cell_type": "code",
   "execution_count": 2,
   "metadata": {
    "collapsed": true
   },
   "outputs": [],
   "source": [
    "def f(x: float) -> float:\n",
    "    return x / ((3 * x + 4) ** 2)\n",
    "\n",
    "a = -1.0\n",
    "b = 1.0\n",
    "h = 0.05"
   ]
  },
  {
   "cell_type": "code",
   "execution_count": 5,
   "metadata": {
    "collapsed": true
   },
   "outputs": [],
   "source": [
    "def f(x: float) -> float:\n",
    "    return (3 * x + 4) / (2 * x + 7)\n",
    "\n",
    "a = -2.0\n",
    "b = 2.0\n",
    "h = 0.5"
   ]
  },
  {
   "cell_type": "code",
   "execution_count": 6,
   "metadata": {},
   "outputs": [
    {
     "name": "stdout",
     "output_type": "stream",
     "text": [
      "левые прямоугольники => 1.3558531746031748\n",
      "погрешность => 0.1577711640211641\n",
      "\n",
      "правые прмоугольники => 2.1437319624819624\n",
      "погрешность => 0.1048550986050986\n",
      "\n",
      "средние прямоугольники => 1.7909819111057501\n",
      "погрешность => 0.012728251853638831\n",
      "\n",
      "трапеции => 1.7497925685425686\n",
      "погрешность => 0.02645803270803267\n",
      "\n",
      "интеграл Симпсона => 1.7772521302513564\n",
      "погрешность => 6.676860005037829e-05\n",
      "\n"
     ]
    }
   ],
   "source": [
    "for item in [('левые прямоугольники', lSquareIntegral, 3), \n",
    "                 ('правые прмоугольники', rSquareIntegral, 3), \n",
    "                 ('средние прямоугольники', mSquareIntegral, 3), \n",
    "                 ('трапеции', tIntegral, 3), \n",
    "                 ('интеграл Симпсона', SimpsonIntegral, 15)]:\n",
    "    \n",
    "    print('{0} => {1}\\nпогрешность => {2}\\n'.format(item[0], \n",
    "                                                   item[1](f, a, b, h),\n",
    "                                                   runge(item[1], f, a, b, h, item[2])))"
   ]
  },
  {
   "cell_type": "code",
   "execution_count": null,
   "metadata": {
    "collapsed": true
   },
   "outputs": [],
   "source": []
  }
 ],
 "metadata": {
  "kernelspec": {
   "display_name": "Python 3",
   "language": "python",
   "name": "python3"
  },
  "language_info": {
   "codemirror_mode": {
    "name": "ipython",
    "version": 3
   },
   "file_extension": ".py",
   "mimetype": "text/x-python",
   "name": "python",
   "nbconvert_exporter": "python",
   "pygments_lexer": "ipython3",
   "version": "3.5.1"
  }
 },
 "nbformat": 4,
 "nbformat_minor": 2
}
