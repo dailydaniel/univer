{
 "cells": [
  {
   "cell_type": "code",
   "execution_count": 1,
   "metadata": {
    "collapsed": true
   },
   "outputs": [],
   "source": [
    "from docx import Document\n",
    "import pandas as pd\n",
    "import re\n",
    "import nltk\n",
    "from difflib import ndiff\n",
    "import pickle\n",
    "\n",
    "from my_functions import read_docx_tables as read_df, ha, listReader, delta"
   ]
  },
  {
   "cell_type": "code",
   "execution_count": 2,
   "metadata": {},
   "outputs": [
    {
     "data": {
      "text/plain": [
       "['tr', 'trtr', 'trtrtr']"
      ]
     },
     "execution_count": 2,
     "metadata": {},
     "output_type": "execute_result"
    }
   ],
   "source": [
    "ha([['tr', 'trtr', 'trtrtr']])"
   ]
  },
  {
   "cell_type": "markdown",
   "metadata": {},
   "source": [
    "### Reading"
   ]
  },
  {
   "cell_type": "code",
   "execution_count": 3,
   "metadata": {
    "collapsed": true
   },
   "outputs": [],
   "source": [
    "df = read_df('All_irregular_verb_list.docx')[0]"
   ]
  },
  {
   "cell_type": "code",
   "execution_count": 4,
   "metadata": {},
   "outputs": [
    {
     "data": {
      "text/html": [
       "<div>\n",
       "<style scoped>\n",
       "    .dataframe tbody tr th:only-of-type {\n",
       "        vertical-align: middle;\n",
       "    }\n",
       "\n",
       "    .dataframe tbody tr th {\n",
       "        vertical-align: top;\n",
       "    }\n",
       "\n",
       "    .dataframe thead th {\n",
       "        text-align: right;\n",
       "    }\n",
       "</style>\n",
       "<table border=\"1\" class=\"dataframe\">\n",
       "  <thead>\n",
       "    <tr style=\"text-align: right;\">\n",
       "      <th></th>\n",
       "      <th>A</th>\n",
       "      <th>A.1</th>\n",
       "      <th>A.2</th>\n",
       "      <th>A.3</th>\n",
       "    </tr>\n",
       "  </thead>\n",
       "  <tbody>\n",
       "    <tr>\n",
       "      <th>0</th>\n",
       "      <td>abide</td>\n",
       "      <td>abode; abided</td>\n",
       "      <td>abode; abided</td>\n",
       "      <td>пребывать; держаться</td>\n",
       "    </tr>\n",
       "    <tr>\n",
       "      <th>1</th>\n",
       "      <td>arise</td>\n",
       "      <td>arose</td>\n",
       "      <td>arisen</td>\n",
       "      <td>подняться; возникнуть</td>\n",
       "    </tr>\n",
       "    <tr>\n",
       "      <th>2</th>\n",
       "      <td>awake</td>\n",
       "      <td>awoke</td>\n",
       "      <td>awaked; awoke</td>\n",
       "      <td>будить; проснуться</td>\n",
       "    </tr>\n",
       "  </tbody>\n",
       "</table>\n",
       "</div>"
      ],
      "text/plain": [
       "       A            A.1            A.2                    A.3\n",
       "0  abide  abode; abided  abode; abided   пребывать; держаться\n",
       "1  arise          arose         arisen  подняться; возникнуть\n",
       "2  awake          awoke  awaked; awoke     будить; проснуться"
      ]
     },
     "execution_count": 4,
     "metadata": {},
     "output_type": "execute_result"
    }
   ],
   "source": [
    "df[:3]"
   ]
  },
  {
   "cell_type": "code",
   "execution_count": 5,
   "metadata": {
    "collapsed": true
   },
   "outputs": [],
   "source": [
    "df = df.rename(columns={'A': 'First', 'A.1': 'Second', 'A.2': 'Third', 'A.3': 'Translate'})"
   ]
  },
  {
   "cell_type": "code",
   "execution_count": 6,
   "metadata": {
    "collapsed": true
   },
   "outputs": [],
   "source": [
    "for i in range(len(df.columns)):\n",
    "    df[df.columns[i]] = df[df.columns[i]].apply(lambda r: re.sub(r';.+', '', r))\n",
    "    \n",
    "df = df[df.First.apply(lambda x: len(x) > 1)]\n",
    "df = df.reset_index(drop=True)"
   ]
  },
  {
   "cell_type": "code",
   "execution_count": 7,
   "metadata": {},
   "outputs": [
    {
     "data": {
      "text/html": [
       "<div>\n",
       "<style scoped>\n",
       "    .dataframe tbody tr th:only-of-type {\n",
       "        vertical-align: middle;\n",
       "    }\n",
       "\n",
       "    .dataframe tbody tr th {\n",
       "        vertical-align: top;\n",
       "    }\n",
       "\n",
       "    .dataframe thead th {\n",
       "        text-align: right;\n",
       "    }\n",
       "</style>\n",
       "<table border=\"1\" class=\"dataframe\">\n",
       "  <thead>\n",
       "    <tr style=\"text-align: right;\">\n",
       "      <th></th>\n",
       "      <th>First</th>\n",
       "      <th>Second</th>\n",
       "      <th>Third</th>\n",
       "      <th>Translate</th>\n",
       "    </tr>\n",
       "  </thead>\n",
       "  <tbody>\n",
       "    <tr>\n",
       "      <th>0</th>\n",
       "      <td>abide</td>\n",
       "      <td>abode</td>\n",
       "      <td>abode</td>\n",
       "      <td>пребывать</td>\n",
       "    </tr>\n",
       "    <tr>\n",
       "      <th>1</th>\n",
       "      <td>arise</td>\n",
       "      <td>arose</td>\n",
       "      <td>arisen</td>\n",
       "      <td>подняться</td>\n",
       "    </tr>\n",
       "    <tr>\n",
       "      <th>2</th>\n",
       "      <td>awake</td>\n",
       "      <td>awoke</td>\n",
       "      <td>awaked</td>\n",
       "      <td>будить</td>\n",
       "    </tr>\n",
       "  </tbody>\n",
       "</table>\n",
       "</div>"
      ],
      "text/plain": [
       "   First Second   Third  Translate\n",
       "0  abide  abode   abode  пребывать\n",
       "1  arise  arose  arisen  подняться\n",
       "2  awake  awoke  awaked     будить"
      ]
     },
     "execution_count": 7,
     "metadata": {},
     "output_type": "execute_result"
    }
   ],
   "source": [
    "df[:3]"
   ]
  },
  {
   "cell_type": "code",
   "execution_count": 8,
   "metadata": {
    "collapsed": true
   },
   "outputs": [],
   "source": [
    "df.to_csv('All_irregular_verb_list.csv', sep=';', encoding='utf-8')"
   ]
  },
  {
   "cell_type": "code",
   "execution_count": 8,
   "metadata": {
    "collapsed": true
   },
   "outputs": [],
   "source": [
    "#ord('t')"
   ]
  },
  {
   "cell_type": "markdown",
   "metadata": {
    "collapsed": true
   },
   "source": [
    "### Графема => Фонема"
   ]
  },
  {
   "cell_type": "code",
   "execution_count": 9,
   "metadata": {
    "collapsed": true
   },
   "outputs": [],
   "source": [
    "#nltk.download('cmudict')"
   ]
  },
  {
   "cell_type": "code",
   "execution_count": 10,
   "metadata": {
    "collapsed": true
   },
   "outputs": [],
   "source": [
    "arpabet = nltk.corpus.cmudict.dict() \n",
    "# for word in ('barbels', 'barbeque', 'barbequed', 'barbequeing', 'barbeques'): \n",
    "#     print(arpabet[word]) "
   ]
  },
  {
   "cell_type": "code",
   "execution_count": 11,
   "metadata": {
    "collapsed": true
   },
   "outputs": [],
   "source": [
    "df = df[df.First.apply(lambda x: True if x in arpabet.keys() else False)]\n",
    "df = df[df.Second.apply(lambda x: True if x in arpabet.keys() else False)]\n",
    "df = df[df.Third.apply(lambda x: True if x in arpabet.keys() else False)]\n",
    "df = df.reset_index(drop=True)\n",
    "\n",
    "df = df.assign(TR_1 = pd.Series([arpabet[x][0] for x in df[df.columns[0]]]))\n",
    "df = df.assign(TR_2 = pd.Series([arpabet[x][0] for x in df[df.columns[1]]]))\n",
    "df = df.assign(TR_3 = pd.Series([arpabet[x][0] for x in df[df.columns[2]]]))\n",
    "\n",
    "df = df[['First', 'Second', 'Third', 'TR_1', 'TR_2', 'TR_3', 'Translate']]"
   ]
  },
  {
   "cell_type": "code",
   "execution_count": 12,
   "metadata": {},
   "outputs": [
    {
     "data": {
      "text/html": [
       "<div>\n",
       "<style scoped>\n",
       "    .dataframe tbody tr th:only-of-type {\n",
       "        vertical-align: middle;\n",
       "    }\n",
       "\n",
       "    .dataframe tbody tr th {\n",
       "        vertical-align: top;\n",
       "    }\n",
       "\n",
       "    .dataframe thead th {\n",
       "        text-align: right;\n",
       "    }\n",
       "</style>\n",
       "<table border=\"1\" class=\"dataframe\">\n",
       "  <thead>\n",
       "    <tr style=\"text-align: right;\">\n",
       "      <th></th>\n",
       "      <th>First</th>\n",
       "      <th>Second</th>\n",
       "      <th>Third</th>\n",
       "      <th>TR_1</th>\n",
       "      <th>TR_2</th>\n",
       "      <th>TR_3</th>\n",
       "      <th>Translate</th>\n",
       "    </tr>\n",
       "  </thead>\n",
       "  <tbody>\n",
       "    <tr>\n",
       "      <th>0</th>\n",
       "      <td>abide</td>\n",
       "      <td>abode</td>\n",
       "      <td>abode</td>\n",
       "      <td>[AH0, B, AY1, D]</td>\n",
       "      <td>[AH0, B, OW1, D]</td>\n",
       "      <td>[AH0, B, OW1, D]</td>\n",
       "      <td>пребывать</td>\n",
       "    </tr>\n",
       "    <tr>\n",
       "      <th>1</th>\n",
       "      <td>arise</td>\n",
       "      <td>arose</td>\n",
       "      <td>arisen</td>\n",
       "      <td>[ER0, AY1, Z]</td>\n",
       "      <td>[ER0, OW1, Z]</td>\n",
       "      <td>[ER0, IH1, Z, AH0, N]</td>\n",
       "      <td>подняться</td>\n",
       "    </tr>\n",
       "    <tr>\n",
       "      <th>2</th>\n",
       "      <td>be</td>\n",
       "      <td>was</td>\n",
       "      <td>been</td>\n",
       "      <td>[B, IY1]</td>\n",
       "      <td>[W, AA1, Z]</td>\n",
       "      <td>[B, IH1, N]</td>\n",
       "      <td>быть</td>\n",
       "    </tr>\n",
       "  </tbody>\n",
       "</table>\n",
       "</div>"
      ],
      "text/plain": [
       "   First Second   Third              TR_1              TR_2  \\\n",
       "0  abide  abode   abode  [AH0, B, AY1, D]  [AH0, B, OW1, D]   \n",
       "1  arise  arose  arisen     [ER0, AY1, Z]     [ER0, OW1, Z]   \n",
       "2     be    was    been          [B, IY1]       [W, AA1, Z]   \n",
       "\n",
       "                    TR_3  Translate  \n",
       "0       [AH0, B, OW1, D]  пребывать  \n",
       "1  [ER0, IH1, Z, AH0, N]  подняться  \n",
       "2            [B, IH1, N]       быть  "
      ]
     },
     "execution_count": 12,
     "metadata": {},
     "output_type": "execute_result"
    }
   ],
   "source": [
    "df[:3]"
   ]
  },
  {
   "cell_type": "code",
   "execution_count": 13,
   "metadata": {
    "collapsed": true
   },
   "outputs": [],
   "source": [
    "vocab = list(arpabet.values())\n",
    "\n",
    "vocab = [el[0] for el in vocab]\n",
    "vocab = list(set(ha(vocab)))"
   ]
  },
  {
   "cell_type": "code",
   "execution_count": 14,
   "metadata": {
    "collapsed": true
   },
   "outputs": [],
   "source": [
    "with open('vokab.pickle', 'wb') as f:\n",
    "    pickle.dump(vocab, f)"
   ]
  },
  {
   "cell_type": "code",
   "execution_count": 15,
   "metadata": {},
   "outputs": [
    {
     "data": {
      "text/plain": [
       "('IH1', 69)"
      ]
     },
     "execution_count": 15,
     "metadata": {},
     "output_type": "execute_result"
    }
   ],
   "source": [
    "vocab[0], len(vocab)"
   ]
  },
  {
   "cell_type": "code",
   "execution_count": 16,
   "metadata": {
    "collapsed": true
   },
   "outputs": [],
   "source": [
    "dl = ndiff(['12', '23', '33'], ['12', '24', '56'])"
   ]
  },
  {
   "cell_type": "code",
   "execution_count": 17,
   "metadata": {},
   "outputs": [
    {
     "name": "stdout",
     "output_type": "stream",
     "text": [
      "  12\n",
      "- 23\n",
      "- 33\n",
      "+ 24\n",
      "+ 56\n"
     ]
    }
   ],
   "source": [
    "for el in dl:\n",
    "    print(el)"
   ]
  },
  {
   "cell_type": "code",
   "execution_count": 16,
   "metadata": {},
   "outputs": [
    {
     "data": {
      "text/plain": [
       "(['AY1', 'D'], ['OW1', 'D'], ['OW1', 'D'])"
      ]
     },
     "execution_count": 16,
     "metadata": {},
     "output_type": "execute_result"
    }
   ],
   "source": [
    "delta(0, df)"
   ]
  },
  {
   "cell_type": "code",
   "execution_count": 17,
   "metadata": {},
   "outputs": [
    {
     "data": {
      "text/plain": [
       "(['AY1', 'Z'], ['OW1', 'Z'], ['IH1', 'Z', 'AH0', 'N'])"
      ]
     },
     "execution_count": 17,
     "metadata": {},
     "output_type": "execute_result"
    }
   ],
   "source": [
    "delta(1, df)"
   ]
  },
  {
   "cell_type": "code",
   "execution_count": 18,
   "metadata": {
    "collapsed": true
   },
   "outputs": [],
   "source": [
    "df = df.assign(DELTA = pd.Series([delta(i, df) for i in range(df.index.size)]))"
   ]
  },
  {
   "cell_type": "code",
   "execution_count": 19,
   "metadata": {
    "collapsed": true
   },
   "outputs": [],
   "source": [
    "df = df[['First', 'Second', 'Third', 'TR_1', 'TR_2', 'TR_3', 'DELTA', 'Translate']]"
   ]
  },
  {
   "cell_type": "code",
   "execution_count": 20,
   "metadata": {},
   "outputs": [
    {
     "data": {
      "text/html": [
       "<div>\n",
       "<style scoped>\n",
       "    .dataframe tbody tr th:only-of-type {\n",
       "        vertical-align: middle;\n",
       "    }\n",
       "\n",
       "    .dataframe tbody tr th {\n",
       "        vertical-align: top;\n",
       "    }\n",
       "\n",
       "    .dataframe thead th {\n",
       "        text-align: right;\n",
       "    }\n",
       "</style>\n",
       "<table border=\"1\" class=\"dataframe\">\n",
       "  <thead>\n",
       "    <tr style=\"text-align: right;\">\n",
       "      <th></th>\n",
       "      <th>First</th>\n",
       "      <th>Second</th>\n",
       "      <th>Third</th>\n",
       "      <th>TR_1</th>\n",
       "      <th>TR_2</th>\n",
       "      <th>TR_3</th>\n",
       "      <th>DELTA</th>\n",
       "      <th>Translate</th>\n",
       "    </tr>\n",
       "  </thead>\n",
       "  <tbody>\n",
       "    <tr>\n",
       "      <th>0</th>\n",
       "      <td>abide</td>\n",
       "      <td>abode</td>\n",
       "      <td>abode</td>\n",
       "      <td>[AH0, B, AY1, D]</td>\n",
       "      <td>[AH0, B, OW1, D]</td>\n",
       "      <td>[AH0, B, OW1, D]</td>\n",
       "      <td>([AY1, D], [OW1, D], [OW1, D])</td>\n",
       "      <td>пребывать</td>\n",
       "    </tr>\n",
       "    <tr>\n",
       "      <th>1</th>\n",
       "      <td>arise</td>\n",
       "      <td>arose</td>\n",
       "      <td>arisen</td>\n",
       "      <td>[ER0, AY1, Z]</td>\n",
       "      <td>[ER0, OW1, Z]</td>\n",
       "      <td>[ER0, IH1, Z, AH0, N]</td>\n",
       "      <td>([AY1, Z], [OW1, Z], [IH1, Z, AH0, N])</td>\n",
       "      <td>подняться</td>\n",
       "    </tr>\n",
       "    <tr>\n",
       "      <th>2</th>\n",
       "      <td>be</td>\n",
       "      <td>was</td>\n",
       "      <td>been</td>\n",
       "      <td>[B, IY1]</td>\n",
       "      <td>[W, AA1, Z]</td>\n",
       "      <td>[B, IH1, N]</td>\n",
       "      <td>([B, IY1], [W, AA1, Z], [B, IH1, N])</td>\n",
       "      <td>быть</td>\n",
       "    </tr>\n",
       "  </tbody>\n",
       "</table>\n",
       "</div>"
      ],
      "text/plain": [
       "   First Second   Third              TR_1              TR_2  \\\n",
       "0  abide  abode   abode  [AH0, B, AY1, D]  [AH0, B, OW1, D]   \n",
       "1  arise  arose  arisen     [ER0, AY1, Z]     [ER0, OW1, Z]   \n",
       "2     be    was    been          [B, IY1]       [W, AA1, Z]   \n",
       "\n",
       "                    TR_3                                   DELTA  Translate  \n",
       "0       [AH0, B, OW1, D]          ([AY1, D], [OW1, D], [OW1, D])  пребывать  \n",
       "1  [ER0, IH1, Z, AH0, N]  ([AY1, Z], [OW1, Z], [IH1, Z, AH0, N])  подняться  \n",
       "2            [B, IH1, N]    ([B, IY1], [W, AA1, Z], [B, IH1, N])       быть  "
      ]
     },
     "execution_count": 20,
     "metadata": {},
     "output_type": "execute_result"
    }
   ],
   "source": [
    "df[:3]"
   ]
  },
  {
   "cell_type": "code",
   "execution_count": 39,
   "metadata": {
    "collapsed": true
   },
   "outputs": [],
   "source": [
    "df.to_csv('test_1.csv', encoding='utf-8', sep=';')"
   ]
  },
  {
   "cell_type": "code",
   "execution_count": 40,
   "metadata": {
    "collapsed": true
   },
   "outputs": [],
   "source": [
    "new_df = pd.read_csv('test_1.csv', encoding='utf-8', sep=';')"
   ]
  },
  {
   "cell_type": "code",
   "execution_count": 41,
   "metadata": {
    "collapsed": true
   },
   "outputs": [],
   "source": [
    "new_df = new_df[['First', 'Second', 'Third', 'TR_1', 'TR_2', 'TR_3', 'DELTA', 'Translate']]"
   ]
  },
  {
   "cell_type": "code",
   "execution_count": 42,
   "metadata": {},
   "outputs": [
    {
     "data": {
      "text/html": [
       "<div>\n",
       "<style scoped>\n",
       "    .dataframe tbody tr th:only-of-type {\n",
       "        vertical-align: middle;\n",
       "    }\n",
       "\n",
       "    .dataframe tbody tr th {\n",
       "        vertical-align: top;\n",
       "    }\n",
       "\n",
       "    .dataframe thead th {\n",
       "        text-align: right;\n",
       "    }\n",
       "</style>\n",
       "<table border=\"1\" class=\"dataframe\">\n",
       "  <thead>\n",
       "    <tr style=\"text-align: right;\">\n",
       "      <th></th>\n",
       "      <th>First</th>\n",
       "      <th>Second</th>\n",
       "      <th>Third</th>\n",
       "      <th>TR_1</th>\n",
       "      <th>TR_2</th>\n",
       "      <th>TR_3</th>\n",
       "      <th>DELTA</th>\n",
       "      <th>Translate</th>\n",
       "    </tr>\n",
       "  </thead>\n",
       "  <tbody>\n",
       "    <tr>\n",
       "      <th>0</th>\n",
       "      <td>abide</td>\n",
       "      <td>abode</td>\n",
       "      <td>abode</td>\n",
       "      <td>['AH0', 'B', 'AY1', 'D']</td>\n",
       "      <td>['AH0', 'B', 'OW1', 'D']</td>\n",
       "      <td>['AH0', 'B', 'OW1', 'D']</td>\n",
       "      <td>(['AY1', 'D'], ['OW1', 'D'], ['OW1', 'D'])</td>\n",
       "      <td>пребывать</td>\n",
       "    </tr>\n",
       "    <tr>\n",
       "      <th>1</th>\n",
       "      <td>arise</td>\n",
       "      <td>arose</td>\n",
       "      <td>arisen</td>\n",
       "      <td>['ER0', 'AY1', 'Z']</td>\n",
       "      <td>['ER0', 'OW1', 'Z']</td>\n",
       "      <td>['ER0', 'IH1', 'Z', 'AH0', 'N']</td>\n",
       "      <td>(['AY1', 'Z'], ['OW1', 'Z'], ['IH1', 'Z', 'AH0...</td>\n",
       "      <td>подняться</td>\n",
       "    </tr>\n",
       "    <tr>\n",
       "      <th>2</th>\n",
       "      <td>be</td>\n",
       "      <td>was</td>\n",
       "      <td>been</td>\n",
       "      <td>['B', 'IY1']</td>\n",
       "      <td>['W', 'AA1', 'Z']</td>\n",
       "      <td>['B', 'IH1', 'N']</td>\n",
       "      <td>(['B', 'IY1'], ['W', 'AA1', 'Z'], ['B', 'IH1',...</td>\n",
       "      <td>быть</td>\n",
       "    </tr>\n",
       "  </tbody>\n",
       "</table>\n",
       "</div>"
      ],
      "text/plain": [
       "   First Second   Third                      TR_1                      TR_2  \\\n",
       "0  abide  abode   abode  ['AH0', 'B', 'AY1', 'D']  ['AH0', 'B', 'OW1', 'D']   \n",
       "1  arise  arose  arisen       ['ER0', 'AY1', 'Z']       ['ER0', 'OW1', 'Z']   \n",
       "2     be    was    been              ['B', 'IY1']         ['W', 'AA1', 'Z']   \n",
       "\n",
       "                              TR_3  \\\n",
       "0         ['AH0', 'B', 'OW1', 'D']   \n",
       "1  ['ER0', 'IH1', 'Z', 'AH0', 'N']   \n",
       "2                ['B', 'IH1', 'N']   \n",
       "\n",
       "                                               DELTA  Translate  \n",
       "0         (['AY1', 'D'], ['OW1', 'D'], ['OW1', 'D'])  пребывать  \n",
       "1  (['AY1', 'Z'], ['OW1', 'Z'], ['IH1', 'Z', 'AH0...  подняться  \n",
       "2  (['B', 'IY1'], ['W', 'AA1', 'Z'], ['B', 'IH1',...       быть  "
      ]
     },
     "execution_count": 42,
     "metadata": {},
     "output_type": "execute_result"
    }
   ],
   "source": [
    "new_df[:3]"
   ]
  },
  {
   "cell_type": "code",
   "execution_count": 43,
   "metadata": {
    "collapsed": true
   },
   "outputs": [],
   "source": [
    "t = new_df[new_df.columns[6]][0]"
   ]
  },
  {
   "cell_type": "code",
   "execution_count": 44,
   "metadata": {},
   "outputs": [
    {
     "data": {
      "text/plain": [
       "\"(['AY1', 'D'], ['OW1', 'D'], ['OW1', 'D'])\""
      ]
     },
     "execution_count": 44,
     "metadata": {},
     "output_type": "execute_result"
    }
   ],
   "source": [
    "t"
   ]
  },
  {
   "cell_type": "code",
   "execution_count": 45,
   "metadata": {
    "collapsed": true
   },
   "outputs": [],
   "source": [
    "t = listReader(t)"
   ]
  },
  {
   "cell_type": "code",
   "execution_count": 46,
   "metadata": {},
   "outputs": [
    {
     "data": {
      "text/plain": [
       "[['AY1', 'D'], ['OW1', 'D'], ['OW1', 'D)']]"
      ]
     },
     "execution_count": 46,
     "metadata": {},
     "output_type": "execute_result"
    }
   ],
   "source": [
    "t"
   ]
  },
  {
   "cell_type": "code",
   "execution_count": null,
   "metadata": {
    "collapsed": true
   },
   "outputs": [],
   "source": []
  }
 ],
 "metadata": {
  "kernelspec": {
   "display_name": "Python 3",
   "language": "python",
   "name": "python3"
  },
  "language_info": {
   "codemirror_mode": {
    "name": "ipython",
    "version": 3
   },
   "file_extension": ".py",
   "mimetype": "text/x-python",
   "name": "python",
   "nbconvert_exporter": "python",
   "pygments_lexer": "ipython3",
   "version": "3.5.1"
  }
 },
 "nbformat": 4,
 "nbformat_minor": 2
}
