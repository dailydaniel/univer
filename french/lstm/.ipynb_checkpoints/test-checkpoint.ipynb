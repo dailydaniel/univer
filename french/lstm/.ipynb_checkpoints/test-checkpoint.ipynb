{
 "cells": [
  {
   "cell_type": "code",
   "execution_count": 1,
   "metadata": {
    "collapsed": true
   },
   "outputs": [],
   "source": [
    "import pandas as pd\n",
    "import string\n",
    "import numpy as np\n",
    "import re\n",
    "\n",
    "import torch\n",
    "import torch.nn as nn\n",
    "import torch.nn.functional as F\n",
    "import torch.optim as optim\n",
    "\n",
    "from tqdm import tqdm"
   ]
  },
  {
   "cell_type": "code",
   "execution_count": 2,
   "metadata": {
    "collapsed": true
   },
   "outputs": [],
   "source": [
    "df = pd.read_csv('../All_irregular_verb_list.csv', sep=';', encoding='utf-8')\n",
    "df = df[['First', 'Second', 'Third']]"
   ]
  },
  {
   "cell_type": "code",
   "execution_count": 3,
   "metadata": {
    "collapsed": true
   },
   "outputs": [],
   "source": [
    "for column in df.columns[1:]:\n",
    "    df[column] = df[column].apply(lambda x: re.sub(r'[/.*]', '', x))\n",
    "    df[column] = df[column].apply(lambda x: re.sub(r'[^a-zA-Z]', '', x))\n",
    "\n",
    "criteria = df['First'].map(lambda x: len(set(x) & set(string.ascii_uppercase)) == 0)\n",
    "df = df[criteria]\n",
    "df = df.reset_index(drop=True)"
   ]
  },
  {
   "cell_type": "code",
   "execution_count": 4,
   "metadata": {},
   "outputs": [
    {
     "data": {
      "text/html": [
       "<div>\n",
       "<style scoped>\n",
       "    .dataframe tbody tr th:only-of-type {\n",
       "        vertical-align: middle;\n",
       "    }\n",
       "\n",
       "    .dataframe tbody tr th {\n",
       "        vertical-align: top;\n",
       "    }\n",
       "\n",
       "    .dataframe thead th {\n",
       "        text-align: right;\n",
       "    }\n",
       "</style>\n",
       "<table border=\"1\" class=\"dataframe\">\n",
       "  <thead>\n",
       "    <tr style=\"text-align: right;\">\n",
       "      <th></th>\n",
       "      <th>First</th>\n",
       "      <th>Second</th>\n",
       "      <th>Third</th>\n",
       "    </tr>\n",
       "  </thead>\n",
       "  <tbody>\n",
       "    <tr>\n",
       "      <th>0</th>\n",
       "      <td>abide</td>\n",
       "      <td>abode</td>\n",
       "      <td>abode</td>\n",
       "    </tr>\n",
       "    <tr>\n",
       "      <th>1</th>\n",
       "      <td>arise</td>\n",
       "      <td>arose</td>\n",
       "      <td>arisen</td>\n",
       "    </tr>\n",
       "    <tr>\n",
       "      <th>2</th>\n",
       "      <td>awake</td>\n",
       "      <td>awoke</td>\n",
       "      <td>awaked</td>\n",
       "    </tr>\n",
       "  </tbody>\n",
       "</table>\n",
       "</div>"
      ],
      "text/plain": [
       "   First Second   Third\n",
       "0  abide  abode   abode\n",
       "1  arise  arose  arisen\n",
       "2  awake  awoke  awaked"
      ]
     },
     "execution_count": 4,
     "metadata": {},
     "output_type": "execute_result"
    }
   ],
   "source": [
    "df[:3]"
   ]
  },
  {
   "cell_type": "code",
   "execution_count": 5,
   "metadata": {
    "collapsed": true
   },
   "outputs": [],
   "source": [
    "char_emb = {char: i+1 for i, char in enumerate(string.ascii_lowercase)}\n",
    "char_emb['0'] = 0"
   ]
  },
  {
   "cell_type": "code",
   "execution_count": 6,
   "metadata": {
    "collapsed": true
   },
   "outputs": [],
   "source": [
    "decoder = {val: key for key, val in char_emb.items()}\n",
    "\n",
    "def decode(idx, decoder):\n",
    "    return ''.join([decoder[ix] for ix in idx])"
   ]
  },
  {
   "cell_type": "code",
   "execution_count": 7,
   "metadata": {
    "collapsed": true
   },
   "outputs": [],
   "source": [
    "max_len = 0\n",
    "for column_id in range(len(df.columns)):\n",
    "    for i in range(df.index.size-1):\n",
    "        if len(df[df.columns[column_id]][i]) > max_len:\n",
    "            max_len = len(df[df.columns[column_id]][i])"
   ]
  },
  {
   "cell_type": "code",
   "execution_count": 8,
   "metadata": {},
   "outputs": [
    {
     "name": "stdout",
     "output_type": "stream",
     "text": [
      "First\n",
      "Second\n",
      "Third\n"
     ]
    }
   ],
   "source": [
    "def word2emb(emb, n, word):\n",
    "    res = np.zeros(n, dtype=int)\n",
    "    for i, char in enumerate(word):\n",
    "        res[i] = emb[char]\n",
    "    return res\n",
    "\n",
    "for column in df.columns:\n",
    "    print(column)\n",
    "    df[column] = df[column].apply(lambda word: word2emb(char_emb, max_len, word))"
   ]
  },
  {
   "cell_type": "code",
   "execution_count": 9,
   "metadata": {
    "collapsed": true
   },
   "outputs": [],
   "source": [
    "# data, labels = df['First'], df.apply(lambda x: np.hstack((x['Second'], x['Third'])), axis=1)\n",
    "# data, labels = data.map(lambda x: torch.from_numpy(x)), labels.map(lambda x: torch.from_numpy(x))\n",
    "\n",
    "data, labels = df['First'], df['Second']\n",
    "data, labels = data.map(lambda x: torch.from_numpy(x)), labels.map(lambda x: torch.from_numpy(x))"
   ]
  },
  {
   "cell_type": "code",
   "execution_count": 10,
   "metadata": {},
   "outputs": [
    {
     "data": {
      "text/plain": [
       "0    [tensor(1), tensor(2), tensor(9), tensor(4), t...\n",
       "1    [tensor(1), tensor(18), tensor(9), tensor(19),...\n",
       "2    [tensor(1), tensor(23), tensor(1), tensor(11),...\n",
       "Name: First, dtype: object"
      ]
     },
     "execution_count": 10,
     "metadata": {},
     "output_type": "execute_result"
    }
   ],
   "source": [
    "data[:3]"
   ]
  },
  {
   "cell_type": "code",
   "execution_count": 11,
   "metadata": {},
   "outputs": [
    {
     "data": {
      "text/plain": [
       "0    [tensor(1), tensor(2), tensor(15), tensor(4), ...\n",
       "1    [tensor(1), tensor(18), tensor(15), tensor(19)...\n",
       "2    [tensor(1), tensor(23), tensor(15), tensor(11)...\n",
       "Name: Second, dtype: object"
      ]
     },
     "execution_count": 11,
     "metadata": {},
     "output_type": "execute_result"
    }
   ],
   "source": [
    "labels[:3]"
   ]
  },
  {
   "cell_type": "code",
   "execution_count": 12,
   "metadata": {
    "collapsed": true
   },
   "outputs": [],
   "source": [
    "EMBEDDING_DIM = 10\n",
    "HIDDEN_DIM = 10"
   ]
  },
  {
   "cell_type": "code",
   "execution_count": 13,
   "metadata": {
    "collapsed": true
   },
   "outputs": [],
   "source": [
    "class LSTMVerbFormer(nn.Module):\n",
    "\n",
    "    def __init__(self, embedding_dim, hidden_dim, vocab_size):\n",
    "        super(LSTMVerbFormer, self).__init__()\n",
    "        self.hidden_dim = hidden_dim\n",
    "\n",
    "        self.char_embeddings = nn.Embedding(vocab_size, embedding_dim)\n",
    "\n",
    "        self.lstm = nn.LSTM(embedding_dim, hidden_dim)\n",
    "\n",
    "        self.hidden2tag = nn.Linear(hidden_dim, vocab_size)\n",
    "\n",
    "    def forward(self, sentence):\n",
    "        embeds = self.char_embeddings(sentence)\n",
    "        lstm_out, _ = self.lstm(embeds.view(len(sentence), 1, -1))\n",
    "        tag_space = self.hidden2tag(lstm_out.view(len(sentence), -1))\n",
    "        tag_scores = F.log_softmax(tag_space, dim=1)\n",
    "        return tag_scores"
   ]
  },
  {
   "cell_type": "code",
   "execution_count": 14,
   "metadata": {
    "collapsed": true
   },
   "outputs": [],
   "source": [
    "model = LSTMVerbFormer(EMBEDDING_DIM, HIDDEN_DIM, len(char_emb))\n",
    "loss_function = nn.NLLLoss()\n",
    "optimizer = optim.SGD(model.parameters(), lr=0.1)"
   ]
  },
  {
   "cell_type": "code",
   "execution_count": 16,
   "metadata": {},
   "outputs": [
    {
     "name": "stderr",
     "output_type": "stream",
     "text": [
      "100%|██████████| 300/300 [03:43<00:00,  1.34it/s]\n"
     ]
    }
   ],
   "source": [
    "avg_loss = []\n",
    "\n",
    "for epoch in tqdm(range(300)): \n",
    "    \n",
    "    running_loss = []\n",
    "    for sentence, targets in zip(data, labels):\n",
    "        model.zero_grad()\n",
    "\n",
    "        tag_scores = model(sentence)\n",
    "\n",
    "        loss = loss_function(tag_scores, targets)\n",
    "        loss.backward()\n",
    "        optimizer.step()\n",
    "        \n",
    "        running_loss.append(loss.item())\n",
    "    avg_loss.append(round(sum(running_loss) / len(running_loss), 5))"
   ]
  },
  {
   "cell_type": "code",
   "execution_count": 17,
   "metadata": {
    "collapsed": true
   },
   "outputs": [],
   "source": [
    "ix = 100\n",
    "with torch.no_grad():\n",
    "    inputs, outputs = data[ix], labels[ix]\n",
    "    tag_scores = model(inputs)"
   ]
  },
  {
   "cell_type": "code",
   "execution_count": 18,
   "metadata": {
    "collapsed": true
   },
   "outputs": [],
   "source": [
    "_, preds = torch.max(tag_scores, 1)"
   ]
  },
  {
   "cell_type": "code",
   "execution_count": 19,
   "metadata": {},
   "outputs": [
    {
     "name": "stdout",
     "output_type": "stream",
     "text": [
      "hurt000000000 => hurt000000000\n"
     ]
    }
   ],
   "source": [
    "print('{0} => {1}'.format(decode(inputs.tolist(), decoder), decode(preds.tolist(), decoder)))"
   ]
  },
  {
   "cell_type": "code",
   "execution_count": 20,
   "metadata": {},
   "outputs": [
    {
     "data": {
      "image/png": "[encoded data removed]",
      "text/plain": [
       "<matplotlib.figure.Figure at 0x1166155f8>"
      ]
     },
     "metadata": {},
     "output_type": "display_data"
    }
   ],
   "source": [
    "import matplotlib.pyplot as plt\n",
    "\n",
    "X, Y = range(len(avg_loss)), avg_loss\n",
    "\n",
    "fig, ax = plt.subplots(figsize=(10, 5))\n",
    "ax.plot(X, Y, label='lstm')\n",
    "ax.set_title('n_epoch')\n",
    "ax.legend(loc='upper left')\n",
    "ax.set_ylabel('loss')\n",
    "fig.tight_layout()\n",
    " \n",
    "plt.show()"
   ]
  },
  {
   "cell_type": "code",
   "execution_count": 21,
   "metadata": {},
   "outputs": [
    {
     "name": "stdout",
     "output_type": "stream",
     "text": [
      "abide => gt: abode, pred: abid\n",
      "arise => gt: arose, pred: aroso\n",
      "awake => gt: awoke, pred: awake\n",
      "backbite => gt: backbitten, pred: backbite\n",
      "backslide => gt: backslid, pred: backslid\n",
      "be => gt: was, pred: be\n",
      "bear => gt: bore, pred: beare\n",
      "beat => gt: beat, pred: beat\n",
      "become => gt: became, pred: became\n",
      "befall => gt: befell, pred: befeld\n",
      "beget => gt: begot, pred: begot\n",
      "begin => gt: began, pred: begin\n",
      "begird => gt: begirt, pred: begirted\n",
      "behold => gt: beheld, pred: beheld\n",
      "bend => gt: bent, pred: bent\n",
      "bereave => gt: bereft, pred: bereaved\n",
      "beseech => gt: besought, pred: besodchd\n",
      "beset => gt: beset, pred: besot\n",
      "bespeak => gt: bespoke, pred: bespeae\n",
      "bespit => gt: bespat, pred: bespat\n",
      "bestride => gt: bestrode, pred: bestrode\n",
      "bet => gt: bet, pred: bet\n",
      "betake => gt: betook, pred: betoek\n",
      "bid => gt: bad, pred: bid\n",
      "bind => gt: bound, pred: biund\n",
      "bite => gt: bit, pred: bid\n",
      "bleed => gt: bled, pred: bled\n",
      "bless => gt: blessed, pred: blessed\n",
      "blow => gt: blew, pred: blew\n",
      "break => gt: broke, pred: breae\n",
      "breed => gt: bred, pred: brep\n",
      "bring => gt: brought, pred: broug\n",
      "broadcast => gt: broadcast, pred: broadcast\n",
      "browbeat => gt: browbeat, pred: browbeat\n",
      "build => gt: built, pred: built\n",
      "burn => gt: burnt, pred: burn\n",
      "burst => gt: burst, pred: burst\n",
      "bust => gt: bust, pred: bust\n",
      "buy => gt: bought, pred: buuged\n",
      "can => gt: could, pred: caude\n",
      "cast => gt: cast, pred: cast\n",
      "catch => gt: caught, pred: catchh\n",
      "chide => gt: chid, pred: chid\n",
      "choose => gt: chose, pred: chot\n",
      "cleave => gt: clove, pred: cleoved\n",
      "cling => gt: clung, pred: cling\n",
      "come => gt: came, pred: come\n",
      "cost => gt: cost, pred: cost\n",
      "countersink => gt: countersank, pred: countersank\n",
      "creep => gt: crept, pred: crewt\n",
      "crow => gt: crowed, pred: crowe\n",
      "cut => gt: cut, pred: cut\n",
      "dare => gt: durst, pred: dure\n",
      "deal => gt: dealt, pred: deal\n",
      "dig => gt: dug, pred: dug\n",
      "dive => gt: dived, pred: duve\n",
      "do => gt: did, pred: did\n",
      "draw => gt: drew, pred: drew\n",
      "dream => gt: dreamt, pred: dream\n",
      "drink => gt: drank, pred: drunk\n",
      "drive => gt: drove, pred: druve\n",
      "dwell => gt: dwelt, pred: dwelt\n",
      "eat => gt: ate, pred: eat\n",
      "fall => gt: fell, pred: fald\n",
      "feed => gt: fed, pred: fel\n",
      "feel => gt: felt, pred: felt\n",
      "fight => gt: fought, pred: fought\n",
      "find => gt: found, pred: found\n",
      "flee => gt: fled, pred: fled\n",
      "fling => gt: flung, pred: fling\n",
      "floodlight => gt: floodlighted, pred: fleodlighte\n",
      "fly => gt: flew, pred: flew\n",
      "forbear => gt: forbore, pred: forbaard\n",
      "forbid => gt: forbad, pred: forbid\n",
      "forecast => gt: forecast, pred: forecast\n",
      "foresee => gt: foresaw, pred: foresod\n",
      "foretell => gt: foretold, pred: foretold\n",
      "forget => gt: forgot, pred: forgot\n",
      "forgive => gt: forgave, pred: forgave\n",
      "forsake => gt: forsook, pred: forsook\n",
      "forswear => gt: forswore, pred: forswore\n",
      "freeze => gt: froze, pred: frepe\n",
      "gainsay => gt: gainsaid, pred: goinsaid\n",
      "get => gt: got, pred: got\n",
      "gild => gt: gilt, pred: gilt\n",
      "gird => gt: girded, pred: girded\n",
      "give => gt: gave, pred: give\n",
      "go => gt: went, pred: gond\n",
      "grave => gt: graved, pred: greved\n",
      "grind => gt: ground, pred: ground\n",
      "grow => gt: grew, pred: grew\n",
      "hamstring => gt: hamstringed, pred: hamstrong\n",
      "hang => gt: hung, pred: hang\n",
      "have => gt: had, pred: haved\n",
      "hear => gt: heard, pred: heared\n",
      "heave => gt: heaved, pred: heaved\n",
      "hew => gt: hewedtd, pred: hewed\n",
      "hide => gt: hid, pred: hod\n",
      "hit => gt: hit, pred: hot\n",
      "hold => gt: held, pred: hold\n",
      "hurt => gt: hurt, pred: hurt\n",
      "inlay => gt: inlaid, pred: inlaid\n",
      "input => gt: input, pred: input\n",
      "inset => gt: inset, pred: inset\n",
      "interweave => gt: interwove, pred: interwore\n",
      "keep => gt: kept, pred: kept\n",
      "ken => gt: kenned, pred: kennd\n",
      "kneel => gt: knelt, pred: kneel\n",
      "knit => gt: knit, pred: knit\n",
      "know => gt: knew, pred: know\n",
      "lade => gt: laded, pred: laded\n",
      "lay => gt: laid, pred: law\n",
      "lead => gt: led, pred: lead\n",
      "lean => gt: leant, pred: lean\n",
      "leap => gt: leapt, pred: leap\n",
      "learn => gt: learnt, pred: learnt\n",
      "leave => gt: left, pred: leave\n",
      "lend => gt: lent, pred: lent\n",
      "let => gt: let, pred: le\n",
      "lie => gt: lay, pred: lir\n",
      "light => gt: lit, pred: lit\n",
      "lose => gt: lost, pred: lesa\n",
      "make => gt: made, pred: mone\n",
      "may => gt: might, pred: momed\n",
      "mean => gt: meant, pred: mean\n",
      "meet => gt: met, pred: mep\n",
      "miscast => gt: miscast, pred: miscast\n",
      "misdeal => gt: misdealt, pred: misdealt\n",
      "misgive => gt: misgave, pred: misgave\n",
      "mishear => gt: misheard, pred: misheared\n",
      "mishit => gt: mishit, pred: mishot\n",
      "mislay => gt: mislaid, pred: mislaw\n",
      "mislead => gt: misled, pred: mislea\n",
      "misread => gt: misread, pred: misread\n",
      "misspell => gt: misspelt, pred: misspeld\n",
      "misspend => gt: misspent, pred: misspent\n",
      "mistake => gt: mistook, pred: mistook\n",
      "misunderstand => gt: misunderstood, pred: misunderstood\n",
      "mow => gt: mowed, pred: mowed\n",
      "outbid => gt: outbid, pred: outbid\n",
      "outdo => gt: outdid, pred: outdid\n",
      "outfight => gt: outfought, pred: outfiuvh\n",
      "outgrow => gt: outgrew, pred: outgrew\n",
      "output => gt: output, pred: output\n",
      "outrun => gt: outran, pred: outran\n",
      "outsell => gt: outsold, pred: outsold\n",
      "outshine => gt: outshone, pred: outshine\n",
      "overbid => gt: overbid, pred: overbid\n",
      "overcome => gt: overcame, pred: overcame\n",
      "overdo => gt: overdid, pred: overdid\n",
      "overdraw => gt: overdrew, pred: overdrew\n",
      "overeat => gt: overate, pred: overeat\n",
      "overfly => gt: overflew, pred: overflew\n",
      "overhang => gt: overhung, pred: overhang\n",
      "overhear => gt: overheard, pred: overheared\n",
      "overlay => gt: overlaid, pred: overlaid\n",
      "overpay => gt: overpaid, pred: overpaw\n",
      "override => gt: overrode, pred: overrode\n",
      "overrun => gt: overran, pred: overran\n",
      "oversee => gt: oversaw, pred: oversow\n",
      "overshoot => gt: overshot, pred: overshot\n",
      "oversleep => gt: overslept, pred: overslept\n",
      "overtake => gt: overtook, pred: overtook\n",
      "overthrow => gt: overthrew, pred: overthrew\n",
      "partake => gt: partook, pred: partook\n",
      "pay => gt: paid, pred: paw\n",
      "plead => gt: pleaded, pred: pladed\n",
      "prepay => gt: prepaid, pred: prepaw\n",
      "prove => gt: proved, pred: proved\n",
      "put => gt: put, pred: put\n",
      "read => gt: read, pred: read\n",
      "rebind => gt: rebound, pred: rebiund\n",
      "rebuild => gt: rebuilt, pred: rebuilt\n",
      "recast => gt: recast, pred: regast\n",
      "redo => gt: redid, pred: redid\n",
      "rehear => gt: reheard, pred: rehearde\n",
      "remake => gt: remade, pred: remoee\n",
      "rend => gt: rent, pred: rent\n",
      "repay => gt: repaid, pred: repaw\n",
      "rerun => gt: reran, pred: reran\n",
      "resell => gt: resold, pred: resold\n",
      "reset => gt: reset, pred: resot\n",
      "resit => gt: resat, pred: resat\n",
      "retake => gt: retook, pred: retoek\n",
      "retell => gt: retold, pred: retold\n",
      "rewrite => gt: rewrote, pred: rewrote\n",
      "rid => gt: rid, pred: rod\n",
      "ride => gt: rode, pred: rode\n",
      "ring => gt: rang, pred: rong\n",
      "rise => gt: rose, pred: roso\n",
      "rive => gt: rived, pred: rove\n",
      "run => gt: ran, pred: ran\n",
      "saw => gt: sawed, pred: sawed\n",
      "say => gt: said, pred: sawd\n",
      "see => gt: saw, pred: sed\n",
      "seek => gt: sought, pred: sedkht\n",
      "sell => gt: sold, pred: seld\n",
      "send => gt: sent, pred: sent\n",
      "set => gt: set, pred: set\n",
      "sew => gt: sewed, pred: sewed\n",
      "shake => gt: shook, pred: shaok\n",
      "shave => gt: shaved, pred: shave\n",
      "shear => gt: sheared, pred: sheared\n",
      "shed => gt: shed, pred: shed\n",
      "shine => gt: shone, pred: shoue\n",
      "shoe => gt: shod, pred: shod\n",
      "shoot => gt: shot, pred: shot\n",
      "show => gt: showed, pred: showe\n",
      "shred => gt: shred, pred: shred\n",
      "shrink => gt: shrank, pred: shronk\n",
      "shrive => gt: shrove, pred: shrove\n",
      "shut => gt: shut, pred: shut\n",
      "sing => gt: sang, pred: sang\n",
      "sink => gt: sank, pred: sank\n",
      "sit => gt: sat, pred: sat\n",
      "slay => gt: slew, pred: slow\n",
      "sleep => gt: slept, pred: slept\n",
      "slide => gt: slid, pred: slid\n",
      "sling => gt: slung, pred: sling\n",
      "slink => gt: slunk, pred: slink\n",
      "slit => gt: slit, pred: slit\n",
      "smell => gt: smelt, pred: smeld\n",
      "smite => gt: smote, pred: smite\n",
      "sow => gt: sowed, pred: sowed\n",
      "speak => gt: spoke, pred: speae\n",
      "speed => gt: sped, pred: spep\n",
      "spell => gt: spelt, pred: speld\n",
      "spend => gt: spent, pred: spent\n",
      "spill => gt: spilt, pred: spalt\n",
      "spin => gt: spun, pred: span\n",
      "spit => gt: spat, pred: spat\n",
      "split => gt: split, pred: split\n",
      "spoil => gt: spoilt, pred: spoult\n",
      "spotlight => gt: spotlit, pred: spotlit\n",
      "spread => gt: spread, pred: spread\n",
      "spring => gt: sprang, pred: sprung\n",
      "stand => gt: stood, pred: stood\n",
      "stave => gt: staved, pred: stoved\n",
      "steal => gt: stole, pred: store\n",
      "stick => gt: stuck, pred: stuck\n",
      "sting => gt: stung, pred: stung\n",
      "stink => gt: stank, pred: stunk\n",
      "strew => gt: strewed, pred: strewe\n",
      "stride => gt: strode, pred: strode\n",
      "strike => gt: struck, pred: strock\n",
      "string => gt: strung, pred: strong\n",
      "strive => gt: strove, pred: strove\n",
      "sublet => gt: sublet, pred: suble\n",
      "swear => gt: swore, pred: swove\n",
      "sweep => gt: swept, pred: swopt\n",
      "swell => gt: swelled, pred: swold\n",
      "swim => gt: swam, pred: swume\n",
      "swing => gt: swung, pred: swung\n",
      "take => gt: took, pred: took\n",
      "teach => gt: taught, pred: torthh\n",
      "tear => gt: tore, pred: tore\n",
      "tell => gt: told, pred: told\n",
      "think => gt: thought, pred: thouggt\n",
      "thrive => gt: throve, pred: throve\n",
      "throw => gt: threw, pred: threw\n",
      "thrust => gt: thrust, pred: thrust\n",
      "tread => gt: trod, pred: tror\n",
      "unbend => gt: unbent, pred: unbent\n",
      "underbid => gt: underbid, pred: underbid\n",
      "undercut => gt: undercut, pred: undercut\n",
      "undergo => gt: underwent, pred: underwwd\n",
      "underlie => gt: underlay, pred: underlar\n",
      "underpay => gt: underpaid, pred: underpaw\n",
      "undersell => gt: undersold, pred: undersold\n",
      "understand => gt: understood, pred: understood\n",
      "undertake => gt: undertook, pred: undertoek\n",
      "underwrite => gt: underwrote, pred: underwrote\n",
      "undo => gt: undid, pred: undid\n",
      "unfreeze => gt: unfroze, pred: unfrope\n",
      "unsay => gt: unsaid, pred: unsaid\n",
      "unwind => gt: unwound, pred: unwound\n",
      "uphold => gt: upheld, pred: upheld\n",
      "upset => gt: upset, pred: upset\n",
      "wake => gt: woke, pred: wake\n",
      "waylay => gt: waylaid, pred: wawlaw\n",
      "wear => gt: wore, pred: weae\n",
      "weave => gt: wove, pred: weae\n",
      "wed => gt: wed, pred: wed\n",
      "weep => gt: wept, pred: wept\n"
     ]
    },
    {
     "name": "stdout",
     "output_type": "stream",
     "text": [
      "wet => gt: wet, pred: wet\n",
      "win => gt: won, pred: win\n",
      "wind => gt: wound, pred: winnd\n",
      "withdraw => gt: withdrew, pred: withdrew\n",
      "withhold => gt: withheld, pred: withheld\n",
      "withstand => gt: withstood, pred: withstood\n",
      "work => gt: worked, pred: worked\n",
      "wring => gt: wrung, pred: wrong\n",
      "write => gt: wrote, pred: wrote\n"
     ]
    }
   ],
   "source": [
    "for sentence, target in zip(data, labels):\n",
    "    with torch.no_grad():\n",
    "        tag_scores = model(sentence)\n",
    "        _, preds = torch.max(tag_scores, 1)\n",
    "        print('{0} => gt: {1}, pred: {2}'.format(re.sub(r'[0.*]', '', decode(sentence.tolist(), decoder)), \n",
    "                                                 re.sub(r'[0.*]', '', decode(target.tolist(), decoder)), \n",
    "                                                 re.sub(r'[0.*]', '', decode(preds.tolist(), decoder))))"
   ]
  },
  {
   "cell_type": "code",
   "execution_count": 22,
   "metadata": {
    "collapsed": true
   },
   "outputs": [],
   "source": [
    "ax.savefig('test1.png')"
   ]
  },
  {
   "cell_type": "code",
   "execution_count": 23,
   "metadata": {
    "collapsed": true
   },
   "outputs": [],
   "source": [
    "with open('test1.txt', 'w') as f:\n",
    "    for sentence, target in zip(data, labels):\n",
    "        with torch.no_grad():\n",
    "            tag_scores = model(sentence)\n",
    "            _, preds = torch.max(tag_scores, 1)\n",
    "            f.write('{0} => gt: {1}, pred: {2}'.format(re.sub(r'[0.*]', '', decode(sentence.tolist(), decoder)), \n",
    "                                                     re.sub(r'[0.*]', '', decode(target.tolist(), decoder)), \n",
    "                                                     re.sub(r'[0.*]', '', decode(preds.tolist(), decoder))) + '\\n')"
   ]
  }
 ],
 "metadata": {
  "kernelspec": {
   "display_name": "Python 3",
   "language": "python",
   "name": "python3"
  },
  "language_info": {
   "codemirror_mode": {
    "name": "ipython",
    "version": 3
   },
   "file_extension": ".py",
   "mimetype": "text/x-python",
   "name": "python",
   "nbconvert_exporter": "python",
   "pygments_lexer": "ipython3",
   "version": "3.5.1"
  }
 },
 "nbformat": 4,
 "nbformat_minor": 2
}
