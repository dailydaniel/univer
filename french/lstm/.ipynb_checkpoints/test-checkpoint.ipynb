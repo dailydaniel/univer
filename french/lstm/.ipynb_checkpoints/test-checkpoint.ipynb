{
 "cells": [
  {
   "cell_type": "code",
   "execution_count": 247,
   "metadata": {
    "collapsed": true
   },
   "outputs": [],
   "source": [
    "import pandas as pd\n",
    "import string\n",
    "import numpy as np\n",
    "import re\n",
    "\n",
    "import torch\n",
    "import torch.nn as nn\n",
    "import torch.nn.functional as F\n",
    "import torch.optim as optim\n",
    "\n",
    "from tqdm import tqdm\n",
    "\n",
    "import matplotlib.pyplot as plt\n",
    "\n",
    "from collections import defaultdict\n",
    "\n",
    "from sklearn.cluster import KMeans\n",
    "from sklearn.manifold import TSNE\n",
    "from sklearn.metrics import silhouette_score"
   ]
  },
  {
   "cell_type": "code",
   "execution_count": 2,
   "metadata": {
    "collapsed": true
   },
   "outputs": [],
   "source": [
    "df = pd.read_csv('../All_irregular_verb_list.csv', sep=';', encoding='utf-8')\n",
    "df = df[['First', 'Second', 'Third']]"
   ]
  },
  {
   "cell_type": "code",
   "execution_count": 3,
   "metadata": {
    "collapsed": true
   },
   "outputs": [],
   "source": [
    "for column in df.columns[1:]:\n",
    "    df[column] = df[column].apply(lambda x: re.sub(r'[/.*]', '', x))\n",
    "    df[column] = df[column].apply(lambda x: re.sub(r'[^a-zA-Z]', '', x))\n",
    "\n",
    "criteria = df['First'].map(lambda x: len(set(x) & set(string.ascii_uppercase)) == 0)\n",
    "df = df[criteria]\n",
    "df = df.reset_index(drop=True)"
   ]
  },
  {
   "cell_type": "code",
   "execution_count": 4,
   "metadata": {},
   "outputs": [
    {
     "data": {
      "text/html": [
       "<div>\n",
       "<style scoped>\n",
       "    .dataframe tbody tr th:only-of-type {\n",
       "        vertical-align: middle;\n",
       "    }\n",
       "\n",
       "    .dataframe tbody tr th {\n",
       "        vertical-align: top;\n",
       "    }\n",
       "\n",
       "    .dataframe thead th {\n",
       "        text-align: right;\n",
       "    }\n",
       "</style>\n",
       "<table border=\"1\" class=\"dataframe\">\n",
       "  <thead>\n",
       "    <tr style=\"text-align: right;\">\n",
       "      <th></th>\n",
       "      <th>First</th>\n",
       "      <th>Second</th>\n",
       "      <th>Third</th>\n",
       "    </tr>\n",
       "  </thead>\n",
       "  <tbody>\n",
       "    <tr>\n",
       "      <th>0</th>\n",
       "      <td>abide</td>\n",
       "      <td>abode</td>\n",
       "      <td>abode</td>\n",
       "    </tr>\n",
       "    <tr>\n",
       "      <th>1</th>\n",
       "      <td>arise</td>\n",
       "      <td>arose</td>\n",
       "      <td>arisen</td>\n",
       "    </tr>\n",
       "    <tr>\n",
       "      <th>2</th>\n",
       "      <td>awake</td>\n",
       "      <td>awoke</td>\n",
       "      <td>awaked</td>\n",
       "    </tr>\n",
       "  </tbody>\n",
       "</table>\n",
       "</div>"
      ],
      "text/plain": [
       "   First Second   Third\n",
       "0  abide  abode   abode\n",
       "1  arise  arose  arisen\n",
       "2  awake  awoke  awaked"
      ]
     },
     "execution_count": 4,
     "metadata": {},
     "output_type": "execute_result"
    }
   ],
   "source": [
    "df[:3]"
   ]
  },
  {
   "cell_type": "code",
   "execution_count": 5,
   "metadata": {
    "collapsed": true
   },
   "outputs": [],
   "source": [
    "char_emb = {char: i+1 for i, char in enumerate(string.ascii_lowercase)}\n",
    "char_emb['0'] = 0"
   ]
  },
  {
   "cell_type": "code",
   "execution_count": 54,
   "metadata": {
    "collapsed": true
   },
   "outputs": [],
   "source": [
    "decoder = {val: key for key, val in char_emb.items()}\n",
    "\n",
    "def decode(idx, decoder):\n",
    "    t = ''.join([decoder[ix] for ix in idx])\n",
    "    return re.sub(r'[0.*]', '', t)"
   ]
  },
  {
   "cell_type": "code",
   "execution_count": 7,
   "metadata": {
    "collapsed": true
   },
   "outputs": [],
   "source": [
    "max_len = 0\n",
    "for column_id in range(len(df.columns)):\n",
    "    for i in range(df.index.size-1):\n",
    "        if len(df[df.columns[column_id]][i]) > max_len:\n",
    "            max_len = len(df[df.columns[column_id]][i])"
   ]
  },
  {
   "cell_type": "code",
   "execution_count": 8,
   "metadata": {},
   "outputs": [
    {
     "name": "stdout",
     "output_type": "stream",
     "text": [
      "First\n",
      "Second\n",
      "Third\n"
     ]
    }
   ],
   "source": [
    "def word2emb(emb, n, word):\n",
    "    res = np.zeros(n, dtype=int)\n",
    "    for i, char in enumerate(word):\n",
    "        res[i] = emb[char]\n",
    "    return res\n",
    "\n",
    "for column in df.columns:\n",
    "    print(column)\n",
    "    df[column] = df[column].apply(lambda word: word2emb(char_emb, max_len, word))"
   ]
  },
  {
   "cell_type": "code",
   "execution_count": 9,
   "metadata": {
    "collapsed": true
   },
   "outputs": [],
   "source": [
    "# data, labels = df['First'], df.apply(lambda x: np.hstack((x['Second'], x['Third'])), axis=1)\n",
    "# data, labels = data.map(lambda x: torch.from_numpy(x)), labels.map(lambda x: torch.from_numpy(x))\n",
    "\n",
    "data, labels = df['First'], df['Second']\n",
    "data, labels = data.map(lambda x: torch.from_numpy(x)), labels.map(lambda x: torch.from_numpy(x))"
   ]
  },
  {
   "cell_type": "code",
   "execution_count": 55,
   "metadata": {},
   "outputs": [],
   "source": [
    "def acc(write_res = False):\n",
    "    accuracy = []\n",
    "    for sentence, target in zip(data, labels):\n",
    "        with torch.no_grad():\n",
    "            tag_scores = model(sentence)\n",
    "            _, preds = torch.max(tag_scores, 1)\n",
    "            first = decode(sentence.tolist(), decoder)\n",
    "            gt = decode(target.tolist(), decoder)\n",
    "            pred = decode(preds.tolist(), decoder)\n",
    "            accuracy.append(int(gt == pred))\n",
    "            if write_res:\n",
    "                print('{0} => gt: {1}, pred: {2}'.format(first, \n",
    "                                                         gt, \n",
    "                                                         pred))\n",
    "    return sum(accuracy) / len(accuracy)"
   ]
  },
  {
   "cell_type": "code",
   "execution_count": 11,
   "metadata": {
    "collapsed": true
   },
   "outputs": [],
   "source": [
    "EMBEDDING_DIM = 8\n",
    "HIDDEN_DIM = 8"
   ]
  },
  {
   "cell_type": "code",
   "execution_count": 25,
   "metadata": {},
   "outputs": [],
   "source": [
    "class LSTMVerbFormer(nn.Module):\n",
    "\n",
    "    def __init__(self, embedding_dim, hidden_dim, vocab_size):\n",
    "        super(LSTMVerbFormer, self).__init__()\n",
    "        self.hidden_dim = hidden_dim\n",
    "\n",
    "        self.char_embeddings = nn.Embedding(vocab_size, embedding_dim)\n",
    "\n",
    "        self.lstm = nn.LSTM(embedding_dim, hidden_dim, bidirectional=True) # False\n",
    "\n",
    "        self.hidden2tag = nn.Linear(hidden_dim * 2, vocab_size) # without * 2\n",
    "\n",
    "    def forward(self, sentence):\n",
    "        embeds = self.char_embeddings(sentence)\n",
    "        lstm_out, _ = self.lstm(embeds.view(len(sentence), 1, -1))\n",
    "        tag_space = self.hidden2tag(lstm_out.view(len(sentence), -1))\n",
    "        tag_scores = F.log_softmax(tag_space, dim=1)\n",
    "        return tag_scores"
   ]
  },
  {
   "cell_type": "code",
   "execution_count": 26,
   "metadata": {},
   "outputs": [],
   "source": [
    "model = LSTMVerbFormer(EMBEDDING_DIM, HIDDEN_DIM, len(char_emb))\n",
    "loss_function = nn.NLLLoss()\n",
    "optimizer = optim.SGD(model.parameters(), lr=0.1)"
   ]
  },
  {
   "cell_type": "code",
   "execution_count": 29,
   "metadata": {},
   "outputs": [
    {
     "name": "stderr",
     "output_type": "stream",
     "text": [
      "100%|██████████| 400/400 [11:30<00:00,  1.73s/it]\n"
     ]
    }
   ],
   "source": [
    "avg_loss = []\n",
    "accuracy = []\n",
    "\n",
    "for epoch in tqdm(range(400)): \n",
    "    \n",
    "    running_loss = []\n",
    "    for sentence, targets in zip(data, labels):\n",
    "        model.zero_grad()\n",
    "\n",
    "        tag_scores = model(sentence)\n",
    "\n",
    "        loss = loss_function(tag_scores, targets)\n",
    "        loss.backward()\n",
    "        optimizer.step()\n",
    "        \n",
    "        running_loss.append(loss.item())\n",
    "    avg_loss.append(round(sum(running_loss) / len(running_loss), 4))\n",
    "    accuracy.append(round(acc(), 4))"
   ]
  },
  {
   "cell_type": "code",
   "execution_count": 282,
   "metadata": {},
   "outputs": [
    {
     "data": {
      "image/png": "[encoded data removed]",
      "text/plain": [
       "<matplotlib.figure.Figure at 0x11de3c6d8>"
      ]
     },
     "metadata": {},
     "output_type": "display_data"
    }
   ],
   "source": [
    "X, Y = range(len(accuracy)), accuracy\n",
    "\n",
    "fig, ax = plt.subplots(figsize=(10, 5))\n",
    "ax.plot(X, Y, label='lstm')\n",
    "ax.set_title('n_epoch')\n",
    "ax.legend(loc='upper left')\n",
    "ax.set_ylabel('accuracy')\n",
    "fig.tight_layout()\n",
    " \n",
    "plt.show()"
   ]
  },
  {
   "cell_type": "code",
   "execution_count": 283,
   "metadata": {
    "collapsed": true
   },
   "outputs": [],
   "source": [
    "fig.savefig('accuracy.png')"
   ]
  },
  {
   "cell_type": "code",
   "execution_count": 279,
   "metadata": {},
   "outputs": [
    {
     "data": {
      "image/png": "[encoded data removed]",
      "text/plain": [
       "<matplotlib.figure.Figure at 0x11dd2a198>"
      ]
     },
     "metadata": {},
     "output_type": "display_data"
    }
   ],
   "source": [
    "X, Y = range(len(avg_loss)), avg_loss\n",
    "\n",
    "fig, ax = plt.subplots(figsize=(10, 5))\n",
    "ax.plot(X, Y, label='lstm')\n",
    "ax.set_title('n_epoch')\n",
    "ax.legend(loc='upper left')\n",
    "ax.set_ylabel('loss')\n",
    "fig.tight_layout()\n",
    " \n",
    "plt.show()"
   ]
  },
  {
   "cell_type": "code",
   "execution_count": 32,
   "metadata": {},
   "outputs": [
    {
     "name": "stdout",
     "output_type": "stream",
     "text": [
      "87%\n"
     ]
    }
   ],
   "source": [
    "print('{0}%'.format(int(round(acc() * 100, 0))))"
   ]
  },
  {
   "cell_type": "code",
   "execution_count": 280,
   "metadata": {},
   "outputs": [],
   "source": [
    "fig.savefig('loss.png')"
   ]
  },
  {
   "cell_type": "code",
   "execution_count": 34,
   "metadata": {
    "collapsed": true
   },
   "outputs": [],
   "source": [
    "with open('test.txt', 'w') as f:\n",
    "    for sentence, target in zip(data, labels):\n",
    "        with torch.no_grad():\n",
    "            tag_scores = model(sentence)\n",
    "            _, preds = torch.max(tag_scores, 1)\n",
    "            f.write('{0} => gt: {1}, pred: {2}'.format(re.sub(r'[0.*]', '', decode(sentence.tolist(), decoder)), \n",
    "                                                     re.sub(r'[0.*]', '', decode(target.tolist(), decoder)), \n",
    "                                                     re.sub(r'[0.*]', '', decode(preds.tolist(), decoder))) + '\\n')"
   ]
  },
  {
   "cell_type": "code",
   "execution_count": 56,
   "metadata": {},
   "outputs": [
    {
     "name": "stdout",
     "output_type": "stream",
     "text": [
      "abide => gt: abode, pred: abode\n",
      "arise => gt: arose, pred: arose\n",
      "awake => gt: awoke, pred: awoke\n",
      "backbite => gt: backbitten, pred: backbitee\n",
      "backslide => gt: backslid, pred: backslid\n",
      "be => gt: was, pred: we\n",
      "bear => gt: bore, pred: bore\n",
      "beat => gt: beat, pred: bete\n",
      "become => gt: became, pred: became\n",
      "befall => gt: befell, pred: befell\n",
      "beget => gt: begot, pred: begot\n",
      "begin => gt: began, pred: began\n",
      "begird => gt: begirt, pred: begird\n",
      "behold => gt: beheld, pred: beheld\n",
      "bend => gt: bent, pred: bent\n",
      "bereave => gt: bereft, pred: bereav\n",
      "beseech => gt: besought, pred: besought\n",
      "beset => gt: beset, pred: beset\n",
      "bespeak => gt: bespoke, pred: bespoke\n",
      "bespit => gt: bespat, pred: bespat\n",
      "bestride => gt: bestrode, pred: bestrode\n",
      "bet => gt: bet, pred: bet\n",
      "betake => gt: betook, pred: betook\n",
      "bid => gt: bad, pred: bad\n",
      "bind => gt: bound, pred: bound\n",
      "bite => gt: bit, pred: bit\n",
      "bleed => gt: bled, pred: bled\n",
      "bless => gt: blessed, pred: blessed\n",
      "blow => gt: blew, pred: blew\n",
      "break => gt: broke, pred: broke\n",
      "breed => gt: bred, pred: bred\n",
      "bring => gt: brought, pred: bruught\n",
      "broadcast => gt: broadcast, pred: broadcast\n",
      "browbeat => gt: browbeat, pred: browbeae\n",
      "build => gt: built, pred: built\n",
      "burn => gt: burnt, pred: burnt\n",
      "burst => gt: burst, pred: burst\n",
      "bust => gt: bust, pred: bust\n",
      "buy => gt: bought, pred: bounwt\n",
      "can => gt: could, pred: cout\n",
      "cast => gt: cast, pred: cast\n",
      "catch => gt: caught, pred: caught\n",
      "chide => gt: chid, pred: chid\n",
      "choose => gt: chose, pred: chosee\n",
      "cleave => gt: clove, pred: cleve\n",
      "cling => gt: clung, pred: clung\n",
      "come => gt: came, pred: came\n",
      "cost => gt: cost, pred: cost\n",
      "countersink => gt: countersank, pred: countersank\n",
      "creep => gt: crept, pred: crept\n",
      "crow => gt: crowed, pred: crowed\n",
      "cut => gt: cut, pred: cut\n",
      "dare => gt: durst, pred: duryt\n",
      "deal => gt: dealt, pred: dealt\n",
      "dig => gt: dug, pred: dug\n",
      "dive => gt: dived, pred: dived\n",
      "do => gt: did, pred: did\n",
      "draw => gt: drew, pred: drew\n",
      "dream => gt: dreamt, pred: dream\n",
      "drink => gt: drank, pred: drank\n",
      "drive => gt: drove, pred: drove\n",
      "dwell => gt: dwelt, pred: dweld\n",
      "eat => gt: ate, pred: at\n",
      "fall => gt: fell, pred: fell\n",
      "feed => gt: fed, pred: fed\n",
      "feel => gt: felt, pred: felt\n",
      "fight => gt: fought, pred: fought\n",
      "find => gt: found, pred: found\n",
      "flee => gt: fled, pred: flew\n",
      "fling => gt: flung, pred: flung\n",
      "floodlight => gt: floodlighted, pred: floodlight\n",
      "fly => gt: flew, pred: flew\n",
      "forbear => gt: forbore, pred: forbore\n",
      "forbid => gt: forbad, pred: forbid\n",
      "forecast => gt: forecast, pred: forecast\n",
      "foresee => gt: foresaw, pred: foresaw\n",
      "foretell => gt: foretold, pred: foretold\n",
      "forget => gt: forgot, pred: forgot\n",
      "forgive => gt: forgave, pred: forgave\n",
      "forsake => gt: forsook, pred: forsook\n",
      "forswear => gt: forswore, pred: forswore\n",
      "freeze => gt: froze, pred: froze\n",
      "gainsay => gt: gainsaid, pred: gainsaid\n",
      "get => gt: got, pred: got\n",
      "gild => gt: gilt, pred: gilt\n",
      "gird => gt: girded, pred: girdd\n",
      "give => gt: gave, pred: gave\n",
      "go => gt: went, pred: went\n",
      "grave => gt: graved, pred: graved\n",
      "grind => gt: ground, pred: ground\n",
      "grow => gt: grew, pred: grew\n",
      "hamstring => gt: hamstringed, pred: hamstring\n",
      "hang => gt: hung, pred: hung\n",
      "have => gt: had, pred: hav\n",
      "hear => gt: heard, pred: heard\n",
      "heave => gt: heaved, pred: heaved\n",
      "hew => gt: hewedtd, pred: hewed\n",
      "hide => gt: hid, pred: hid\n",
      "hit => gt: hit, pred: hit\n",
      "hold => gt: held, pred: held\n",
      "hurt => gt: hurt, pred: hurt\n",
      "inlay => gt: inlaid, pred: inlaid\n",
      "input => gt: input, pred: input\n",
      "inset => gt: inset, pred: inset\n",
      "interweave => gt: interwove, pred: interwove\n",
      "keep => gt: kept, pred: kept\n",
      "ken => gt: kenned, pred: kenne\n",
      "kneel => gt: knelt, pred: knelt\n",
      "knit => gt: knit, pred: knit\n",
      "know => gt: knew, pred: knew\n",
      "lade => gt: laded, pred: laded\n",
      "lay => gt: laid, pred: laid\n",
      "lead => gt: led, pred: led\n",
      "lean => gt: leant, pred: leant\n",
      "leap => gt: leapt, pred: leapt\n",
      "learn => gt: learnt, pred: learnt\n",
      "leave => gt: left, pred: love\n",
      "lend => gt: lent, pred: lent\n",
      "let => gt: let, pred: let\n",
      "lie => gt: lay, pred: lay\n",
      "light => gt: lit, pred: litt\n",
      "lose => gt: lost, pred: lose\n",
      "make => gt: made, pred: made\n",
      "may => gt: might, pred: mighw\n",
      "mean => gt: meant, pred: meant\n",
      "meet => gt: met, pred: mett\n",
      "miscast => gt: miscast, pred: miscast\n",
      "misdeal => gt: misdealt, pred: misdealt\n",
      "misgive => gt: misgave, pred: misgave\n",
      "mishear => gt: misheard, pred: misheard\n",
      "mishit => gt: mishit, pred: mishit\n",
      "mislay => gt: mislaid, pred: mislaid\n",
      "mislead => gt: misled, pred: mislea\n",
      "misread => gt: misread, pred: misread\n",
      "misspell => gt: misspelt, pred: misspelt\n",
      "misspend => gt: misspent, pred: misspent\n",
      "mistake => gt: mistook, pred: mistook\n",
      "misunderstand => gt: misunderstood, pred: misunderstood\n",
      "mow => gt: mowed, pred: mowed\n",
      "outbid => gt: outbid, pred: outbid\n",
      "outdo => gt: outdid, pred: outdid\n",
      "outfight => gt: outfought, pred: outfought\n",
      "outgrow => gt: outgrew, pred: outgrew\n",
      "output => gt: output, pred: output\n",
      "outrun => gt: outran, pred: outran\n",
      "outsell => gt: outsold, pred: outsold\n",
      "outshine => gt: outshone, pred: outshone\n",
      "overbid => gt: overbid, pred: overbid\n",
      "overcome => gt: overcame, pred: overcame\n",
      "overdo => gt: overdid, pred: overdid\n",
      "overdraw => gt: overdrew, pred: overdrew\n",
      "overeat => gt: overate, pred: overete\n",
      "overfly => gt: overflew, pred: overflew\n",
      "overhang => gt: overhung, pred: overhung\n",
      "overhear => gt: overheard, pred: overheard\n",
      "overlay => gt: overlaid, pred: overlaid\n",
      "overpay => gt: overpaid, pred: overpaid\n",
      "override => gt: overrode, pred: overrode\n",
      "overrun => gt: overran, pred: overran\n",
      "oversee => gt: oversaw, pred: oversaw\n",
      "overshoot => gt: overshot, pred: overshot\n",
      "oversleep => gt: overslept, pred: overslept\n",
      "overtake => gt: overtook, pred: overtook\n",
      "overthrow => gt: overthrew, pred: overthrew\n",
      "partake => gt: partook, pred: partook\n",
      "pay => gt: paid, pred: paid\n",
      "plead => gt: pleaded, pred: pleadd\n",
      "prepay => gt: prepaid, pred: prepaid\n",
      "prove => gt: proved, pred: proved\n",
      "put => gt: put, pred: put\n",
      "read => gt: read, pred: read\n",
      "rebind => gt: rebound, pred: rebound\n",
      "rebuild => gt: rebuilt, pred: rebuilt\n",
      "recast => gt: recast, pred: recast\n",
      "redo => gt: redid, pred: redid\n",
      "rehear => gt: reheard, pred: reheard\n",
      "remake => gt: remade, pred: remade\n",
      "rend => gt: rent, pred: rent\n",
      "repay => gt: repaid, pred: repaid\n",
      "rerun => gt: reran, pred: reran\n",
      "resell => gt: resold, pred: resold\n",
      "reset => gt: reset, pred: reset\n",
      "resit => gt: resat, pred: resat\n",
      "retake => gt: retook, pred: retook\n",
      "retell => gt: retold, pred: retold\n",
      "rewrite => gt: rewrote, pred: rewrote\n",
      "rid => gt: rid, pred: rid\n",
      "ride => gt: rode, pred: rode\n",
      "ring => gt: rang, pred: rung\n",
      "rise => gt: rose, pred: rose\n",
      "rive => gt: rived, pred: rove\n",
      "run => gt: ran, pred: ran\n",
      "saw => gt: sawed, pred: sawd\n",
      "say => gt: said, pred: said\n",
      "see => gt: saw, pred: saw\n",
      "seek => gt: sought, pred: sought\n",
      "sell => gt: sold, pred: sold\n",
      "send => gt: sent, pred: sent\n",
      "set => gt: set, pred: set\n",
      "sew => gt: sewed, pred: sewed\n",
      "shake => gt: shook, pred: shook\n",
      "shave => gt: shaved, pred: shaved\n",
      "shear => gt: sheared, pred: shere\n",
      "shed => gt: shed, pred: shed\n",
      "shine => gt: shone, pred: shone\n",
      "shoe => gt: shod, pred: shod\n",
      "shoot => gt: shot, pred: shot\n",
      "show => gt: showed, pred: showed\n",
      "shred => gt: shred, pred: shred\n",
      "shrink => gt: shrank, pred: shrank\n",
      "shrive => gt: shrove, pred: shrove\n",
      "shut => gt: shut, pred: shut\n",
      "sing => gt: sang, pred: sang\n",
      "sink => gt: sank, pred: sank\n",
      "sit => gt: sat, pred: sat\n",
      "slay => gt: slew, pred: slew\n",
      "sleep => gt: slept, pred: slept\n",
      "slide => gt: slid, pred: slid\n",
      "sling => gt: slung, pred: slung\n",
      "slink => gt: slunk, pred: slunk\n",
      "slit => gt: slit, pred: slit\n",
      "smell => gt: smelt, pred: smelt\n",
      "smite => gt: smote, pred: smote\n",
      "sow => gt: sowed, pred: sowed\n",
      "speak => gt: spoke, pred: spoke\n",
      "speed => gt: sped, pred: sped\n",
      "spell => gt: spelt, pred: spelt\n",
      "spend => gt: spent, pred: spent\n",
      "spill => gt: spilt, pred: spilt\n",
      "spin => gt: spun, pred: spun\n",
      "spit => gt: spat, pred: spat\n",
      "split => gt: split, pred: split\n",
      "spoil => gt: spoilt, pred: spoilt\n",
      "spotlight => gt: spotlit, pred: spotlitt\n",
      "spread => gt: spread, pred: spread\n",
      "spring => gt: sprang, pred: sprang\n",
      "stand => gt: stood, pred: stood\n",
      "stave => gt: staved, pred: staved\n",
      "steal => gt: stole, pred: stole\n",
      "stick => gt: stuck, pred: stuck\n",
      "sting => gt: stung, pred: stung\n",
      "stink => gt: stank, pred: stank\n",
      "strew => gt: strewed, pred: strewed\n",
      "stride => gt: strode, pred: strode\n",
      "strike => gt: struck, pred: struck\n",
      "string => gt: strung, pred: strung\n",
      "strive => gt: strove, pred: strove\n",
      "sublet => gt: sublet, pred: sublet\n",
      "swear => gt: swore, pred: swore\n",
      "sweep => gt: swept, pred: swept\n",
      "swell => gt: swelled, pred: swell\n",
      "swim => gt: swam, pred: swam\n",
      "swing => gt: swung, pred: swung\n",
      "take => gt: took, pred: took\n",
      "teach => gt: taught, pred: teught\n",
      "tear => gt: tore, pred: tore\n",
      "tell => gt: told, pred: told\n",
      "think => gt: thought, pred: thought\n",
      "thrive => gt: throve, pred: throve\n",
      "throw => gt: threw, pred: threw\n",
      "thrust => gt: thrust, pred: thrust\n",
      "tread => gt: trod, pred: trod\n",
      "unbend => gt: unbent, pred: unbent\n",
      "underbid => gt: underbid, pred: underbid\n",
      "undercut => gt: undercut, pred: undercut\n",
      "undergo => gt: underwent, pred: underwent\n",
      "underlie => gt: underlay, pred: underlay\n",
      "underpay => gt: underpaid, pred: underpaid\n",
      "undersell => gt: undersold, pred: undersold\n",
      "understand => gt: understood, pred: understood\n",
      "undertake => gt: undertook, pred: undertook\n",
      "underwrite => gt: underwrote, pred: underwrote\n",
      "undo => gt: undid, pred: undid\n",
      "unfreeze => gt: unfroze, pred: unfroze\n",
      "unsay => gt: unsaid, pred: unsaid\n",
      "unwind => gt: unwound, pred: unwound\n",
      "uphold => gt: upheld, pred: upheld\n",
      "upset => gt: upset, pred: upset\n",
      "wake => gt: woke, pred: woke\n",
      "waylay => gt: waylaid, pred: waylaid\n",
      "wear => gt: wore, pred: wore\n",
      "weave => gt: wove, pred: wove\n",
      "wed => gt: wed, pred: wed\n",
      "weep => gt: wept, pred: wept\n",
      "wet => gt: wet, pred: wet\n",
      "win => gt: won, pred: won\n",
      "wind => gt: wound, pred: wound\n",
      "withdraw => gt: withdrew, pred: withdrew\n",
      "withhold => gt: withheld, pred: withheld\n",
      "withstand => gt: withstood, pred: withstood\n",
      "work => gt: worked, pred: worked\n",
      "wring => gt: wrung, pred: wrung\n",
      "write => gt: wrote, pred: wrote\n"
     ]
    },
    {
     "data": {
      "text/plain": [
       "0.8703071672354948"
      ]
     },
     "execution_count": 56,
     "metadata": {},
     "output_type": "execute_result"
    }
   ],
   "source": [
    "acc(True)"
   ]
  },
  {
   "cell_type": "code",
   "execution_count": 144,
   "metadata": {},
   "outputs": [
    {
     "name": "stderr",
     "output_type": "stream",
     "text": [
      "100%|██████████| 293/293 [00:00<00:00, 428.33it/s]\n"
     ]
    }
   ],
   "source": [
    "embedding_by_last = {}\n",
    "\n",
    "for sent in tqdm(data):\n",
    "    with torch.no_grad():\n",
    "        t = model.char_embeddings(sent)\n",
    "        t, _ = model.lstm(t.view(len(sent), 1, -1))\n",
    "        t = t.view(len(sent), -1)\n",
    "    \n",
    "        tag_scores = model(sent)\n",
    "        _, preds = torch.max(tag_scores, 1)\n",
    "    pred = decode(preds.tolist(), decoder)\n",
    "    embedding_by_last[pred] = t[-1].numpy()"
   ]
  },
  {
   "cell_type": "code",
   "execution_count": 145,
   "metadata": {},
   "outputs": [
    {
     "name": "stderr",
     "output_type": "stream",
     "text": [
      "100%|██████████| 293/293 [00:00<00:00, 436.97it/s]\n"
     ]
    }
   ],
   "source": [
    "embedding_by_first = {}\n",
    "\n",
    "for sent in tqdm(data):\n",
    "    with torch.no_grad():\n",
    "        t = model.char_embeddings(sent)\n",
    "        t, _ = model.lstm(t.view(len(sent), 1, -1))\n",
    "        t = t.view(len(sent), -1)\n",
    "    \n",
    "        tag_scores = model(sent)\n",
    "        _, preds = torch.max(tag_scores, 1)\n",
    "    pred = decode(preds.tolist(), decoder)\n",
    "    embedding_by_first[pred] = t[0].numpy()"
   ]
  },
  {
   "cell_type": "code",
   "execution_count": 171,
   "metadata": {},
   "outputs": [
    {
     "name": "stderr",
     "output_type": "stream",
     "text": [
      "100%|██████████| 293/293 [00:00<00:00, 415.33it/s]\n"
     ]
    }
   ],
   "source": [
    "embedding_by_avg = {}\n",
    "\n",
    "for sent in tqdm(data):\n",
    "    with torch.no_grad():\n",
    "        t = model.char_embeddings(sent)\n",
    "        t, _ = model.lstm(t.view(len(sent), 1, -1))\n",
    "        t = t.view(len(sent), -1)\n",
    "    \n",
    "        tag_scores = model(sent)\n",
    "        _, preds = torch.max(tag_scores, 1)\n",
    "    pred = decode(preds.tolist(), decoder)\n",
    "    embedding_by_avg[pred] = (sum(t) / t.shape[0]).numpy()"
   ]
  },
  {
   "cell_type": "code",
   "execution_count": 172,
   "metadata": {},
   "outputs": [],
   "source": [
    "keys = list(embedding_by_avg.keys())\n",
    "vectors = []\n",
    "for emb in (embedding_by_last, embedding_by_first, embedding_by_avg):\n",
    "    vectors.append([emb[key] for key in keys])"
   ]
  },
  {
   "cell_type": "code",
   "execution_count": 270,
   "metadata": {},
   "outputs": [
    {
     "name": "stderr",
     "output_type": "stream",
     "text": [
      "100%|██████████| 30/30 [00:03<00:00,  8.10it/s]\n"
     ]
    },
    {
     "data": {
      "text/plain": [
       "23"
      ]
     },
     "execution_count": 270,
     "metadata": {},
     "output_type": "execute_result"
    }
   ],
   "source": [
    "n = 20\n",
    "best_n = n\n",
    "s_score = [0]\n",
    "best_clusterization = None\n",
    "for k_n in tqdm(range(n, 50)):\n",
    "    kmeans = KMeans(n_clusters=k_n)\n",
    "    kmeans.fit(vectors[2])\n",
    "    current_s_score = silhouette_score(vectors[2], kmeans.labels_)\n",
    "    if current_s_score > max(s_score):\n",
    "        best_n = k_n\n",
    "        best_clusterization = kmeans\n",
    "    s_score.append(current_s_score)\n",
    "s_score = s_score[1:]\n",
    "best_n"
   ]
  },
  {
   "cell_type": "code",
   "execution_count": 284,
   "metadata": {},
   "outputs": [
    {
     "data": {
      "image/png": "[encoded data removed]",
      "text/plain": [
       "<matplotlib.figure.Figure at 0x117ba3be0>"
      ]
     },
     "metadata": {},
     "output_type": "display_data"
    }
   ],
   "source": [
    "X, Y = range(n, n + len(s_score)), s_score\n",
    "\n",
    "fig, ax = plt.subplots(figsize=(10, 5))\n",
    "ax.plot(X, Y, label='silhouette_score')\n",
    "ax.set_title('n_clusters')\n",
    "ax.legend(loc='upper left')\n",
    "ax.set_ylabel('score')\n",
    "fig.tight_layout()\n",
    " \n",
    "plt.show()"
   ]
  },
  {
   "cell_type": "code",
   "execution_count": 285,
   "metadata": {
    "collapsed": true
   },
   "outputs": [],
   "source": [
    "fig.savefig('score.png')"
   ]
  },
  {
   "cell_type": "code",
   "execution_count": 272,
   "metadata": {
    "collapsed": true
   },
   "outputs": [],
   "source": [
    "# kmeans = KMeans(n_clusters=best_n)\n",
    "# kmeans.fit(vectors[2])"
   ]
  },
  {
   "cell_type": "code",
   "execution_count": 273,
   "metadata": {},
   "outputs": [],
   "source": [
    "res = defaultdict(list)\n",
    "for label, key in zip(best_clusterization.labels_, keys): # kmeans\n",
    "    res[label].append(key)"
   ]
  },
  {
   "cell_type": "code",
   "execution_count": 274,
   "metadata": {},
   "outputs": [
    {
     "name": "stdout",
     "output_type": "stream",
     "text": [
      "cluster: 0\n",
      "\n",
      "repaid\n",
      "prepaid\n",
      "\n",
      " ================================================== \n",
      "\n",
      "cluster: 1\n",
      "\n",
      "drank\n",
      "unwound\n",
      "strung\n",
      "shrank\n",
      "shere\n",
      "spoke\n",
      "slid\n",
      "stuck\n",
      "ground\n",
      "stank\n",
      "shook\n",
      "struck\n",
      "sprang\n",
      "slunk\n",
      "\n",
      " ================================================== \n",
      "\n",
      "cluster: 2\n",
      "\n",
      "backslid\n",
      "broadcast\n",
      "backbitee\n",
      "browbeae\n",
      "\n",
      " ================================================== \n",
      "\n",
      "cluster: 3\n",
      "\n",
      "sent\n",
      "knew\n",
      "rent\n",
      "fought\n",
      "leant\n",
      "bent\n",
      "bound\n",
      "wound\n",
      "lent\n",
      "found\n",
      "\n",
      " ================================================== \n",
      "\n",
      "cluster: 4\n",
      "\n",
      "dream\n",
      "rebound\n",
      "unbent\n",
      "built\n",
      "beheld\n",
      "strewed\n",
      "trod\n",
      "blessed\n",
      "begird\n",
      "wrung\n",
      "swore\n",
      "reran\n",
      "upheld\n",
      "worked\n",
      "blew\n",
      "retold\n",
      "resold\n",
      "spread\n",
      "befell\n",
      "began\n",
      "\n",
      " ================================================== \n",
      "\n",
      "cluster: 5\n",
      "\n",
      "throve\n",
      "tore\n",
      "outdid\n",
      "staved\n",
      "thrust\n",
      "sublet\n",
      "strove\n",
      "threw\n",
      "stood\n",
      "shaved\n",
      "strode\n",
      "wrote\n",
      "outbid\n",
      "output\n",
      "\n",
      " ================================================== \n",
      "\n",
      "cluster: 6\n",
      "\n",
      "burnt\n",
      "fell\n",
      "mighw\n",
      "hewed\n",
      "caught\n",
      "thought\n",
      "crowed\n",
      "teught\n",
      "bruught\n",
      "heard\n",
      "bounwt\n",
      "mowed\n",
      "\n",
      " ================================================== \n",
      "\n",
      "cluster: 7\n",
      "\n",
      "overete\n",
      "interwove\n",
      "overcame\n",
      "overlaid\n",
      "overdrew\n",
      "overshot\n",
      "overrode\n",
      "overbid\n",
      "overtook\n",
      "overpaid\n",
      "\n",
      " ================================================== \n",
      "\n",
      "cluster: 8\n",
      "\n",
      "sped\n",
      "bled\n",
      "rose\n",
      "lose\n",
      "kept\n",
      "made\n",
      "slew\n",
      "lay\n",
      "leapt\n",
      "saw\n",
      "swept\n",
      "bred\n",
      "crept\n",
      "bit\n",
      "slept\n",
      "wept\n",
      "\n",
      " ================================================== \n",
      "\n",
      "cluster: 9\n",
      "\n",
      "misunderstood\n",
      "underwrote\n",
      "countersank\n",
      "understood\n",
      "overthrew\n",
      "\n",
      " ================================================== \n",
      "\n",
      "cluster: 10\n",
      "\n",
      "got\n",
      "knit\n",
      "set\n",
      "slit\n",
      "cost\n",
      "laid\n",
      "cut\n",
      "cast\n",
      "hit\n",
      "shut\n",
      "wed\n",
      "went\n",
      "bet\n",
      "dug\n",
      "wet\n",
      "mett\n",
      "at\n",
      "shed\n",
      "did\n",
      "let\n",
      "bad\n",
      "undid\n",
      "hav\n",
      "sat\n",
      "put\n",
      "rid\n",
      "paid\n",
      "said\n",
      "we\n",
      "fed\n",
      "\n",
      " ================================================== \n",
      "\n",
      "cluster: 11\n",
      "\n",
      "froze\n",
      "bespoke\n",
      "unfroze\n",
      "oversaw\n",
      "besought\n",
      "foresaw\n",
      "chosee\n",
      "bereav\n",
      "\n",
      " ================================================== \n",
      "\n",
      "cluster: 12\n",
      "\n",
      "flung\n",
      "felt\n",
      "sought\n",
      "knelt\n",
      "cout\n",
      "clung\n",
      "flew\n",
      "meant\n",
      "\n",
      " ================================================== \n",
      "\n",
      "cluster: 13\n",
      "\n",
      "outran\n",
      "undersold\n",
      "overran\n",
      "rewrote\n",
      "underbid\n",
      "outsold\n",
      "rebuilt\n",
      "underpaid\n",
      "underwent\n",
      "underlay\n",
      "bestrode\n",
      "\n",
      " ================================================== \n",
      "\n",
      "cluster: 14\n",
      "\n",
      "betook\n",
      "overdid\n",
      "heaved\n",
      "wore\n",
      "forbid\n",
      "awoke\n",
      "retook\n",
      "bore\n",
      "became\n",
      "partook\n",
      "proved\n",
      "graved\n",
      "cleve\n",
      "forgot\n",
      "wove\n",
      "abode\n",
      "recast\n",
      "love\n",
      "broke\n",
      "remade\n",
      "waylaid\n",
      "forgave\n",
      "drove\n",
      "\n",
      " ================================================== \n",
      "\n",
      "cluster: 15\n",
      "\n",
      "reheard\n",
      "withheld\n",
      "misspelt\n",
      "misdealt\n",
      "mislea\n",
      "misread\n",
      "misheard\n",
      "\n",
      " ================================================== \n",
      "\n",
      "cluster: 16\n",
      "\n",
      "shrove\n",
      "gainsaid\n",
      "miscast\n",
      "mishit\n",
      "mislaid\n",
      "mistook\n",
      "misspent\n",
      "forsook\n",
      "misgave\n",
      "\n",
      " ================================================== \n",
      "\n",
      "cluster: 17\n",
      "\n",
      "beset\n",
      "resat\n",
      "split\n",
      "reset\n",
      "hurt\n",
      "arose\n",
      "bespat\n",
      "input\n",
      "bete\n",
      "begot\n",
      "inlaid\n",
      "spat\n",
      "shot\n",
      "upset\n",
      "bust\n",
      "smote\n",
      "burst\n",
      "inset\n",
      "unsaid\n",
      "\n",
      " ================================================== \n",
      "\n",
      "cluster: 18\n",
      "\n",
      "litt\n",
      "redid\n",
      "took\n",
      "came\n",
      "chid\n",
      "dived\n",
      "grew\n",
      "duryt\n",
      "rode\n",
      "drew\n",
      "rove\n",
      "woke\n",
      "held\n",
      "read\n",
      "gave\n",
      "hid\n",
      "gilt\n",
      "shred\n",
      "laded\n",
      "swam\n",
      "led\n",
      "\n",
      " ================================================== \n",
      "\n",
      "cluster: 19\n",
      "\n",
      "outgrew\n",
      "undercut\n",
      "hamstring\n",
      "undertook\n",
      "outshone\n",
      "forecast\n",
      "outfought\n",
      "overhung\n",
      "withstood\n",
      "spotlitt\n",
      "\n",
      " ================================================== \n",
      "\n",
      "cluster: 20\n",
      "\n",
      "spilt\n",
      "stung\n",
      "swung\n",
      "sank\n",
      "spent\n",
      "hung\n",
      "spun\n",
      "sang\n",
      "slung\n",
      "won\n",
      "shone\n",
      "shod\n",
      "sowed\n",
      "spelt\n",
      "ran\n",
      "rung\n",
      "stole\n",
      "sawd\n",
      "\n",
      " ================================================== \n",
      "\n",
      "cluster: 21\n",
      "\n",
      "floodlight\n",
      "withdrew\n",
      "overheard\n",
      "foretold\n",
      "forbore\n",
      "overflew\n",
      "forswore\n",
      "overslept\n",
      "\n",
      " ================================================== \n",
      "\n",
      "cluster: 22\n",
      "\n",
      "girdd\n",
      "sold\n",
      "spoilt\n",
      "kenne\n",
      "pleadd\n",
      "dealt\n",
      "sewed\n",
      "swell\n",
      "dweld\n",
      "learnt\n",
      "showed\n",
      "smelt\n",
      "told\n",
      "\n",
      " ================================================== \n",
      "\n"
     ]
    }
   ],
   "source": [
    "for cluster, val in res.items():\n",
    "    print('cluster: {0}\\n'.format(cluster))\n",
    "    for el in val:\n",
    "        print(el)\n",
    "    print('\\n', '='*50, '\\n')"
   ]
  },
  {
   "cell_type": "code",
   "execution_count": 275,
   "metadata": {},
   "outputs": [],
   "source": [
    "with open('cluster.txt', 'w') as f:\n",
    "    for cluster, val in res.items():\n",
    "        f.write('cluster: {0}\\n\\n'.format(cluster))\n",
    "        for el in val:\n",
    "            f.write(el + '\\n')\n",
    "        f.write('\\n' + '='*50 + '\\n\\n')"
   ]
  },
  {
   "cell_type": "code",
   "execution_count": 276,
   "metadata": {
    "collapsed": true
   },
   "outputs": [],
   "source": [
    "tsne = TSNE(n_components=2, verbose=1, perplexity=40, n_iter=1000)"
   ]
  },
  {
   "cell_type": "code",
   "execution_count": 277,
   "metadata": {},
   "outputs": [
    {
     "name": "stdout",
     "output_type": "stream",
     "text": [
      "[t-SNE] Computing 121 nearest neighbors...\n",
      "[t-SNE] Indexed 292 samples in 0.001s...\n",
      "[t-SNE] Computed neighbors for 292 samples in 0.008s...\n",
      "[t-SNE] Computed conditional probabilities for sample 292 / 292\n",
      "[t-SNE] Mean sigma: 0.293257\n",
      "[t-SNE] KL divergence after 250 iterations with early exaggeration: 61.499752\n",
      "[t-SNE] Error after 1000 iterations: 0.675814\n"
     ]
    }
   ],
   "source": [
    "tsne_results = tsne.fit_transform(vectors[2])"
   ]
  },
  {
   "cell_type": "code",
   "execution_count": 286,
   "metadata": {},
   "outputs": [
    {
     "data": {
      "image/png": "[encoded data removed]",
      "text/plain": [
       "<matplotlib.figure.Figure at 0x11c30f7f0>"
      ]
     },
     "metadata": {},
     "output_type": "display_data"
    }
   ],
   "source": [
    "theta = 2 * np.pi * np.random.rand(best_n)\n",
    "np.random.shuffle(theta)\n",
    "colors = [theta[x] for x in best_clusterization.labels_] # kmeans\n",
    "\n",
    "fig, ax = plt.subplots(figsize=(25, 15))\n",
    "ax.scatter(tsne_results[:, 0], tsne_results[:, 1], alpha=0.5, c=colors, s=[100]*len(tsne_results))\n",
    "plt.title('t-SNE')\n",
    "plt.xlabel('x')\n",
    "plt.ylabel('y')\n",
    "plt.show()"
   ]
  },
  {
   "cell_type": "code",
   "execution_count": 287,
   "metadata": {
    "collapsed": true
   },
   "outputs": [],
   "source": [
    "fig.savefig('t-SNE.png')"
   ]
  },
  {
   "cell_type": "code",
   "execution_count": null,
   "metadata": {
    "collapsed": true
   },
   "outputs": [],
   "source": []
  }
 ],
 "metadata": {
  "kernelspec": {
   "display_name": "Python 3",
   "language": "python",
   "name": "python3"
  },
  "language_info": {
   "codemirror_mode": {
    "name": "ipython",
    "version": 3
   },
   "file_extension": ".py",
   "mimetype": "text/x-python",
   "name": "python",
   "nbconvert_exporter": "python",
   "pygments_lexer": "ipython3",
   "version": "3.5.1"
  }
 },
 "nbformat": 4,
 "nbformat_minor": 2
}
