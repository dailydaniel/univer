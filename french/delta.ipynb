{
 "cells": [
  {
   "cell_type": "code",
   "execution_count": 1,
   "metadata": {
    "collapsed": true
   },
   "outputs": [],
   "source": [
    "import pandas as pd\n",
    "import re\n",
    "import nltk\n",
    "import pickle\n",
    "from sklearn.metrics.pairwise import cosine_similarity\n",
    "\n",
    "from my_functions import read_docx_tables as read_df, ha, listReader, delta, affinity, cossim"
   ]
  },
  {
   "cell_type": "code",
   "execution_count": 2,
   "metadata": {
    "collapsed": true
   },
   "outputs": [],
   "source": [
    "df = pd.read_csv('test_1.csv', encoding='utf-8', sep=';')\n",
    "columns = ['First', 'Second', 'Third', 'TR_1', 'TR_2', 'TR_3', 'DELTA', 'Translate']\n",
    "df = df[columns]"
   ]
  },
  {
   "cell_type": "code",
   "execution_count": 3,
   "metadata": {
    "collapsed": true
   },
   "outputs": [],
   "source": [
    "with open('vokab.pickle', 'rb') as f:\n",
    "    vocab = pickle.load(f)"
   ]
  },
  {
   "cell_type": "code",
   "execution_count": 4,
   "metadata": {},
   "outputs": [
    {
     "data": {
      "text/plain": [
       "[['AY1', 'D'], ['OW1', 'D'], ['OW1', 'D)']]"
      ]
     },
     "execution_count": 4,
     "metadata": {},
     "output_type": "execute_result"
    }
   ],
   "source": [
    "t = df[df.columns[6]][0]\n",
    "t = listReader(t)\n",
    "t"
   ]
  },
  {
   "cell_type": "code",
   "execution_count": 5,
   "metadata": {},
   "outputs": [
    {
     "name": "stdout",
     "output_type": "stream",
     "text": [
      "3\n",
      "4\n",
      "5\n",
      "6\n"
     ]
    }
   ],
   "source": [
    "for i in range(3, 7):\n",
    "    print(i)\n",
    "    df[df.columns[i]] = df[df.columns[i]].apply(lambda x: listReader(x))"
   ]
  },
  {
   "cell_type": "code",
   "execution_count": 6,
   "metadata": {},
   "outputs": [
    {
     "data": {
      "text/plain": [
       "[['AY1', 'D'], ['OW1', 'D'], ['OW1', 'D)']]"
      ]
     },
     "execution_count": 6,
     "metadata": {},
     "output_type": "execute_result"
    }
   ],
   "source": [
    "df[df.columns[6]][0]"
   ]
  },
  {
   "cell_type": "code",
   "execution_count": 7,
   "metadata": {},
   "outputs": [
    {
     "name": "stdout",
     "output_type": "stream",
     "text": [
      "['AA0', 'AA1', 'AA2', 'AE0', 'AE1', 'AE2', 'AH0', 'AH1', 'AH2', 'AO0', 'AO1', 'AO2', 'AW0', 'AW1', 'AW2', 'AY0', 'AY1', 'AY2', 'B', 'CH', 'D', 'DH', 'EH0', 'EH1', 'EH2', 'ER0', 'ER1', 'ER2', 'EY0', 'EY1', 'EY2', 'F', 'G', 'HH', 'IH0', 'IH1', 'IH2', 'IY0', 'IY1', 'IY2', 'JH', 'K', 'L', 'M', 'N', 'NG', 'OW0', 'OW1', 'OW2', 'OY0', 'OY1', 'OY2', 'P', 'R', 'S', 'SH', 'T', 'TH', 'UH0', 'UH1', 'UH2', 'UW0', 'UW1', 'UW2', 'V', 'W', 'Y', 'Z', 'ZH']\n"
     ]
    }
   ],
   "source": [
    "vocab = sorted(vocab)\n",
    "print(vocab)"
   ]
  },
  {
   "cell_type": "code",
   "execution_count": 8,
   "metadata": {
    "collapsed": true
   },
   "outputs": [],
   "source": [
    "space = [['AA0', 'AA1', 'AA2', 'AE0', 'AE1', 'AE2', 'AH0', 'AH1', 'AH2', 'AO0', 'AO1', 'AO2', 'AW0', 'AW1', 'AW2', 'AY0', 'AY1', 'AY2'], \n",
    " ['EH0', 'EH1', 'EH2', 'ER0', 'ER1', 'ER2', 'EY0', 'EY1', 'EY2'],\n",
    " ['IH0', 'IH1', 'IH2', 'IY0', 'IY1', 'IY2'],\n",
    " ['Y'],\n",
    " ['OW0', 'OW1', 'OW2', 'OY0', 'OY1', 'OY2'],\n",
    " ['UH0', 'UH1', 'UH2', 'UW0', 'UW1', 'UW2'],\n",
    " ['Z', 'ZH'],\n",
    " ['R'],\n",
    " ['JH', 'G'],\n",
    " ['B'],\n",
    " ['V', 'W'],\n",
    " ['D', 'DH'],\n",
    " ['L'],\n",
    " ['M'],\n",
    " ['N', 'NG'],\n",
    " ['CH'],\n",
    " ['HH'],\n",
    " ['T', 'TH'],\n",
    " ['K'],\n",
    " ['P'],\n",
    " ['F'],\n",
    " ['S', 'SH']]"
   ]
  },
  {
   "cell_type": "code",
   "execution_count": 9,
   "metadata": {},
   "outputs": [
    {
     "name": "stdout",
     "output_type": "stream",
     "text": [
      "affinity('Z', 'ZH') = 0.95\n"
     ]
    }
   ],
   "source": [
    "t1 = space[6][0]\n",
    "t2 = space[6][1]\n",
    "print(\"affinity('{0}', '{1}') = {2}\".format(t1, t2, affinity(t1, t2)))"
   ]
  },
  {
   "cell_type": "code",
   "execution_count": 10,
   "metadata": {
    "collapsed": true
   },
   "outputs": [],
   "source": [
    "id2f = {i: el for i, el in enumerate(ha(space))}\n",
    "f2id = {val: key for key, val in id2f.items()}"
   ]
  },
  {
   "cell_type": "code",
   "execution_count": 11,
   "metadata": {},
   "outputs": [],
   "source": [
    "n = len(ha(space))\n",
    "vectors = [list(map(lambda x: affinity(id2f[x], id2f[y]), range(n))) for y in range(n)]"
   ]
  },
  {
   "cell_type": "code",
   "execution_count": 12,
   "metadata": {},
   "outputs": [
    {
     "name": "stdout",
     "output_type": "stream",
     "text": [
      "[1.0, 0.95, 0.95, 0.95, 0.9, 0.9, 0.95, 0.9, 0.9, 0.95, 0.9, 0.9, 0.95, 0.9, 0.9, 0.95, 0.9, 0.9, 0.5, 0.45, 0.45, 0.5, 0.45, 0.45, 0.5, 0.45, 0.45, 0.5, 0.45, 0.45, 0.5, 0.45, 0.45, 0.45, 0.5, 0.45, 0.45, 0.5, 0.45, 0.45, 0.5, 0.45, 0.45, 0.5, 0.45, 0.45, 0.0, 0.0, 0.0, 0.0, 0.0, 0.0, 0.0, 0.0, 0.0, 0.0, 0.0, 0.0, 0.0, 0.0, 0.0, 0.0, 0.0, 0.0, 0.0, 0.0, 0.0, 0.0, 0.0]\n"
     ]
    }
   ],
   "source": [
    "print(vectors[0])"
   ]
  },
  {
   "cell_type": "code",
   "execution_count": 13,
   "metadata": {},
   "outputs": [
    {
     "data": {
      "text/plain": [
       "69"
      ]
     },
     "execution_count": 13,
     "metadata": {},
     "output_type": "execute_result"
    }
   ],
   "source": [
    "len(vectors[0])"
   ]
  },
  {
   "cell_type": "code",
   "execution_count": 14,
   "metadata": {
    "collapsed": true
   },
   "outputs": [],
   "source": [
    "vectors_norm = [[x * 100 for x in vector] for vector in vectors]"
   ]
  },
  {
   "cell_type": "code",
   "execution_count": 15,
   "metadata": {},
   "outputs": [
    {
     "name": "stdout",
     "output_type": "stream",
     "text": [
      "cosine similarity of Y and EH1 = 0.93309\n",
      "affinity of Y and EH1 = 0.45\n",
      "cosine similarity of normalized Y and EH1 = 0.93309\n"
     ]
    }
   ],
   "source": [
    "i = 33\n",
    "j = 19\n",
    "print('cosine similarity of {0} and {1} = {2}'.format(id2f[i], id2f[j], cossim(vectors[i], vectors[j])))\n",
    "print('affinity of {0} and {1} = {2}'.format(id2f[i], id2f[j], affinity(id2f[i], id2f[j])))\n",
    "print('cosine similarity of normalized {0} and {1} = {2}'.format(id2f[i], id2f[j], cossim(vectors_norm[i], vectors_norm[j])))"
   ]
  },
  {
   "cell_type": "code",
   "execution_count": 118,
   "metadata": {},
   "outputs": [],
   "source": [
    "with open('vectors.pickle', 'wb') as f:\n",
    "    pickle.dump(vectors, f)\n",
    "    \n",
    "with open('id2f.pickle', 'wb') as f:\n",
    "    pickle.dump(id2f, f)\n",
    "    \n",
    "with open('f2id.pickle', 'wb') as f:\n",
    "    pickle.dump(f2id, f)"
   ]
  },
  {
   "cell_type": "code",
   "execution_count": null,
   "metadata": {
    "collapsed": true
   },
   "outputs": [],
   "source": []
  }
 ],
 "metadata": {
  "kernelspec": {
   "display_name": "Python 3",
   "language": "python",
   "name": "python3"
  },
  "language_info": {
   "codemirror_mode": {
    "name": "ipython",
    "version": 3
   },
   "file_extension": ".py",
   "mimetype": "text/x-python",
   "name": "python",
   "nbconvert_exporter": "python",
   "pygments_lexer": "ipython3",
   "version": "3.5.1"
  }
 },
 "nbformat": 4,
 "nbformat_minor": 2
}
