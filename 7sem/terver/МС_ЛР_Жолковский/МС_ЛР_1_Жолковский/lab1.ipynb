{
 "cells": [
  {
   "cell_type": "code",
   "execution_count": 1,
   "metadata": {},
   "outputs": [],
   "source": [
    "import numpy as np\n",
    "from numpy.linalg import matrix_power, solve\n",
    "import pandas as pd\n",
    "from random import choices\n",
    "\n",
    "from itertools import product\n",
    "from copy import copy\n",
    "from inspect import isgeneratorfunction\n",
    "\n",
    "import networkx as nx\n",
    "from networkx.drawing.nx_agraph import to_agraph"
   ]
  },
  {
   "cell_type": "markdown",
   "metadata": {},
   "source": [
    "### Методы"
   ]
  },
  {
   "cell_type": "code",
   "execution_count": 2,
   "metadata": {},
   "outputs": [],
   "source": [
    "# Декоратор для округления возвращаемых значений других функций\n",
    "def round_output(fn):\n",
    "    rn = 5\n",
    "    if isgeneratorfunction(fn): \n",
    "        def rounder(*args, **kwargs):\n",
    "            for output in fn(*args, **kwargs):\n",
    "                if type(output) != tuple:\n",
    "                    yield np.round(output, rn)\n",
    "                else:\n",
    "                    res = []\n",
    "                    for element in output:\n",
    "                        res.append(np.round(element, rn))\n",
    "                    yield tuple(res)\n",
    "        return rounder\n",
    "    else:\n",
    "        def rounder(*args, **kwargs):\n",
    "            output = fn(*args, **kwargs)\n",
    "            return np.round(output, rn)  \n",
    "        return rounder"
   ]
  },
  {
   "cell_type": "code",
   "execution_count": 3,
   "metadata": {},
   "outputs": [],
   "source": [
    "def M2W(P):\n",
    "    graph = {(str(i+1), str(j+1)): round(P[i][j], 5)\n",
    "             for i, j in product(range(P.shape[0]), repeat=2) if P[i][j] > 0.}\n",
    "    return graph\n",
    "\n",
    "def plot_graph(P, path='graph'):\n",
    "    graph = M2W(P)\n",
    "    G=nx.MultiDiGraph()\n",
    "\n",
    "    for edge in graph:\n",
    "        G.add_edge(edge[0], edge[1])\n",
    "\n",
    "    G.graph['edge'] = {'arrowsize': '1', 'splines': 'curved'}\n",
    "    G.graph['graph'] = {'scale': '3'}\n",
    "\n",
    "    A = to_agraph(G)\n",
    "    A.layout('neato')#neato, dot, twopi, circo, fdp, nop, wc, acyclic, gvpr, gvcolor, ccomps, sccmap, tred, sfdp, unflatten\n",
    "\n",
    "    for pair in graph:\n",
    "        edge = A.get_edge(pair[0], pair[1])\n",
    "        edge.attr['label'] = str(graph[pair]) + \"  \"\n",
    "\n",
    "    A.draw(f'{path}.png')"
   ]
  },
  {
   "cell_type": "code",
   "execution_count": 4,
   "metadata": {
    "collapsed": true
   },
   "outputs": [],
   "source": [
    "@round_output\n",
    "def n_delta_powers_from_2(P, dm=1e-5):\n",
    "    Pn = copy(P)\n",
    "    d = 2 * dm\n",
    "    while d >= dm:\n",
    "        d = np.max(np.absolute(Pn @ P - Pn))\n",
    "        Pn = Pn @ P\n",
    "        yield Pn, d"
   ]
  },
  {
   "cell_type": "code",
   "execution_count": 5,
   "metadata": {},
   "outputs": [],
   "source": [
    "def save_table_csv(table, path, columns, index, convert=True):\n",
    "    df = pd.DataFrame(np.array(table).T if convert else table,\n",
    "                      index=index,\n",
    "                      columns=columns)\n",
    "    df.to_csv(path+'.csv', sep=';', encoding='utf-8')"
   ]
  },
  {
   "cell_type": "code",
   "execution_count": 6,
   "metadata": {},
   "outputs": [],
   "source": [
    "@round_output\n",
    "def get_stationary_d(P):\n",
    "    A = np.concatenate(((P.T - np.identity(3))[:-1], np.ones((1, 3))), axis=0)\n",
    "    B = np.array([0, 0, 1])\n",
    "    x = solve(A, B)\n",
    "    return x"
   ]
  },
  {
   "cell_type": "code",
   "execution_count": 7,
   "metadata": {
    "collapsed": true
   },
   "outputs": [],
   "source": [
    "@round_output\n",
    "def p_distributions(start, P, stationary, dm=1e-5):\n",
    "    Pn = copy(P)\n",
    "    x = copy(start)\n",
    "    d = np.max(np.absolute(x - stationary))\n",
    "    while d >= dm:\n",
    "        d = np.max(np.absolute(x @ Pn - stationary))\n",
    "        x = start @ Pn\n",
    "        Pn = Pn @ P\n",
    "        yield x, d\n",
    "        \n",
    "@round_output\n",
    "def p_distribution(start, P, stationary, n):\n",
    "    Pn = copy(P)\n",
    "    for i in range(n):\n",
    "        x = start @ Pn\n",
    "        Pn = Pn @ P\n",
    "    return x"
   ]
  },
  {
   "cell_type": "code",
   "execution_count": 8,
   "metadata": {
    "collapsed": true
   },
   "outputs": [],
   "source": [
    "def generate_next_state(current_state_id, P):\n",
    "    return choices(population=[0, 1, 2], weights=P[current_state_id])[0]\n",
    "\n",
    "@round_output\n",
    "def generate_n_states(start_state_id, P, stationary, dm=1e-3):\n",
    "    current_state_id = start_state_id\n",
    "    count_start_state = 0\n",
    "    N = dm * 2\n",
    "    n = 0\n",
    "    while N >= dm:\n",
    "        current_state_id = generate_next_state(current_state_id, P)\n",
    "        n += 1\n",
    "        count_start_state += 1 if current_state_id == start_state_id else 0\n",
    "        v = count_start_state / n\n",
    "        N = abs(v - stationary[start_state_id])\n",
    "        yield count_start_state, v, N"
   ]
  },
  {
   "cell_type": "markdown",
   "metadata": {},
   "source": [
    "### Подготовка"
   ]
  },
  {
   "cell_type": "code",
   "execution_count": 9,
   "metadata": {
    "collapsed": true
   },
   "outputs": [],
   "source": [
    "np.set_printoptions(suppress=True)"
   ]
  },
  {
   "cell_type": "code",
   "execution_count": 10,
   "metadata": {},
   "outputs": [],
   "source": [
    "df = pd.read_csv('Data/input.csv', encoding='utf-8', sep=';', dtype=np.float)\n",
    "\n",
    "P = df.values"
   ]
  },
  {
   "cell_type": "markdown",
   "metadata": {},
   "source": [
    "#### 0) Построение графа"
   ]
  },
  {
   "cell_type": "code",
   "execution_count": 11,
   "metadata": {
    "collapsed": true
   },
   "outputs": [],
   "source": [
    "plot_graph(P, 'Data/test')"
   ]
  },
  {
   "cell_type": "markdown",
   "metadata": {},
   "source": [
    "#### 1) Матрицы переходных вероятностей"
   ]
  },
  {
   "cell_type": "code",
   "execution_count": 12,
   "metadata": {},
   "outputs": [],
   "source": [
    "ndp = [[np.round(P, 5).tolist(), None]]\n",
    "\n",
    "for Pn, d in n_delta_powers_from_2(P):\n",
    "    ndp.append([Pn.tolist(), d])\n",
    "    \n",
    "save_table_csv(ndp, 'Data/ndp', \n",
    "               columns=['Pn', 'd'], \n",
    "               index=range(1, len(ndp)+1),\n",
    "               convert=False)"
   ]
  },
  {
   "cell_type": "code",
   "execution_count": 13,
   "metadata": {},
   "outputs": [],
   "source": [
    "#display(ndp)"
   ]
  },
  {
   "cell_type": "code",
   "execution_count": 14,
   "metadata": {},
   "outputs": [
    {
     "name": "stdout",
     "output_type": "stream",
     "text": [
      "n_min = 16\n"
     ]
    }
   ],
   "source": [
    "print(f'n_min = {len(ndp)}')"
   ]
  },
  {
   "cell_type": "markdown",
   "metadata": {},
   "source": [
    "#### 2) Стационарное распределение вероятностей"
   ]
  },
  {
   "cell_type": "code",
   "execution_count": 15,
   "metadata": {},
   "outputs": [
    {
     "data": {
      "text/plain": [
       "array([0.29783, 0.70217, 0.     ])"
      ]
     },
     "execution_count": 15,
     "metadata": {},
     "output_type": "execute_result"
    }
   ],
   "source": [
    "x = get_stationary_d(P)\n",
    "x"
   ]
  },
  {
   "cell_type": "code",
   "execution_count": 16,
   "metadata": {},
   "outputs": [
    {
     "data": {
      "text/plain": [
       "array([ True,  True,  True])"
      ]
     },
     "execution_count": 16,
     "metadata": {},
     "output_type": "execute_result"
    }
   ],
   "source": [
    "np.round(x @ P, 5) == x"
   ]
  },
  {
   "cell_type": "markdown",
   "metadata": {},
   "source": [
    "#### 3) Распределения вероятностей состояний через n шагов"
   ]
  },
  {
   "cell_type": "code",
   "execution_count": 17,
   "metadata": {},
   "outputs": [],
   "source": [
    "starts = np.identity(3)"
   ]
  },
  {
   "cell_type": "code",
   "execution_count": 18,
   "metadata": {},
   "outputs": [],
   "source": [
    "distr = [[[starts[i].tolist(), np.max(np.absolute(starts[i] - x))]] for i in range(starts.shape[0])]\n",
    "\n",
    "for i in range(starts.shape[0]):\n",
    "    for p, d in p_distributions(starts[i], P, x):\n",
    "        distr[i].append([p.tolist(), d])\n",
    "        \n",
    "for i, dist in enumerate(distr):\n",
    "    save_table_csv(dist, f'Data/distr{i}', \n",
    "                   columns=['(p1(n), p2(n), p3(n))', 'd(n)'], \n",
    "                   index=range(len(dist)),\n",
    "                   convert=False)"
   ]
  },
  {
   "cell_type": "markdown",
   "metadata": {},
   "source": [
    "#### 4) и 5) Генерация последовательности номеров состояний через n шагов"
   ]
  },
  {
   "cell_type": "code",
   "execution_count": 19,
   "metadata": {},
   "outputs": [],
   "source": [
    "generates = [[], [], []]\n",
    "for i, generation in enumerate(generates):\n",
    "    for R, v, d in generate_n_states(i, P, x):\n",
    "        generation.append((R, v, d))\n",
    "        \n",
    "for i, generation in enumerate(generates):\n",
    "    if len(generation) > 16:\n",
    "        save_table_csv(generation[0:10]+generation[-6:], f'Data/generation{i}', \n",
    "                       columns=['R', 'v', 'd'], \n",
    "                       index=list(range(1, 11)) + list(range(len(generation)-5, len(generation)+1)),\n",
    "                       convert=False)  \n",
    "    else:\n",
    "        save_table_csv(generation, f'Data/generation{i}', \n",
    "                       columns=['R', 'v', 'd'], \n",
    "                       index=range(len(generation)),\n",
    "                       convert=False)          "
   ]
  },
  {
   "cell_type": "code",
   "execution_count": 20,
   "metadata": {},
   "outputs": [
    {
     "name": "stdout",
     "output_type": "stream",
     "text": [
      "Nmin for state 1 = 64\n",
      "Nmin for state 2 = 275\n",
      "Nmin for state 3 = 1001\n"
     ]
    }
   ],
   "source": [
    "for i, generation in enumerate(generates):\n",
    "    print(f'Nmin for state {i+1} = {len(generation)}')"
   ]
  },
  {
   "cell_type": "markdown",
   "metadata": {},
   "source": [
    "#### Анализ результатов и выводы"
   ]
  },
  {
   "cell_type": "code",
   "execution_count": 23,
   "metadata": {},
   "outputs": [
    {
     "name": "stdout",
     "output_type": "stream",
     "text": [
      "Стационарное распределение: (0.29783, 0.70217, 0.0)\n",
      "\n",
      "Строки Матрицы P^16:\n"
     ]
    },
    {
     "data": {
      "text/plain": [
       "array([[0.29783, 0.70217, 0.     ],\n",
       "       [0.29783, 0.70217, 0.     ],\n",
       "       [0.29783, 0.70216, 0.00001]])"
      ]
     },
     "metadata": {},
     "output_type": "display_data"
    },
    {
     "name": "stdout",
     "output_type": "stream",
     "text": [
      "(p1(3), p2(3), p3(3)) = (0.29797, 0.70203, 0.0)\n",
      "(p1(3), p2(3), p3(3)) = (0.29777, 0.70223, 0.0)\n",
      "(p1(10), p2(10), p3(10)) = (0.29778, 0.70114, 0.00108)\n",
      "\n",
      "Вывод: с погрешностью 0.00107 значения векторов совпадают\n"
     ]
    }
   ],
   "source": [
    "print(f'Стационарное распределение: {tuple(x)}\\n')\n",
    "k = len(ndp)\n",
    "print(f'Строки Матрицы P^{k}:')\n",
    "display(np.round(matrix_power(P, k), 5))\n",
    "\n",
    "for dist in distr:\n",
    "    print(f'(p1({len(dist)}), p2({len(dist)}), p3({len(dist)})) = {tuple(dist[-1][0])}')\n",
    "# for i in range(P.shape[0]):\n",
    "#     print(f'(p1({k}), p2({k}), p3({k})) = {tuple(p_distribution(starts[i], P, x, k))}')\n",
    "    \n",
    "# pn = np.concatenate((p_distribution(starts[0], P, x, k).reshape(1, -1), \n",
    "#                      p_distribution(starts[1], P, x, k).reshape(1, -1), \n",
    "#                      p_distribution(starts[2], P, x, k).reshape(1, -1)))\n",
    "pn = np.concatenate((np.array(distr[0][-1][0]).reshape(1, -1),\n",
    "                     np.array(distr[1][-1][0]).reshape(1, -1),\n",
    "                     np.array(distr[2][-1][0]).reshape(1, -1)))\n",
    "d = np.max(np.abs(np.round(matrix_power(P, k), 5) - pn))\n",
    "print(f'\\nВывод: с погрешностью {d} значения векторов совпадают')"
   ]
  },
  {
   "cell_type": "code",
   "execution_count": null,
   "metadata": {
    "collapsed": true
   },
   "outputs": [],
   "source": []
  }
 ],
 "metadata": {
  "kernelspec": {
   "display_name": "Python 3",
   "language": "python",
   "name": "python3"
  },
  "language_info": {
   "codemirror_mode": {
    "name": "ipython",
    "version": 3
   },
   "file_extension": ".py",
   "mimetype": "text/x-python",
   "name": "python",
   "nbconvert_exporter": "python",
   "pygments_lexer": "ipython3",
   "version": "3.7.3"
  }
 },
 "nbformat": 4,
 "nbformat_minor": 2
}
