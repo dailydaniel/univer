{
 "cells": [
  {
   "cell_type": "code",
   "execution_count": 232,
   "metadata": {
    "collapsed": true
   },
   "outputs": [],
   "source": [
    "from IPython.display import Latex\n",
    "\n",
    "import numpy as np\n",
    "from numpy.linalg import matrix_power, solve\n",
    "from random import choices\n",
    "\n",
    "from itertools import product\n",
    "from inspect import isgeneratorfunction\n",
    "\n",
    "import networkx as nx\n",
    "from networkx.drawing.nx_agraph import to_agraph"
   ]
  },
  {
   "cell_type": "markdown",
   "metadata": {},
   "source": [
    "### Методы"
   ]
  },
  {
   "cell_type": "code",
   "execution_count": 2,
   "metadata": {
    "collapsed": true
   },
   "outputs": [],
   "source": [
    "# Декоратор для округления возвращаемых значений других функций\n",
    "def round_output(fn):\n",
    "    rn = 5\n",
    "    if isgeneratorfunction(fn): \n",
    "        def rounder(*args, **kwargs):\n",
    "            for output in fn(*args, **kwargs):\n",
    "                if type(output) != tuple:\n",
    "                    yield np.round(output, rn)\n",
    "                else:\n",
    "                    res = []\n",
    "                    for element in output:\n",
    "                        res.append(np.round(element, rn))\n",
    "                    yield tuple(res)\n",
    "        return rounder\n",
    "    else:\n",
    "        def rounder(*args, **kwargs):\n",
    "            output = fn(*args, **kwargs)\n",
    "            return np.round(output, rn)  \n",
    "        return rounder"
   ]
  },
  {
   "cell_type": "code",
   "execution_count": 8,
   "metadata": {
    "collapsed": true
   },
   "outputs": [],
   "source": [
    "def M2W(P):\n",
    "    graph = {(str(i+1), str(j+1)): round(P[i][j], 5)\n",
    "             for i, j in product(range(P.shape[0]), repeat=2) if P[i][j] > 0.}\n",
    "    return graph\n",
    "\n",
    "def plot_graph(P, path='graph'):\n",
    "    graph = M2W(P)\n",
    "    G=nx.MultiDiGraph()\n",
    "\n",
    "    for edge in graph:\n",
    "        G.add_edge(edge[0], edge[1])\n",
    "\n",
    "    G.graph['edge'] = {'arrowsize': '1', 'splines': 'curved'}\n",
    "    G.graph['graph'] = {'scale': '3'}\n",
    "\n",
    "    A = to_agraph(G)\n",
    "    A.layout('neato')#neato, dot, twopi, circo, fdp, nop, wc, acyclic, gvpr, gvcolor, ccomps, sccmap, tred, sfdp, unflatten\n",
    "\n",
    "    for pair in graph:\n",
    "        edge = A.get_edge(pair[0], pair[1])\n",
    "        edge.attr['label'] = str(graph[pair]) + \"  \"\n",
    "\n",
    "    A.draw(f'{path}.png')"
   ]
  },
  {
   "cell_type": "code",
   "execution_count": 6,
   "metadata": {
    "collapsed": true
   },
   "outputs": [],
   "source": [
    "def save_table_csv(table, path, columns, index, convert=True):\n",
    "    df = pd.DataFrame(np.array(table).T if convert else table,\n",
    "                      index=index,\n",
    "                      columns=columns)\n",
    "    df.to_csv(path+'.csv', sep=';', encoding='utf-8')"
   ]
  },
  {
   "cell_type": "code",
   "execution_count": 86,
   "metadata": {
    "collapsed": true
   },
   "outputs": [],
   "source": [
    "def matrix2latex(matr, toint=False):\n",
    "    start = r'$$\\begin{pmatrix} '\n",
    "    end = r' \\end{pmatrix}$$'\n",
    "    if not toint:\n",
    "        body = r' \\\\ '.join([r' & '.join([str(x) for x in matr[i]]) for i in range(matr.shape[0])]) \n",
    "    else:\n",
    "        body = r' \\\\ '.join([r' & '.join([str(int(x)) for x in matr[i]]) for i in range(matr.shape[0])]) \n",
    "    return start + body + end"
   ]
  },
  {
   "cell_type": "code",
   "execution_count": 171,
   "metadata": {
    "collapsed": true
   },
   "outputs": [],
   "source": [
    "def ode_system2latex(P, toint=False):\n",
    "    matr = P.T\n",
    "    \n",
    "    start = r'\\[\\left\\{\\begin{array}{ r @{{}={}} r  >{{}}c<{{}} r  >{{}}c<{{}}  r } '\n",
    "    end = r' \\end{array}\\right.\\]'\n",
    "    \n",
    "    frac = lambda i: r'\\frac{dp_' + r'{0}'.format(i+1) + r'}{q}' + r'&=&'\n",
    "    check_first = lambda arr, j: j == [i for i, x in enumerate(arr) if x != 0][0]\n",
    "    def element(k, j, is_first):\n",
    "        if not is_first:\n",
    "            st = r'&+&' if k > 0 else r'&-&' \n",
    "        else:\n",
    "            st = r''\n",
    "            \n",
    "        if not toint:\n",
    "            if abs(k) != 1:\n",
    "                bd = r'{0}'.format(abs(k)) if not is_first else r'{0}'.format(k) \n",
    "            else:\n",
    "                bd = r''\n",
    "                if is_first:\n",
    "                    bd = r'' if k > 0 else r'-'\n",
    "        else:\n",
    "            if abs(k) != 1:\n",
    "                bd = r'{0}'.format(abs(int(k))) if not is_first else r'{0}'.format(int(k)) \n",
    "            else:\n",
    "                bd = r''\n",
    "                if is_first:\n",
    "                    bd = r'' if k > 0 else r'-'\n",
    "    \n",
    "            nd = r'p_{0}'.format(j+1)\n",
    "        return st + bd + nd\n",
    "    \n",
    "    body = [frac(i) + r' '.join([element(matr[i][j], j, check_first(matr[i], j)) for j in range(matr.shape[1]) if matr[i][j] != 0]) + r'\\\\' \n",
    "            for i in range(matr.shape[0])]\n",
    "    return start + r' '.join(body) + end"
   ]
  },
  {
   "cell_type": "code",
   "execution_count": 169,
   "metadata": {
    "collapsed": true
   },
   "outputs": [],
   "source": [
    "def stationary_system2latex(P, toint=False):\n",
    "    matr = P.T\n",
    "    \n",
    "    start = r'\\[\\left\\{\\begin{array}{ r @{{}={}} r  >{{}}c<{{}} r  >{{}}c<{{}}  r } '\n",
    "    end = r' \\end{array}\\right.\\]'\n",
    "    \n",
    "    check_first = lambda arr, j: j == [i for i, x in enumerate(arr) if x != 0][0]\n",
    "    \n",
    "    def element(k, j, is_first):\n",
    "        if not is_first:\n",
    "            st = r'&+&' if k > 0 else r'&-&' \n",
    "        else:\n",
    "            st = r''\n",
    "            \n",
    "        if not toint:\n",
    "            if abs(k) != 1:\n",
    "                bd = r'{0}'.format(abs(k)) if not is_first else r'{0}'.format(k) \n",
    "            else:\n",
    "                bd = r''\n",
    "                if is_first:\n",
    "                    bd = r'' if k > 0 else r'-'\n",
    "        else:\n",
    "            if abs(k) != 1:\n",
    "                bd = r'{0}'.format(abs(int(k))) if not is_first else r'{0}'.format(int(k)) \n",
    "            else:\n",
    "                bd = r''\n",
    "                if is_first:\n",
    "                    bd = r'' if k > 0 else r'-'\n",
    "    \n",
    "            nd = r'p_{0}'.format(j+1)\n",
    "        return st + bd + nd\n",
    "    \n",
    "    body = [r' '.join([element(matr[i][j], j, check_first(matr[i], j)) for j in range(matr.shape[1]) if matr[i][j] != 0]) + r' &=& 0' + r'\\\\' \n",
    "            for i in range(matr.shape[0])]\n",
    "    body += [r' '.join([element(1.0, j, check_first(np.ones(matr.shape[1]), j)) for j in range(matr.shape[1])]) + r' &=& 1' + r'\\\\']\n",
    "    return start + r' '.join(body) + end    "
   ]
  },
  {
   "cell_type": "code",
   "execution_count": 227,
   "metadata": {},
   "outputs": [],
   "source": [
    "@round_output\n",
    "def get_stationary_d(P):\n",
    "    A = np.concatenate((P.T[:-1], np.ones((1, P.shape[0]))), axis=0)\n",
    "    B = np.zeros(P.shape[0])\n",
    "    B[-1] = 1.\n",
    "    x = solve(A, B)\n",
    "    return x"
   ]
  },
  {
   "cell_type": "code",
   "execution_count": null,
   "metadata": {
    "collapsed": true
   },
   "outputs": [],
   "source": [
    "def generate_next_state(current_state_id, P):\n",
    "    return choices(population=[0, 1, 2], weights=P[current_state_id])[0]\n",
    "\n",
    "@round_output\n",
    "def generate_n_states(start_state_id, P, stationary, dm=1e-3):\n",
    "    current_state_id = start_state_id\n",
    "    count_start_state = 0\n",
    "    N = dm * 2\n",
    "    n = 0\n",
    "    while N >= dm:\n",
    "        current_state_id = generate_next_state(current_state_id, P)\n",
    "        n += 1\n",
    "        count_start_state += 1 if current_state_id == start_state_id else 0\n",
    "        v = count_start_state / n\n",
    "        N = abs(v - stationary[start_state_id])\n",
    "        yield count_start_state, v, N\n",
    "        \n",
    "@round_output\n",
    "def generate_n_states(P, stationary, dm=1e-4):\n",
    "    current_state_id = 0\n",
    "    K = 0\n",
    "    vK = [0]\n",
    "    RK = []"
   ]
  },
  {
   "cell_type": "markdown",
   "metadata": {},
   "source": [
    "### 0) Подготовка"
   ]
  },
  {
   "cell_type": "code",
   "execution_count": 10,
   "metadata": {},
   "outputs": [],
   "source": [
    "P = np.genfromtxt('Data/input.txt', comments=\"%\")"
   ]
  },
  {
   "cell_type": "code",
   "execution_count": 87,
   "metadata": {},
   "outputs": [
    {
     "data": {
      "text/latex": [
       "$$\\begin{pmatrix} -3 & 0 & 1 & 1 & 1 \\\\ 1 & -2 & 0 & 0 & 1 \\\\ 1 & 1 & -3 & 0 & 1 \\\\ 1 & 1 & 1 & -3 & 0 \\\\ 0 & 1 & 1 & 1 & -3 \\end{pmatrix}$$"
      ],
      "text/plain": [
       "<IPython.core.display.Latex object>"
      ]
     },
     "metadata": {},
     "output_type": "display_data"
    }
   ],
   "source": [
    "display(Latex(matrix2latex(P, True)))"
   ]
  },
  {
   "cell_type": "markdown",
   "metadata": {},
   "source": [
    "### 1) Построить граф"
   ]
  },
  {
   "cell_type": "code",
   "execution_count": 16,
   "metadata": {},
   "outputs": [],
   "source": [
    "plot_graph(P, 'Data/test')"
   ]
  },
  {
   "cell_type": "markdown",
   "metadata": {},
   "source": [
    "### 2) СДУ Колмогорова"
   ]
  },
  {
   "cell_type": "code",
   "execution_count": 172,
   "metadata": {},
   "outputs": [
    {
     "data": {
      "text/latex": [
       "\\[\\left\\{\\begin{array}{ r @{{}={}} r  >{{}}c<{{}} r  >{{}}c<{{}}  r } \\frac{dp_1}{q}&=&-3p_1 &+&p_2 &+&p_3 &+&p_4\\\\ \\frac{dp_2}{q}&=&-2p_2 &+&p_3 &+&p_4 &+&p_5\\\\ \\frac{dp_3}{q}&=&p_1 &-&3p_3 &+&p_4 &+&p_5\\\\ \\frac{dp_4}{q}&=&p_1 &-&3p_4 &+&p_5\\\\ \\frac{dp_5}{q}&=&p_1 &+&p_2 &+&p_3 &-&3p_5\\\\ \\end{array}\\right.\\]"
      ],
      "text/plain": [
       "<IPython.core.display.Latex object>"
      ]
     },
     "metadata": {},
     "output_type": "display_data"
    }
   ],
   "source": [
    "display(Latex(ode_system2latex(P, True)))"
   ]
  },
  {
   "cell_type": "markdown",
   "metadata": {},
   "source": [
    "### СУ для стационарных вероятностей"
   ]
  },
  {
   "cell_type": "code",
   "execution_count": 170,
   "metadata": {},
   "outputs": [
    {
     "data": {
      "text/latex": [
       "\\[\\left\\{\\begin{array}{ r @{{}={}} r  >{{}}c<{{}} r  >{{}}c<{{}}  r } -3p_1 &+&p_2 &+&p_3 &+&p_4 &=& 0\\\\ -2p_2 &+&p_3 &+&p_4 &+&p_5 &=& 0\\\\ p_1 &-&3p_3 &+&p_4 &+&p_5 &=& 0\\\\ p_1 &-&3p_4 &+&p_5 &=& 0\\\\ p_1 &+&p_2 &+&p_3 &-&3p_5 &=& 0\\\\ p_1 &+&p_2 &+&p_3 &+&p_4 &+&p_5 &=& 1\\\\ \\end{array}\\right.\\]"
      ],
      "text/plain": [
       "<IPython.core.display.Latex object>"
      ]
     },
     "metadata": {},
     "output_type": "display_data"
    }
   ],
   "source": [
    "display(Latex(stationary_system2latex(P, True)))"
   ]
  },
  {
   "cell_type": "markdown",
   "metadata": {},
   "source": [
    "### Стационарное распределение"
   ]
  },
  {
   "cell_type": "code",
   "execution_count": 228,
   "metadata": {},
   "outputs": [],
   "source": [
    "stationary = get_stationary_d(P)"
   ]
  },
  {
   "cell_type": "code",
   "execution_count": 231,
   "metadata": {},
   "outputs": [
    {
     "data": {
      "text/latex": [
       "$$\\begin{pmatrix} 0.19608 & 0.26797 & 0.18301 & 0.13725 & 0.21569 \\end{pmatrix}$$"
      ],
      "text/plain": [
       "<IPython.core.display.Latex object>"
      ]
     },
     "metadata": {},
     "output_type": "display_data"
    }
   ],
   "source": [
    "display(Latex(matrix2latex(stationary.reshape(1, -1))))"
   ]
  },
  {
   "cell_type": "code",
   "execution_count": null,
   "metadata": {
    "collapsed": true
   },
   "outputs": [],
   "source": []
  }
 ],
 "metadata": {
  "kernelspec": {
   "display_name": "Python 3",
   "language": "python",
   "name": "python3"
  },
  "language_info": {
   "codemirror_mode": {
    "name": "ipython",
    "version": 3
   },
   "file_extension": ".py",
   "mimetype": "text/x-python",
   "name": "python",
   "nbconvert_exporter": "python",
   "pygments_lexer": "ipython3",
   "version": "3.7.3"
  }
 },
 "nbformat": 4,
 "nbformat_minor": 2
}
