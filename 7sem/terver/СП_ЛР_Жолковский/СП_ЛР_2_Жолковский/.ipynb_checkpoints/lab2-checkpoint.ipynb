{
 "cells": [
  {
   "cell_type": "code",
   "execution_count": 1,
   "metadata": {
    "collapsed": true
   },
   "outputs": [],
   "source": [
    "from IPython.display import Latex\n",
    "\n",
    "import numpy as np\n",
    "from numpy.linalg import matrix_power, solve\n",
    "from random import choices, uniform\n",
    "from math import log\n",
    "import pandas as pd\n",
    "\n",
    "from itertools import product\n",
    "from inspect import isgeneratorfunction\n",
    "from copy import copy\n",
    "\n",
    "import networkx as nx\n",
    "from networkx.drawing.nx_agraph import to_agraph"
   ]
  },
  {
   "cell_type": "markdown",
   "metadata": {},
   "source": [
    "### Методы"
   ]
  },
  {
   "cell_type": "code",
   "execution_count": 2,
   "metadata": {
    "collapsed": true
   },
   "outputs": [],
   "source": [
    "# Декоратор для округления возвращаемых значений других функций\n",
    "def round_output(fn):\n",
    "    rn = 5\n",
    "    if isgeneratorfunction(fn): \n",
    "        def rounder(*args, **kwargs):\n",
    "            for output in fn(*args, **kwargs):\n",
    "                if type(output) != tuple:\n",
    "                    yield np.round(output, rn)\n",
    "                else:\n",
    "                    res = []\n",
    "                    for element in output:\n",
    "                        res.append(np.round(element, rn))\n",
    "                    yield tuple(res)\n",
    "        return rounder\n",
    "    else:\n",
    "        def rounder(*args, **kwargs):\n",
    "            output = fn(*args, **kwargs)\n",
    "            if type(output) != tuple:\n",
    "                return np.round(output, rn) \n",
    "            else:\n",
    "                res = []\n",
    "                for element in output:\n",
    "                    res.append(np.round(element, rn))\n",
    "                return tuple(res)\n",
    "        return rounder\n",
    "\n",
    "np.set_printoptions(precision=5, suppress=True) # formatter={'float': '{: 0.5f}'.format})\n",
    "pd.options.display.float_format = '{:,.5f}'.format"
   ]
  },
  {
   "cell_type": "code",
   "execution_count": 3,
   "metadata": {
    "collapsed": true
   },
   "outputs": [],
   "source": [
    "def M2W(P):\n",
    "    graph = {(str(i+1), str(j+1)): round(P[i][j], 5)\n",
    "             for i, j in product(range(P.shape[0]), repeat=2) if P[i][j] > 0.}\n",
    "    return graph\n",
    "\n",
    "def plot_graph(P, path='graph'):\n",
    "    graph = M2W(P)\n",
    "    G=nx.MultiDiGraph()\n",
    "\n",
    "    for edge in graph:\n",
    "        G.add_edge(edge[0], edge[1])\n",
    "\n",
    "    G.graph['edge'] = {'arrowsize': '1', 'splines': 'curved'}\n",
    "    G.graph['graph'] = {'scale': '3'}\n",
    "\n",
    "    A = to_agraph(G)\n",
    "    A.layout('neato')#neato, dot, twopi, circo, fdp, nop, wc, acyclic, gvpr, gvcolor, ccomps, sccmap, tred, sfdp, unflatten\n",
    "\n",
    "    for pair in graph:\n",
    "        edge = A.get_edge(pair[0], pair[1])\n",
    "        edge.attr['label'] = str(graph[pair]) + \"  \"\n",
    "\n",
    "    A.draw(f'{path}.png')"
   ]
  },
  {
   "cell_type": "code",
   "execution_count": 4,
   "metadata": {
    "collapsed": true
   },
   "outputs": [],
   "source": [
    "def save_table_csv(table, path, columns, index, convert=True):\n",
    "    df = pd.DataFrame(np.array(table).T if convert else table,\n",
    "                      index=index,\n",
    "                      columns=columns)\n",
    "    df.to_csv(path+'.csv', sep=';', encoding='utf-8')"
   ]
  },
  {
   "cell_type": "code",
   "execution_count": 5,
   "metadata": {
    "collapsed": true
   },
   "outputs": [],
   "source": [
    "def matrix2latex(matr, toint=False):\n",
    "    start = r'$$\\begin{pmatrix} '\n",
    "    end = r' \\end{pmatrix}$$'\n",
    "    if not toint:\n",
    "        body = r' \\\\ '.join([r' & '.join([str(x) for x in matr[i]]) for i in range(matr.shape[0])]) \n",
    "    else:\n",
    "        body = r' \\\\ '.join([r' & '.join([str(int(x)) for x in matr[i]]) for i in range(matr.shape[0])]) \n",
    "    return start + body + end"
   ]
  },
  {
   "cell_type": "code",
   "execution_count": 6,
   "metadata": {
    "collapsed": true
   },
   "outputs": [],
   "source": [
    "def ode_system2latex(P, toint=False):\n",
    "    matr = P.T\n",
    "    \n",
    "    start = r'\\[\\left\\{\\begin{array}{ r @{{}={}} r  >{{}}c<{{}} r  >{{}}c<{{}}  r } '\n",
    "    end = r' \\end{array}\\right.\\]'\n",
    "    \n",
    "    frac = lambda i: r'\\frac{dp_' + r'{0}'.format(i+1) + r'}{q}' + r'&=&'\n",
    "    check_first = lambda arr, j: j == [i for i, x in enumerate(arr) if x != 0][0]\n",
    "    def element(k, j, is_first):\n",
    "        if not is_first:\n",
    "            st = r'&+&' if k > 0 else r'&-&' \n",
    "        else:\n",
    "            st = r''\n",
    "            \n",
    "        if not toint:\n",
    "            if abs(k) != 1:\n",
    "                bd = r'{0}'.format(abs(k)) if not is_first else r'{0}'.format(k) \n",
    "            else:\n",
    "                bd = r''\n",
    "                if is_first:\n",
    "                    bd = r'' if k > 0 else r'-'\n",
    "        else:\n",
    "            if abs(k) != 1:\n",
    "                bd = r'{0}'.format(abs(int(k))) if not is_first else r'{0}'.format(int(k)) \n",
    "            else:\n",
    "                bd = r''\n",
    "                if is_first:\n",
    "                    bd = r'' if k > 0 else r'-'\n",
    "    \n",
    "            nd = r'p_{0}'.format(j+1)\n",
    "        return st + bd + nd\n",
    "    \n",
    "    body = [frac(i) + r' '.join([element(matr[i][j], j, check_first(matr[i], j)) for j in range(matr.shape[1]) if matr[i][j] != 0]) + r'\\\\' \n",
    "            for i in range(matr.shape[0])]\n",
    "    return start + r' '.join(body) + end"
   ]
  },
  {
   "cell_type": "code",
   "execution_count": 7,
   "metadata": {
    "collapsed": true
   },
   "outputs": [],
   "source": [
    "def stationary_system2latex(P, toint=False):\n",
    "    matr = P.T\n",
    "    \n",
    "    start = r'\\[\\left\\{\\begin{array}{ r @{{}={}} r  >{{}}c<{{}} r  >{{}}c<{{}}  r } '\n",
    "    end = r' \\end{array}\\right.\\]'\n",
    "    \n",
    "    check_first = lambda arr, j: j == [i for i, x in enumerate(arr) if x != 0][0]\n",
    "    \n",
    "    def element(k, j, is_first):\n",
    "        if not is_first:\n",
    "            st = r'&+&' if k > 0 else r'&-&' \n",
    "        else:\n",
    "            st = r''\n",
    "            \n",
    "        if not toint:\n",
    "            if abs(k) != 1:\n",
    "                bd = r'{0}'.format(abs(k)) if not is_first else r'{0}'.format(k) \n",
    "            else:\n",
    "                bd = r''\n",
    "                if is_first:\n",
    "                    bd = r'' if k > 0 else r'-'\n",
    "        else:\n",
    "            if abs(k) != 1:\n",
    "                bd = r'{0}'.format(abs(int(k))) if not is_first else r'{0}'.format(int(k)) \n",
    "            else:\n",
    "                bd = r''\n",
    "                if is_first:\n",
    "                    bd = r'' if k > 0 else r'-'\n",
    "    \n",
    "            nd = r'p_{0}'.format(j+1)\n",
    "        return st + bd + nd\n",
    "    \n",
    "    body = [r' '.join([element(matr[i][j], j, check_first(matr[i], j)) for j in range(matr.shape[1]) if matr[i][j] != 0]) + r' &=& 0' + r'\\\\' \n",
    "            for i in range(matr.shape[0])]\n",
    "    body += [r' '.join([element(1.0, j, check_first(np.ones(matr.shape[1]), j)) for j in range(matr.shape[1])]) + r' &=& 1' + r'\\\\']\n",
    "    return start + r' '.join(body) + end    "
   ]
  },
  {
   "cell_type": "code",
   "execution_count": 8,
   "metadata": {
    "collapsed": true
   },
   "outputs": [],
   "source": [
    "@round_output\n",
    "def get_stationary_d(P):\n",
    "    A = np.concatenate((P.T[:-1], np.ones((1, P.shape[0]))), axis=0)\n",
    "    B = np.zeros(P.shape[0])\n",
    "    B[-1] = 1.\n",
    "    x = solve(A, B)\n",
    "    return x"
   ]
  },
  {
   "cell_type": "code",
   "execution_count": 9,
   "metadata": {},
   "outputs": [],
   "source": [
    "def generate_next_state(current_state_id, P):\n",
    "    return choices(population=range(5), weights=P[current_state_id])[0]\n",
    "\n",
    "def generate_time_and_next_state(current_state_id, P):\n",
    "    weights = [(i, (-1. / x) * log(uniform(1e-10, 1.))) \n",
    "               for i, x in enumerate(P[current_state_id]) if x > 0.]\n",
    "    return sorted(weights, key=lambda x: x[1])[0]\n",
    "        \n",
    "@round_output\n",
    "def generate_n_states(P, stationary, dm=1e-4):\n",
    "    matr = [[x if x > 0 else 0. for x in P[i]] for i in range(P.shape[0])]\n",
    "    matr = [[x / sum(matr[i]) for x in matr[i]] for i in range(P.shape[0])]\n",
    "    matr = np.array(matr)\n",
    "    \n",
    "    current_state_id = 0\n",
    "    prev_state_id = current_state_id\n",
    "    d = 1.\n",
    "    t = 0\n",
    "    K = 0\n",
    "    v = [np.zeros(5)]\n",
    "    r = [np.zeros(5)]\n",
    "#     r[0][0] = 1.\n",
    "    tkidq = [[0, 0, 0, 0, 0]] \n",
    "    while d > dm:\n",
    "#         t += 1\n",
    "        prev_state_id = current_state_id\n",
    "#         current_state_id = generate_next_state(current_state_id, matr)\n",
    "        current_state_id, cur_q = generate_time_and_next_state(current_state_id, P)\n",
    "        t += cur_q\n",
    "        if current_state_id == prev_state_id:\n",
    "            print('cur = prev')\n",
    "            continue\n",
    "        K += 1\n",
    "        cur_r = copy(r[-1])\n",
    "        cur_r[current_state_id] = cur_r[current_state_id] + 1\n",
    "        r.append(cur_r)\n",
    "        cur_v = copy(v[-1])\n",
    "        cur_v = cur_r / K #(tkid[-1][1]+1)\n",
    "        v.append(cur_v)\n",
    "        d = max(v[-1] - v[-2])\n",
    "        tkidq.append([t, K, current_state_id+1, d, cur_q])\n",
    "    return (np.array(tkidq), np.array(r), np.array(v))"
   ]
  },
  {
   "cell_type": "markdown",
   "metadata": {},
   "source": [
    "### 0) Подготовка"
   ]
  },
  {
   "cell_type": "code",
   "execution_count": 10,
   "metadata": {
    "collapsed": true
   },
   "outputs": [],
   "source": [
    "P = np.genfromtxt('Data/input.txt', comments=\"%\")"
   ]
  },
  {
   "cell_type": "code",
   "execution_count": 11,
   "metadata": {},
   "outputs": [
    {
     "data": {
      "text/latex": [
       "$$\\begin{pmatrix} -3 & 0 & 1 & 1 & 1 \\\\ 1 & -2 & 0 & 0 & 1 \\\\ 1 & 1 & -3 & 0 & 1 \\\\ 1 & 1 & 1 & -3 & 0 \\\\ 0 & 1 & 1 & 1 & -3 \\end{pmatrix}$$"
      ],
      "text/plain": [
       "<IPython.core.display.Latex object>"
      ]
     },
     "metadata": {},
     "output_type": "display_data"
    }
   ],
   "source": [
    "display(Latex(matrix2latex(P, True)))"
   ]
  },
  {
   "cell_type": "markdown",
   "metadata": {},
   "source": [
    "### 1) Построить граф"
   ]
  },
  {
   "cell_type": "code",
   "execution_count": 12,
   "metadata": {
    "collapsed": true
   },
   "outputs": [],
   "source": [
    "plot_graph(P, 'Data/test')"
   ]
  },
  {
   "cell_type": "markdown",
   "metadata": {},
   "source": [
    "### 2) СДУ Колмогорова"
   ]
  },
  {
   "cell_type": "code",
   "execution_count": 13,
   "metadata": {},
   "outputs": [
    {
     "data": {
      "text/latex": [
       "\\[\\left\\{\\begin{array}{ r @{{}={}} r  >{{}}c<{{}} r  >{{}}c<{{}}  r } \\frac{dp_1}{q}&=&-3p_1 &+&p_2 &+&p_3 &+&p_4\\\\ \\frac{dp_2}{q}&=&-2p_2 &+&p_3 &+&p_4 &+&p_5\\\\ \\frac{dp_3}{q}&=&p_1 &-&3p_3 &+&p_4 &+&p_5\\\\ \\frac{dp_4}{q}&=&p_1 &-&3p_4 &+&p_5\\\\ \\frac{dp_5}{q}&=&p_1 &+&p_2 &+&p_3 &-&3p_5\\\\ \\end{array}\\right.\\]"
      ],
      "text/plain": [
       "<IPython.core.display.Latex object>"
      ]
     },
     "metadata": {},
     "output_type": "display_data"
    }
   ],
   "source": [
    "display(Latex(ode_system2latex(P, True)))"
   ]
  },
  {
   "cell_type": "markdown",
   "metadata": {},
   "source": [
    "### 3) СУ для стационарных вероятностей"
   ]
  },
  {
   "cell_type": "code",
   "execution_count": 14,
   "metadata": {},
   "outputs": [
    {
     "data": {
      "text/latex": [
       "\\[\\left\\{\\begin{array}{ r @{{}={}} r  >{{}}c<{{}} r  >{{}}c<{{}}  r } -3p_1 &+&p_2 &+&p_3 &+&p_4 &=& 0\\\\ -2p_2 &+&p_3 &+&p_4 &+&p_5 &=& 0\\\\ p_1 &-&3p_3 &+&p_4 &+&p_5 &=& 0\\\\ p_1 &-&3p_4 &+&p_5 &=& 0\\\\ p_1 &+&p_2 &+&p_3 &-&3p_5 &=& 0\\\\ p_1 &+&p_2 &+&p_3 &+&p_4 &+&p_5 &=& 1\\\\ \\end{array}\\right.\\]"
      ],
      "text/plain": [
       "<IPython.core.display.Latex object>"
      ]
     },
     "metadata": {},
     "output_type": "display_data"
    }
   ],
   "source": [
    "display(Latex(stationary_system2latex(P, True)))"
   ]
  },
  {
   "cell_type": "markdown",
   "metadata": {},
   "source": [
    "### 4) Стационарное распределение"
   ]
  },
  {
   "cell_type": "code",
   "execution_count": 15,
   "metadata": {
    "collapsed": true
   },
   "outputs": [],
   "source": [
    "stationary = get_stationary_d(P)"
   ]
  },
  {
   "cell_type": "code",
   "execution_count": 16,
   "metadata": {},
   "outputs": [
    {
     "data": {
      "text/latex": [
       "$$\\begin{pmatrix} 0.19608 & 0.26797 & 0.18301 & 0.13725 & 0.21569 \\end{pmatrix}$$"
      ],
      "text/plain": [
       "<IPython.core.display.Latex object>"
      ]
     },
     "metadata": {},
     "output_type": "display_data"
    }
   ],
   "source": [
    "display(Latex(matrix2latex(stationary.reshape(1, -1))))"
   ]
  },
  {
   "cell_type": "markdown",
   "metadata": {
    "collapsed": true
   },
   "source": [
    "### 5) Генерация"
   ]
  },
  {
   "cell_type": "code",
   "execution_count": 17,
   "metadata": {},
   "outputs": [],
   "source": [
    "tkidq, R, v = generate_n_states(P, stationary)"
   ]
  },
  {
   "cell_type": "code",
   "execution_count": 18,
   "metadata": {},
   "outputs": [
    {
     "name": "stdout",
     "output_type": "stream",
     "text": [
      "K = 7536\n"
     ]
    }
   ],
   "source": [
    "print(f'K = {int(tkidq[-1][1])}')"
   ]
  },
  {
   "cell_type": "markdown",
   "metadata": {},
   "source": [
    "### 6) Таблица 1"
   ]
  },
  {
   "cell_type": "code",
   "execution_count": 19,
   "metadata": {},
   "outputs": [],
   "source": [
    "table = np.concatenate(\n",
    "    (np.array([tkidq[1:101, 1], tkidq[1:101, 0], tkidq[1:101, 2], tkidq[1:101, 4], tkidq[1:101, 3]]).T,\n",
    "     np.array([tkidq[-6:, 1], tkidq[-6:, 0], tkidq[-6:, 2], tkidq[-6:, 4], tkidq[-6:, 3]]).T)\n",
    ")"
   ]
  },
  {
   "cell_type": "code",
   "execution_count": 20,
   "metadata": {},
   "outputs": [],
   "source": [
    "table1 = pd.DataFrame(table, columns=['l', 't', 'C', 'tau', 'delta'])\n",
    "\n",
    "table1.l = table1.l.astype(int)\n",
    "table1.C = table1.C.astype(int)\n",
    "table1 = table1.set_index('l')"
   ]
  },
  {
   "cell_type": "code",
   "execution_count": 21,
   "metadata": {},
   "outputs": [],
   "source": [
    "table1.to_csv('Data/table1.csv', encoding='utf-8', sep=';')"
   ]
  },
  {
   "cell_type": "markdown",
   "metadata": {},
   "source": [
    "### 7) Таблица 2"
   ]
  },
  {
   "cell_type": "code",
   "execution_count": 22,
   "metadata": {
    "collapsed": true
   },
   "outputs": [],
   "source": [
    "table = []\n",
    "\n",
    "for i in range(5):\n",
    "    table.append([i+1, R[100][i], v[100][i], \n",
    "                  sum([t for t, _, state, _, _ in tkidq[1:101] if state-1 == i]),\n",
    "                  sum([t for t, _, state, _, _ in tkidq[1:101] if state-1 == i]) / sum(tkidq[1:101, 0])\n",
    "                 ])\n",
    "table = np.round(np.array(table), 5)"
   ]
  },
  {
   "cell_type": "code",
   "execution_count": 23,
   "metadata": {
    "collapsed": true
   },
   "outputs": [],
   "source": [
    "table2 = pd.DataFrame(table, columns=['i', 'R', 'v', 'T', 'delta'])\n",
    "\n",
    "table2.i = table2.i.astype(int)\n",
    "table2.R = table2.R.astype(int)\n",
    "table2 = table2.set_index('i')"
   ]
  },
  {
   "cell_type": "code",
   "execution_count": 24,
   "metadata": {},
   "outputs": [],
   "source": [
    "table2.to_csv('Data/table2.csv', encoding='utf-8', sep=';')"
   ]
  },
  {
   "cell_type": "markdown",
   "metadata": {},
   "source": [
    "### 8) Таблица 3"
   ]
  },
  {
   "cell_type": "code",
   "execution_count": 25,
   "metadata": {
    "collapsed": true
   },
   "outputs": [],
   "source": [
    "table = []\n",
    "\n",
    "for i in range(5):\n",
    "    table.append([i+1, R[-1][i], v[-1][i], \n",
    "                  sum([t for t, _, state, _, _ in tkidq[1:] if state-1 == i]),\n",
    "                  sum([t for t, _, state, _, _ in tkidq[1:] if state-1 == i]) / sum(tkidq[1:, 0])\n",
    "                 ])\n",
    "table = np.round(np.array(table), 5)"
   ]
  },
  {
   "cell_type": "code",
   "execution_count": 26,
   "metadata": {
    "collapsed": true
   },
   "outputs": [],
   "source": [
    "table3 = pd.DataFrame(table, columns=['i', 'R', 'v', 'T', 'delta'])\n",
    "\n",
    "table3.i = table3.i.astype(int)\n",
    "table3.R = table3.R.astype(int)\n",
    "table3 = table3.set_index('i')"
   ]
  },
  {
   "cell_type": "code",
   "execution_count": 27,
   "metadata": {
    "collapsed": true
   },
   "outputs": [],
   "source": [
    "table3.to_csv('Data/table3.csv', encoding='utf-8', sep=';')"
   ]
  },
  {
   "cell_type": "markdown",
   "metadata": {},
   "source": [
    "### Анализ"
   ]
  },
  {
   "cell_type": "code",
   "execution_count": 28,
   "metadata": {
    "collapsed": true
   },
   "outputs": [],
   "source": [
    "table = []\n",
    "\n",
    "for i in range(5):\n",
    "    table.append([stationary[i], v[100][i], v[-1][i], \n",
    "                  sum([t for t, _, state, _, _ in tkidq[1:101] if state-1 == i]) / sum(tkidq[1:101, 0]),\n",
    "                  sum([t for t, _, state, _, _ in tkidq[1:] if state-1 == i]) / sum(tkidq[1:, 0])\n",
    "                 ])\n",
    "table = np.round(np.array(table).T, 5)"
   ]
  },
  {
   "cell_type": "code",
   "execution_count": 29,
   "metadata": {
    "collapsed": true
   },
   "outputs": [],
   "source": [
    "table4 = pd.DataFrame(table, columns=['1', '2', '3', '4', '5'])\n",
    "\n",
    "table4.to_csv('Data/table4.csv', encoding='utf-8', sep=';')"
   ]
  },
  {
   "cell_type": "code",
   "execution_count": null,
   "metadata": {
    "collapsed": true
   },
   "outputs": [],
   "source": []
  }
 ],
 "metadata": {
  "kernelspec": {
   "display_name": "Python 3",
   "language": "python",
   "name": "python3"
  },
  "language_info": {
   "codemirror_mode": {
    "name": "ipython",
    "version": 3
   },
   "file_extension": ".py",
   "mimetype": "text/x-python",
   "name": "python",
   "nbconvert_exporter": "python",
   "pygments_lexer": "ipython3",
   "version": "3.7.3"
  }
 },
 "nbformat": 4,
 "nbformat_minor": 2
}
