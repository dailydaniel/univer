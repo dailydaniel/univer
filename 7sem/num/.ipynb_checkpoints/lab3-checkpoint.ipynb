{
 "cells": [
  {
   "cell_type": "markdown",
   "metadata": {},
   "source": [
    "## <center> Лабораторная №3"
   ]
  },
  {
   "cell_type": "markdown",
   "metadata": {},
   "source": [
    "### Задание:\n",
    "\n",
    "Решить задачу Коши методом Адамаса и методом эйлера с пересчетом со значениями шага $h_1 = 0.1$ и $h_2 = 0.01$\n",
    "   \n",
    "Сравнить результаты графически"
   ]
  },
  {
   "cell_type": "code",
   "execution_count": 1,
   "metadata": {
    "collapsed": true
   },
   "outputs": [],
   "source": [
    "import numpy as np\n",
    "import matplotlib.pyplot as plt\n",
    "plt.style.use('seaborn')"
   ]
  },
  {
   "cell_type": "markdown",
   "metadata": {},
   "source": [
    "### Условие  (вариант 1): \n",
    "\n",
    "\\begin{cases}\n",
    "y' = \\frac{y^2+xy}{x^2}; \\\\  y(1) = 1, x \\in [1, 2] &&  \n",
    "\\end{cases}"
   ]
  },
  {
   "cell_type": "code",
   "execution_count": 2,
   "metadata": {
    "collapsed": true
   },
   "outputs": [],
   "source": [
    "x_0 = 1.\n",
    "x_1 = 2.\n",
    "y_0 = 1.\n",
    "h_1 = .1\n",
    "h_2 = .01\n",
    "\n",
    "def f(x,y):\n",
    "    return (y**2 + x*y) / (x**2)"
   ]
  },
  {
   "cell_type": "code",
   "execution_count": 3,
   "metadata": {
    "collapsed": true
   },
   "outputs": [],
   "source": [
    "def Adams(x_0,x,y,x_1,h,recalc = True):\n",
    "    x_start = x\n",
    "    y_start = y\n",
    "    fk = [f(x,y)]\n",
    "    x_arr = [x]\n",
    "    y_arr = [y]\n",
    "    x = x_arr[0]\n",
    "    y = y_arr[0]\n",
    "    if x_0 < x:\n",
    "        for i in range(3):\n",
    "            if recalc == True:\n",
    "                y -= 0.5*h*(f(x,y)+f(x+h,y+h*f(x,y)))\n",
    "            else:\n",
    "                y += 0.5*h*(f(x,y)+f(x+h,y+h*f(x,y)))\n",
    "            x -= h\n",
    "            x_arr += [x]\n",
    "            y_arr += [y]\n",
    "            fk += [f(x,y)]\n",
    "        coef = [55,-59,37,-9]\n",
    "        fk = fk[::-1]\n",
    "        #if recalc == False:\n",
    "         #   coef = -np.array([55,-59,37,-9])\n",
    "        #else:\n",
    "         #   coef = np.array([55,-59,37,-9])\n",
    "            \n",
    "        while x_0 < x:\n",
    "            y -= h*np.sum(np.array(coef)*np.array(fk[::-1]))/24\n",
    "            fk.pop(0)\n",
    "            fk += [f(x,y)]\n",
    "            x -= h\n",
    "            x_arr += [x]\n",
    "            y_arr += [y]\n",
    "\n",
    "        x_arr = x_arr[::-1]\n",
    "        y_arr = y_arr[::-1]\n",
    "        x = x_start\n",
    "        y = y_start\n",
    "        fk = [f(x,y)]\n",
    "    \n",
    "    for i in range(3):\n",
    "        y += 0.5*h*(f(x,y)+f(x+h,y+h*f(x,y)))\n",
    "        x += h\n",
    "        x_arr += [x]\n",
    "        y_arr += [y]\n",
    "        fk += [f(x,y)]\n",
    "    coef = [55,-59,37,-9]\n",
    "    while x_1 > x:\n",
    "        y += h*np.sum(np.array(coef)*np.array(fk[::-1]))/24\n",
    "        fk.pop(0)\n",
    "        fk += [f(x,y)]\n",
    "        x += h\n",
    "        x_arr += [x]\n",
    "        y_arr += [y]\n",
    "    return {'x': np.array(x_arr), 'y': np.array(y_arr)}"
   ]
  },
  {
   "cell_type": "code",
   "execution_count": 4,
   "metadata": {
    "scrolled": false
   },
   "outputs": [
    {
     "data": {
      "image/png": "[encoded data removed]",
      "text/plain": [
       "<Figure size 900x504 with 1 Axes>"
      ]
     },
     "metadata": {
      "needs_background": "light"
     },
     "output_type": "display_data"
    }
   ],
   "source": [
    "data1 = Adams(x_0,x_0,y_0,x_1,h_1)\n",
    "data2 = Adams(x_0,x_0,y_0,x_1,h_2)\n",
    "fig = plt.figure(figsize = (12.5,7))\n",
    "ax = fig.add_subplot(111)\n",
    "ax.plot(data1['x'],data1['y'],'-', label = '$h_1$='+str(h_1))\n",
    "ax.plot(data2['x'],data2['y'],'-', label = '$h_2$='+str(h_2))\n",
    "plt.legend(fontsize = 15)\n",
    "plt.title(\"Adam's methods\", size = 18)\n",
    "plt.show()"
   ]
  },
  {
   "cell_type": "code",
   "execution_count": null,
   "metadata": {
    "collapsed": true
   },
   "outputs": [],
   "source": []
  }
 ],
 "metadata": {
  "kernelspec": {
   "display_name": "Python 3",
   "language": "python",
   "name": "python3"
  },
  "language_info": {
   "codemirror_mode": {
    "name": "ipython",
    "version": 3
   },
   "file_extension": ".py",
   "mimetype": "text/x-python",
   "name": "python",
   "nbconvert_exporter": "python",
   "pygments_lexer": "ipython3",
   "version": "3.7.3"
  },
  "latex_envs": {
   "LaTeX_envs_menu_present": true,
   "autoclose": true,
   "autocomplete": false,
   "bibliofile": "biblio.bib",
   "cite_by": "apalike",
   "current_citInitial": 1,
   "eqLabelWithNumbers": true,
   "eqNumInitial": 1,
   "hotkeys": {
    "equation": "Ctrl-E",
    "itemize": "Ctrl-I"
   },
   "labels_anchors": false,
   "latex_user_defs": false,
   "report_style_numbering": false,
   "user_envs_cfg": false
  }
 },
 "nbformat": 4,
 "nbformat_minor": 2
}
