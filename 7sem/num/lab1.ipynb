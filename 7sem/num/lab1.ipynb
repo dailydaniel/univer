{
 "cells": [
  {
   "cell_type": "code",
   "execution_count": 1,
   "metadata": {
    "collapsed": true
   },
   "outputs": [],
   "source": [
    "import math\n",
    "import numpy as np\n",
    "import scipy as sc\n",
    "import matplotlib.pyplot as plt\n",
    "import pprint\n",
    "import pandas as pd"
   ]
  },
  {
   "cell_type": "code",
   "execution_count": 2,
   "metadata": {
    "collapsed": true
   },
   "outputs": [],
   "source": [
    "pp = pprint.PrettyPrinter()"
   ]
  },
  {
   "cell_type": "code",
   "execution_count": 3,
   "metadata": {
    "collapsed": true
   },
   "outputs": [],
   "source": [
    "def f(x, y):\n",
    "    return y / (x ** 2) + math.exp(x - 1 / x)"
   ]
  },
  {
   "cell_type": "code",
   "execution_count": 4,
   "metadata": {
    "collapsed": true
   },
   "outputs": [],
   "source": [
    "a = 1\n",
    "b = 2\n",
    "k = [1, 2] # h = 1 / 10 ^ k\n",
    "y0 = 1.367879"
   ]
  },
  {
   "cell_type": "code",
   "execution_count": 5,
   "metadata": {
    "collapsed": true
   },
   "outputs": [],
   "source": [
    "def createHandXR(k, a, b):\n",
    "    h = 1 / 10 ** k if type(k) == int else k\n",
    "    x_r = list(range(int((b - a) / h) + 1))\n",
    "    x_r = list(np.round(np.interp(x_r, [x_r[0], x_r[-1]], [a, b]), k if type(k) == int else 1))\n",
    "    return h, x_r"
   ]
  },
  {
   "cell_type": "code",
   "execution_count": 6,
   "metadata": {
    "collapsed": true
   },
   "outputs": [],
   "source": [
    "h1, x_r1 = createHandXR(k[0], a, b)\n",
    "h2, x_r2 = createHandXR(k[1], a, b)"
   ]
  },
  {
   "cell_type": "code",
   "execution_count": 7,
   "metadata": {
    "collapsed": true
   },
   "outputs": [],
   "source": [
    "def elr(x_r, y0, h, f, r=6):\n",
    "    y = [y0]\n",
    "    for x in x_r:\n",
    "        y.append(round(y[-1] + h * f(x, y[-1]), r))\n",
    "    return y[:-1]\n",
    "\n",
    "def elr_edited(x_r, y0, h, f, r=6):\n",
    "    y = [y0]\n",
    "    for x in x_r:\n",
    "        y.append(round(y[-1] + (h / 2) * (f(x, y[-1]) + f(x + h, y[-1] + h * f(x, y[-1]))), r))\n",
    "    return y[:-1]"
   ]
  },
  {
   "cell_type": "code",
   "execution_count": 8,
   "metadata": {},
   "outputs": [
    {
     "name": "stdout",
     "output_type": "stream",
     "text": [
      "['f(1.0) ≃ 1.367879',\n",
      " 'f(1.1) ≃ 1.604667',\n",
      " 'f(1.2) ≃ 1.858319',\n",
      " 'f(1.3) ≃ 2.131661',\n",
      " 'f(1.4) ≃ 2.427819',\n",
      " 'f(1.5) ≃ 2.750206',\n",
      " 'f(1.6) ≃ 3.102535',\n",
      " 'f(1.7) ≃ 3.488844',\n",
      " 'f(1.8) ≃ 3.913537',\n",
      " 'f(1.9) ≃ 4.381426',\n",
      " 'f(2.0) ≃ 4.897783']\n"
     ]
    }
   ],
   "source": [
    "pp.pprint(['f({0}) ≃ {1}'.format(x, y) for x, y in list(zip(x_r1, elr(x_r1, y0, h1, f)))])"
   ]
  },
  {
   "cell_type": "code",
   "execution_count": 9,
   "metadata": {},
   "outputs": [
    {
     "name": "stdout",
     "output_type": "stream",
     "text": [
      "['f(1.0) ≃ 1.367879',\n",
      " 'f(1.1) ≃ 1.613099',\n",
      " 'f(1.2) ≃ 1.877261',\n",
      " 'f(1.3) ≃ 2.163268',\n",
      " 'f(1.4) ≃ 2.47433',\n",
      " 'f(1.5) ≃ 2.813961',\n",
      " 'f(1.6) ≃ 3.185998',\n",
      " 'f(1.7) ≃ 3.59463',\n",
      " 'f(1.8) ≃ 4.04444',\n",
      " 'f(1.9) ≃ 4.540452',\n",
      " 'f(2.0) ≃ 5.088183']\n"
     ]
    }
   ],
   "source": [
    "pp.pprint(['f({0}) ≃ {1}'.format(x, y) for x, y in list(zip(x_r1, elr_edited(x_r1, y0, h1, f)))])"
   ]
  },
  {
   "cell_type": "code",
   "execution_count": 10,
   "metadata": {},
   "outputs": [
    {
     "data": {
      "image/png": "[encoded data removed]",
      "text/plain": [
       "<Figure size 360x360 with 1 Axes>"
      ]
     },
     "metadata": {
      "needs_background": "light"
     },
     "output_type": "display_data"
    }
   ],
   "source": [
    "fig, ax = plt.subplots(figsize=(5, 5))\n",
    "ax.plot(x_r1, elr(x_r1, y0, h1, f), label='eiler h1')\n",
    "ax.plot(x_r2, elr(x_r2, y0, h2, f), label='eiler h2')\n",
    "ax.set_title('x')\n",
    "ax.legend(loc='upper left')\n",
    "ax.set_ylabel('y')\n",
    "\n",
    "fig.tight_layout()\n",
    "plt.grid() \n",
    "plt.show()"
   ]
  },
  {
   "cell_type": "code",
   "execution_count": 15,
   "metadata": {},
   "outputs": [
    {
     "name": "stdout",
     "output_type": "stream",
     "text": [
      "division by zero for x = 1.0\n",
      "погрешность для x = 1.1: -9.936446173799158\n",
      "погрешность для x = 1.2: -9.671549295774163\n",
      "погрешность для x = 1.3: -9.458967571144713\n",
      "погрешность для x = 1.4: -9.292321310024015\n",
      "погрешность для x = 1.5: -9.15530423701815\n",
      "погрешность для x = 1.6: -9.037642814191141\n",
      "погрешность для x = 1.7: -8.935756551141113\n",
      "погрешность для x = 1.8: -8.846032342986536\n",
      "погрешность для x = 1.9: -8.764583077489847\n",
      "погрешность для x = 2.0: -8.690060562878367\n"
     ]
    }
   ],
   "source": [
    "d2 = {key: val for key, val in zip(x_r2, elr(x_r2, y0, h2, f))}\n",
    "\n",
    "for x, y1, y2 in zip(x_r1, elr(x_r1, y0, h1, f), elr_edited(x_r1, y0, h1, f)):\n",
    "#     print(d2[x], y1, y1, x)\n",
    "    try:\n",
    "        dlt = (y1 - d2[x]) / (y2 - d2[x])\n",
    "        print(f'погрешность для x = {x}: {dlt}')\n",
    "    except:\n",
    "        print(f'division by zero for x = {x}')"
   ]
  },
  {
   "cell_type": "code",
   "execution_count": null,
   "metadata": {},
   "outputs": [],
   "source": [
    "fig, ax = plt.subplots(figsize=(5, 5))\n",
    "ax.plot(x_r1, elr_edited(x_r1, y0, h1, f), label='eiler edited h1')\n",
    "ax.plot(x_r2, elr_edited(x_r2, y0, h2, f), label='eiler edited h2')\n",
    "ax.set_title('x')\n",
    "ax.legend(loc='upper left')\n",
    "ax.set_ylabel('y')\n",
    "\n",
    "fig.tight_layout()\n",
    "plt.grid() \n",
    "plt.show()"
   ]
  },
  {
   "cell_type": "code",
   "execution_count": null,
   "metadata": {
    "collapsed": true
   },
   "outputs": [],
   "source": [
    "h3, x_r3 = createHandXR(0.2, a, b)"
   ]
  },
  {
   "cell_type": "code",
   "execution_count": null,
   "metadata": {},
   "outputs": [],
   "source": [
    "x_r3"
   ]
  },
  {
   "cell_type": "code",
   "execution_count": null,
   "metadata": {},
   "outputs": [],
   "source": [
    "fig, ax = plt.subplots(figsize=(5, 5))\n",
    "ax.plot(x_r3, elr(x_r3, y0, h3, f), label='eiler h3')\n",
    "ax.plot(x_r3, elr_edited(x_r3, y0, h3, f), label='eiler edited h3')\n",
    "ax.set_title('x')\n",
    "ax.legend(loc='upper left')\n",
    "ax.set_ylabel('y')\n",
    "\n",
    "fig.tight_layout()\n",
    "plt.grid() \n",
    "plt.show()"
   ]
  },
  {
   "cell_type": "code",
   "execution_count": null,
   "metadata": {
    "collapsed": true
   },
   "outputs": [],
   "source": [
    "d2 = {key: val for key, val in zip(x_r2, elr(x_r2, y0, h2, f))}"
   ]
  },
  {
   "cell_type": "code",
   "execution_count": null,
   "metadata": {
    "collapsed": true
   },
   "outputs": [],
   "source": [
    "t1 = [round((y1 - y2) / h1, 6) for y1, y2 in zip(elr(x_r1, y0, h1, f), [d2[x] for x in x_r1])]\n",
    "t2 = [round((y1 - y2) / h1, 6) for y1, y2 in zip(elr(x_r3, y0, h3, f), [d2[x] for x in x_r3])]"
   ]
  },
  {
   "cell_type": "code",
   "execution_count": null,
   "metadata": {
    "collapsed": true
   },
   "outputs": [],
   "source": [
    "table = []\n",
    "for i, x in enumerate(x_r1):\n",
    "    if x in x_r3:\n",
    "        table.append((x, t1[i], t2[x_r3.index(x)]))\n",
    "    else:\n",
    "        table.append((x, t1[i], None))"
   ]
  },
  {
   "cell_type": "code",
   "execution_count": null,
   "metadata": {},
   "outputs": [],
   "source": [
    "pd.DataFrame(table, columns=['X', 'Погрешность для 0.1', 'Погрешность для 0.2'])"
   ]
  },
  {
   "cell_type": "code",
   "execution_count": null,
   "metadata": {
    "collapsed": true
   },
   "outputs": [],
   "source": []
  }
 ],
 "metadata": {
  "kernelspec": {
   "display_name": "Python 3",
   "language": "python",
   "name": "python3"
  },
  "language_info": {
   "codemirror_mode": {
    "name": "ipython",
    "version": 3
   },
   "file_extension": ".py",
   "mimetype": "text/x-python",
   "name": "python",
   "nbconvert_exporter": "python",
   "pygments_lexer": "ipython3",
   "version": "3.7.3"
  }
 },
 "nbformat": 4,
 "nbformat_minor": 2
}
