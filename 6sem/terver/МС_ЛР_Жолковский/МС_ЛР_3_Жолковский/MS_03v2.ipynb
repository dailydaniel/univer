{
 "cells": [
  {
   "cell_type": "code",
   "execution_count": 1,
   "metadata": {
    "collapsed": true
   },
   "outputs": [],
   "source": [
    "import math\n",
    "import numpy\n",
    "\n",
    "import matplotlib.mlab as mlab\n",
    "import matplotlib.pyplot as plt\n",
    "\n",
    "import scipy\n",
    "import scipy.stats as pystats\n",
    "from scipy.stats import norm as pynorm\n",
    "from scipy.stats import uniform as pyuni\n",
    "\n",
    "from docx import Document"
   ]
  },
  {
   "cell_type": "code",
   "execution_count": 2,
   "metadata": {
    "collapsed": true
   },
   "outputs": [],
   "source": [
    "def strm(a):\n",
    "    n = len(a)\n",
    "    b = a[0]\n",
    "    m = len(b)\n",
    "    for i in range(n):\n",
    "        for k in range(m):\n",
    "            if type(a[i][k]) == int:\n",
    "                a[i][k] = str(a[i][k])\n",
    "            elif type(a[i][k]) != str:\n",
    "                a[i][k] = str('%.5f'% a[i][k])"
   ]
  },
  {
   "cell_type": "code",
   "execution_count": 3,
   "metadata": {
    "collapsed": true
   },
   "outputs": [],
   "source": [
    "def onetablein(docname, n):\n",
    "    document = Document(docname)\n",
    "    table = document.tables[n]\n",
    "    array = []\n",
    "    for i in range(0, len(table.rows)):\n",
    "        row = table.rows[i]\n",
    "        for cell in row.cells:\n",
    "            array.append(float(cell.text.replace(',','.')))\n",
    "    return array"
   ]
  },
  {
   "cell_type": "code",
   "execution_count": 4,
   "metadata": {
    "collapsed": true
   },
   "outputs": [],
   "source": [
    "krit_tbl = {\n",
    "    '4' : 9.5,\n",
    "    '5' : 11.1,\n",
    "    '6' : 12.6,\n",
    "    '7' : 14.1,\n",
    "    '8' : 15.5}"
   ]
  },
  {
   "cell_type": "code",
   "execution_count": 5,
   "metadata": {
    "collapsed": true
   },
   "outputs": [],
   "source": [
    "ln = onetablein('Data/tables_9.docx', 0)\n",
    "\n",
    "lu = onetablein('Data/tables_9.docx', 1)\n",
    "\n",
    "alfa = 0.05\n",
    "a = 0.1\n",
    "b = 6.1"
   ]
  },
  {
   "cell_type": "code",
   "execution_count": 6,
   "metadata": {
    "collapsed": true
   },
   "outputs": [],
   "source": [
    "class stat(object):\n",
    "    def __init__(self, array, m, ao = None, am = None):\n",
    "        self.m = m\n",
    "        if ao == None:\n",
    "            self.ao = min(array)\n",
    "        else:\n",
    "            self.ao = ao\n",
    "        if am == None:\n",
    "            self.am = max(array)\n",
    "        else:\n",
    "            self.am = am\n",
    "        self.h = (self.am - self.ao)/self.m\n",
    "        self.num = [self.ao + (i + 0.5)*self.h  for i in range(m)]\n",
    "        self.interval = [self.ao + i*self.h for i in range(m+1)]\n",
    "        self.cnt = [0 for i in range(m)]\n",
    "        for i in array:\n",
    "            for k in range(m):\n",
    "                if i <= self.interval[k+1]:\n",
    "                    break\n",
    "            self.cnt[k] = self.cnt[k] + 1\n",
    "        self.war = [i/len(array) for i in self.cnt]"
   ]
  },
  {
   "cell_type": "code",
   "execution_count": 7,
   "metadata": {
    "collapsed": true
   },
   "outputs": [],
   "source": [
    "class NormSample(object):\n",
    "    def __init__(self, array):\n",
    "        self.array = [i for i in array]\n",
    "        self.n = len(array)\n",
    "        self.m = 1 + int(math.log2(self.n))\n",
    "        self.stats = stat(array, self.m)\n",
    "    \n",
    "    def mean(self):\n",
    "        s = 0\n",
    "        for i in range(self.m):\n",
    "            s = s + self.stats.war[i]*self.stats.num[i]\n",
    "        return s\n",
    "    \n",
    "    def disp(self):\n",
    "        s = 0\n",
    "        for i in range(self.m):\n",
    "            s = s + self.stats.war[i]*(self.stats.num[i]**2)\n",
    "        return s - (self.stats.h**2)/12 - self.mean()**2\n",
    "    \n",
    "    def devi(self):\n",
    "        return self.disp()**0.5\n",
    "    \n",
    "    def graf(self, hist = True, theory = True, filename = 'Data/graf_norm.png'):\n",
    "        dx = 0.005\n",
    "        xmin = self.stats.ao - self.stats.h\n",
    "        xmax = self.stats.am + self.stats.h\n",
    "        if hist:\n",
    "            plt.bar(\n",
    "                [i for i in self.stats.num],\n",
    "                [i/self.stats.h for i in self.stats.war],\n",
    "                color = 'blue', edgecolor = 'black', \n",
    "                linewidth = 1, alpha = 0.75, width = self.stats.h\n",
    "            )\n",
    "        if theory:\n",
    "            xlist = numpy.arange(xmin, xmax, dx) # mlab.frange(xmin, xmax, dx)\n",
    "            ylist = [pystats.norm.pdf(xz, loc = self.mean(), scale = self.devi()) for xz in xlist]\n",
    "            plt.plot(xlist, ylist, color = 'red', linewidth = 2)\n",
    "        plt.savefig(filename)\n",
    "        plt.clf()\n",
    "    \n",
    "    def out_1(self):\n",
    "        l = []\n",
    "        for k in range(len(self.stats.interval)):\n",
    "            q = []\n",
    "            ak = self.stats.interval[k]\n",
    "            q.append(k)\n",
    "            q.append(ak)\n",
    "            q.append((ak - self.mean())/self.devi())\n",
    "            q.append(pynorm.pdf(q[2])/self.devi())\n",
    "            q.append(pynorm.cdf(q[2]))\n",
    "            if k == 0:\n",
    "                q.append('-')\n",
    "            elif k == 1:\n",
    "                q.append(q[4])\n",
    "            elif k == self.m:\n",
    "                q.append(1 - l[k-1][4])\n",
    "            else:\n",
    "                q.append(q[4] - l[k-1][4])\n",
    "            l.append(q)\n",
    "        return l\n",
    "    \n",
    "    def out_2(self):\n",
    "        out_1 = self.out_1()\n",
    "        l = []\n",
    "        f4 = 0\n",
    "        f5 = 0\n",
    "        for k in range(self.m):\n",
    "            q = []\n",
    "            q.append(k+1)\n",
    "            s = ''\n",
    "            if k == 0:\n",
    "                s = s + '['\n",
    "            else:\n",
    "                s = s + '('\n",
    "            s = s + str('%.5f'% out_1[k][1]) + '; ' + str('%.5f'% out_1[k+1][1]) + ']'\n",
    "            q.append(s)\n",
    "            q.append(self.stats.war[k])\n",
    "            q.append(out_1[k+1][5])\n",
    "            q.append(abs(q[2]-q[3]))\n",
    "            q.append(self.n*(q[4]**2)/q[3])\n",
    "            if q[4] > f4:\n",
    "                f4 = q[4]\n",
    "            f5 = f5 + q[5]\n",
    "            l.append(q)\n",
    "        l.append(['','','','',f4,f5])\n",
    "        return l\n",
    "        \n",
    "        \n",
    "    def hi2(self):\n",
    "        s = 0\n",
    "        n = [k for k in self.stats.cnt]\n",
    "        p = [k[3] for k in self.out_2()]\n",
    "        for k in range(self.m):\n",
    "            s = s + ((n[k]-self.n*p[k])**2)/(self.n*p[k])\n",
    "        return s\n",
    "    \n",
    "    def krit(self, tbl):\n",
    "        l = self.m - 3\n",
    "        if self.hi2() > tbl[str(l)]:\n",
    "            return False\n",
    "        else:\n",
    "            return True"
   ]
  },
  {
   "cell_type": "code",
   "execution_count": 8,
   "metadata": {},
   "outputs": [
    {
     "name": "stdout",
     "output_type": "stream",
     "text": [
      "0.1197675555555546\n",
      "4.456886390434765\n",
      "2.1111339110617227 \n",
      "\n",
      "[0, -5.69638, -2.754987509357245, 0.00424870170746749, 0.002934718807334799, '-']\n",
      "[1, -4.2342200000000005, -2.0623928840998373, 0.02253026102039335, 0.01958517311895314, 0.01958517311895314]\n",
      "[2, -2.7720600000000006, -1.369798258842429, 0.07395212386771532, 0.08537494287197983, 0.0657897697530267]\n",
      "[3, -1.3099000000000007, -0.6772036335850211, 0.15024828564875561, 0.24913838132741362, 0.16376343845543379]\n",
      "[4, 0.15225999999999917, 0.015390991672386906, 0.18894823765666618, 0.5061398749095173, 0.25700149358210367]\n",
      "[5, 1.614419999999999, 0.7079856169297949, 0.14707898084299229, 0.7605229052903115, 0.25438303038079424]\n",
      "[6, 3.076579999999999, 1.400580242187203, 0.07086516851770232, 0.9193301836757803, 0.15880727838546882]\n",
      "[7, 4.538739999999998, 2.0931748674446102, 0.021134378580098093, 0.9818332262990404, 0.06250304262326001]\n",
      "[8, 6.000899999999999, 2.785769492702019, 0.0039014009664378787, 0.9973299584781565, 0.01549673217911618]\n",
      "[9, 7.46306, 3.478364117959427, 0.00044578570498594595, 0.9997477579309002, 0.002670041521843469]\n",
      "\n",
      "[1, '[-5.69638; -4.23422]', 0.018518518518518517, 0.01958517311895314, 0.0010666546004346224, 0.015684980062411254]\n",
      "[2, '(-4.23422; -2.77206]', 0.07777777777777778, 0.0657897697530267, 0.011988008024751085, 0.589792774379164]\n",
      "[3, '(-2.77206; -1.30990]', 0.15185185185185185, 0.16376343845543379, 0.011911586603581936, 0.23393006475237263]\n",
      "[4, '(-1.30990; 0.15226]', 0.24444444444444444, 0.25700149358210367, 0.012557049137659232, 0.16565452530612643]\n",
      "[5, '(0.15226; 1.61442]', 0.2740740740740741, 0.25438303038079424, 0.01969104369327984, 0.4115409911996277]\n",
      "[6, '(1.61442; 3.07658]', 0.15555555555555556, 0.15880727838546882, 0.0032517228299132617, 0.01797713175945712]\n",
      "[7, '(3.07658; 4.53874]', 0.06296296296296296, 0.06250304262326001, 0.0004599203397029489, 0.0009137509423311601]\n",
      "[8, '(4.53874; 6.00090]', 0.007407407407407408, 0.01549673217911618, 0.008089324771708772, 1.1401137424700962]\n",
      "[9, '(6.00090; 7.46306]', 0.007407407407407408, 0.002670041521843469, 0.0047373658855639385, 2.2694447050833495]\n",
      "['', '', '', '', 0.01969104369327984, 4.845052665954936]\n",
      "\n",
      "4.845052665954935\n",
      "True\n"
     ]
    },
    {
     "data": {
      "text/plain": [
       "<Figure size 432x288 with 0 Axes>"
      ]
     },
     "metadata": {},
     "output_type": "display_data"
    }
   ],
   "source": [
    "sn = NormSample(ln)\n",
    "print(sn.mean())\n",
    "print(sn.disp())\n",
    "print(sn.devi(), '\\n')\n",
    "for i in sn.out_1():\n",
    "    print(i)\n",
    "print()\n",
    "for i in sn.out_2():\n",
    "    print(i)\n",
    "print()\n",
    "print(sn.hi2())\n",
    "print(sn.krit(krit_tbl))\n",
    "sn.graf()"
   ]
  },
  {
   "cell_type": "code",
   "execution_count": 9,
   "metadata": {
    "collapsed": true
   },
   "outputs": [],
   "source": [
    "class UniSample(object):\n",
    "    def __init__(self, array, a, b):\n",
    "        self.array = [i for i in array]\n",
    "        self.n = len(array)\n",
    "        self.a = a\n",
    "        self.b = b\n",
    "        self.m = 1 + int(math.log2(self.n))\n",
    "        self.stats = stat(array, self.m, ao = a, am = b)\n",
    "    \n",
    "    \n",
    "    def mean(self):\n",
    "        s = 0\n",
    "        for i in range(self.m):\n",
    "            s = s + self.stats.war[i]*self.stats.num[i]\n",
    "        return s\n",
    "    \n",
    "    def disp(self):\n",
    "        s = 0\n",
    "        for i in range(self.m):\n",
    "            s = s + self.stats.war[i]*(self.stats.num[i]**2)\n",
    "        return s - (self.stats.h**2)/12 - self.mean()**2\n",
    "    \n",
    "    def devi(self):\n",
    "        return self.disp()**0.5\n",
    "    \n",
    "    def graf(self, hist = True, theory = True, filename = 'Data/graf_uni.png'):\n",
    "        dx = 0.005\n",
    "        xmin = self.stats.ao - self.stats.h\n",
    "        xmax = self.stats.am + self.stats.h\n",
    "        \n",
    "        if hist:\n",
    "            plt.bar(\n",
    "                [i for i in self.stats.num],\n",
    "                [i/self.stats.h for i in self.stats.war],\n",
    "                color = 'blue', edgecolor = 'black', \n",
    "                linewidth = 1, alpha = 0.75, width = self.stats.h\n",
    "            )\n",
    "        if theory:\n",
    "            xlist = numpy.arange(xmin, xmax, dx) # mlab.frange(xmin, xmax, dx)\n",
    "            ylist = [pystats.uniform.pdf(xz, loc = self.a, scale = self.b - self.a) for xz in xlist]\n",
    "            plt.plot(xlist, ylist, color = 'red', linewidth = 2)\n",
    "        plt.savefig(filename)\n",
    "        plt.clf()\n",
    "        \n",
    "    def out_3(self):\n",
    "        l = []\n",
    "        f4 = 0\n",
    "        f5 = 0\n",
    "        for k in range(self.m):\n",
    "            q = []\n",
    "            q.append(k+1)\n",
    "            s = ''\n",
    "            if k == 0:\n",
    "                s = s + '['\n",
    "            else:\n",
    "                s = s + '('\n",
    "            s = s + str('%.5f'% self.stats.interval[k]) + '; ' + str('%.5f'% self.stats.interval[k+1]) + ']'\n",
    "            q.append(s)\n",
    "            q.append(self.stats.war[k])\n",
    "            q.append(1/self.m)\n",
    "            q.append(abs(q[2]-q[3]))\n",
    "            q.append(self.n*(q[4]**2)/q[3])\n",
    "            l.append(q)\n",
    "            if q[4] > f4:\n",
    "                f4 = q[4]\n",
    "            f5 = f5 + q[5]\n",
    "        l.append(['','','','',f4,f5])\n",
    "        return l\n",
    "    \n",
    "    def hi2(self):\n",
    "        s = 0\n",
    "        n = [k for k in self.stats.cnt]\n",
    "        p = [k[3] for k in self.out_3()]\n",
    "        for k in range(self.m):\n",
    "            s = s + ((n[k]-self.n*p[k])**2)/(self.n*p[k])\n",
    "        return s\n",
    "    \n",
    "    def krit(self, tbl):\n",
    "        l = self.m - 3\n",
    "        if self.hi2() > tbl[str(l)]:\n",
    "            return False\n",
    "        else:\n",
    "            return True"
   ]
  },
  {
   "cell_type": "code",
   "execution_count": 10,
   "metadata": {},
   "outputs": [
    {
     "name": "stdout",
     "output_type": "stream",
     "text": [
      "2.8901234567901235\n",
      "2.8703551287913402\n",
      "1.6942122443163194\n",
      "\n",
      "[1, '[0.10000; 0.76667]', 0.11481481481481481, 0.1111111111111111, 0.003703703703703709, 0.03333333333333343]\n",
      "[2, '(0.76667; 1.43333]', 0.14814814814814814, 0.1111111111111111, 0.037037037037037035, 3.3333333333333335]\n",
      "[3, '(1.43333; 2.10000]', 0.1259259259259259, 0.1111111111111111, 0.014814814814814808, 0.5333333333333329]\n",
      "[4, '(2.10000; 2.76667]', 0.11851851851851852, 0.1111111111111111, 0.007407407407407418, 0.13333333333333372]\n",
      "[5, '(2.76667; 3.43333]', 0.1, 0.1111111111111111, 0.0111111111111111, 0.2999999999999994]\n",
      "[6, '(3.43333; 4.10000]', 0.1, 0.1111111111111111, 0.0111111111111111, 0.2999999999999994]\n",
      "[7, '(4.10000; 4.76667]', 0.12222222222222222, 0.1111111111111111, 0.011111111111111113, 0.30000000000000016]\n",
      "[8, '(4.76667; 5.43333]', 0.06666666666666667, 0.1111111111111111, 0.04444444444444444, 4.799999999999999]\n",
      "[9, '(5.43333; 6.10000]', 0.1037037037037037, 0.1111111111111111, 0.007407407407407404, 0.13333333333333322]\n",
      "['', '', '', '', 0.04444444444444444, 9.866666666666664]\n",
      "\n",
      "9.866666666666665\n",
      "True\n"
     ]
    },
    {
     "data": {
      "text/plain": [
       "<Figure size 432x288 with 0 Axes>"
      ]
     },
     "metadata": {},
     "output_type": "display_data"
    }
   ],
   "source": [
    "su = UniSample(lu,a,b)\n",
    "print(su.mean())\n",
    "print(su.disp())\n",
    "print(su.devi())\n",
    "print()\n",
    "for k in su.out_3():\n",
    "    print(k)\n",
    "print()\n",
    "print(su.hi2())\n",
    "print(su.krit(krit_tbl))\n",
    "su.graf()"
   ]
  },
  {
   "cell_type": "code",
   "execution_count": 11,
   "metadata": {
    "collapsed": true
   },
   "outputs": [],
   "source": [
    "head_1_str = [\n",
    "    'k',\n",
    "    'ak',\n",
    "    '(ak-a)/s',\n",
    "    '1/s*f((ak-a)/s)',\n",
    "    'F((ak-a)/s)',\n",
    "    'pk'\n",
    "]\n",
    "head_2_str = [\n",
    "    'k',\n",
    "    'Интервал',\n",
    "    'wk',\n",
    "    'pk',\n",
    "    '|wk-pk|',\n",
    "    'N(wk-pk)^2/pk'\n",
    "]"
   ]
  },
  {
   "cell_type": "code",
   "execution_count": 12,
   "metadata": {
    "collapsed": true
   },
   "outputs": [],
   "source": [
    "def tabler(document, out, head = None):\n",
    "    tl = []\n",
    "    if head != None:\n",
    "        tl.append(head)\n",
    "    for i in out:\n",
    "        tl.append(i)\n",
    "    strm(tl)\n",
    "    \n",
    "    table = document.add_table(rows = len(tl),cols = len(tl[0]))\n",
    "    for i in range(len(tl)):\n",
    "        hdr_cells = table.rows[i].cells\n",
    "        for k in range(len(tl[0])):\n",
    "            if type(tl[i][k]) == str:\n",
    "                hdr_cells[k].text = tl[i][k]\n",
    "            else:\n",
    "                pass #LaTeh\n",
    "    "
   ]
  },
  {
   "cell_type": "code",
   "execution_count": 13,
   "metadata": {
    "collapsed": true
   },
   "outputs": [],
   "source": [
    "def doc_task_1(document, sn):\n",
    "    document.add_paragraph('Задание 1)')\n",
    "    \n",
    "    document.add_paragraph('Полученная выборка:')\n",
    "    l = [i for i in sn.array]\n",
    "    tbl = []\n",
    "    q = []\n",
    "    for i in range(len(l)):\n",
    "        q.append(l[i])\n",
    "        if (len(q) == 10) or (i+1 == len(l)):\n",
    "            while(len(q) != 10):\n",
    "                q.append('')\n",
    "            tbl.append(q)\n",
    "            q = []\n",
    "    tabler(document, tbl)\n",
    "    \n",
    "    document.add_paragraph('')\n",
    "    document.add_paragraph('Упорядоченная выборка:')\n",
    "    l.sort()\n",
    "    tbl = []\n",
    "    q = []\n",
    "    for i in range(len(l)):\n",
    "        q.append(l[i])\n",
    "        if (len(q) == 10) or (i+1 == len(l)):\n",
    "            while(len(q) != 10):\n",
    "                q.append('')\n",
    "            tbl.append(q)\n",
    "            q = []\n",
    "    tabler(document, tbl)\n",
    "    \n",
    "    document.add_paragraph('')\n",
    "    document.add_paragraph('Группированная выборка (интервальный вариационный ряд):')\n",
    "    tbl = [['(ai-1,ai]'],['ni'],['wi']]\n",
    "    tbl[0].extend([i[1] for i in sn.out_2() if i[1] != ''])\n",
    "    tbl[1].extend(sn.stats.cnt)\n",
    "    tbl[2].extend(sn.stats.war)\n",
    "    tabler(document, tbl)\n",
    "    document.add_paragraph('<math>\\sum_{i=0}^\\{N}\\w_i</math> = ' + str('%.5f'% sum(sn.stats.war)))\n",
    "    \n",
    "    document.add_paragraph('Математическое ожидание: \\tilde{a} = ' + str('%.5f'% sn.mean()))\n",
    "    document.add_paragraph('Дисперсия: \\tilde{\\sigma}^2 = '+ str('%.5f'% sn.disp()))\n",
    "    document.add_paragraph('Среднеквадратическое отклонение: \\tilde{\\sigma} = ' + str('%.5f'% sn.devi()))\n",
    "    document.add_paragraph('')\n",
    "    \n",
    "    \n",
    "    tabler(document, sn.out_1(), head_1_str)    \n",
    "    document.add_paragraph('График плотности нормального распределения, наложенный на гистограмму относительных частот:')\n",
    "    sn.graf(filename = 'tsk1_graf.png')\n",
    "    document.add_picture('tsk1_graf.png')\n",
    "    \n",
    "    tabler(document, sn.out_2(), head_2_str)\n",
    "    document.add_paragraph('')\n",
    "    document.add_paragraph('\\chi_B^2 = '+ str('%.5f'% sn.hi2()))\n",
    "    document.add_paragraph('')\n"
   ]
  },
  {
   "cell_type": "code",
   "execution_count": 14,
   "metadata": {
    "collapsed": true
   },
   "outputs": [],
   "source": [
    "def doc_task_2(document, sn):\n",
    "    document.add_paragraph('Задание 2)')\n",
    "    document.add_paragraph('')\n",
    "    document.add_paragraph('a = ' + str(sn.a))\n",
    "    document.add_paragraph('b = ' + str(sn.b))\n",
    "    document.add_paragraph('')\n",
    "\n",
    "    \n",
    "    document.add_paragraph('Полученная выборка:')\n",
    "    l = [i for i in sn.array]\n",
    "    tbl = []\n",
    "    q = []\n",
    "    for i in range(len(l)):\n",
    "        q.append(l[i])\n",
    "        if (len(q) == 10) or (i+1 == len(l)):\n",
    "            while(len(q) != 10):\n",
    "                q.append('')\n",
    "            tbl.append(q)\n",
    "            q = []\n",
    "    tabler(document, tbl)\n",
    "    \n",
    "    document.add_paragraph('')\n",
    "    document.add_paragraph('Упорядоченная выборка:')\n",
    "    l.sort()\n",
    "    tbl = []\n",
    "    q = []\n",
    "    for i in range(len(l)):\n",
    "        q.append(l[i])\n",
    "        if (len(q) == 10) or (i+1 == len(l)):\n",
    "            while(len(q) != 10):\n",
    "                q.append('')\n",
    "            tbl.append(q)\n",
    "            q = []\n",
    "    tabler(document, tbl)\n",
    "    \n",
    "    document.add_paragraph('')\n",
    "    document.add_paragraph('Группированная выборка (интервальный вариационный ряд):')\n",
    "    tbl = [['(ai-1,ai]'],['ni'],['wi']]\n",
    "    tbl[0].extend([i[1] for i in sn.out_3() if i[1] != ''])\n",
    "    tbl[1].extend(sn.stats.cnt)\n",
    "    tbl[2].extend(sn.stats.war)\n",
    "    tabler(document, tbl)\n",
    "    document.add_paragraph('<math>\\sum_{i=0}^\\{N}\\w_i</math> = ' + str('%.5f'% sum(sn.stats.war)))\n",
    "    \n",
    "    document.add_paragraph('Математическое ожидание: \\tilde{a} = ' + str('%.5f'% sn.mean()))\n",
    "    document.add_paragraph('Дисперсия: \\tilde{\\sigma}^2 = '+ str('%.5f'% sn.disp()))\n",
    "    document.add_paragraph('Среднеквадратическое отклонение: \\tilde{\\sigma} = ' + str('%.5f'% sn.devi()))\n",
    "    document.add_paragraph('')\n",
    "    \n",
    "    document.add_paragraph('График плотности равномерного распределения, наложенный на гистограмму относительных частот:')\n",
    "    sn.graf(filename = 'tsk2_graf.png')\n",
    "    document.add_picture('tsk2_graf.png')\n",
    "    \n",
    "    \n",
    "    tabler(document, sn.out_3(), head_2_str)\n",
    "    document.add_paragraph('')\n",
    "    document.add_paragraph('\\chi_B^2 = '+ str('%.5f'% sn.hi2()))\n",
    "    document.add_paragraph('')"
   ]
  },
  {
   "cell_type": "code",
   "execution_count": 15,
   "metadata": {
    "collapsed": true
   },
   "outputs": [],
   "source": [
    "def doc_anal(document, sn, su, krit_table):\n",
    "    NormResult = {\n",
    "        True : 'Гипотеза о соответствии выборки нормальному распределению не противоречит экспериментальным данным (т.е. может быть принята) при уровне значимости alpha = 0,05. ',\n",
    "        False : 'Гипотеза о соответствии выборки нормальному распределению противоречит экспериментальным данным (т.е. не может быть принята) при уровне значимости alpha = 0,05. '\n",
    "    }\n",
    "    UniResult = {\n",
    "        True: 'Гипотеза о соответствии выборки равномерному распределению на отрезке [a, b] не противоречит экспериментальным данным (т.е. может быть принята) при уровне значимости alpha = 0,05. ',\n",
    "        False: 'Гипотеза о соответствии выборки равномерному распределению на отрезке [a, b] противоречит экспериментальным данным (т.е. не может быть принята) при уровне значимости alpha = 0,05. '\n",
    "    }\n",
    "    \n",
    "    document.add_paragraph('Анализ результатов и выводы')    \n",
    "    document.add_paragraph('')\n",
    "    document.add_paragraph('Таблица критических значений:')# \\chi_{кр,\\alpha}^2 (l) \n",
    "    tbl = [['l'],['chi']]#'\\chi_{кр,\\alpha}^2 (l)'\n",
    "    tbl[0].extend([i for i in krit_table])\n",
    "    tbl[1].extend([str(krit_table[i]) for i in krit_table])\n",
    "    tabler(document,tbl)\n",
    "    document.add_paragraph('')    \n",
    "    document.add_paragraph('1) Нормальное распределение')\n",
    "    document.add_paragraph('\\chi_B^2 = ' + str('%.5f'% sn.hi2()))\n",
    "    document.add_paragraph('chi(' + str(sn.m-3) + ') = ' + str(krit_table[str(sn.m-3)]) )#'\\chi_{кр,\\alpha}^2 (l)'\n",
    "    document.add_paragraph(NormResult[sn.krit(krit_table)])    \n",
    "\n",
    "    document.add_paragraph('')    \n",
    "    document.add_paragraph('2) Равномерное распределение')\n",
    "    document.add_paragraph('\\chi_B^2 = ' + str('%.5f'% su.hi2()))\n",
    "    document.add_paragraph('chi(' + str(su.m-3) + ') = ' + str(krit_table[str(su.m-3)]) )#'\\chi_{кр,\\alpha}^2 (l)'\n",
    "    document.add_paragraph(NormResult[su.krit(krit_table)])    \n"
   ]
  },
  {
   "cell_type": "code",
   "execution_count": 16,
   "metadata": {
    "collapsed": true
   },
   "outputs": [],
   "source": [
    "def doccreator(sn, su, krit_tbl, filename = 'final_doc.docx'):\n",
    "    document = Document()\n",
    "    doc_task_1(document, sn)\n",
    "    document.add_paragraph('')\n",
    "    doc_task_2(document, su)\n",
    "    document.add_paragraph('')\n",
    "    doc_anal(document, sn, su, krit_tbl)\n",
    "    document.save(filename)\n",
    "    print('Done!')"
   ]
  },
  {
   "cell_type": "code",
   "execution_count": 17,
   "metadata": {},
   "outputs": [
    {
     "name": "stdout",
     "output_type": "stream",
     "text": [
      "Done!\n"
     ]
    },
    {
     "data": {
      "text/plain": [
       "<Figure size 432x288 with 0 Axes>"
      ]
     },
     "metadata": {},
     "output_type": "display_data"
    }
   ],
   "source": [
    "doccreator(sn, su, krit_tbl, filename = 'Data/final_doc.docx')"
   ]
  },
  {
   "cell_type": "code",
   "execution_count": null,
   "metadata": {
    "collapsed": true
   },
   "outputs": [],
   "source": []
  }
 ],
 "metadata": {
  "kernelspec": {
   "display_name": "Python 3",
   "language": "python",
   "name": "python3"
  },
  "language_info": {
   "codemirror_mode": {
    "name": "ipython",
    "version": 3
   },
   "file_extension": ".py",
   "mimetype": "text/x-python",
   "name": "python",
   "nbconvert_exporter": "python",
   "pygments_lexer": "ipython3",
   "version": "3.7.3"
  }
 },
 "nbformat": 4,
 "nbformat_minor": 2
}
