{
 "cells": [
  {
   "cell_type": "code",
   "execution_count": 1,
   "metadata": {
    "collapsed": true
   },
   "outputs": [],
   "source": [
    "import math\n",
    "import numpy\n",
    "\n",
    "import matplotlib.mlab as mlab\n",
    "import matplotlib.pyplot as plt\n",
    "\n",
    "import scipy\n",
    "import scipy.stats as pystats\n",
    "from scipy.stats import norm as pynorm\n",
    "from scipy.stats import uniform as pyuni\n",
    "\n",
    "from docx import Document"
   ]
  },
  {
   "cell_type": "code",
   "execution_count": 2,
   "metadata": {
    "collapsed": true
   },
   "outputs": [],
   "source": [
    "def strm(a):\n",
    "    n = len(a)\n",
    "    b = a[0]\n",
    "    m = len(b)\n",
    "    for i in range(n):\n",
    "        for k in range(m):\n",
    "            if type(a[i][k]) == int:\n",
    "                a[i][k] = str(a[i][k])\n",
    "            elif type(a[i][k]) != str:\n",
    "                a[i][k] = str('%.5f'% a[i][k])"
   ]
  },
  {
   "cell_type": "code",
   "execution_count": 3,
   "metadata": {
    "collapsed": true
   },
   "outputs": [],
   "source": [
    "def onetablein(docname, n):\n",
    "    document = Document(docname)\n",
    "    table = document.tables[n]\n",
    "    array = []\n",
    "    for i in range(0, len(table.rows)):\n",
    "        row = table.rows[i]\n",
    "        for cell in row.cells:\n",
    "            array.append(float(cell.text.replace(',','.')))\n",
    "    return array"
   ]
  },
  {
   "cell_type": "code",
   "execution_count": 4,
   "metadata": {
    "collapsed": true
   },
   "outputs": [],
   "source": [
    "krit_tbl = {\n",
    "    '4' : 9.5,\n",
    "    '5' : 11.1,\n",
    "    '6' : 12.6,\n",
    "    '7' : 14.1,\n",
    "    '8' : 15.5}"
   ]
  },
  {
   "cell_type": "code",
   "execution_count": 5,
   "metadata": {
    "collapsed": true
   },
   "outputs": [],
   "source": [
    "ln = onetablein('Data/tables_9.docx', 0)\n",
    "\n",
    "lu = onetablein('Data/tables_9.docx', 1)\n",
    "\n",
    "alfa = 0.05\n",
    "a = 0.1\n",
    "b = 6.1"
   ]
  },
  {
   "cell_type": "code",
   "execution_count": 6,
   "metadata": {
    "collapsed": true
   },
   "outputs": [],
   "source": [
    "class stat(object):\n",
    "    def __init__(self, array, m, ao = None, am = None):\n",
    "        self.m = m\n",
    "        if ao == None:\n",
    "            self.ao = min(array)\n",
    "        else:\n",
    "            self.ao = ao\n",
    "        if am == None:\n",
    "            self.am = max(array)\n",
    "        else:\n",
    "            self.am = am\n",
    "        self.h = (self.am - self.ao)/self.m\n",
    "        self.num = [self.ao + (i + 0.5)*self.h  for i in range(m)]\n",
    "        self.interval = [self.ao + i*self.h for i in range(m+1)]\n",
    "        self.cnt = [0 for i in range(m)]\n",
    "        for i in array:\n",
    "            for k in range(m):\n",
    "                if i <= self.interval[k+1]:\n",
    "                    break\n",
    "            self.cnt[k] = self.cnt[k] + 1\n",
    "        self.war = [i/len(array) for i in self.cnt]"
   ]
  },
  {
   "cell_type": "code",
   "execution_count": 7,
   "metadata": {
    "collapsed": true
   },
   "outputs": [],
   "source": [
    "class NormSample(object):\n",
    "    def __init__(self, array):\n",
    "        self.array = [i for i in array]\n",
    "        self.n = len(array)\n",
    "        self.m = 1 + int(math.log2(self.n))\n",
    "        self.stats = stat(array, self.m)\n",
    "    \n",
    "    def mean(self):\n",
    "        s = 0\n",
    "        for i in range(self.m):\n",
    "            s = s + self.stats.war[i]*self.stats.num[i]\n",
    "        return s\n",
    "    \n",
    "    def disp(self):\n",
    "        s = 0\n",
    "        for i in range(self.m):\n",
    "            s = s + self.stats.war[i]*(self.stats.num[i]**2)\n",
    "        return s - (self.stats.h**2)/12 - self.mean()**2\n",
    "    \n",
    "    def devi(self):\n",
    "        return self.disp()**0.5\n",
    "    \n",
    "    def graf(self, hist = True, theory = True, filename = 'Data/graf_norm.png'):\n",
    "        dx = 0.005\n",
    "        xmin = self.stats.ao - self.stats.h\n",
    "        xmax = self.stats.am + self.stats.h\n",
    "        if hist:\n",
    "            plt.bar(\n",
    "                [i for i in self.stats.num],\n",
    "                [i/self.stats.h for i in self.stats.war],\n",
    "                color = 'blue', edgecolor = 'black', \n",
    "                linewidth = 1, alpha = 0.75, width = self.stats.h\n",
    "            )\n",
    "        if theory:\n",
    "            xlist = numpy.arange(xmin, xmax, dx) # mlab.frange(xmin, xmax, dx)\n",
    "            ylist = [pystats.norm.pdf(xz, loc = self.mean(), scale = self.devi()) for xz in xlist]\n",
    "            plt.plot(xlist, ylist, color = 'red', linewidth = 2)\n",
    "        plt.savefig(filename)\n",
    "        plt.clf()\n",
    "    \n",
    "    def out_1(self):\n",
    "        l = []\n",
    "        for k in range(len(self.stats.interval)):\n",
    "            q = []\n",
    "            ak = self.stats.interval[k]\n",
    "            q.append(k)\n",
    "            q.append(ak)\n",
    "            q.append((ak - self.mean())/self.devi())\n",
    "            q.append(pynorm.pdf(q[2])/self.devi())\n",
    "            q.append(pynorm.cdf(q[2]))\n",
    "            if k == 0:\n",
    "                q.append('-')\n",
    "            elif k == 1:\n",
    "                q.append(q[4])\n",
    "            elif k == self.m:\n",
    "                q.append(1 - l[k-1][4])\n",
    "            else:\n",
    "                q.append(q[4] - l[k-1][4])\n",
    "            l.append(q)\n",
    "        return l\n",
    "    \n",
    "    def out_2(self):\n",
    "        out_1 = self.out_1()\n",
    "        l = []\n",
    "        f4 = 0\n",
    "        f5 = 0\n",
    "        for k in range(self.m):\n",
    "            q = []\n",
    "            q.append(k+1)\n",
    "            s = ''\n",
    "            if k == 0:\n",
    "                s = s + '['\n",
    "            else:\n",
    "                s = s + '('\n",
    "            s = s + str('%.5f'% out_1[k][1]) + '; ' + str('%.5f'% out_1[k+1][1]) + ']'\n",
    "            q.append(s)\n",
    "            q.append(self.stats.war[k])\n",
    "            q.append(out_1[k+1][5])\n",
    "            q.append(abs(q[2]-q[3]))\n",
    "            q.append(self.n*(q[4]**2)/q[3])\n",
    "            if q[4] > f4:\n",
    "                f4 = q[4]\n",
    "            f5 = f5 + q[5]\n",
    "            l.append(q)\n",
    "        l.append(['','','','',f4,f5])\n",
    "        return l\n",
    "        \n",
    "        \n",
    "    def hi2(self):\n",
    "        s = 0\n",
    "        n = [k for k in self.stats.cnt]\n",
    "        p = [k[3] for k in self.out_2()]\n",
    "        for k in range(self.m):\n",
    "            s = s + ((n[k]-self.n*p[k])**2)/(self.n*p[k])\n",
    "        return s\n",
    "    \n",
    "    def krit(self, tbl):\n",
    "        l = self.m - 3\n",
    "        if self.hi2() > tbl[str(l)]:\n",
    "            return False\n",
    "        else:\n",
    "            return True"
   ]
  },
  {
   "cell_type": "code",
   "execution_count": 8,
   "metadata": {},
   "outputs": [
    {
     "name": "stdout",
     "output_type": "stream",
     "text": [
      "0.25278349999999955\n",
      "4.69831186120275\n",
      "2.167558963719961 \n",
      "\n",
      "[0, -5.69638, -2.7446374468125456, 0.004257566511762162, 0.0030288890524895673, '-']\n",
      "[1, -4.051450000000001, -1.9857515168182935, 0.02562607965989696, 0.023530460807672765, 0.023530460807672765]\n",
      "[2, -2.4065200000000004, -1.226865586824041, 0.08671401575947627, 0.10993655737323693, 0.08640609656556417]\n",
      "[3, -0.7615900000000009, -0.4679796568297891, 0.16496158577491696, 0.31989956880337056, 0.20996301143013363]\n",
      "[4, 0.8833399999999996, 0.2909062731644633, 0.17642606316550213, 0.6144384982910227, 0.29453892948765215]\n",
      "[5, 2.52827, 1.0497922031587157, 0.10607891285203772, 0.8530931696301108, 0.23865467133908813]\n",
      "[6, 4.173199999999999, 1.8086781331529673, 0.03585764587054814, 0.9647494889657917, 0.11165631933568088]\n",
      "[7, 5.818129999999999, 2.56756406314722, 0.006814294265481755, 0.9948792068442234, 0.03012971787843166]\n",
      "[8, 7.46306, 3.326449993141472, 0.0007280251639465265, 0.9995602009946667, 0.005120793155776626]\n",
      "\n",
      "[1, '[-5.69638; -4.05145]', 0.020833333333333332, 0.023530460807672765, 0.002697127474339433, 0.07419655744742122]\n",
      "[2, '(-4.05145; -2.40652]', 0.09166666666666666, 0.08640609656556417, 0.005260570101102494, 0.07686568116437947]\n",
      "[3, '(-2.40652; -0.76159]', 0.2125, 0.20996301143013363, 0.0025369885698663663, 0.007357079851113843]\n",
      "[4, '(-0.76159; 0.88334]', 0.2875, 0.29453892948765215, 0.007038929487652168, 0.04037213967063026]\n",
      "[5, '(0.88334; 2.52827]', 0.24583333333333332, 0.23865467133908813, 0.007178661994245189, 0.05182368757850995]\n",
      "[6, '(2.52827; 4.17320]', 0.10833333333333334, 0.11165631933568088, 0.003322986002347539, 0.023734766191460564]\n",
      "[7, '(4.17320; 5.81813]', 0.020833333333333332, 0.03012971787843166, 0.009296384545098329, 0.6884055081488201]\n",
      "[8, '(5.81813; 7.46306]', 0.0125, 0.005120793155776626, 0.0073792068442233745, 2.552074664686966]\n",
      "['', '', '', '', 0.009296384545098329, 3.5148300847393017]\n",
      "\n",
      "3.5148300847393004\n",
      "True\n"
     ]
    },
    {
     "data": {
      "text/plain": [
       "<Figure size 432x288 with 0 Axes>"
      ]
     },
     "metadata": {},
     "output_type": "display_data"
    }
   ],
   "source": [
    "sn = NormSample(ln)\n",
    "print(sn.mean())\n",
    "print(sn.disp())\n",
    "print(sn.devi(), '\\n')\n",
    "for i in sn.out_1():\n",
    "    print(i)\n",
    "print()\n",
    "for i in sn.out_2():\n",
    "    print(i)\n",
    "print()\n",
    "print(sn.hi2())\n",
    "print(sn.krit(krit_tbl))\n",
    "sn.graf()"
   ]
  },
  {
   "cell_type": "code",
   "execution_count": 9,
   "metadata": {
    "collapsed": true
   },
   "outputs": [],
   "source": [
    "class UniSample(object):\n",
    "    def __init__(self, array, a, b):\n",
    "        self.array = [i for i in array]\n",
    "        self.n = len(array)\n",
    "        self.a = a\n",
    "        self.b = b\n",
    "        self.m = 1 + int(math.log2(self.n))\n",
    "        self.stats = stat(array, self.m, ao = a, am = b)\n",
    "    \n",
    "    \n",
    "    def mean(self):\n",
    "        s = 0\n",
    "        for i in range(self.m):\n",
    "            s = s + self.stats.war[i]*self.stats.num[i]\n",
    "        return s\n",
    "    \n",
    "    def disp(self):\n",
    "        s = 0\n",
    "        for i in range(self.m):\n",
    "            s = s + self.stats.war[i]*(self.stats.num[i]**2)\n",
    "        return s - (self.stats.h**2)/12 - self.mean()**2\n",
    "    \n",
    "    def devi(self):\n",
    "        return self.disp()**0.5\n",
    "    \n",
    "    def graf(self, hist = True, theory = True, filename = 'Data/graf_uni.png'):\n",
    "        dx = 0.005\n",
    "        xmin = self.stats.ao - self.stats.h\n",
    "        xmax = self.stats.am + self.stats.h\n",
    "        \n",
    "        if hist:\n",
    "            plt.bar(\n",
    "                [i for i in self.stats.num],\n",
    "                [i/self.stats.h for i in self.stats.war],\n",
    "                color = 'blue', edgecolor = 'black', \n",
    "                linewidth = 1, alpha = 0.75, width = self.stats.h\n",
    "            )\n",
    "        if theory:\n",
    "            xlist = numpy.arange(xmin, xmax, dx) # mlab.frange(xmin, xmax, dx)\n",
    "            ylist = [pystats.uniform.pdf(xz, loc = self.a, scale = self.b - self.a) for xz in xlist]\n",
    "            plt.plot(xlist, ylist, color = 'red', linewidth = 2)\n",
    "        plt.savefig(filename)\n",
    "        plt.clf()\n",
    "        \n",
    "    def out_3(self):\n",
    "        l = []\n",
    "        f4 = 0\n",
    "        f5 = 0\n",
    "        for k in range(self.m):\n",
    "            q = []\n",
    "            q.append(k+1)\n",
    "            s = ''\n",
    "            if k == 0:\n",
    "                s = s + '['\n",
    "            else:\n",
    "                s = s + '('\n",
    "            s = s + str('%.5f'% self.stats.interval[k]) + '; ' + str('%.5f'% self.stats.interval[k+1]) + ']'\n",
    "            q.append(s)\n",
    "            q.append(self.stats.war[k])\n",
    "            q.append(1/self.m)\n",
    "            q.append(abs(q[2]-q[3]))\n",
    "            q.append(self.n*(q[4]**2)/q[3])\n",
    "            l.append(q)\n",
    "            if q[4] > f4:\n",
    "                f4 = q[4]\n",
    "            f5 = f5 + q[5]\n",
    "        l.append(['','','','',f4,f5])\n",
    "        return l\n",
    "    \n",
    "    def hi2(self):\n",
    "        s = 0\n",
    "        n = [k for k in self.stats.cnt]\n",
    "        p = [k[3] for k in self.out_3()]\n",
    "        for k in range(self.m):\n",
    "            s = s + ((n[k]-self.n*p[k])**2)/(self.n*p[k])\n",
    "        return s\n",
    "    \n",
    "    def krit(self, tbl):\n",
    "        l = self.m - 3\n",
    "        if self.hi2() > tbl[str(l)]:\n",
    "            return False\n",
    "        else:\n",
    "            return True"
   ]
  },
  {
   "cell_type": "code",
   "execution_count": 10,
   "metadata": {},
   "outputs": [
    {
     "name": "stdout",
     "output_type": "stream",
     "text": [
      "2.91875\n",
      "2.906210937499999\n",
      "1.7047612552788731\n",
      "\n",
      "[1, '[0.10000; 0.85000]', 0.12083333333333333, 0.125, 0.004166666666666666, 0.03333333333333332]\n",
      "[2, '(0.85000; 1.60000]', 0.1875, 0.125, 0.0625, 7.5]\n",
      "[3, '(1.60000; 2.35000]', 0.125, 0.125, 0.0, 0.0]\n",
      "[4, '(2.35000; 3.10000]', 0.10833333333333334, 0.125, 0.016666666666666663, 0.5333333333333331]\n",
      "[5, '(3.10000; 3.85000]', 0.125, 0.125, 0.0, 0.0]\n",
      "[6, '(3.85000; 4.60000]', 0.12916666666666668, 0.125, 0.00416666666666668, 0.03333333333333354]\n",
      "[7, '(4.60000; 5.35000]', 0.07916666666666666, 0.125, 0.04583333333333334, 4.033333333333334]\n",
      "[8, '(5.35000; 6.10000]', 0.125, 0.125, 0.0, 0.0]\n",
      "['', '', '', '', 0.0625, 12.133333333333333]\n",
      "\n",
      "12.133333333333333\n",
      "False\n"
     ]
    },
    {
     "data": {
      "text/plain": [
       "<Figure size 432x288 with 0 Axes>"
      ]
     },
     "metadata": {},
     "output_type": "display_data"
    }
   ],
   "source": [
    "su = UniSample(lu,a,b)\n",
    "print(su.mean())\n",
    "print(su.disp())\n",
    "print(su.devi())\n",
    "print()\n",
    "for k in su.out_3():\n",
    "    print(k)\n",
    "print()\n",
    "print(su.hi2())\n",
    "print(su.krit(krit_tbl))\n",
    "su.graf()"
   ]
  },
  {
   "cell_type": "code",
   "execution_count": 11,
   "metadata": {
    "collapsed": true
   },
   "outputs": [],
   "source": [
    "head_1_str = [\n",
    "    'k',\n",
    "    'ak',\n",
    "    '(ak-a)/s',\n",
    "    '1/s*f((ak-a)/s)',\n",
    "    'F((ak-a)/s)',\n",
    "    'pk'\n",
    "]\n",
    "head_2_str = [\n",
    "    'k',\n",
    "    'Интервал',\n",
    "    'wk',\n",
    "    'pk',\n",
    "    '|wk-pk|',\n",
    "    'N(wk-pk)^2/pk'\n",
    "]"
   ]
  },
  {
   "cell_type": "code",
   "execution_count": 12,
   "metadata": {
    "collapsed": true
   },
   "outputs": [],
   "source": [
    "def tabler(document, out, head = None):\n",
    "    tl = []\n",
    "    if head != None:\n",
    "        tl.append(head)\n",
    "    for i in out:\n",
    "        tl.append(i)\n",
    "    strm(tl)\n",
    "    \n",
    "    table = document.add_table(rows = len(tl),cols = len(tl[0]))\n",
    "    for i in range(len(tl)):\n",
    "        hdr_cells = table.rows[i].cells\n",
    "        for k in range(len(tl[0])):\n",
    "            if type(tl[i][k]) == str:\n",
    "                hdr_cells[k].text = tl[i][k]\n",
    "            else:\n",
    "                pass #LaTeh\n",
    "    "
   ]
  },
  {
   "cell_type": "code",
   "execution_count": 13,
   "metadata": {
    "collapsed": true
   },
   "outputs": [],
   "source": [
    "def doc_task_1(document, sn):\n",
    "    document.add_paragraph('Задание 1)')\n",
    "    \n",
    "    document.add_paragraph('Полученная выборка:')\n",
    "    l = [i for i in sn.array]\n",
    "    tbl = []\n",
    "    q = []\n",
    "    for i in range(len(l)):\n",
    "        q.append(l[i])\n",
    "        if (len(q) == 10) or (i+1 == len(l)):\n",
    "            while(len(q) != 10):\n",
    "                q.append('')\n",
    "            tbl.append(q)\n",
    "            q = []\n",
    "    tabler(document, tbl)\n",
    "    \n",
    "    document.add_paragraph('')\n",
    "    document.add_paragraph('Упорядоченная выборка:')\n",
    "    l.sort()\n",
    "    tbl = []\n",
    "    q = []\n",
    "    for i in range(len(l)):\n",
    "        q.append(l[i])\n",
    "        if (len(q) == 10) or (i+1 == len(l)):\n",
    "            while(len(q) != 10):\n",
    "                q.append('')\n",
    "            tbl.append(q)\n",
    "            q = []\n",
    "    tabler(document, tbl)\n",
    "    \n",
    "    document.add_paragraph('')\n",
    "    document.add_paragraph('Группированная выборка (интервальный вариационный ряд):')\n",
    "    tbl = [['(ai-1,ai]'],['ni'],['wi']]\n",
    "    tbl[0].extend([i[1] for i in sn.out_2() if i[1] != ''])\n",
    "    tbl[1].extend(sn.stats.cnt)\n",
    "    tbl[2].extend(sn.stats.war)\n",
    "    tabler(document, tbl)\n",
    "    document.add_paragraph('<math>\\sum_{i=0}^\\{N}\\w_i</math> = ' + str('%.5f'% sum(sn.stats.war)))\n",
    "    \n",
    "    document.add_paragraph('Математическое ожидание: \\tilde{a} = ' + str('%.5f'% sn.mean()))\n",
    "    document.add_paragraph('Дисперсия: \\tilde{\\sigma}^2 = '+ str('%.5f'% sn.disp()))\n",
    "    document.add_paragraph('Среднеквадратическое отклонение: \\tilde{\\sigma} = ' + str('%.5f'% sn.devi()))\n",
    "    document.add_paragraph('')\n",
    "    \n",
    "    \n",
    "    tabler(document, sn.out_1(), head_1_str)    \n",
    "    document.add_paragraph('График плотности нормального распределения, наложенный на гистограмму относительных частот:')\n",
    "    sn.graf(filename = 'tsk1_graf.png')\n",
    "    document.add_picture('tsk1_graf.png')\n",
    "    \n",
    "    tabler(document, sn.out_2(), head_2_str)\n",
    "    document.add_paragraph('')\n",
    "    document.add_paragraph('\\chi_B^2 = '+ str('%.5f'% sn.hi2()))\n",
    "    document.add_paragraph('')\n"
   ]
  },
  {
   "cell_type": "code",
   "execution_count": 14,
   "metadata": {
    "collapsed": true
   },
   "outputs": [],
   "source": [
    "def doc_task_2(document, sn):\n",
    "    document.add_paragraph('Задание 2)')\n",
    "    document.add_paragraph('')\n",
    "    document.add_paragraph('a = ' + str(sn.a))\n",
    "    document.add_paragraph('b = ' + str(sn.b))\n",
    "    document.add_paragraph('')\n",
    "\n",
    "    \n",
    "    document.add_paragraph('Полученная выборка:')\n",
    "    l = [i for i in sn.array]\n",
    "    tbl = []\n",
    "    q = []\n",
    "    for i in range(len(l)):\n",
    "        q.append(l[i])\n",
    "        if (len(q) == 10) or (i+1 == len(l)):\n",
    "            while(len(q) != 10):\n",
    "                q.append('')\n",
    "            tbl.append(q)\n",
    "            q = []\n",
    "    tabler(document, tbl)\n",
    "    \n",
    "    document.add_paragraph('')\n",
    "    document.add_paragraph('Упорядоченная выборка:')\n",
    "    l.sort()\n",
    "    tbl = []\n",
    "    q = []\n",
    "    for i in range(len(l)):\n",
    "        q.append(l[i])\n",
    "        if (len(q) == 10) or (i+1 == len(l)):\n",
    "            while(len(q) != 10):\n",
    "                q.append('')\n",
    "            tbl.append(q)\n",
    "            q = []\n",
    "    tabler(document, tbl)\n",
    "    \n",
    "    document.add_paragraph('')\n",
    "    document.add_paragraph('Группированная выборка (интервальный вариационный ряд):')\n",
    "    tbl = [['(ai-1,ai]'],['ni'],['wi']]\n",
    "    tbl[0].extend([i[1] for i in sn.out_3() if i[1] != ''])\n",
    "    tbl[1].extend(sn.stats.cnt)\n",
    "    tbl[2].extend(sn.stats.war)\n",
    "    tabler(document, tbl)\n",
    "    document.add_paragraph('<math>\\sum_{i=0}^\\{N}\\w_i</math> = ' + str('%.5f'% sum(sn.stats.war)))\n",
    "    \n",
    "    document.add_paragraph('Математическое ожидание: \\tilde{a} = ' + str('%.5f'% sn.mean()))\n",
    "    document.add_paragraph('Дисперсия: \\tilde{\\sigma}^2 = '+ str('%.5f'% sn.disp()))\n",
    "    document.add_paragraph('Среднеквадратическое отклонение: \\tilde{\\sigma} = ' + str('%.5f'% sn.devi()))\n",
    "    document.add_paragraph('')\n",
    "    \n",
    "    document.add_paragraph('График плотности равномерного распределения, наложенный на гистограмму относительных частот:')\n",
    "    sn.graf(filename = 'tsk2_graf.png')\n",
    "    document.add_picture('tsk2_graf.png')\n",
    "    \n",
    "    \n",
    "    tabler(document, sn.out_3(), head_2_str)\n",
    "    document.add_paragraph('')\n",
    "    document.add_paragraph('\\chi_B^2 = '+ str('%.5f'% sn.hi2()))\n",
    "    document.add_paragraph('')"
   ]
  },
  {
   "cell_type": "code",
   "execution_count": 15,
   "metadata": {
    "collapsed": true
   },
   "outputs": [],
   "source": [
    "def doc_anal(document, sn, su, krit_table):\n",
    "    NormResult = {\n",
    "        True : 'Гипотеза о соответствии выборки нормальному распределению не противоречит экспериментальным данным (т.е. может быть принята) при уровне значимости alpha = 0,05. ',\n",
    "        False : 'Гипотеза о соответствии выборки нормальному распределению противоречит экспериментальным данным (т.е. не может быть принята) при уровне значимости alpha = 0,05. '\n",
    "    }\n",
    "    UniResult = {\n",
    "        True: 'Гипотеза о соответствии выборки равномерному распределению на отрезке [a, b] не противоречит экспериментальным данным (т.е. может быть принята) при уровне значимости alpha = 0,05. ',\n",
    "        False: 'Гипотеза о соответствии выборки равномерному распределению на отрезке [a, b] противоречит экспериментальным данным (т.е. не может быть принята) при уровне значимости alpha = 0,05. '\n",
    "    }\n",
    "    \n",
    "    document.add_paragraph('Анализ результатов и выводы')    \n",
    "    document.add_paragraph('')\n",
    "    document.add_paragraph('Таблица критических значений:')# \\chi_{кр,\\alpha}^2 (l) \n",
    "    tbl = [['l'],['chi']]#'\\chi_{кр,\\alpha}^2 (l)'\n",
    "    tbl[0].extend([i for i in krit_table])\n",
    "    tbl[1].extend([str(krit_table[i]) for i in krit_table])\n",
    "    tabler(document,tbl)\n",
    "    document.add_paragraph('')    \n",
    "    document.add_paragraph('1) Нормальное распределение')\n",
    "    document.add_paragraph('\\chi_B^2 = ' + str('%.5f'% sn.hi2()))\n",
    "    document.add_paragraph('chi(' + str(sn.m-3) + ') = ' + str(krit_table[str(sn.m-3)]) )#'\\chi_{кр,\\alpha}^2 (l)'\n",
    "    document.add_paragraph(NormResult[sn.krit(krit_table)])    \n",
    "\n",
    "    document.add_paragraph('')    \n",
    "    document.add_paragraph('2) Равномерное распределение')\n",
    "    document.add_paragraph('\\chi_B^2 = ' + str('%.5f'% su.hi2()))\n",
    "    document.add_paragraph('chi(' + str(su.m-3) + ') = ' + str(krit_table[str(su.m-3)]) )#'\\chi_{кр,\\alpha}^2 (l)'\n",
    "    document.add_paragraph(NormResult[su.krit(krit_table)])    \n"
   ]
  },
  {
   "cell_type": "code",
   "execution_count": 16,
   "metadata": {
    "collapsed": true
   },
   "outputs": [],
   "source": [
    "def doccreator(sn, su, krit_tbl, filename = 'final_doc.docx'):\n",
    "    document = Document()\n",
    "    doc_task_1(document, sn)\n",
    "    document.add_paragraph('')\n",
    "    doc_task_2(document, su)\n",
    "    document.add_paragraph('')\n",
    "    doc_anal(document, sn, su, krit_tbl)\n",
    "    document.save(filename)\n",
    "    print('Done!')"
   ]
  },
  {
   "cell_type": "code",
   "execution_count": 17,
   "metadata": {},
   "outputs": [
    {
     "name": "stdout",
     "output_type": "stream",
     "text": [
      "Done!\n"
     ]
    },
    {
     "data": {
      "text/plain": [
       "<Figure size 432x288 with 0 Axes>"
      ]
     },
     "metadata": {},
     "output_type": "display_data"
    }
   ],
   "source": [
    "doccreator(sn, su, krit_tbl, filename = 'Data/final_doc.docx')"
   ]
  },
  {
   "cell_type": "code",
   "execution_count": null,
   "metadata": {
    "collapsed": true
   },
   "outputs": [],
   "source": []
  }
 ],
 "metadata": {
  "kernelspec": {
   "display_name": "Python 3",
   "language": "python",
   "name": "python3"
  },
  "language_info": {
   "codemirror_mode": {
    "name": "ipython",
    "version": 3
   },
   "file_extension": ".py",
   "mimetype": "text/x-python",
   "name": "python",
   "nbconvert_exporter": "python",
   "pygments_lexer": "ipython3",
   "version": "3.7.3"
  }
 },
 "nbformat": 4,
 "nbformat_minor": 2
}
