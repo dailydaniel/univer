{
 "cells": [
  {
   "cell_type": "code",
   "execution_count": 1,
   "metadata": {
    "collapsed": true
   },
   "outputs": [],
   "source": [
    "from scipy import stats as st\n",
    "import numpy as np\n",
    "from itertools import islice\n",
    "from math import log2\n",
    "from collections import Counter\n",
    "import matplotlib.pyplot as plt\n",
    "from functools import reduce\n",
    "from copy import deepcopy\n",
    "from random import choice\n",
    "from collections import namedtuple"
   ]
  },
  {
   "cell_type": "code",
   "execution_count": null,
   "metadata": {
    "collapsed": true
   },
   "outputs": [],
   "source": [
    "variant = 9\n",
    "N = 200\n",
    "# a = (-1) ** variant * 0.1 * variant\n",
    "# sgm = (0.01 * variant + 1) ** 2\n",
    "lmbd = 2 + (-1) ** variant * 0.01 * variant"
   ]
  },
  {
   "cell_type": "code",
   "execution_count": null,
   "metadata": {
    "collapsed": true
   },
   "outputs": [],
   "source": [
    "# normp = st.norm(a, sgm)\n",
    "exp = st.expon(lmbd**(-1))"
   ]
  },
  {
   "cell_type": "code",
   "execution_count": null,
   "metadata": {},
   "outputs": [],
   "source": [
    "st.expon.median(1/lmbd)"
   ]
  },
  {
   "cell_type": "code",
   "execution_count": null,
   "metadata": {
    "collapsed": true
   },
   "outputs": [],
   "source": [
    "# r = list(normp.rvs(size=N))\n",
    "r = list(exp.rvs(size=N))\n",
    "sr = sorted(r)"
   ]
  },
  {
   "cell_type": "code",
   "execution_count": null,
   "metadata": {
    "collapsed": true
   },
   "outputs": [],
   "source": [
    "m = int(1 + log2(N))\n",
    "f, l = sr[0], sr[-1]\n",
    "d = abs(l - f)\n",
    "h = d / m\n",
    "interv = [f + h * i for i in range(m)]\n",
    "interv.append(l)\n",
    "interv = list(zip(interv, islice(interv, 1, None)))"
   ]
  },
  {
   "cell_type": "code",
   "execution_count": null,
   "metadata": {},
   "outputs": [],
   "source": [
    "interv"
   ]
  },
  {
   "cell_type": "code",
   "execution_count": null,
   "metadata": {
    "collapsed": true
   },
   "outputs": [],
   "source": [
    "first_counter = Counter()\n",
    "for val in sr:\n",
    "    first_counter[interv[findInterv(val, interv)]] += 1"
   ]
  },
  {
   "cell_type": "code",
   "execution_count": null,
   "metadata": {},
   "outputs": [],
   "source": [
    "first_counter"
   ]
  },
  {
   "cell_type": "code",
   "execution_count": null,
   "metadata": {
    "collapsed": true
   },
   "outputs": [],
   "source": [
    "sec_counter = {(key[1] + key[0]) / 2: (val, val / N) for key, val in first_counter.items()}"
   ]
  },
  {
   "cell_type": "code",
   "execution_count": null,
   "metadata": {},
   "outputs": [],
   "source": [
    "sec_counter"
   ]
  },
  {
   "cell_type": "code",
   "execution_count": null,
   "metadata": {},
   "outputs": [],
   "source": [
    "w = [val[1] for key, val in sorted(sec_counter.items(), key=lambda x: x)]\n",
    "sums = [round(reduce(lambda a, b: a + b, w[:i+1]), 5) for i in range(len(w))]\n",
    "dsums = {el: i for i, el in enumerate(sums)}\n",
    "try:\n",
    "    prk = [(dsums[l], dsums[r]) for l, r in list(zip(sums, islice(sums, 1, None))) if l <= 0.5 < r][0]\n",
    "except:\n",
    "    prk = (0, 1)\n",
    "a = [key for key, val in sorted(first_counter.items(), key=lambda x: (x[0]))]\n",
    "med = a[prk[0]][1] if sums[prk[0]] == 0.5 else a[prk[0]][0] + (h / w[prk[0]]) * (0.5 - sums[prk[0]])"
   ]
  },
  {
   "cell_type": "code",
   "execution_count": null,
   "metadata": {},
   "outputs": [],
   "source": [
    "med"
   ]
  },
  {
   "cell_type": "code",
   "execution_count": null,
   "metadata": {},
   "outputs": [],
   "source": [
    "exp.median()"
   ]
  },
  {
   "cell_type": "code",
   "execution_count": null,
   "metadata": {},
   "outputs": [],
   "source": [
    "list(zip(sums, islice(sums, 1, None)))"
   ]
  },
  {
   "cell_type": "code",
   "execution_count": null,
   "metadata": {},
   "outputs": [],
   "source": [
    "w, sums, dsums"
   ]
  },
  {
   "cell_type": "code",
   "execution_count": 2,
   "metadata": {
    "collapsed": true
   },
   "outputs": [],
   "source": [
    "def findInterv(val: float, arr: list) -> int:\n",
    "    test = lambda x, item: True if item[0] <= x <= item[1] else False\n",
    "    for i, item in enumerate(arr):\n",
    "        if test(val, item):\n",
    "            return i\n",
    "    return None"
   ]
  },
  {
   "cell_type": "code",
   "execution_count": 3,
   "metadata": {},
   "outputs": [],
   "source": [
    "def hist(sec_counter: dict, h: float, show: bool = False, path: str = 'Data/hist.png'):\n",
    "    plt.bar(list(sec_counter.keys()), [val[1] / h for val in sec_counter.values()], color='b', edgecolor='black')\n",
    "    if show:\n",
    "        plt.show()\n",
    "    else:\n",
    "        plt.savefig(path)"
   ]
  },
  {
   "cell_type": "code",
   "execution_count": 4,
   "metadata": {},
   "outputs": [],
   "source": [
    "def cdf(sr: list, N: int, sizex: int = 30, sizey: int = 30, show: bool = False, path: str = 'Data/cdf.png'):\n",
    "\n",
    "    items = list(zip(sr, islice(sr, 1, None)))\n",
    "    delta = 0.00001\n",
    "    Xlist = [[x * delta for x in range(int(item[0] / delta), int(item[1] / delta))] \n",
    "             for item in items]\n",
    "    Ylist = [[i / N] * len(Xlist[i]) for i in range(N-1)]\n",
    "\n",
    "    ##############################################################\n",
    "\n",
    "    fig, ax = plt.subplots(figsize=(sizex, sizey))\n",
    "\n",
    "    for X, Y in zip(Xlist, Ylist):\n",
    "        ax.plot(X, Y, label='', color='black')\n",
    "    ax.set_title('Эмпирическая функция распределения')\n",
    "    ax.legend(loc='upper left')\n",
    "    ax.set_ylabel('y')\n",
    "    ax.set_xlabel('x')\n",
    "    ax.set_xlim(xmin=sr[0], xmax=sr[-1])\n",
    "    ax.set_ylim(ymin=0, ymax=1)\n",
    "    fig.tight_layout()\n",
    "    if sizex != 5:\n",
    "        ax.set_axisbelow(True)\n",
    "        ax.minorticks_on()\n",
    "        ax.grid(which='major', linestyle='-', linewidth='0.5', color='red')\n",
    "        ax.grid(which='minor', linestyle=':', linewidth='0.5', color='black')\n",
    "    else:\n",
    "        ax.grid()\n",
    "    if show:\n",
    "        plt.show()\n",
    "    else:\n",
    "        plt.savefig(path)"
   ]
  },
  {
   "cell_type": "code",
   "execution_count": 5,
   "metadata": {
    "collapsed": true
   },
   "outputs": [],
   "source": [
    "def expStats(sec_counter, first_counter, h):\n",
    "    tmp = list(sec_counter.items())\n",
    "    tmp.insert(0, 0.0)\n",
    "    mean = reduce(lambda a, b: a + b[0] * b[1][1], tmp)\n",
    "    s2 = reduce(lambda a, b: a + (b[0] - mean) ** 2 * b[1][1], tmp) - (h ** 2) / 12\n",
    "    ds = s2 ** 0.5\n",
    "    \n",
    "    ak, most_common = first_counter.most_common(1)[0]\n",
    "    wn = sorted(first_counter.items(), key=lambda x: x[0])\n",
    "    k = {val: i for i, (key, val) in enumerate(sorted(first_counter.items(), key=lambda x: x[0]))}[most_common]\n",
    "    wk = lambda k: sorted(sec_counter.items(), key=lambda x: x[0])[k][1][1]\n",
    "    mode = ak[0] + h * ((wk(k) - wk(k-1)) / (2 * wk(k) - wk(k-1) - wk(k+1)))\n",
    "    \n",
    "    w = [val[1] for key, val in sorted(sec_counter.items(), key=lambda x: x)]\n",
    "    sums = [reduce(lambda a, b: a + b, w[:i+1]) for i in range(len(w))]\n",
    "    dsums = {el: i for i, el in enumerate(sums)}\n",
    "    try:\n",
    "        prk = [(dsums[l], dsums[r]) for l, r in list(zip(sums, islice(sums, 1, None))) if l <= 0.5 < r][0]\n",
    "        a = [key for key, val in sorted(first_counter.items(), key=lambda x: (x[0]))]\n",
    "        med = a[prk[0]][1] if sums[prk[0]] == 0.5 else a[prk[0]][0] + (h / w[prk[0]]) * (0.5 - sums[prk[0]])\n",
    "    except:\n",
    "        prk = (0, 1)\n",
    "        a = [key for key, val in sorted(first_counter.items(), key=lambda x: (x[0]))]\n",
    "        med = a[prk[0]][1] if sums[prk[0]] == 0.5 else a[prk[0]][0] + (h / w[prk[0]]) * (0.5 - sums[prk[0]])\n",
    "        med = abs(med*10)\n",
    "    \n",
    "    mk = lambda k: sum(map(lambda item: item[0] ** k * item[1][1], sec_counter.items()))\n",
    "    mck = lambda k: sum(map(lambda item: (item[0] - mean) ** k * item[1][1], sec_counter.items()))\n",
    "    skew, kurtosis = mck(3) / (ds ** 3), (mck(4) / (ds ** 4)) - 3\n",
    "    \n",
    "    return mean, s2, ds, mode, med, skew, kurtosis"
   ]
  },
  {
   "cell_type": "code",
   "execution_count": 14,
   "metadata": {
    "collapsed": true
   },
   "outputs": [],
   "source": [
    "class LabFitter3000(object):\n",
    "    '''IN: distribution name, params, scipy class\n",
    "    OUT: path to figs, experimental stats, theoretical stats'''\n",
    "    def __init__(self, obj, N, name, *params):\n",
    "        self.distribution = obj\n",
    "        self.N = N\n",
    "        self.distribution_name = name\n",
    "        self.params = params\n",
    "        self.rvs = None\n",
    "        self.h = None\n",
    "        self.first_counter = None\n",
    "        self.second_counter = None\n",
    "        self.pathes = []\n",
    "        self.experimental_stats = None\n",
    "        self.theoretical_stats = None\n",
    "        self.Stats = namedtuple('Stats', 'mean variance std mode med skew kurtosis')\n",
    "        \n",
    "    def create_rvs(self):\n",
    "        self.rvs = list(self.distribution.rvs(size=self.N))\n",
    "        \n",
    "    def create_first_counter(self):\n",
    "        m = int(1 + log2(self.N))\n",
    "        sr = sorted(self.rvs)\n",
    "        f, l = sr[0], sr[-1]\n",
    "        d = abs(l - f)\n",
    "        self.h = d / m\n",
    "        interv = [f + self.h * i for i in range(m)]\n",
    "        interv.append(l)\n",
    "        interv = list(zip(interv, islice(interv, 1, None)))\n",
    "        \n",
    "        self.first_counter = Counter()\n",
    "        for val in sr:\n",
    "            self.first_counter[interv[findInterv(val, interv)]] += 1\n",
    "        \n",
    "    def create_second_counter(self):\n",
    "        self.sec_counter = {(key[1] + key[0]) / 2: (val, val / self.N) \n",
    "                            for key, val in self.first_counter.items()}\n",
    "        \n",
    "    def draw_hist(self, hist):\n",
    "        path = 'Data/' + self.distribution_name + '_hist.png'\n",
    "        hist(self.sec_counter, self.h, path=path)\n",
    "        self.pathes.append(path) \n",
    "        \n",
    "    def draw_cdf(self, cdf):\n",
    "        path = 'Data/' + self.distribution_name + '_cdf.png'\n",
    "        cdf(sorted(self.rvs), self.N, path=path)\n",
    "        self.pathes.append(path) \n",
    "        \n",
    "    def create_theoretical_stats(self, mode_generator):        \n",
    "        mean, variance, skew, kurtosis = self.distribution.stats(moments='mvsk')\n",
    "        med = self.distribution.median()\n",
    "        std = self.distribution.std()\n",
    "        mode = mode_generator(*self.params)\n",
    "        \n",
    "        self.theoretical_stats = self.Stats(mean=float(mean), \n",
    "                                            variance=float(variance), \n",
    "                                            std=std, \n",
    "                                            mode=mode, \n",
    "                                            med=med, \n",
    "                                            skew=float(skew), \n",
    "                                            kurtosis=float(kurtosis))\n",
    "        \n",
    "    def create_experimental_stats(self, exp_stats_generator):\n",
    "        mean, variance, std, mode, med, skew, kurtosis = exp_stats_generator(self.sec_counter, \n",
    "                                                                             self.first_counter, \n",
    "                                                                             self.h)\n",
    "        self.experimental_stats = self.Stats(mean=mean, \n",
    "                                            variance=variance, \n",
    "                                            std=std, \n",
    "                                            mode=mode, \n",
    "                                            med=med, \n",
    "                                            skew=skew, \n",
    "                                            kurtosis=kurtosis)"
   ]
  },
  {
   "cell_type": "code",
   "execution_count": 9,
   "metadata": {
    "collapsed": true
   },
   "outputs": [],
   "source": [
    "def fitter(obj, mode_generator):\n",
    "    obj.create_rvs()\n",
    "    obj.create_first_counter()\n",
    "    obj.create_second_counter()\n",
    "    obj.draw_hist(hist)\n",
    "#     obj.draw_cdf(cdf) \n",
    "    obj.create_theoretical_stats(mode_generator)\n",
    "    obj.create_experimental_stats(expStats)"
   ]
  },
  {
   "cell_type": "code",
   "execution_count": 15,
   "metadata": {},
   "outputs": [
    {
     "name": "stderr",
     "output_type": "stream",
     "text": [
      "/Library/Frameworks/Python.framework/Versions/3.5/lib/python3.5/site-packages/matplotlib/axes/_axes.py:545: UserWarning: No labelled objects found. Use label='...' kwarg on individual plots.\n",
      "  warnings.warn(\"No labelled objects found. \"\n"
     ]
    }
   ],
   "source": [
    "variant = 9\n",
    "N = 200\n",
    "\n",
    "mode = {'norm': lambda a, sgm: a,\n",
    "        'expon': lambda lmbd: 0,\n",
    "        'uniform': lambda a, b: sum([a, b])/2}\n",
    "\n",
    "Obj = namedtuple('Obj', 'name params distribution')\n",
    "\n",
    "mu = (-1) ** variant * 0.1 * variant\n",
    "sgm = (0.01 * variant + 1) ** 2\n",
    "\n",
    "lmbd = 2 + (-1) ** variant * 0.01 * variant\n",
    "\n",
    "a = (-1) ** variant * 0.05 * variant\n",
    "b = a + 0.05 * variant + 1\n",
    "\n",
    "Data = [Obj(name='norm',\n",
    "            params=[mu, sgm],\n",
    "            distribution=st.norm(mu, sgm)),\n",
    "        Obj(name='expon',\n",
    "            params=[1/lmbd],\n",
    "            distribution=st.expon(1/lmbd)),\n",
    "        Obj(name='uniform',\n",
    "            params=[a, b],\n",
    "            distribution=st.uniform(a, b))]\n",
    "\n",
    "result = []\n",
    "for obj in Data:\n",
    "    result.append(LabFitter3000(obj.distribution, N, obj.name, *obj.params))\n",
    "    \n",
    "result = [fitter(lf, mode[Data[i].name]) for i, lf in enumerate(result)]    "
   ]
  },
  {
   "cell_type": "code",
   "execution_count": null,
   "metadata": {},
   "outputs": [],
   "source": [
    "normd = LabFitter3000(st.norm(a, sgm), N, 'norm', a, sgm)\n",
    "fitter(normd, mode['norm'])"
   ]
  },
  {
   "cell_type": "code",
   "execution_count": null,
   "metadata": {},
   "outputs": [],
   "source": [
    "uniformd = LabFitter3000(st.uniform(a, b), N, 'uniform', a, b)\n",
    "fitter(uniformd, mode['uniform'])"
   ]
  },
  {
   "cell_type": "code",
   "execution_count": null,
   "metadata": {},
   "outputs": [],
   "source": [
    "expond = LabFitter3000(st.expon(loc=0, scale=1/lmbd), N, 'expon', 1/lmbd)\n",
    "fitter(expond, mode['expon'])"
   ]
  },
  {
   "cell_type": "code",
   "execution_count": null,
   "metadata": {},
   "outputs": [],
   "source": [
    "uniformd.experimental_stats"
   ]
  },
  {
   "cell_type": "code",
   "execution_count": null,
   "metadata": {},
   "outputs": [],
   "source": [
    "uniformd.theoretical_stats"
   ]
  },
  {
   "cell_type": "code",
   "execution_count": null,
   "metadata": {},
   "outputs": [],
   "source": [
    "lmbd"
   ]
  },
  {
   "cell_type": "code",
   "execution_count": null,
   "metadata": {
    "collapsed": true
   },
   "outputs": [],
   "source": [
    "from math import log"
   ]
  },
  {
   "cell_type": "code",
   "execution_count": null,
   "metadata": {},
   "outputs": [],
   "source": [
    "log(2) / (lmbd)"
   ]
  },
  {
   "cell_type": "code",
   "execution_count": null,
   "metadata": {},
   "outputs": [],
   "source": [
    "a, b"
   ]
  },
  {
   "cell_type": "code",
   "execution_count": null,
   "metadata": {
    "collapsed": true
   },
   "outputs": [],
   "source": []
  }
 ],
 "metadata": {
  "kernelspec": {
   "display_name": "Python 3",
   "language": "python",
   "name": "python3"
  },
  "language_info": {
   "codemirror_mode": {
    "name": "ipython",
    "version": 3
   },
   "file_extension": ".py",
   "mimetype": "text/x-python",
   "name": "python",
   "nbconvert_exporter": "python",
   "pygments_lexer": "ipython3",
   "version": "3.5.1"
  }
 },
 "nbformat": 4,
 "nbformat_minor": 2
}
