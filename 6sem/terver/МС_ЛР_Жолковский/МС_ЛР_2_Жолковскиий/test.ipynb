{
 "cells": [
  {
   "cell_type": "code",
   "execution_count": 1,
   "metadata": {
    "collapsed": true
   },
   "outputs": [],
   "source": [
    "from scipy import stats as st\n",
    "import numpy as np\n",
    "from itertools import islice\n",
    "from math import log2\n",
    "from collections import Counter\n",
    "import matplotlib.pyplot as plt\n",
    "from functools import reduce\n",
    "from copy import deepcopy\n",
    "from random import choice\n",
    "from collections import namedtuple"
   ]
  },
  {
   "cell_type": "code",
   "execution_count": null,
   "metadata": {
    "collapsed": true
   },
   "outputs": [],
   "source": [
    "variant = 9\n",
    "N = 200\n",
    "# a = (-1) ** variant * 0.1 * variant\n",
    "# sgm = (0.01 * variant + 1) ** 2\n",
    "lmbd = 2 + (-1) ** variant * 0.01 * variant"
   ]
  },
  {
   "cell_type": "code",
   "execution_count": null,
   "metadata": {
    "collapsed": true
   },
   "outputs": [],
   "source": [
    "# normp = st.norm(a, sgm)\n",
    "exp = st.expon(lmbd**(-1))"
   ]
  },
  {
   "cell_type": "code",
   "execution_count": null,
   "metadata": {
    "collapsed": true
   },
   "outputs": [],
   "source": [
    "st.expon.median(1/lmbd)"
   ]
  },
  {
   "cell_type": "code",
   "execution_count": null,
   "metadata": {
    "collapsed": true
   },
   "outputs": [],
   "source": [
    "# r = list(normp.rvs(size=N))\n",
    "r = list(exp.rvs(size=N))\n",
    "sr = sorted(r)"
   ]
  },
  {
   "cell_type": "code",
   "execution_count": null,
   "metadata": {
    "collapsed": true
   },
   "outputs": [],
   "source": [
    "m = int(1 + log2(N))\n",
    "f, l = sr[0], sr[-1]\n",
    "d = abs(l - f)\n",
    "h = d / m\n",
    "interv = [f + h * i for i in range(m)]\n",
    "interv.append(l)\n",
    "interv = list(zip(interv, islice(interv, 1, None)))"
   ]
  },
  {
   "cell_type": "code",
   "execution_count": null,
   "metadata": {
    "collapsed": true
   },
   "outputs": [],
   "source": [
    "interv"
   ]
  },
  {
   "cell_type": "code",
   "execution_count": null,
   "metadata": {
    "collapsed": true
   },
   "outputs": [],
   "source": [
    "first_counter = Counter()\n",
    "for val in sr:\n",
    "    first_counter[interv[findInterv(val, interv)]] += 1"
   ]
  },
  {
   "cell_type": "code",
   "execution_count": null,
   "metadata": {
    "collapsed": true
   },
   "outputs": [],
   "source": [
    "first_counter"
   ]
  },
  {
   "cell_type": "code",
   "execution_count": null,
   "metadata": {
    "collapsed": true
   },
   "outputs": [],
   "source": [
    "sec_counter = {(key[1] + key[0]) / 2: (val, val / N) for key, val in first_counter.items()}"
   ]
  },
  {
   "cell_type": "code",
   "execution_count": null,
   "metadata": {
    "collapsed": true
   },
   "outputs": [],
   "source": [
    "sec_counter"
   ]
  },
  {
   "cell_type": "code",
   "execution_count": null,
   "metadata": {
    "collapsed": true
   },
   "outputs": [],
   "source": [
    "w = [val[1] for key, val in sorted(sec_counter.items(), key=lambda x: x)]\n",
    "sums = [round(reduce(lambda a, b: a + b, w[:i+1]), 5) for i in range(len(w))]\n",
    "dsums = {el: i for i, el in enumerate(sums)}\n",
    "try:\n",
    "    prk = [(dsums[l], dsums[r]) for l, r in list(zip(sums, islice(sums, 1, None))) if l <= 0.5 < r][0]\n",
    "except:\n",
    "    prk = (0, 1)\n",
    "a = [key for key, val in sorted(first_counter.items(), key=lambda x: (x[0]))]\n",
    "med = a[prk[0]][1] if sums[prk[0]] == 0.5 else a[prk[0]][0] + (h / w[prk[0]]) * (0.5 - sums[prk[0]])"
   ]
  },
  {
   "cell_type": "code",
   "execution_count": null,
   "metadata": {
    "collapsed": true
   },
   "outputs": [],
   "source": [
    "med"
   ]
  },
  {
   "cell_type": "code",
   "execution_count": null,
   "metadata": {
    "collapsed": true
   },
   "outputs": [],
   "source": [
    "exp.median()"
   ]
  },
  {
   "cell_type": "code",
   "execution_count": null,
   "metadata": {
    "collapsed": true
   },
   "outputs": [],
   "source": [
    "list(zip(sums, islice(sums, 1, None)))"
   ]
  },
  {
   "cell_type": "code",
   "execution_count": null,
   "metadata": {
    "collapsed": true
   },
   "outputs": [],
   "source": [
    "w, sums, dsums"
   ]
  },
  {
   "cell_type": "code",
   "execution_count": null,
   "metadata": {
    "collapsed": true
   },
   "outputs": [],
   "source": [
    "hist(sec_counter, h, True)"
   ]
  },
  {
   "cell_type": "code",
   "execution_count": 2,
   "metadata": {
    "collapsed": true
   },
   "outputs": [],
   "source": [
    "def findInterv(val: float, arr: list) -> int:\n",
    "    test = lambda x, item: True if item[0] <= x <= item[1] else False\n",
    "    for i, item in enumerate(arr):\n",
    "        if test(val, item):\n",
    "            return i\n",
    "    return None"
   ]
  },
  {
   "cell_type": "code",
   "execution_count": 3,
   "metadata": {
    "collapsed": true
   },
   "outputs": [],
   "source": [
    "def hist(sec_counter: dict, h: float, show: bool = False, path: str = 'Data/hist.png'):\n",
    "    plt.bar(list(sec_counter.keys()), [val[1] / h for val in sec_counter.values()], color='b', edgecolor='black')\n",
    "    if show:\n",
    "        plt.show()\n",
    "    else:\n",
    "        plt.savefig(path)"
   ]
  },
  {
   "cell_type": "code",
   "execution_count": 4,
   "metadata": {
    "collapsed": true
   },
   "outputs": [],
   "source": [
    "def cdf(sr: list, N: int, sizex: int = 30, sizey: int = 30, show: bool = False, path: str = 'Data/cdf.png'):\n",
    "\n",
    "    items = list(zip(sr, islice(sr, 1, None)))\n",
    "    delta = 0.00001\n",
    "    Xlist = [[x * delta for x in range(int(item[0] / delta), int(item[1] / delta))] \n",
    "             for item in items]\n",
    "    Ylist = [[i / N] * len(Xlist[i]) for i in range(N-1)]\n",
    "\n",
    "    ##############################################################\n",
    "\n",
    "    fig, ax = plt.subplots(figsize=(sizex, sizey))\n",
    "\n",
    "    for X, Y in zip(Xlist, Ylist):\n",
    "        ax.plot(X, Y, label='', color='black')\n",
    "    ax.set_title('Эмпирическая функция распределения')\n",
    "    ax.legend(loc='upper left')\n",
    "    ax.set_ylabel('y')\n",
    "    ax.set_xlabel('x')\n",
    "    ax.set_xlim(xmin=sr[0], xmax=sr[-1])\n",
    "    ax.set_ylim(ymin=0, ymax=1)\n",
    "    fig.tight_layout()\n",
    "    if sizex != 5:\n",
    "        ax.set_axisbelow(True)\n",
    "        ax.minorticks_on()\n",
    "        ax.grid(which='major', linestyle='-', linewidth='0.5', color='red')\n",
    "        ax.grid(which='minor', linestyle=':', linewidth='0.5', color='black')\n",
    "    else:\n",
    "        ax.grid()\n",
    "    if show:\n",
    "        plt.show()\n",
    "    else:\n",
    "        plt.savefig(path)"
   ]
  },
  {
   "cell_type": "code",
   "execution_count": 5,
   "metadata": {
    "collapsed": true
   },
   "outputs": [],
   "source": [
    "def expStats(sec_counter, first_counter, h):\n",
    "    tmp = list(sec_counter.items())\n",
    "    tmp.insert(0, 0.0)\n",
    "    mean = reduce(lambda a, b: a + b[0] * b[1][1], tmp)\n",
    "    s2 = reduce(lambda a, b: a + (b[0] - mean) ** 2 * b[1][1], tmp) - (h ** 2) / 12\n",
    "    ds = s2 ** 0.5\n",
    "    \n",
    "    ak, most_common = first_counter.most_common(1)[0]\n",
    "    wn = sorted(first_counter.items(), key=lambda x: x[0])\n",
    "    k = {val: i for i, (key, val) in enumerate(sorted(first_counter.items(), key=lambda x: x[0]))}[most_common]\n",
    "    wk = lambda k: sorted(sec_counter.items(), key=lambda x: x[0])[k][1][1]\n",
    "    mode = ak[0] + h * ((wk(k) - wk(k-1)) / (2 * wk(k) - wk(k-1) - wk(k+1)))\n",
    "    \n",
    "    w = [val[1] for key, val in sorted(sec_counter.items(), key=lambda x: x)]\n",
    "    sums = [reduce(lambda a, b: a + b, w[:i+1]) for i in range(len(w))]\n",
    "    dsums = {el: i for i, el in enumerate(sums)}\n",
    "    try:\n",
    "        prk = [(dsums[l], dsums[r]) for l, r in list(zip(sums, islice(sums, 1, None))) if l <= 0.5 < r][0]\n",
    "        a = [key for key, val in sorted(first_counter.items(), key=lambda x: (x[0]))]\n",
    "        med = a[prk[0]][1] if sums[prk[0]] == 0.5 else a[prk[0]][0] + (h / w[prk[0]]) * (0.5 - sums[prk[0]])\n",
    "    except:\n",
    "        prk = (0, 1)\n",
    "        a = [key for key, val in sorted(first_counter.items(), key=lambda x: (x[0]))]\n",
    "        med = a[prk[0]][1] if sums[prk[0]] == 0.5 else a[prk[0]][0] + (h / w[prk[0]]) * (0.5 - sums[prk[0]])\n",
    "        med = abs(med*10)\n",
    "    \n",
    "    mk = lambda k: sum(map(lambda item: item[0] ** k * item[1][1], sec_counter.items()))\n",
    "    mck = lambda k: sum(map(lambda item: (item[0] - mean) ** k * item[1][1], sec_counter.items()))\n",
    "    skew, kurtosis = mck(3) / (ds ** 3), (mck(4) / (ds ** 4)) - 3\n",
    "    \n",
    "    return mean, s2, ds, mode, med, skew, kurtosis"
   ]
  },
  {
   "cell_type": "code",
   "execution_count": 6,
   "metadata": {
    "collapsed": true
   },
   "outputs": [],
   "source": [
    "class LabFitter3000(object):\n",
    "    '''IN: distribution name, params, scipy class\n",
    "    OUT: path to figs, experimental stats, theoretical stats'''\n",
    "    def __init__(self, obj, N, name, *params):\n",
    "        self.distribution = obj\n",
    "        self.N = N\n",
    "        self.distribution_name = name\n",
    "        self.params = params\n",
    "        self.rvs = None\n",
    "        self.h = None\n",
    "        self.first_counter = None\n",
    "        self.second_counter = None\n",
    "        self.pathes = []\n",
    "        self.experimental_stats = None\n",
    "        self.theoretical_stats = None\n",
    "        self.Stats = namedtuple('Stats', 'mean variance std mode med skew kurtosis')\n",
    "\n",
    "    def create_rvs(self):\n",
    "        self.rvs = list(self.distribution.rvs(size=self.N))\n",
    "\n",
    "    def create_first_counter(self):\n",
    "        m = int(1 + log2(self.N))\n",
    "        sr = sorted(self.rvs)\n",
    "        f, l = sr[0], sr[-1]\n",
    "        d = abs(l - f)\n",
    "        self.h = d / m\n",
    "        interv = [f + self.h * i for i in range(m)]\n",
    "        interv.append(l)\n",
    "        interv = list(zip(interv, islice(interv, 1, None)))\n",
    "\n",
    "        self.first_counter = Counter()\n",
    "        for val in sr:\n",
    "            self.first_counter[interv[findInterv(val, interv)]] += 1\n",
    "\n",
    "    def create_second_counter(self):\n",
    "        self.sec_counter = {(key[1] + key[0]) / 2: (val, val / self.N)\n",
    "                            for key, val in self.first_counter.items()}\n",
    "\n",
    "    def hist(self, show: bool = False):#, sec_counter: dict, h: float, show: bool = False, path: str = 'Data/hist.png'):\n",
    "        tmp = {key: val[1] / self.h for key, val in self.sec_counter.items()}\n",
    "#         plt.bar(list(self.sec_counter.keys()), [val[1] / self.h for val in self.sec_counter.values()], color='b', edgecolor='black')\n",
    "        plt.bar(list(tmp.keys()),\n",
    "                list(tmp.values()),\n",
    "                color='b',\n",
    "                edgecolor='black',\n",
    "                width=self.h)\n",
    "        if show:\n",
    "            plt.show()\n",
    "        else:\n",
    "            path = 'Data/' + self.distribution_name + '_hist.png'\n",
    "            plt.savefig(path)\n",
    "            plt.clf()\n",
    "\n",
    "    def cdf(self, show: bool = False, sizex: int = 30, sizey: int = 30):#, sr: list, N: int, sizex: int = 30, sizey: int = 30, show: bool = False, path: str = 'Data/cdf.png'):\n",
    "\n",
    "        sr = sorted(self.rvs)\n",
    "        items = list(zip(sr, islice(sr, 1, None)))\n",
    "        delta = 0.00001\n",
    "        Xlist = [[x * delta for x in range(int(item[0] / delta), int(item[1] / delta))]\n",
    "                 for item in items]\n",
    "        Ylist = [[i / self.N] * len(Xlist[i]) for i in range(self.N-1)]\n",
    "\n",
    "        ##############################################################\n",
    "\n",
    "        fig, ax = plt.subplots(figsize=(sizex, sizey))\n",
    "\n",
    "        for X, Y in zip(Xlist, Ylist):\n",
    "            ax.plot(X, Y, label='', color='black')\n",
    "        ax.set_title('Эмпирическая функция распределения')\n",
    "        ax.legend(loc='upper left')\n",
    "        ax.set_ylabel('y')\n",
    "        ax.set_xlabel('x')\n",
    "        ax.set_xlim(xmin=sr[0], xmax=sr[-1])\n",
    "        ax.set_ylim(ymin=0, ymax=1)\n",
    "        fig.tight_layout()\n",
    "        if sizex != 5:\n",
    "            ax.set_axisbelow(True)\n",
    "            ax.minorticks_on()\n",
    "            ax.grid(which='major', linestyle='-', linewidth='0.5', color='red')\n",
    "            ax.grid(which='minor', linestyle=':', linewidth='0.5', color='black')\n",
    "        else:\n",
    "            ax.grid()\n",
    "        if show:\n",
    "            plt.show()\n",
    "        else:\n",
    "            path = 'Data/' + self.distribution_name + '_cdf.png'\n",
    "            plt.savefig(path)\n",
    "            plt.clf()\n",
    "\n",
    "    def create_theoretical_stats(self, mode_generator):\n",
    "        mean, variance, skew, kurtosis = self.distribution.stats(moments='mvsk')\n",
    "        med = self.distribution.median()\n",
    "        std = self.distribution.std()\n",
    "        mode = mode_generator(*self.params)\n",
    "\n",
    "        self.theoretical_stats = self.Stats(mean=float(mean),\n",
    "                                            variance=float(variance),\n",
    "                                            std=std,\n",
    "                                            mode=mode,\n",
    "                                            med=med,\n",
    "                                            skew=float(skew),\n",
    "                                            kurtosis=float(kurtosis))\n",
    "\n",
    "    def create_experimental_stats(self, exp_stats_generator):\n",
    "        mean, variance, std, mode, med, skew, kurtosis = exp_stats_generator(self.sec_counter,\n",
    "                                                                             self.first_counter,\n",
    "                                                                             self.h)\n",
    "        self.experimental_stats = self.Stats(mean=mean,\n",
    "                                            variance=variance,\n",
    "                                            std=std,\n",
    "                                            mode=mode,\n",
    "                                            med=med,\n",
    "                                            skew=skew,\n",
    "                                            kurtosis=kurtosis)"
   ]
  },
  {
   "cell_type": "code",
   "execution_count": 7,
   "metadata": {
    "collapsed": true
   },
   "outputs": [],
   "source": [
    "def fitter(obj, mode_generator):\n",
    "    obj.create_rvs()\n",
    "    obj.create_first_counter()\n",
    "    obj.create_second_counter()\n",
    "#     obj.draw_hist(hist)\n",
    "#     obj.draw_cdf(cdf) \n",
    "    obj.hist()\n",
    "    obj.cdf()\n",
    "    obj.create_theoretical_stats(mode_generator)\n",
    "    obj.create_experimental_stats(expStats)\n",
    "    return obj"
   ]
  },
  {
   "cell_type": "code",
   "execution_count": 129,
   "metadata": {},
   "outputs": [
    {
     "name": "stderr",
     "output_type": "stream",
     "text": [
      "/Library/Frameworks/Python.framework/Versions/3.5/lib/python3.5/site-packages/matplotlib/axes/_axes.py:545: UserWarning: No labelled objects found. Use label='...' kwarg on individual plots.\n",
      "  warnings.warn(\"No labelled objects found. \"\n"
     ]
    }
   ],
   "source": [
    "variant = 9\n",
    "N = 200\n",
    "\n",
    "mode = {'norm': lambda a, sgm: a,\n",
    "        'expon': lambda lmbd: 0,\n",
    "        'uniform': lambda a, b: sum([a, b])/2}\n",
    "\n",
    "Obj = namedtuple('Obj', 'name params distribution')\n",
    "\n",
    "mu = (-1) ** variant * 0.1 * variant\n",
    "sgm = (0.01 * variant + 1) ** 2\n",
    "\n",
    "lmbd = 2 + (-1) ** variant * 0.01 * variant\n",
    "\n",
    "a = (-1) ** variant * 0.05 * variant\n",
    "b = a + 0.05 * variant + 1\n",
    "\n",
    "Data = [Obj(name='norm',\n",
    "            params=[mu, sgm],\n",
    "            distribution=st.norm(mu, sgm)),\n",
    "        Obj(name='expon',\n",
    "            params=[1/lmbd],\n",
    "            distribution=st.expon(1/lmbd)),\n",
    "        Obj(name='uniform',\n",
    "            params=[a, b],\n",
    "            distribution=st.uniform(a, b))]\n",
    "\n",
    "result = []\n",
    "for obj in Data:\n",
    "    result.append(LabFitter3000(obj.distribution, N, obj.name, *obj.params))\n",
    "    \n",
    "result = [fitter(lf, mode[Data[i].name]) for i, lf in enumerate(result)]   "
   ]
  },
  {
   "cell_type": "code",
   "execution_count": 10,
   "metadata": {},
   "outputs": [
    {
     "name": "stdout",
     "output_type": "stream",
     "text": [
      "Stats(mean=-0.9359117594525188, variance=1.3682179217489618, std=1.1697084772493367, mode=-0.6095155336528975, med=-1.5420422810575807, skew=-0.41301283788640636, kurtosis=0.14597702411247493) Stats(mean=-0.9, variance=1.4115816100000003, std=1.1881000000000002, mode=-0.9, med=-0.9, skew=0.0, kurtosis=0.0)\n",
      "Stats(mean=1.6319500370938527, variance=0.9539084905919628, std=0.9766823898238172, mode=1.061016324098197, med=4.875453917121658, skew=2.2313318208644417, kurtosis=6.494917072702231) Stats(mean=1.5235602094240837, variance=1.0, std=1.0, mode=0, med=1.216707389984029, skew=2.0, kurtosis=6.0)\n",
      "Stats(mean=0.0018940583698077527, variance=0.07799162694936031, std=0.27926981030781023, mode=-0.15504578261492588, med=-0.18014393546327012, skew=0.2509985384584842, kurtosis=-1.1305139794604604) Stats(mean=0.04999999999999999, variance=0.08333333333333333, std=0.28867513459481287, mode=0.275, med=0.04999999999999999, skew=0.0, kurtosis=-1.2)\n"
     ]
    }
   ],
   "source": [
    "for el in result:\n",
    "    print(el.experimental_stats, el.theoretical_stats)"
   ]
  },
  {
   "cell_type": "code",
   "execution_count": null,
   "metadata": {
    "collapsed": true
   },
   "outputs": [],
   "source": [
    "normd = LabFitter3000(st.norm(a, sgm), N, 'norm', a, sgm)\n",
    "fitter(normd, mode['norm'])"
   ]
  },
  {
   "cell_type": "code",
   "execution_count": null,
   "metadata": {
    "collapsed": true
   },
   "outputs": [],
   "source": [
    "uniformd = LabFitter3000(st.uniform(a, b), N, 'uniform', a, b)\n",
    "fitter(uniformd, mode['uniform'])"
   ]
  },
  {
   "cell_type": "code",
   "execution_count": null,
   "metadata": {
    "collapsed": true
   },
   "outputs": [],
   "source": [
    "expond = LabFitter3000(st.expon(loc=0, scale=1/lmbd), N, 'expon', 1/lmbd)\n",
    "fitter(expond, mode['expon'])"
   ]
  },
  {
   "cell_type": "code",
   "execution_count": null,
   "metadata": {
    "collapsed": true
   },
   "outputs": [],
   "source": [
    "uniformd.experimental_stats"
   ]
  },
  {
   "cell_type": "code",
   "execution_count": null,
   "metadata": {
    "collapsed": true
   },
   "outputs": [],
   "source": [
    "uniformd.theoretical_stats"
   ]
  },
  {
   "cell_type": "code",
   "execution_count": null,
   "metadata": {
    "collapsed": true
   },
   "outputs": [],
   "source": [
    "lmbd"
   ]
  },
  {
   "cell_type": "code",
   "execution_count": null,
   "metadata": {
    "collapsed": true
   },
   "outputs": [],
   "source": [
    "from math import log"
   ]
  },
  {
   "cell_type": "code",
   "execution_count": null,
   "metadata": {
    "collapsed": true
   },
   "outputs": [],
   "source": [
    "log(2) / (lmbd)"
   ]
  },
  {
   "cell_type": "code",
   "execution_count": null,
   "metadata": {
    "collapsed": true
   },
   "outputs": [],
   "source": [
    "a, b"
   ]
  },
  {
   "cell_type": "code",
   "execution_count": 11,
   "metadata": {
    "collapsed": true
   },
   "outputs": [],
   "source": [
    "a = np.asarray([ [1,2,3], [4,5,6], [7,8,9] ])\n",
    "np.savetxt(\"foo.csv\", a, delimiter=\",\")"
   ]
  },
  {
   "cell_type": "code",
   "execution_count": 12,
   "metadata": {},
   "outputs": [
    {
     "data": {
      "text/plain": [
       "array([[1, 2, 3],\n",
       "       [4, 5, 6],\n",
       "       [7, 8, 9]])"
      ]
     },
     "execution_count": 12,
     "metadata": {},
     "output_type": "execute_result"
    }
   ],
   "source": [
    "a"
   ]
  },
  {
   "cell_type": "code",
   "execution_count": 13,
   "metadata": {
    "collapsed": true
   },
   "outputs": [],
   "source": [
    "a = np.array([1, 2, 3, 4, 5, 6, 7, 8, 9])"
   ]
  },
  {
   "cell_type": "code",
   "execution_count": 18,
   "metadata": {
    "collapsed": true
   },
   "outputs": [],
   "source": [
    "a = a.reshape(3, -1)"
   ]
  },
  {
   "cell_type": "code",
   "execution_count": 34,
   "metadata": {
    "collapsed": true
   },
   "outputs": [],
   "source": [
    "np.savetxt(\"foo.csv\", a, delimiter=\";\")"
   ]
  },
  {
   "cell_type": "code",
   "execution_count": 31,
   "metadata": {
    "collapsed": true
   },
   "outputs": [],
   "source": [
    "a = np.array(result[1].rvs)"
   ]
  },
  {
   "cell_type": "code",
   "execution_count": 32,
   "metadata": {
    "collapsed": true
   },
   "outputs": [],
   "source": [
    "a = a.reshape(20, -1)"
   ]
  },
  {
   "cell_type": "code",
   "execution_count": 33,
   "metadata": {},
   "outputs": [
    {
     "data": {
      "text/plain": [
       "(20, 10)"
      ]
     },
     "execution_count": 33,
     "metadata": {},
     "output_type": "execute_result"
    }
   ],
   "source": [
    "a.shape"
   ]
  },
  {
   "cell_type": "code",
   "execution_count": 36,
   "metadata": {},
   "outputs": [
    {
     "data": {
      "text/plain": [
       "{'test': [1, 2], 'testing': [3, 4]}"
      ]
     },
     "execution_count": 36,
     "metadata": {},
     "output_type": "execute_result"
    }
   ],
   "source": [
    "my_dict = {\"test\": [1, 2], \"testing\": [3, 4]}\n",
    "\n",
    "my_dict"
   ]
  },
  {
   "cell_type": "code",
   "execution_count": 45,
   "metadata": {},
   "outputs": [
    {
     "ename": "ValueError",
     "evalue": "setting an array element with a sequence",
     "output_type": "error",
     "traceback": [
      "\u001b[0;31m---------------------------------------------------------------------------\u001b[0m",
      "\u001b[0;31mValueError\u001b[0m                                Traceback (most recent call last)",
      "\u001b[0;32m<ipython-input-45-51fa4338d736>\u001b[0m in \u001b[0;36m<module>\u001b[0;34m()\u001b[0m\n\u001b[0;32m----> 1\u001b[0;31m \u001b[0ma\u001b[0m \u001b[0;34m=\u001b[0m \u001b[0mnp\u001b[0m\u001b[0;34m.\u001b[0m\u001b[0masarray\u001b[0m\u001b[0;34m(\u001b[0m\u001b[0mlist\u001b[0m\u001b[0;34m(\u001b[0m\u001b[0mzip\u001b[0m\u001b[0;34m(\u001b[0m\u001b[0mmy_dict\u001b[0m\u001b[0;34m.\u001b[0m\u001b[0mkeys\u001b[0m\u001b[0;34m(\u001b[0m\u001b[0;34m)\u001b[0m\u001b[0;34m,\u001b[0m \u001b[0mmy_dict\u001b[0m\u001b[0;34m.\u001b[0m\u001b[0mvalues\u001b[0m\u001b[0;34m(\u001b[0m\u001b[0;34m)\u001b[0m\u001b[0;34m)\u001b[0m\u001b[0;34m)\u001b[0m\u001b[0;34m)\u001b[0m\u001b[0;34m\u001b[0m\u001b[0m\n\u001b[0m",
      "\u001b[0;32m/Library/Frameworks/Python.framework/Versions/3.5/lib/python3.5/site-packages/numpy/core/numeric.py\u001b[0m in \u001b[0;36masarray\u001b[0;34m(a, dtype, order)\u001b[0m\n\u001b[1;32m    490\u001b[0m \u001b[0;34m\u001b[0m\u001b[0m\n\u001b[1;32m    491\u001b[0m     \"\"\"\n\u001b[0;32m--> 492\u001b[0;31m     \u001b[0;32mreturn\u001b[0m \u001b[0marray\u001b[0m\u001b[0;34m(\u001b[0m\u001b[0ma\u001b[0m\u001b[0;34m,\u001b[0m \u001b[0mdtype\u001b[0m\u001b[0;34m,\u001b[0m \u001b[0mcopy\u001b[0m\u001b[0;34m=\u001b[0m\u001b[0;32mFalse\u001b[0m\u001b[0;34m,\u001b[0m \u001b[0morder\u001b[0m\u001b[0;34m=\u001b[0m\u001b[0morder\u001b[0m\u001b[0;34m)\u001b[0m\u001b[0;34m\u001b[0m\u001b[0m\n\u001b[0m\u001b[1;32m    493\u001b[0m \u001b[0;34m\u001b[0m\u001b[0m\n\u001b[1;32m    494\u001b[0m \u001b[0;34m\u001b[0m\u001b[0m\n",
      "\u001b[0;31mValueError\u001b[0m: setting an array element with a sequence"
     ]
    }
   ],
   "source": [
    "a = np.asarray(list(zip(my_dict.keys(), my_dict.values())))"
   ]
  },
  {
   "cell_type": "code",
   "execution_count": 46,
   "metadata": {},
   "outputs": [
    {
     "data": {
      "text/plain": [
       "[('test', [1, 2]), ('testing', [3, 4])]"
      ]
     },
     "execution_count": 46,
     "metadata": {},
     "output_type": "execute_result"
    }
   ],
   "source": [
    "list(zip(my_dict.keys(), my_dict.values()))"
   ]
  },
  {
   "cell_type": "code",
   "execution_count": 44,
   "metadata": {},
   "outputs": [
    {
     "data": {
      "text/plain": [
       "array(<zip object at 0x113d8e188>, dtype=object)"
      ]
     },
     "execution_count": 44,
     "metadata": {},
     "output_type": "execute_result"
    }
   ],
   "source": [
    "a"
   ]
  },
  {
   "cell_type": "code",
   "execution_count": 48,
   "metadata": {
    "collapsed": true
   },
   "outputs": [],
   "source": [
    "import pandas as pd\n",
    "df = pd.DataFrame(my_dict)"
   ]
  },
  {
   "cell_type": "code",
   "execution_count": 50,
   "metadata": {
    "collapsed": true
   },
   "outputs": [],
   "source": [
    "df.to_csv('trtrtr.csv', sep=';', encoding='utf-8')"
   ]
  },
  {
   "cell_type": "code",
   "execution_count": 63,
   "metadata": {
    "collapsed": true
   },
   "outputs": [],
   "source": [
    "rr = result[0].experimental_stats._asdict()"
   ]
  },
  {
   "cell_type": "code",
   "execution_count": 64,
   "metadata": {},
   "outputs": [
    {
     "data": {
      "text/plain": [
       "OrderedDict([('mean', -0.9359117594525188),\n",
       "             ('variance', 1.3682179217489618),\n",
       "             ('std', 1.1697084772493367),\n",
       "             ('mode', -0.6095155336528975),\n",
       "             ('med', -1.5420422810575807),\n",
       "             ('skew', -0.41301283788640636),\n",
       "             ('kurtosis', 0.14597702411247493)])"
      ]
     },
     "execution_count": 64,
     "metadata": {},
     "output_type": "execute_result"
    }
   ],
   "source": [
    "rr"
   ]
  },
  {
   "cell_type": "code",
   "execution_count": 65,
   "metadata": {
    "collapsed": true
   },
   "outputs": [],
   "source": [
    "r = dict(rr)"
   ]
  },
  {
   "cell_type": "code",
   "execution_count": 66,
   "metadata": {},
   "outputs": [
    {
     "data": {
      "text/plain": [
       "{'kurtosis': 0.14597702411247493,\n",
       " 'mean': -0.9359117594525188,\n",
       " 'med': -1.5420422810575807,\n",
       " 'mode': -0.6095155336528975,\n",
       " 'skew': -0.41301283788640636,\n",
       " 'std': 1.1697084772493367,\n",
       " 'variance': 1.3682179217489618}"
      ]
     },
     "execution_count": 66,
     "metadata": {},
     "output_type": "execute_result"
    }
   ],
   "source": [
    "r"
   ]
  },
  {
   "cell_type": "code",
   "execution_count": 88,
   "metadata": {
    "collapsed": true
   },
   "outputs": [],
   "source": [
    "rr = result[0].experimental_stats._asdict()\n",
    "df = pd.DataFrame(list(rr.values()), index=rr.keys(), columns=[['values']])"
   ]
  },
  {
   "cell_type": "code",
   "execution_count": 89,
   "metadata": {},
   "outputs": [
    {
     "data": {
      "text/html": [
       "<div>\n",
       "<style scoped>\n",
       "    .dataframe tbody tr th:only-of-type {\n",
       "        vertical-align: middle;\n",
       "    }\n",
       "\n",
       "    .dataframe tbody tr th {\n",
       "        vertical-align: top;\n",
       "    }\n",
       "\n",
       "    .dataframe thead tr th {\n",
       "        text-align: left;\n",
       "    }\n",
       "</style>\n",
       "<table border=\"1\" class=\"dataframe\">\n",
       "  <thead>\n",
       "    <tr>\n",
       "      <th></th>\n",
       "      <th>values</th>\n",
       "    </tr>\n",
       "  </thead>\n",
       "  <tbody>\n",
       "    <tr>\n",
       "      <th>mean</th>\n",
       "      <td>-0.935912</td>\n",
       "    </tr>\n",
       "    <tr>\n",
       "      <th>variance</th>\n",
       "      <td>1.368218</td>\n",
       "    </tr>\n",
       "    <tr>\n",
       "      <th>std</th>\n",
       "      <td>1.169708</td>\n",
       "    </tr>\n",
       "    <tr>\n",
       "      <th>mode</th>\n",
       "      <td>-0.609516</td>\n",
       "    </tr>\n",
       "    <tr>\n",
       "      <th>med</th>\n",
       "      <td>-1.542042</td>\n",
       "    </tr>\n",
       "    <tr>\n",
       "      <th>skew</th>\n",
       "      <td>-0.413013</td>\n",
       "    </tr>\n",
       "    <tr>\n",
       "      <th>kurtosis</th>\n",
       "      <td>0.145977</td>\n",
       "    </tr>\n",
       "  </tbody>\n",
       "</table>\n",
       "</div>"
      ],
      "text/plain": [
       "            values\n",
       "mean     -0.935912\n",
       "variance  1.368218\n",
       "std       1.169708\n",
       "mode     -0.609516\n",
       "med      -1.542042\n",
       "skew     -0.413013\n",
       "kurtosis  0.145977"
      ]
     },
     "execution_count": 89,
     "metadata": {},
     "output_type": "execute_result"
    }
   ],
   "source": [
    "df"
   ]
  },
  {
   "cell_type": "code",
   "execution_count": 79,
   "metadata": {},
   "outputs": [
    {
     "data": {
      "text/plain": [
       "[-0.9359117594525188,\n",
       " 1.3682179217489618,\n",
       " 1.1697084772493367,\n",
       " -0.6095155336528975,\n",
       " -1.5420422810575807,\n",
       " -0.41301283788640636,\n",
       " 0.14597702411247493]"
      ]
     },
     "execution_count": 79,
     "metadata": {},
     "output_type": "execute_result"
    }
   ],
   "source": [
    "list(rr.values())"
   ]
  },
  {
   "cell_type": "code",
   "execution_count": 100,
   "metadata": {
    "collapsed": true
   },
   "outputs": [],
   "source": [
    "allst = list(zip(result[0].experimental_stats._asdict().keys(), list(zip(result[0].experimental_stats, result[0].theoretical_stats))))"
   ]
  },
  {
   "cell_type": "code",
   "execution_count": 103,
   "metadata": {},
   "outputs": [
    {
     "name": "stderr",
     "output_type": "stream",
     "text": [
      "/Library/Frameworks/Python.framework/Versions/3.5/lib/python3.5/site-packages/ipykernel_launcher.py:1: RuntimeWarning: divide by zero encountered in double_scalars\n",
      "  \"\"\"Entry point for launching an IPython kernel.\n"
     ]
    },
    {
     "data": {
      "text/plain": [
       "{'kurtosis': (0.14597702411247493, 0.0, 0.14597702411247493, inf),\n",
       " 'mean': (-0.9359117594525188, -0.9, 0.03591175945251879, -0.0399019549472431),\n",
       " 'med': (-1.5420422810575807, -0.9, 0.6420422810575807, -0.7133803122862007),\n",
       " 'mode': (-0.6095155336528975, -0.9, 0.29048446634710257, -0.3227605181634473),\n",
       " 'skew': (-0.41301283788640636, 0.0, 0.41301283788640636, inf),\n",
       " 'std': (1.1697084772493367,\n",
       "  1.1881000000000002,\n",
       "  0.01839152275066347,\n",
       "  0.015479776744940213),\n",
       " 'variance': (1.3682179217489618,\n",
       "  1.4115816100000003,\n",
       "  0.043363688251038424,\n",
       "  0.030719930001807276)}"
      ]
     },
     "execution_count": 103,
     "metadata": {},
     "output_type": "execute_result"
    }
   ],
   "source": [
    "result = {key: (e, t, abs(e-t), abs(e-t)/t) for key, (e, t) in allst}\n",
    "result"
   ]
  },
  {
   "cell_type": "code",
   "execution_count": 106,
   "metadata": {},
   "outputs": [
    {
     "data": {
      "text/html": [
       "<div>\n",
       "<style scoped>\n",
       "    .dataframe tbody tr th:only-of-type {\n",
       "        vertical-align: middle;\n",
       "    }\n",
       "\n",
       "    .dataframe tbody tr th {\n",
       "        vertical-align: top;\n",
       "    }\n",
       "\n",
       "    .dataframe thead tr th {\n",
       "        text-align: left;\n",
       "    }\n",
       "</style>\n",
       "<table border=\"1\" class=\"dataframe\">\n",
       "  <thead>\n",
       "    <tr>\n",
       "      <th></th>\n",
       "      <th>experimental</th>\n",
       "    </tr>\n",
       "    <tr>\n",
       "      <th></th>\n",
       "      <th>theoretical</th>\n",
       "    </tr>\n",
       "    <tr>\n",
       "      <th></th>\n",
       "      <th>absolute</th>\n",
       "    </tr>\n",
       "    <tr>\n",
       "      <th></th>\n",
       "      <th>relative</th>\n",
       "    </tr>\n",
       "  </thead>\n",
       "  <tbody>\n",
       "    <tr>\n",
       "      <th>kurtosis</th>\n",
       "      <td>0.145977</td>\n",
       "    </tr>\n",
       "    <tr>\n",
       "      <th>skew</th>\n",
       "      <td>-0.413013</td>\n",
       "    </tr>\n",
       "    <tr>\n",
       "      <th>mean</th>\n",
       "      <td>-0.935912</td>\n",
       "    </tr>\n",
       "    <tr>\n",
       "      <th>mode</th>\n",
       "      <td>-0.609516</td>\n",
       "    </tr>\n",
       "    <tr>\n",
       "      <th>variance</th>\n",
       "      <td>1.368218</td>\n",
       "    </tr>\n",
       "    <tr>\n",
       "      <th>med</th>\n",
       "      <td>-1.542042</td>\n",
       "    </tr>\n",
       "    <tr>\n",
       "      <th>std</th>\n",
       "      <td>1.169708</td>\n",
       "    </tr>\n",
       "  </tbody>\n",
       "</table>\n",
       "</div>"
      ],
      "text/plain": [
       "         experimental\n",
       "          theoretical\n",
       "             absolute\n",
       "             relative\n",
       "kurtosis     0.145977\n",
       "skew        -0.413013\n",
       "mean        -0.935912\n",
       "mode        -0.609516\n",
       "variance     1.368218\n",
       "med         -1.542042\n",
       "std          1.169708"
      ]
     },
     "execution_count": 106,
     "metadata": {},
     "output_type": "execute_result"
    }
   ],
   "source": [
    "pd.DataFrame(list(result.values()), index=result.keys(), columns=[['experimental'], ['theoretical'], ['absolute'], ['relative']])"
   ]
  },
  {
   "cell_type": "code",
   "execution_count": 109,
   "metadata": {},
   "outputs": [
    {
     "data": {
      "text/html": [
       "<div>\n",
       "<style scoped>\n",
       "    .dataframe tbody tr th:only-of-type {\n",
       "        vertical-align: middle;\n",
       "    }\n",
       "\n",
       "    .dataframe tbody tr th {\n",
       "        vertical-align: top;\n",
       "    }\n",
       "\n",
       "    .dataframe thead th {\n",
       "        text-align: right;\n",
       "    }\n",
       "</style>\n",
       "<table border=\"1\" class=\"dataframe\">\n",
       "  <thead>\n",
       "    <tr style=\"text-align: right;\">\n",
       "      <th></th>\n",
       "      <th>kurtosis</th>\n",
       "      <th>mean</th>\n",
       "      <th>med</th>\n",
       "      <th>mode</th>\n",
       "      <th>skew</th>\n",
       "      <th>std</th>\n",
       "      <th>variance</th>\n",
       "    </tr>\n",
       "  </thead>\n",
       "  <tbody>\n",
       "    <tr>\n",
       "      <th>0</th>\n",
       "      <td>0.145977</td>\n",
       "      <td>-0.935912</td>\n",
       "      <td>-1.542042</td>\n",
       "      <td>-0.609516</td>\n",
       "      <td>-0.413013</td>\n",
       "      <td>1.169708</td>\n",
       "      <td>1.368218</td>\n",
       "    </tr>\n",
       "    <tr>\n",
       "      <th>1</th>\n",
       "      <td>0.000000</td>\n",
       "      <td>-0.900000</td>\n",
       "      <td>-0.900000</td>\n",
       "      <td>-0.900000</td>\n",
       "      <td>0.000000</td>\n",
       "      <td>1.188100</td>\n",
       "      <td>1.411582</td>\n",
       "    </tr>\n",
       "    <tr>\n",
       "      <th>2</th>\n",
       "      <td>0.145977</td>\n",
       "      <td>0.035912</td>\n",
       "      <td>0.642042</td>\n",
       "      <td>0.290484</td>\n",
       "      <td>0.413013</td>\n",
       "      <td>0.018392</td>\n",
       "      <td>0.043364</td>\n",
       "    </tr>\n",
       "    <tr>\n",
       "      <th>3</th>\n",
       "      <td>inf</td>\n",
       "      <td>-0.039902</td>\n",
       "      <td>-0.713380</td>\n",
       "      <td>-0.322761</td>\n",
       "      <td>inf</td>\n",
       "      <td>0.015480</td>\n",
       "      <td>0.030720</td>\n",
       "    </tr>\n",
       "  </tbody>\n",
       "</table>\n",
       "</div>"
      ],
      "text/plain": [
       "   kurtosis      mean       med      mode      skew       std  variance\n",
       "0  0.145977 -0.935912 -1.542042 -0.609516 -0.413013  1.169708  1.368218\n",
       "1  0.000000 -0.900000 -0.900000 -0.900000  0.000000  1.188100  1.411582\n",
       "2  0.145977  0.035912  0.642042  0.290484  0.413013  0.018392  0.043364\n",
       "3       inf -0.039902 -0.713380 -0.322761       inf  0.015480  0.030720"
      ]
     },
     "execution_count": 109,
     "metadata": {},
     "output_type": "execute_result"
    }
   ],
   "source": [
    "pd.DataFrame(result)"
   ]
  },
  {
   "cell_type": "code",
   "execution_count": 110,
   "metadata": {},
   "outputs": [
    {
     "data": {
      "text/plain": [
       "{'kurtosis': (0.14597702411247493, 0.0, 0.14597702411247493, inf),\n",
       " 'mean': (-0.9359117594525188, -0.9, 0.03591175945251879, -0.0399019549472431),\n",
       " 'med': (-1.5420422810575807, -0.9, 0.6420422810575807, -0.7133803122862007),\n",
       " 'mode': (-0.6095155336528975, -0.9, 0.29048446634710257, -0.3227605181634473),\n",
       " 'skew': (-0.41301283788640636, 0.0, 0.41301283788640636, inf),\n",
       " 'std': (1.1697084772493367,\n",
       "  1.1881000000000002,\n",
       "  0.01839152275066347,\n",
       "  0.015479776744940213),\n",
       " 'variance': (1.3682179217489618,\n",
       "  1.4115816100000003,\n",
       "  0.043363688251038424,\n",
       "  0.030719930001807276)}"
      ]
     },
     "execution_count": 110,
     "metadata": {},
     "output_type": "execute_result"
    }
   ],
   "source": [
    "result"
   ]
  },
  {
   "cell_type": "code",
   "execution_count": 95,
   "metadata": {},
   "outputs": [
    {
     "data": {
      "text/plain": [
       "[('mean', -0.9359117594525188),\n",
       " ('variance', 1.3682179217489618),\n",
       " ('std', 1.1697084772493367),\n",
       " ('mode', -0.6095155336528975),\n",
       " ('med', -1.5420422810575807),\n",
       " ('skew', -0.41301283788640636),\n",
       " ('kurtosis', 0.14597702411247493)]"
      ]
     },
     "execution_count": 95,
     "metadata": {},
     "output_type": "execute_result"
    }
   ],
   "source": [
    "list(zip(result[0].experimental_stats._asdict().keys(), result[0].experimental_stats))"
   ]
  },
  {
   "cell_type": "code",
   "execution_count": 97,
   "metadata": {},
   "outputs": [
    {
     "data": {
      "text/plain": [
       "Stats(mean=-0.9359117594525188, variance=1.3682179217489618, std=1.1697084772493367, mode=-0.6095155336528975, med=-1.5420422810575807, skew=-0.41301283788640636, kurtosis=0.14597702411247493)"
      ]
     },
     "execution_count": 97,
     "metadata": {},
     "output_type": "execute_result"
    }
   ],
   "source": [
    "result[0].experimental_stats"
   ]
  },
  {
   "cell_type": "code",
   "execution_count": 120,
   "metadata": {
    "collapsed": true
   },
   "outputs": [],
   "source": [
    "df = pd.DataFrame(result)\n"
   ]
  },
  {
   "cell_type": "code",
   "execution_count": 121,
   "metadata": {},
   "outputs": [
    {
     "data": {
      "text/html": [
       "<div>\n",
       "<style scoped>\n",
       "    .dataframe tbody tr th:only-of-type {\n",
       "        vertical-align: middle;\n",
       "    }\n",
       "\n",
       "    .dataframe tbody tr th {\n",
       "        vertical-align: top;\n",
       "    }\n",
       "\n",
       "    .dataframe thead th {\n",
       "        text-align: right;\n",
       "    }\n",
       "</style>\n",
       "<table border=\"1\" class=\"dataframe\">\n",
       "  <thead>\n",
       "    <tr style=\"text-align: right;\">\n",
       "      <th></th>\n",
       "      <th>kurtosis</th>\n",
       "      <th>mean</th>\n",
       "      <th>med</th>\n",
       "      <th>mode</th>\n",
       "      <th>skew</th>\n",
       "      <th>std</th>\n",
       "      <th>variance</th>\n",
       "    </tr>\n",
       "  </thead>\n",
       "  <tbody>\n",
       "    <tr>\n",
       "      <th>0</th>\n",
       "      <td>0.145977</td>\n",
       "      <td>-0.935912</td>\n",
       "      <td>-1.542042</td>\n",
       "      <td>-0.609516</td>\n",
       "      <td>-0.413013</td>\n",
       "      <td>1.169708</td>\n",
       "      <td>1.368218</td>\n",
       "    </tr>\n",
       "    <tr>\n",
       "      <th>1</th>\n",
       "      <td>0.000000</td>\n",
       "      <td>-0.900000</td>\n",
       "      <td>-0.900000</td>\n",
       "      <td>-0.900000</td>\n",
       "      <td>0.000000</td>\n",
       "      <td>1.188100</td>\n",
       "      <td>1.411582</td>\n",
       "    </tr>\n",
       "    <tr>\n",
       "      <th>2</th>\n",
       "      <td>0.145977</td>\n",
       "      <td>0.035912</td>\n",
       "      <td>0.642042</td>\n",
       "      <td>0.290484</td>\n",
       "      <td>0.413013</td>\n",
       "      <td>0.018392</td>\n",
       "      <td>0.043364</td>\n",
       "    </tr>\n",
       "    <tr>\n",
       "      <th>3</th>\n",
       "      <td>inf</td>\n",
       "      <td>-0.039902</td>\n",
       "      <td>-0.713380</td>\n",
       "      <td>-0.322761</td>\n",
       "      <td>inf</td>\n",
       "      <td>0.015480</td>\n",
       "      <td>0.030720</td>\n",
       "    </tr>\n",
       "  </tbody>\n",
       "</table>\n",
       "</div>"
      ],
      "text/plain": [
       "   kurtosis      mean       med      mode      skew       std  variance\n",
       "0  0.145977 -0.935912 -1.542042 -0.609516 -0.413013  1.169708  1.368218\n",
       "1  0.000000 -0.900000 -0.900000 -0.900000  0.000000  1.188100  1.411582\n",
       "2  0.145977  0.035912  0.642042  0.290484  0.413013  0.018392  0.043364\n",
       "3       inf -0.039902 -0.713380 -0.322761       inf  0.015480  0.030720"
      ]
     },
     "execution_count": 121,
     "metadata": {},
     "output_type": "execute_result"
    }
   ],
   "source": [
    "df"
   ]
  },
  {
   "cell_type": "code",
   "execution_count": 123,
   "metadata": {},
   "outputs": [
    {
     "data": {
      "text/html": [
       "<div>\n",
       "<style scoped>\n",
       "    .dataframe tbody tr th:only-of-type {\n",
       "        vertical-align: middle;\n",
       "    }\n",
       "\n",
       "    .dataframe tbody tr th {\n",
       "        vertical-align: top;\n",
       "    }\n",
       "\n",
       "    .dataframe thead th {\n",
       "        text-align: right;\n",
       "    }\n",
       "</style>\n",
       "<table border=\"1\" class=\"dataframe\">\n",
       "  <thead>\n",
       "    <tr style=\"text-align: right;\">\n",
       "      <th></th>\n",
       "      <th>index</th>\n",
       "      <th>kurtosis</th>\n",
       "      <th>mean</th>\n",
       "      <th>med</th>\n",
       "      <th>mode</th>\n",
       "      <th>skew</th>\n",
       "      <th>std</th>\n",
       "      <th>variance</th>\n",
       "    </tr>\n",
       "  </thead>\n",
       "  <tbody>\n",
       "    <tr>\n",
       "      <th>0</th>\n",
       "      <td>absolute</td>\n",
       "      <td>0.145977</td>\n",
       "      <td>0.035912</td>\n",
       "      <td>0.642042</td>\n",
       "      <td>0.290484</td>\n",
       "      <td>0.413013</td>\n",
       "      <td>0.018392</td>\n",
       "      <td>0.043364</td>\n",
       "    </tr>\n",
       "    <tr>\n",
       "      <th>1</th>\n",
       "      <td>experimental</td>\n",
       "      <td>0.145977</td>\n",
       "      <td>-0.935912</td>\n",
       "      <td>-1.542042</td>\n",
       "      <td>-0.609516</td>\n",
       "      <td>-0.413013</td>\n",
       "      <td>1.169708</td>\n",
       "      <td>1.368218</td>\n",
       "    </tr>\n",
       "    <tr>\n",
       "      <th>2</th>\n",
       "      <td>relative</td>\n",
       "      <td>inf</td>\n",
       "      <td>-0.039902</td>\n",
       "      <td>-0.713380</td>\n",
       "      <td>-0.322761</td>\n",
       "      <td>inf</td>\n",
       "      <td>0.015480</td>\n",
       "      <td>0.030720</td>\n",
       "    </tr>\n",
       "    <tr>\n",
       "      <th>3</th>\n",
       "      <td>theoretical</td>\n",
       "      <td>0.000000</td>\n",
       "      <td>-0.900000</td>\n",
       "      <td>-0.900000</td>\n",
       "      <td>-0.900000</td>\n",
       "      <td>0.000000</td>\n",
       "      <td>1.188100</td>\n",
       "      <td>1.411582</td>\n",
       "    </tr>\n",
       "  </tbody>\n",
       "</table>\n",
       "</div>"
      ],
      "text/plain": [
       "          index  kurtosis      mean       med      mode      skew       std  \\\n",
       "0      absolute  0.145977  0.035912  0.642042  0.290484  0.413013  0.018392   \n",
       "1  experimental  0.145977 -0.935912 -1.542042 -0.609516 -0.413013  1.169708   \n",
       "2      relative       inf -0.039902 -0.713380 -0.322761       inf  0.015480   \n",
       "3   theoretical  0.000000 -0.900000 -0.900000 -0.900000  0.000000  1.188100   \n",
       "\n",
       "   variance  \n",
       "0  0.043364  \n",
       "1  1.368218  \n",
       "2  0.030720  \n",
       "3  1.411582  "
      ]
     },
     "execution_count": 123,
     "metadata": {},
     "output_type": "execute_result"
    }
   ],
   "source": [
    "df.pivot_table(index=['experimental', 'theoretical', 'absolute', 'relative']).reset_index()"
   ]
  },
  {
   "cell_type": "code",
   "execution_count": 128,
   "metadata": {},
   "outputs": [
    {
     "data": {
      "text/html": [
       "<div>\n",
       "<style scoped>\n",
       "    .dataframe tbody tr th:only-of-type {\n",
       "        vertical-align: middle;\n",
       "    }\n",
       "\n",
       "    .dataframe tbody tr th {\n",
       "        vertical-align: top;\n",
       "    }\n",
       "\n",
       "    .dataframe thead th {\n",
       "        text-align: right;\n",
       "    }\n",
       "</style>\n",
       "<table border=\"1\" class=\"dataframe\">\n",
       "  <thead>\n",
       "    <tr style=\"text-align: right;\">\n",
       "      <th></th>\n",
       "      <th>0</th>\n",
       "      <th>1</th>\n",
       "      <th>2</th>\n",
       "      <th>3</th>\n",
       "    </tr>\n",
       "  </thead>\n",
       "  <tbody>\n",
       "    <tr>\n",
       "      <th>kurtosis</th>\n",
       "      <td>0.145977</td>\n",
       "      <td>0.000000</td>\n",
       "      <td>0.145977</td>\n",
       "      <td>inf</td>\n",
       "    </tr>\n",
       "    <tr>\n",
       "      <th>skew</th>\n",
       "      <td>-0.413013</td>\n",
       "      <td>0.000000</td>\n",
       "      <td>0.413013</td>\n",
       "      <td>inf</td>\n",
       "    </tr>\n",
       "    <tr>\n",
       "      <th>mean</th>\n",
       "      <td>-0.935912</td>\n",
       "      <td>-0.900000</td>\n",
       "      <td>0.035912</td>\n",
       "      <td>-0.039902</td>\n",
       "    </tr>\n",
       "    <tr>\n",
       "      <th>mode</th>\n",
       "      <td>-0.609516</td>\n",
       "      <td>-0.900000</td>\n",
       "      <td>0.290484</td>\n",
       "      <td>-0.322761</td>\n",
       "    </tr>\n",
       "    <tr>\n",
       "      <th>variance</th>\n",
       "      <td>1.368218</td>\n",
       "      <td>1.411582</td>\n",
       "      <td>0.043364</td>\n",
       "      <td>0.030720</td>\n",
       "    </tr>\n",
       "    <tr>\n",
       "      <th>med</th>\n",
       "      <td>-1.542042</td>\n",
       "      <td>-0.900000</td>\n",
       "      <td>0.642042</td>\n",
       "      <td>-0.713380</td>\n",
       "    </tr>\n",
       "    <tr>\n",
       "      <th>std</th>\n",
       "      <td>1.169708</td>\n",
       "      <td>1.188100</td>\n",
       "      <td>0.018392</td>\n",
       "      <td>0.015480</td>\n",
       "    </tr>\n",
       "  </tbody>\n",
       "</table>\n",
       "</div>"
      ],
      "text/plain": [
       "                 0         1         2         3\n",
       "kurtosis  0.145977  0.000000  0.145977       inf\n",
       "skew     -0.413013  0.000000  0.413013       inf\n",
       "mean     -0.935912 -0.900000  0.035912 -0.039902\n",
       "mode     -0.609516 -0.900000  0.290484 -0.322761\n",
       "variance  1.368218  1.411582  0.043364  0.030720\n",
       "med      -1.542042 -0.900000  0.642042 -0.713380\n",
       "std       1.169708  1.188100  0.018392  0.015480"
      ]
     },
     "execution_count": 128,
     "metadata": {},
     "output_type": "execute_result"
    }
   ],
   "source": [
    "pd.DataFrame(list(result.values()), index=list(result.keys()))"
   ]
  },
  {
   "cell_type": "code",
   "execution_count": 141,
   "metadata": {},
   "outputs": [
    {
     "ename": "ValueError",
     "evalue": "If using all scalar values, you must pass an index",
     "output_type": "error",
     "traceback": [
      "\u001b[0;31m---------------------------------------------------------------------------\u001b[0m",
      "\u001b[0;31mValueError\u001b[0m                                Traceback (most recent call last)",
      "\u001b[0;32m<ipython-input-141-294c215a160a>\u001b[0m in \u001b[0;36m<module>\u001b[0;34m()\u001b[0m\n\u001b[0;32m----> 1\u001b[0;31m \u001b[0mpd\u001b[0m\u001b[0;34m.\u001b[0m\u001b[0mDataFrame\u001b[0m\u001b[0;34m(\u001b[0m\u001b[0mresult\u001b[0m\u001b[0;34m[\u001b[0m\u001b[0;36m0\u001b[0m\u001b[0;34m]\u001b[0m\u001b[0;34m.\u001b[0m\u001b[0mfirst_counter\u001b[0m\u001b[0;34m)\u001b[0m\u001b[0;34m\u001b[0m\u001b[0m\n\u001b[0m",
      "\u001b[0;32m/Library/Frameworks/Python.framework/Versions/3.5/lib/python3.5/site-packages/pandas/core/frame.py\u001b[0m in \u001b[0;36m__init__\u001b[0;34m(self, data, index, columns, dtype, copy)\u001b[0m\n\u001b[1;32m    346\u001b[0m                                  dtype=dtype, copy=copy)\n\u001b[1;32m    347\u001b[0m         \u001b[0;32melif\u001b[0m \u001b[0misinstance\u001b[0m\u001b[0;34m(\u001b[0m\u001b[0mdata\u001b[0m\u001b[0;34m,\u001b[0m \u001b[0mdict\u001b[0m\u001b[0;34m)\u001b[0m\u001b[0;34m:\u001b[0m\u001b[0;34m\u001b[0m\u001b[0m\n\u001b[0;32m--> 348\u001b[0;31m             \u001b[0mmgr\u001b[0m \u001b[0;34m=\u001b[0m \u001b[0mself\u001b[0m\u001b[0;34m.\u001b[0m\u001b[0m_init_dict\u001b[0m\u001b[0;34m(\u001b[0m\u001b[0mdata\u001b[0m\u001b[0;34m,\u001b[0m \u001b[0mindex\u001b[0m\u001b[0;34m,\u001b[0m \u001b[0mcolumns\u001b[0m\u001b[0;34m,\u001b[0m \u001b[0mdtype\u001b[0m\u001b[0;34m=\u001b[0m\u001b[0mdtype\u001b[0m\u001b[0;34m)\u001b[0m\u001b[0;34m\u001b[0m\u001b[0m\n\u001b[0m\u001b[1;32m    349\u001b[0m         \u001b[0;32melif\u001b[0m \u001b[0misinstance\u001b[0m\u001b[0;34m(\u001b[0m\u001b[0mdata\u001b[0m\u001b[0;34m,\u001b[0m \u001b[0mma\u001b[0m\u001b[0;34m.\u001b[0m\u001b[0mMaskedArray\u001b[0m\u001b[0;34m)\u001b[0m\u001b[0;34m:\u001b[0m\u001b[0;34m\u001b[0m\u001b[0m\n\u001b[1;32m    350\u001b[0m             \u001b[0;32mimport\u001b[0m \u001b[0mnumpy\u001b[0m\u001b[0;34m.\u001b[0m\u001b[0mma\u001b[0m\u001b[0;34m.\u001b[0m\u001b[0mmrecords\u001b[0m \u001b[0;32mas\u001b[0m \u001b[0mmrecords\u001b[0m\u001b[0;34m\u001b[0m\u001b[0m\n",
      "\u001b[0;32m/Library/Frameworks/Python.framework/Versions/3.5/lib/python3.5/site-packages/pandas/core/frame.py\u001b[0m in \u001b[0;36m_init_dict\u001b[0;34m(self, data, index, columns, dtype)\u001b[0m\n\u001b[1;32m    457\u001b[0m             \u001b[0marrays\u001b[0m \u001b[0;34m=\u001b[0m \u001b[0;34m[\u001b[0m\u001b[0mdata\u001b[0m\u001b[0;34m[\u001b[0m\u001b[0mk\u001b[0m\u001b[0;34m]\u001b[0m \u001b[0;32mfor\u001b[0m \u001b[0mk\u001b[0m \u001b[0;32min\u001b[0m \u001b[0mkeys\u001b[0m\u001b[0;34m]\u001b[0m\u001b[0;34m\u001b[0m\u001b[0m\n\u001b[1;32m    458\u001b[0m \u001b[0;34m\u001b[0m\u001b[0m\n\u001b[0;32m--> 459\u001b[0;31m         \u001b[0;32mreturn\u001b[0m \u001b[0m_arrays_to_mgr\u001b[0m\u001b[0;34m(\u001b[0m\u001b[0marrays\u001b[0m\u001b[0;34m,\u001b[0m \u001b[0mdata_names\u001b[0m\u001b[0;34m,\u001b[0m \u001b[0mindex\u001b[0m\u001b[0;34m,\u001b[0m \u001b[0mcolumns\u001b[0m\u001b[0;34m,\u001b[0m \u001b[0mdtype\u001b[0m\u001b[0;34m=\u001b[0m\u001b[0mdtype\u001b[0m\u001b[0;34m)\u001b[0m\u001b[0;34m\u001b[0m\u001b[0m\n\u001b[0m\u001b[1;32m    460\u001b[0m \u001b[0;34m\u001b[0m\u001b[0m\n\u001b[1;32m    461\u001b[0m     \u001b[0;32mdef\u001b[0m \u001b[0m_init_ndarray\u001b[0m\u001b[0;34m(\u001b[0m\u001b[0mself\u001b[0m\u001b[0;34m,\u001b[0m \u001b[0mvalues\u001b[0m\u001b[0;34m,\u001b[0m \u001b[0mindex\u001b[0m\u001b[0;34m,\u001b[0m \u001b[0mcolumns\u001b[0m\u001b[0;34m,\u001b[0m \u001b[0mdtype\u001b[0m\u001b[0;34m=\u001b[0m\u001b[0;32mNone\u001b[0m\u001b[0;34m,\u001b[0m \u001b[0mcopy\u001b[0m\u001b[0;34m=\u001b[0m\u001b[0;32mFalse\u001b[0m\u001b[0;34m)\u001b[0m\u001b[0;34m:\u001b[0m\u001b[0;34m\u001b[0m\u001b[0m\n",
      "\u001b[0;32m/Library/Frameworks/Python.framework/Versions/3.5/lib/python3.5/site-packages/pandas/core/frame.py\u001b[0m in \u001b[0;36m_arrays_to_mgr\u001b[0;34m(arrays, arr_names, index, columns, dtype)\u001b[0m\n\u001b[1;32m   7354\u001b[0m     \u001b[0;31m# figure out the index, if necessary\u001b[0m\u001b[0;34m\u001b[0m\u001b[0;34m\u001b[0m\u001b[0m\n\u001b[1;32m   7355\u001b[0m     \u001b[0;32mif\u001b[0m \u001b[0mindex\u001b[0m \u001b[0;32mis\u001b[0m \u001b[0;32mNone\u001b[0m\u001b[0;34m:\u001b[0m\u001b[0;34m\u001b[0m\u001b[0m\n\u001b[0;32m-> 7356\u001b[0;31m         \u001b[0mindex\u001b[0m \u001b[0;34m=\u001b[0m \u001b[0mextract_index\u001b[0m\u001b[0;34m(\u001b[0m\u001b[0marrays\u001b[0m\u001b[0;34m)\u001b[0m\u001b[0;34m\u001b[0m\u001b[0m\n\u001b[0m\u001b[1;32m   7357\u001b[0m \u001b[0;34m\u001b[0m\u001b[0m\n\u001b[1;32m   7358\u001b[0m     \u001b[0;31m# don't force copy because getting jammed in an ndarray anyway\u001b[0m\u001b[0;34m\u001b[0m\u001b[0;34m\u001b[0m\u001b[0m\n",
      "\u001b[0;32m/Library/Frameworks/Python.framework/Versions/3.5/lib/python3.5/site-packages/pandas/core/frame.py\u001b[0m in \u001b[0;36mextract_index\u001b[0;34m(data)\u001b[0m\n\u001b[1;32m   7391\u001b[0m \u001b[0;34m\u001b[0m\u001b[0m\n\u001b[1;32m   7392\u001b[0m         \u001b[0;32mif\u001b[0m \u001b[0;32mnot\u001b[0m \u001b[0mindexes\u001b[0m \u001b[0;32mand\u001b[0m \u001b[0;32mnot\u001b[0m \u001b[0mraw_lengths\u001b[0m\u001b[0;34m:\u001b[0m\u001b[0;34m\u001b[0m\u001b[0m\n\u001b[0;32m-> 7393\u001b[0;31m             raise ValueError('If using all scalar values, you must pass'\n\u001b[0m\u001b[1;32m   7394\u001b[0m                              ' an index')\n\u001b[1;32m   7395\u001b[0m \u001b[0;34m\u001b[0m\u001b[0m\n",
      "\u001b[0;31mValueError\u001b[0m: If using all scalar values, you must pass an index"
     ]
    }
   ],
   "source": [
    "pd.DataFrame(result[0].first_counter)"
   ]
  },
  {
   "cell_type": "code",
   "execution_count": 138,
   "metadata": {},
   "outputs": [
    {
     "data": {
      "text/plain": [
       "{(-3.4434993924798873, -2.7425233603043733): 9,\n",
       " (-2.7425233603043733, -2.0415473281288588): 23,\n",
       " (-2.0415473281288588, -1.3405712959533447): 41,\n",
       " (-1.3405712959533447, -0.6395952637778302): 50,\n",
       " (-0.6395952637778302, 0.06138076839768436): 35,\n",
       " (0.06138076839768436, 0.762356800573198): 20,\n",
       " (0.762356800573198, 1.4633328327487125): 17,\n",
       " (1.4633328327487125, 2.1643088649242275): 5}"
      ]
     },
     "execution_count": 138,
     "metadata": {},
     "output_type": "execute_result"
    }
   ],
   "source": [
    "dict(result[0].first_counter)"
   ]
  },
  {
   "cell_type": "code",
   "execution_count": 150,
   "metadata": {},
   "outputs": [
    {
     "data": {
      "text/html": [
       "<div>\n",
       "<style scoped>\n",
       "    .dataframe tbody tr th:only-of-type {\n",
       "        vertical-align: middle;\n",
       "    }\n",
       "\n",
       "    .dataframe tbody tr th {\n",
       "        vertical-align: top;\n",
       "    }\n",
       "\n",
       "    .dataframe thead th {\n",
       "        text-align: right;\n",
       "    }\n",
       "</style>\n",
       "<table border=\"1\" class=\"dataframe\">\n",
       "  <thead>\n",
       "    <tr style=\"text-align: right;\">\n",
       "      <th></th>\n",
       "      <th>(-0.6396, 0.0614)</th>\n",
       "      <th>(-1.3406, -0.6396)</th>\n",
       "      <th>(-2.0415, -1.3406)</th>\n",
       "      <th>(-2.7425, -2.0415)</th>\n",
       "      <th>(-3.4435, -2.7425)</th>\n",
       "      <th>(0.0614, 0.7624)</th>\n",
       "      <th>(0.7624, 1.4633)</th>\n",
       "      <th>(1.4633, 2.1643)</th>\n",
       "    </tr>\n",
       "  </thead>\n",
       "  <tbody>\n",
       "    <tr>\n",
       "      <th>0</th>\n",
       "      <td>35</td>\n",
       "      <td>50</td>\n",
       "      <td>41</td>\n",
       "      <td>23</td>\n",
       "      <td>9</td>\n",
       "      <td>20</td>\n",
       "      <td>17</td>\n",
       "      <td>5</td>\n",
       "    </tr>\n",
       "  </tbody>\n",
       "</table>\n",
       "</div>"
      ],
      "text/plain": [
       "   (-0.6396, 0.0614)  (-1.3406, -0.6396)  (-2.0415, -1.3406)  \\\n",
       "0                 35                  50                  41   \n",
       "\n",
       "   (-2.7425, -2.0415)  (-3.4435, -2.7425)  (0.0614, 0.7624)  (0.7624, 1.4633)  \\\n",
       "0                  23                   9                20                17   \n",
       "\n",
       "   (1.4633, 2.1643)  \n",
       "0                 5  "
      ]
     },
     "execution_count": 150,
     "metadata": {},
     "output_type": "execute_result"
    }
   ],
   "source": [
    "res = {str((round(key[0], 4), round(key[1], 4))): [val] for key, val in result[0].first_counter.items()}\n",
    "pd.DataFrame(res)"
   ]
  },
  {
   "cell_type": "code",
   "execution_count": 154,
   "metadata": {},
   "outputs": [
    {
     "data": {
      "text/html": [
       "<div>\n",
       "<style scoped>\n",
       "    .dataframe tbody tr th:only-of-type {\n",
       "        vertical-align: middle;\n",
       "    }\n",
       "\n",
       "    .dataframe tbody tr th {\n",
       "        vertical-align: top;\n",
       "    }\n",
       "\n",
       "    .dataframe thead th {\n",
       "        text-align: right;\n",
       "    }\n",
       "</style>\n",
       "<table border=\"1\" class=\"dataframe\">\n",
       "  <thead>\n",
       "    <tr style=\"text-align: right;\">\n",
       "      <th></th>\n",
       "      <th>-3.0930113763921305</th>\n",
       "      <th>-2.392035344216616</th>\n",
       "      <th>-1.6910593120411017</th>\n",
       "      <th>-0.9900832798655874</th>\n",
       "      <th>-0.2891072476900729</th>\n",
       "      <th>0.4118687844854412</th>\n",
       "      <th>1.1128448166609552</th>\n",
       "      <th>1.81382084883647</th>\n",
       "    </tr>\n",
       "  </thead>\n",
       "  <tbody>\n",
       "    <tr>\n",
       "      <th>0</th>\n",
       "      <td>9.000</td>\n",
       "      <td>23.000</td>\n",
       "      <td>41.000</td>\n",
       "      <td>50.00</td>\n",
       "      <td>35.000</td>\n",
       "      <td>20.0</td>\n",
       "      <td>17.000</td>\n",
       "      <td>5.000</td>\n",
       "    </tr>\n",
       "    <tr>\n",
       "      <th>1</th>\n",
       "      <td>0.045</td>\n",
       "      <td>0.115</td>\n",
       "      <td>0.205</td>\n",
       "      <td>0.25</td>\n",
       "      <td>0.175</td>\n",
       "      <td>0.1</td>\n",
       "      <td>0.085</td>\n",
       "      <td>0.025</td>\n",
       "    </tr>\n",
       "  </tbody>\n",
       "</table>\n",
       "</div>"
      ],
      "text/plain": [
       "   -3.093011  -2.392035  -1.691059  -0.990083  -0.289107   0.411869  \\\n",
       "0      9.000     23.000     41.000      50.00     35.000       20.0   \n",
       "1      0.045      0.115      0.205       0.25      0.175        0.1   \n",
       "\n",
       "    1.112845   1.813821  \n",
       "0     17.000      5.000  \n",
       "1      0.085      0.025  "
      ]
     },
     "execution_count": 154,
     "metadata": {},
     "output_type": "execute_result"
    }
   ],
   "source": [
    "pd.DataFrame(result[0].sec_counter)"
   ]
  },
  {
   "cell_type": "code",
   "execution_count": 153,
   "metadata": {},
   "outputs": [
    {
     "data": {
      "text/plain": [
       "{-3.0930113763921305: (9, 0.045),\n",
       " -2.392035344216616: (23, 0.115),\n",
       " -1.6910593120411017: (41, 0.205),\n",
       " -0.9900832798655874: (50, 0.25),\n",
       " -0.2891072476900729: (35, 0.175),\n",
       " 0.4118687844854412: (20, 0.1),\n",
       " 1.1128448166609552: (17, 0.085),\n",
       " 1.81382084883647: (5, 0.025)}"
      ]
     },
     "execution_count": 153,
     "metadata": {},
     "output_type": "execute_result"
    }
   ],
   "source": [
    "result[0].sec_counter"
   ]
  },
  {
   "cell_type": "code",
   "execution_count": 145,
   "metadata": {},
   "outputs": [
    {
     "data": {
      "text/plain": [
       "{(-3.4434993924798873, -2.7425233603043733): 9,\n",
       " (-2.7425233603043733, -2.0415473281288588): 23,\n",
       " (-2.0415473281288588, -1.3405712959533447): 41,\n",
       " (-1.3405712959533447, -0.6395952637778302): 50,\n",
       " (-0.6395952637778302, 0.06138076839768436): 35,\n",
       " (0.06138076839768436, 0.762356800573198): 20,\n",
       " (0.762356800573198, 1.4633328327487125): 17,\n",
       " (1.4633328327487125, 2.1643088649242275): 5}"
      ]
     },
     "execution_count": 145,
     "metadata": {},
     "output_type": "execute_result"
    }
   ],
   "source": [
    "dict(result[0].first_counter)"
   ]
  },
  {
   "cell_type": "code",
   "execution_count": 146,
   "metadata": {},
   "outputs": [
    {
     "data": {
      "text/plain": [
       "{1: [1, 2, 3], 2: [1, 2, 3]}"
      ]
     },
     "execution_count": 146,
     "metadata": {},
     "output_type": "execute_result"
    }
   ],
   "source": [
    "data"
   ]
  },
  {
   "cell_type": "code",
   "execution_count": 161,
   "metadata": {
    "collapsed": true
   },
   "outputs": [],
   "source": [
    "shape = 20\n",
    "rvs = np.array(result[0].rvs).reshape(shape, -1)\n",
    "rvs.tofile('rvs.csv',\n",
    "           sep=';',\n",
    "           format='%10.5f')\n"
   ]
  },
  {
   "cell_type": "code",
   "execution_count": null,
   "metadata": {
    "collapsed": true
   },
   "outputs": [],
   "source": [
    "import docx \n",
    "import csv\n",
    "\n",
    "doc = docx.Document()\n",
    "\n",
    "with open('csv.csv', newline='') as f:\n",
    "    csv_reader = csv.reader(f) \n",
    "\n",
    "    csv_headers = next(csv_reader)\n",
    "    csv_cols = len(csv_headers)\n",
    "\n",
    "    table = doc.add_table(rows=2, cols=csv_cols)\n",
    "    hdr_cells = table.rows[0].cells\n",
    "\n",
    "    for i in range(csv_cols):\n",
    "        hdr_cells[i].text = csv_headers[i]\n",
    "\n",
    "    for row in csv_reader:\n",
    "        row_cells = table.add_row().cells\n",
    "        for i in range(csv_cols):\n",
    "            row_cells[i].text = row[i]\n",
    "\n",
    "doc.add_page_break()\n",
    "doc.save(\"data.docx\")"
   ]
  },
  {
   "cell_type": "code",
   "execution_count": 1,
   "metadata": {
    "collapsed": true
   },
   "outputs": [],
   "source": [
    "import numpy as np"
   ]
  },
  {
   "cell_type": "code",
   "execution_count": 5,
   "metadata": {},
   "outputs": [
    {
     "name": "stdout",
     "output_type": "stream",
     "text": [
      "[  0   1   2   3   4   5   6   7   8   9  10  11  12  13  14  15  16  17\n",
      "  18  19  20  21  22  23  24  25  26  27  28  29  30  31  32  33  34  35\n",
      "  36  37  38  39  40  41  42  43  44  45  46  47  48  49  50  51  52  53\n",
      "  54  55  56  57  58  59  60  61  62  63  64  65  66  67  68  69  70  71\n",
      "  72  73  74  75  76  77  78  79  80  81  82  83  84  85  86  87  88  89\n",
      "  90  91  92  93  94  95  96  97  98  99 100 101 102 103 104 105 106 107\n",
      " 108 109 110 111 112 113 114 115 116 117 118 119 120 121 122 123 124 125\n",
      " 126 127 128 129 130 131 132 133 134 135 136 137 138 139 140 141 142 143\n",
      " 144 145 146 147 148 149 150 151 152 153 154 155 156 157 158 159 160 161\n",
      " 162 163 164 165 166 167 168 169 170 171 172 173 174 175 176 177 178 179\n",
      " 180 181 182 183 184 185 186 187 188 189 190 191 192 193 194 195 196 197\n",
      " 198 199] \n",
      "\n",
      "[[  0   1   2   3   4   5   6   7   8   9]\n",
      " [ 10  11  12  13  14  15  16  17  18  19]\n",
      " [ 20  21  22  23  24  25  26  27  28  29]\n",
      " [ 30  31  32  33  34  35  36  37  38  39]\n",
      " [ 40  41  42  43  44  45  46  47  48  49]\n",
      " [ 50  51  52  53  54  55  56  57  58  59]\n",
      " [ 60  61  62  63  64  65  66  67  68  69]\n",
      " [ 70  71  72  73  74  75  76  77  78  79]\n",
      " [ 80  81  82  83  84  85  86  87  88  89]\n",
      " [ 90  91  92  93  94  95  96  97  98  99]\n",
      " [100 101 102 103 104 105 106 107 108 109]\n",
      " [110 111 112 113 114 115 116 117 118 119]\n",
      " [120 121 122 123 124 125 126 127 128 129]\n",
      " [130 131 132 133 134 135 136 137 138 139]\n",
      " [140 141 142 143 144 145 146 147 148 149]\n",
      " [150 151 152 153 154 155 156 157 158 159]\n",
      " [160 161 162 163 164 165 166 167 168 169]\n",
      " [170 171 172 173 174 175 176 177 178 179]\n",
      " [180 181 182 183 184 185 186 187 188 189]\n",
      " [190 191 192 193 194 195 196 197 198 199]]\n"
     ]
    }
   ],
   "source": [
    "rvs = np.array([i for i in range(200)])\n",
    "print(rvs, '\\n')\n",
    "rvs = rvs.reshape(20, -1)\n",
    "print(rvs)\n",
    "rvs.tofile('trtrtr.csv',\n",
    "            sep=';',\n",
    "            format='%10.5f')"
   ]
  },
  {
   "cell_type": "code",
   "execution_count": 6,
   "metadata": {
    "collapsed": true
   },
   "outputs": [],
   "source": [
    "import pandas as pd"
   ]
  },
  {
   "cell_type": "code",
   "execution_count": 17,
   "metadata": {},
   "outputs": [
    {
     "ename": "TypeError",
     "evalue": "to_csv() got an unexpected keyword argument 'format'",
     "output_type": "error",
     "traceback": [
      "\u001b[0;31m---------------------------------------------------------------------------\u001b[0m",
      "\u001b[0;31mTypeError\u001b[0m                                 Traceback (most recent call last)",
      "\u001b[0;32m<ipython-input-17-6a17ff06ee7d>\u001b[0m in \u001b[0;36m<module>\u001b[0;34m()\u001b[0m\n\u001b[1;32m      1\u001b[0m \u001b[0mdf\u001b[0m \u001b[0;34m=\u001b[0m \u001b[0mpd\u001b[0m\u001b[0;34m.\u001b[0m\u001b[0mDataFrame\u001b[0m\u001b[0;34m(\u001b[0m\u001b[0mrvs\u001b[0m\u001b[0;34m,\u001b[0m \u001b[0mcolumns\u001b[0m\u001b[0;34m=\u001b[0m\u001b[0;34m[\u001b[0m\u001b[0;34m'a b c d e f g h i j'\u001b[0m\u001b[0;34m.\u001b[0m\u001b[0msplit\u001b[0m\u001b[0;34m(\u001b[0m\u001b[0;34m)\u001b[0m\u001b[0;34m]\u001b[0m\u001b[0;34m)\u001b[0m\u001b[0;34m\u001b[0m\u001b[0m\n\u001b[0;32m----> 2\u001b[0;31m \u001b[0mdf\u001b[0m\u001b[0;34m.\u001b[0m\u001b[0mto_csv\u001b[0m\u001b[0;34m(\u001b[0m\u001b[0;34m'trtrtr.csv'\u001b[0m\u001b[0;34m,\u001b[0m \u001b[0msep\u001b[0m\u001b[0;34m=\u001b[0m\u001b[0;34m';'\u001b[0m\u001b[0;34m,\u001b[0m \u001b[0mencoding\u001b[0m\u001b[0;34m=\u001b[0m\u001b[0;34m'utf-8'\u001b[0m\u001b[0;34m,\u001b[0m \u001b[0mindex\u001b[0m\u001b[0;34m=\u001b[0m\u001b[0;32mFalse\u001b[0m\u001b[0;34m,\u001b[0m \u001b[0mformat\u001b[0m\u001b[0;34m=\u001b[0m\u001b[0;34m'%10.5f'\u001b[0m\u001b[0;34m)\u001b[0m\u001b[0;34m\u001b[0m\u001b[0m\n\u001b[0m",
      "\u001b[0;31mTypeError\u001b[0m: to_csv() got an unexpected keyword argument 'format'"
     ]
    }
   ],
   "source": [
    "df = pd.DataFrame(rvs, columns=['a b c d e f g h i j'.split()])\n",
    "df.to_csv('trtrtr.csv', sep=';', encoding='utf-8', index=False)"
   ]
  },
  {
   "cell_type": "code",
   "execution_count": 15,
   "metadata": {},
   "outputs": [
    {
     "data": {
      "text/plain": [
       "['a', 'b', 'c', 'd', 'e', 'f', 'g', 'h', 'i', 'j']"
      ]
     },
     "execution_count": 15,
     "metadata": {},
     "output_type": "execute_result"
    }
   ],
   "source": [
    "import string\n",
    "list(string.ascii_lowercase)[:10]"
   ]
  },
  {
   "cell_type": "code",
   "execution_count": 16,
   "metadata": {},
   "outputs": [],
   "source": [
    "import pandas as pd"
   ]
  },
  {
   "cell_type": "code",
   "execution_count": 49,
   "metadata": {
    "collapsed": true
   },
   "outputs": [],
   "source": [
    "norm_r = st.norm(-0.9, 1.1881)\n",
    "expon_r = st.expon(1/1.91)\n",
    "uniform_r = st.uniform(-0.45, 1.0)"
   ]
  },
  {
   "cell_type": "code",
   "execution_count": 50,
   "metadata": {
    "collapsed": true
   },
   "outputs": [],
   "source": [
    "norm_w = [0.005, 0.035, 0.13, 0.205, 0.29, 0.165, 0.115, 0.055]\n",
    "expon_w = [0.58, 0.27, 0.105, 0.005, 0.025, 0.005, 0.005, 0.005]\n",
    "uniform_w = [0.15, 0.14, 0.105, 0.12, 0.155, 0.095, 0.115, 0.12]"
   ]
  },
  {
   "cell_type": "code",
   "execution_count": 51,
   "metadata": {},
   "outputs": [],
   "source": [
    "norm_x = [(-0.4032, 0.394), (-1.2004, -0.4032), (-1.9976, -1.2004), (-2.7947, -1.9976), (-3.5919, -2.7947), (-4.3891, -3.5919), (0.394, 1.1911), (1.1911, 1.9883)]\n",
    "expon_x = [(0.5261, 1.4781), (1.4781, 2.4301), (2.4301, 3.3821), (3.3821, 4.3341), (4.3341, 5.2861), (5.2861, 6.2381), (6.2381, 7.1901), (7.1901, 8.1421)]\n",
    "uniform_x = [(-0.0744, 0.0504), (-0.1993, -0.0744), (-0.3242, -0.1993), (-0.449, -0.3242), (0.0504, 0.1753), (0.1753, 0.3002), (0.3002, 0.425), (0.425, 0.5499)]"
   ]
  },
  {
   "cell_type": "code",
   "execution_count": 52,
   "metadata": {},
   "outputs": [],
   "source": [
    "r = (norm_r, expon_r, uniform_r)\n",
    "w = (norm_w, expon_w, uniform_w)\n",
    "x = (norm_x, expon_x, uniform_x)"
   ]
  },
  {
   "cell_type": "code",
   "execution_count": 60,
   "metadata": {},
   "outputs": [
    {
     "name": "stdout",
     "output_type": "stream",
     "text": [
      "<scipy.stats._distn_infrastructure.rv_frozen object at 0x116099160> [0.005, 0.035, 0.13, 0.205, 0.29, 0.165, 0.115, 0.055] [(-0.4032, 0.394), (-1.2004, -0.4032), (-1.9976, -1.2004), (-2.7947, -1.9976), (-3.5919, -2.7947), (-4.3891, -3.5919), (0.394, 1.1911), (1.1911, 1.9883)]\n",
      "<scipy.stats._distn_infrastructure.rv_frozen object at 0x115f75cc0> [0.58, 0.27, 0.105, 0.005, 0.025, 0.005, 0.005, 0.005] [(0.5261, 1.4781), (1.4781, 2.4301), (2.4301, 3.3821), (3.3821, 4.3341), (4.3341, 5.2861), (5.2861, 6.2381), (6.2381, 7.1901), (7.1901, 8.1421)]\n",
      "<scipy.stats._distn_infrastructure.rv_frozen object at 0x1160996d8> [0.15, 0.14, 0.105, 0.12, 0.155, 0.095, 0.115, 0.12] [(-0.0744, 0.0504), (-0.1993, -0.0744), (-0.3242, -0.1993), (-0.449, -0.3242), (0.0504, 0.1753), (0.1753, 0.3002), (0.3002, 0.425), (0.425, 0.5499)]\n"
     ]
    }
   ],
   "source": [
    "res = []\n",
    "for cur_r, cur_w, cur_x in [(*ab, c) for ab, c in list(zip(zip(r, w), x))]:\n",
    "    print(cur_r, cur_w, cur_x)\n",
    "    p = [cur_r.cdf(b) - cur_r.cdf(a) for a, b in cur_x]\n",
    "    s = sum(p)\n",
    "    wp = [abs(a - b) for a, b in zip(cur_w, p)]\n",
    "    m = max(wp)\n",
    "    new_w = deepcopy(cur_w)\n",
    "    new_w.append(1.0)\n",
    "    p.append(s)\n",
    "    wp.append(m)\n",
    "    new_x = deepcopy(cur_x)\n",
    "    new_x.append('-')\n",
    "    res.append(pd.DataFrame(np.round(np.array([new_w, p, wp]).T, 4), index=new_x))"
   ]
  },
  {
   "cell_type": "code",
   "execution_count": 61,
   "metadata": {},
   "outputs": [
    {
     "data": {
      "text/html": [
       "<div>\n",
       "<style scoped>\n",
       "    .dataframe tbody tr th:only-of-type {\n",
       "        vertical-align: middle;\n",
       "    }\n",
       "\n",
       "    .dataframe tbody tr th {\n",
       "        vertical-align: top;\n",
       "    }\n",
       "\n",
       "    .dataframe thead th {\n",
       "        text-align: right;\n",
       "    }\n",
       "</style>\n",
       "<table border=\"1\" class=\"dataframe\">\n",
       "  <thead>\n",
       "    <tr style=\"text-align: right;\">\n",
       "      <th></th>\n",
       "      <th>0</th>\n",
       "      <th>1</th>\n",
       "      <th>2</th>\n",
       "    </tr>\n",
       "  </thead>\n",
       "  <tbody>\n",
       "    <tr>\n",
       "      <th>(-0.4032, 0.394)</th>\n",
       "      <td>0.005</td>\n",
       "      <td>0.1999</td>\n",
       "      <td>0.1949</td>\n",
       "    </tr>\n",
       "    <tr>\n",
       "      <th>(-1.2004, -0.4032)</th>\n",
       "      <td>0.035</td>\n",
       "      <td>0.2619</td>\n",
       "      <td>0.2269</td>\n",
       "    </tr>\n",
       "    <tr>\n",
       "      <th>(-1.9976, -1.2004)</th>\n",
       "      <td>0.130</td>\n",
       "      <td>0.2224</td>\n",
       "      <td>0.0924</td>\n",
       "    </tr>\n",
       "    <tr>\n",
       "      <th>(-2.7947, -1.9976)</th>\n",
       "      <td>0.205</td>\n",
       "      <td>0.1224</td>\n",
       "      <td>0.0826</td>\n",
       "    </tr>\n",
       "    <tr>\n",
       "      <th>(-3.5919, -2.7947)</th>\n",
       "      <td>0.290</td>\n",
       "      <td>0.0437</td>\n",
       "      <td>0.2463</td>\n",
       "    </tr>\n",
       "    <tr>\n",
       "      <th>(-4.3891, -3.5919)</th>\n",
       "      <td>0.165</td>\n",
       "      <td>0.0101</td>\n",
       "      <td>0.1549</td>\n",
       "    </tr>\n",
       "    <tr>\n",
       "      <th>(0.394, 1.1911)</th>\n",
       "      <td>0.115</td>\n",
       "      <td>0.0988</td>\n",
       "      <td>0.0162</td>\n",
       "    </tr>\n",
       "    <tr>\n",
       "      <th>(1.1911, 1.9883)</th>\n",
       "      <td>0.055</td>\n",
       "      <td>0.0317</td>\n",
       "      <td>0.0233</td>\n",
       "    </tr>\n",
       "    <tr>\n",
       "      <th>-</th>\n",
       "      <td>1.000</td>\n",
       "      <td>0.9908</td>\n",
       "      <td>0.2463</td>\n",
       "    </tr>\n",
       "  </tbody>\n",
       "</table>\n",
       "</div>"
      ],
      "text/plain": [
       "                        0       1       2\n",
       "(-0.4032, 0.394)    0.005  0.1999  0.1949\n",
       "(-1.2004, -0.4032)  0.035  0.2619  0.2269\n",
       "(-1.9976, -1.2004)  0.130  0.2224  0.0924\n",
       "(-2.7947, -1.9976)  0.205  0.1224  0.0826\n",
       "(-3.5919, -2.7947)  0.290  0.0437  0.2463\n",
       "(-4.3891, -3.5919)  0.165  0.0101  0.1549\n",
       "(0.394, 1.1911)     0.115  0.0988  0.0162\n",
       "(1.1911, 1.9883)    0.055  0.0317  0.0233\n",
       "-                   1.000  0.9908  0.2463"
      ]
     },
     "execution_count": 61,
     "metadata": {},
     "output_type": "execute_result"
    }
   ],
   "source": [
    "res[0]"
   ]
  },
  {
   "cell_type": "code",
   "execution_count": 62,
   "metadata": {},
   "outputs": [
    {
     "data": {
      "text/html": [
       "<div>\n",
       "<style scoped>\n",
       "    .dataframe tbody tr th:only-of-type {\n",
       "        vertical-align: middle;\n",
       "    }\n",
       "\n",
       "    .dataframe tbody tr th {\n",
       "        vertical-align: top;\n",
       "    }\n",
       "\n",
       "    .dataframe thead th {\n",
       "        text-align: right;\n",
       "    }\n",
       "</style>\n",
       "<table border=\"1\" class=\"dataframe\">\n",
       "  <thead>\n",
       "    <tr style=\"text-align: right;\">\n",
       "      <th></th>\n",
       "      <th>0</th>\n",
       "      <th>1</th>\n",
       "      <th>2</th>\n",
       "    </tr>\n",
       "  </thead>\n",
       "  <tbody>\n",
       "    <tr>\n",
       "      <th>(0.5261, 1.4781)</th>\n",
       "      <td>0.580</td>\n",
       "      <td>0.6125</td>\n",
       "      <td>0.0325</td>\n",
       "    </tr>\n",
       "    <tr>\n",
       "      <th>(1.4781, 2.4301)</th>\n",
       "      <td>0.270</td>\n",
       "      <td>0.2364</td>\n",
       "      <td>0.0336</td>\n",
       "    </tr>\n",
       "    <tr>\n",
       "      <th>(2.4301, 3.3821)</th>\n",
       "      <td>0.105</td>\n",
       "      <td>0.0912</td>\n",
       "      <td>0.0138</td>\n",
       "    </tr>\n",
       "    <tr>\n",
       "      <th>(3.3821, 4.3341)</th>\n",
       "      <td>0.005</td>\n",
       "      <td>0.0352</td>\n",
       "      <td>0.0302</td>\n",
       "    </tr>\n",
       "    <tr>\n",
       "      <th>(4.3341, 5.2861)</th>\n",
       "      <td>0.025</td>\n",
       "      <td>0.0136</td>\n",
       "      <td>0.0114</td>\n",
       "    </tr>\n",
       "    <tr>\n",
       "      <th>(5.2861, 6.2381)</th>\n",
       "      <td>0.005</td>\n",
       "      <td>0.0052</td>\n",
       "      <td>0.0002</td>\n",
       "    </tr>\n",
       "    <tr>\n",
       "      <th>(6.2381, 7.1901)</th>\n",
       "      <td>0.005</td>\n",
       "      <td>0.0020</td>\n",
       "      <td>0.0030</td>\n",
       "    </tr>\n",
       "    <tr>\n",
       "      <th>(7.1901, 8.1421)</th>\n",
       "      <td>0.005</td>\n",
       "      <td>0.0008</td>\n",
       "      <td>0.0042</td>\n",
       "    </tr>\n",
       "    <tr>\n",
       "      <th>-</th>\n",
       "      <td>1.000</td>\n",
       "      <td>0.9970</td>\n",
       "      <td>0.0336</td>\n",
       "    </tr>\n",
       "  </tbody>\n",
       "</table>\n",
       "</div>"
      ],
      "text/plain": [
       "                      0       1       2\n",
       "(0.5261, 1.4781)  0.580  0.6125  0.0325\n",
       "(1.4781, 2.4301)  0.270  0.2364  0.0336\n",
       "(2.4301, 3.3821)  0.105  0.0912  0.0138\n",
       "(3.3821, 4.3341)  0.005  0.0352  0.0302\n",
       "(4.3341, 5.2861)  0.025  0.0136  0.0114\n",
       "(5.2861, 6.2381)  0.005  0.0052  0.0002\n",
       "(6.2381, 7.1901)  0.005  0.0020  0.0030\n",
       "(7.1901, 8.1421)  0.005  0.0008  0.0042\n",
       "-                 1.000  0.9970  0.0336"
      ]
     },
     "execution_count": 62,
     "metadata": {},
     "output_type": "execute_result"
    }
   ],
   "source": [
    "res[1]"
   ]
  },
  {
   "cell_type": "code",
   "execution_count": 63,
   "metadata": {},
   "outputs": [
    {
     "data": {
      "text/html": [
       "<div>\n",
       "<style scoped>\n",
       "    .dataframe tbody tr th:only-of-type {\n",
       "        vertical-align: middle;\n",
       "    }\n",
       "\n",
       "    .dataframe tbody tr th {\n",
       "        vertical-align: top;\n",
       "    }\n",
       "\n",
       "    .dataframe thead th {\n",
       "        text-align: right;\n",
       "    }\n",
       "</style>\n",
       "<table border=\"1\" class=\"dataframe\">\n",
       "  <thead>\n",
       "    <tr style=\"text-align: right;\">\n",
       "      <th></th>\n",
       "      <th>0</th>\n",
       "      <th>1</th>\n",
       "      <th>2</th>\n",
       "    </tr>\n",
       "  </thead>\n",
       "  <tbody>\n",
       "    <tr>\n",
       "      <th>(-0.0744, 0.0504)</th>\n",
       "      <td>0.150</td>\n",
       "      <td>0.1248</td>\n",
       "      <td>0.0252</td>\n",
       "    </tr>\n",
       "    <tr>\n",
       "      <th>(-0.1993, -0.0744)</th>\n",
       "      <td>0.140</td>\n",
       "      <td>0.1249</td>\n",
       "      <td>0.0151</td>\n",
       "    </tr>\n",
       "    <tr>\n",
       "      <th>(-0.3242, -0.1993)</th>\n",
       "      <td>0.105</td>\n",
       "      <td>0.1249</td>\n",
       "      <td>0.0199</td>\n",
       "    </tr>\n",
       "    <tr>\n",
       "      <th>(-0.449, -0.3242)</th>\n",
       "      <td>0.120</td>\n",
       "      <td>0.1248</td>\n",
       "      <td>0.0048</td>\n",
       "    </tr>\n",
       "    <tr>\n",
       "      <th>(0.0504, 0.1753)</th>\n",
       "      <td>0.155</td>\n",
       "      <td>0.1249</td>\n",
       "      <td>0.0301</td>\n",
       "    </tr>\n",
       "    <tr>\n",
       "      <th>(0.1753, 0.3002)</th>\n",
       "      <td>0.095</td>\n",
       "      <td>0.1249</td>\n",
       "      <td>0.0299</td>\n",
       "    </tr>\n",
       "    <tr>\n",
       "      <th>(0.3002, 0.425)</th>\n",
       "      <td>0.115</td>\n",
       "      <td>0.1248</td>\n",
       "      <td>0.0098</td>\n",
       "    </tr>\n",
       "    <tr>\n",
       "      <th>(0.425, 0.5499)</th>\n",
       "      <td>0.120</td>\n",
       "      <td>0.1249</td>\n",
       "      <td>0.0049</td>\n",
       "    </tr>\n",
       "    <tr>\n",
       "      <th>-</th>\n",
       "      <td>1.000</td>\n",
       "      <td>0.9989</td>\n",
       "      <td>0.0301</td>\n",
       "    </tr>\n",
       "  </tbody>\n",
       "</table>\n",
       "</div>"
      ],
      "text/plain": [
       "                        0       1       2\n",
       "(-0.0744, 0.0504)   0.150  0.1248  0.0252\n",
       "(-0.1993, -0.0744)  0.140  0.1249  0.0151\n",
       "(-0.3242, -0.1993)  0.105  0.1249  0.0199\n",
       "(-0.449, -0.3242)   0.120  0.1248  0.0048\n",
       "(0.0504, 0.1753)    0.155  0.1249  0.0301\n",
       "(0.1753, 0.3002)    0.095  0.1249  0.0299\n",
       "(0.3002, 0.425)     0.115  0.1248  0.0098\n",
       "(0.425, 0.5499)     0.120  0.1249  0.0049\n",
       "-                   1.000  0.9989  0.0301"
      ]
     },
     "execution_count": 63,
     "metadata": {},
     "output_type": "execute_result"
    }
   ],
   "source": [
    "res[2]"
   ]
  },
  {
   "cell_type": "code",
   "execution_count": 64,
   "metadata": {
    "collapsed": true
   },
   "outputs": [],
   "source": [
    "for df, type_r in zip(res, ['norm', 'expon', 'uniform']):\n",
    "    df.to_csv(type_r + '.csv', sep=';', encoding='utf-8')"
   ]
  },
  {
   "cell_type": "code",
   "execution_count": null,
   "metadata": {
    "collapsed": true
   },
   "outputs": [],
   "source": []
  }
 ],
 "metadata": {
  "kernelspec": {
   "display_name": "Python 3",
   "language": "python",
   "name": "python3"
  },
  "language_info": {
   "codemirror_mode": {
    "name": "ipython",
    "version": 3
   },
   "file_extension": ".py",
   "mimetype": "text/x-python",
   "name": "python",
   "nbconvert_exporter": "python",
   "pygments_lexer": "ipython3",
   "version": "3.5.1"
  }
 },
 "nbformat": 4,
 "nbformat_minor": 2
}
