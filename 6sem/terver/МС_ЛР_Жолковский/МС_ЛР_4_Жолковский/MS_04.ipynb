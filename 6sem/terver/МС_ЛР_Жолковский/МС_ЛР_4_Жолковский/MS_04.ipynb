{
 "cells": [
  {
   "cell_type": "code",
   "execution_count": 1,
   "metadata": {
    "collapsed": true
   },
   "outputs": [],
   "source": [
    "import math\n",
    "import numpy\n",
    "from numpy import arange as frange\n",
    "\n",
    "import matplotlib.mlab as mlab\n",
    "import matplotlib.pyplot as plt\n",
    "\n",
    "import scipy.stats as pystats\n",
    "import scipy\n",
    "\n",
    "from docx import Document"
   ]
  },
  {
   "cell_type": "code",
   "execution_count": 2,
   "metadata": {
    "collapsed": true
   },
   "outputs": [],
   "source": [
    "kolm = {\n",
    "    0.01 : 1.63,\n",
    "    0.02 : 1.57,\n",
    "    0.05 : 1.36,\n",
    "    0.1 : 1.22,\n",
    "    0.2 : 1.07\n",
    "}"
   ]
  },
  {
   "cell_type": "code",
   "execution_count": 3,
   "metadata": {
    "collapsed": true
   },
   "outputs": [],
   "source": [
    "head_1_str = [\n",
    "    'a', 'b', 'N', 'D_N', 'D_N sqrt{N}', 'x^*', 'F (x^*)', 'F_N (x^*)', 'F_N (x^* - 0)'\n",
    "]\n",
    "head_2_str = [\n",
    "    'N', 'M', 'D_N,M', 'K_N,M', 'x^*', 'F_N (x^*)', 'F_N (x^* - 0)', 'F_M (x^*)', 'F_M (x^* - 0)'\n",
    "]\n",
    "\n",
    "head_3_str = [\n",
    "    'D_N sqrt{N}', 'alpha', 'k_alpha', 'Верность гипотезы'\n",
    "]\n",
    "head_4_str = [\n",
    "    'alpha', 'pval', 'Верность гипотезы'\n",
    "]\n",
    "\n",
    "head_5_str = [\n",
    "    'K_N,M', 'alpha', 'k_alpha', 'Верность гипотезы'\n",
    "]\n",
    "head_6_str = [\n",
    "    'alpha', 'pval', 'Верность гипотезы'\n",
    "]"
   ]
  },
  {
   "cell_type": "code",
   "execution_count": 4,
   "metadata": {
    "collapsed": true
   },
   "outputs": [],
   "source": [
    "hyp_text = {True : 'Да',\n",
    "            False : 'Нет'}"
   ]
  },
  {
   "cell_type": "code",
   "execution_count": 5,
   "metadata": {
    "collapsed": true
   },
   "outputs": [],
   "source": [
    "def strm(a):\n",
    "    n = len(a)\n",
    "    b = a[0]\n",
    "    m = len(b)\n",
    "    for i in range(n):\n",
    "        for k in range(m):\n",
    "            if type(a[i][k]) == int:\n",
    "                a[i][k] = str(a[i][k])\n",
    "            elif type(a[i][k]) != str:\n",
    "                a[i][k] = str('%.5f'% a[i][k])"
   ]
  },
  {
   "cell_type": "code",
   "execution_count": 6,
   "metadata": {
    "collapsed": true
   },
   "outputs": [],
   "source": [
    "def strm_lite(a):\n",
    "    n = len(a)\n",
    "    b = a[0]\n",
    "    m = len(b)\n",
    "    for i in range(n):\n",
    "        for k in range(m):\n",
    "            if type(a[i][k]) == int:\n",
    "                a[i][k] = str(a[i][k])\n",
    "            elif type(a[i][k]) != str:\n",
    "                a[i][k] = str(a[i][k])"
   ]
  },
  {
   "cell_type": "code",
   "execution_count": 7,
   "metadata": {
    "collapsed": true
   },
   "outputs": [],
   "source": [
    "def line_out(l, cols = 10):\n",
    "    tbl = []\n",
    "    q = []\n",
    "    for i in range(len(l)):\n",
    "        q.append(l[i])\n",
    "        if (len(q) == 10) or (i+1 == len(l)):\n",
    "            while(len(q) != 10):\n",
    "                q.append('')\n",
    "            tbl.append(q)\n",
    "            q = []\n",
    "    return tbl"
   ]
  },
  {
   "cell_type": "code",
   "execution_count": 8,
   "metadata": {
    "collapsed": true
   },
   "outputs": [],
   "source": [
    "def onetablein(docname):\n",
    "    document = Document(docname)\n",
    "    table = document.tables[0]\n",
    "    array = []\n",
    "    for i in range(0,len(table.rows)):\n",
    "        row = table.rows[i]\n",
    "        for cell in row.cells:\n",
    "            try:\n",
    "                array.append(float(cell.text.replace(',','.')))\n",
    "            except:\n",
    "                continue\n",
    "    return array"
   ]
  },
  {
   "cell_type": "code",
   "execution_count": 9,
   "metadata": {},
   "outputs": [
    {
     "name": "stdout",
     "output_type": "stream",
     "text": [
      "[5.48848, 3.01468, 1.52398, 4.17952, 3.77314, 4.15594, 5.93128, 0.78484, 4.35748, 5.76826, 2.50318, 0.49498, 1.08742, 5.12908, 4.03246, 2.48062, 5.49532, 4.83544, 0.38986, 5.56102, 5.76352, 4.31086, 4.30144, 5.81002, 3.32386, 2.99866, 1.11922, 1.98514, 3.90286, 3.8536, 4.31812, 3.99022, 1.36768, 5.9071, 2.97988, 0.49612, 0.87382, 3.18976, 5.61922, 4.17046, 4.38838, 5.46724, 5.04448, 3.97648, 5.6239, 1.01638, 3.328, 4.87192, 4.27534, 5.93236, 4.08688, 2.2927, 4.79428, 4.5718, 1.14088, 5.92648, 3.72838, 5.78992, 2.9119, 5.95954, 2.3149, 5.22262, 5.9002, 4.33204, 0.59668, 5.44888, 4.11088, 3.5635, 2.9959, 4.16296, 2.63944, 5.99356, 3.9808, 2.48494, 2.63464, 2.33446, 3.2095, 4.81978, 1.05436, 5.42752, 0.52954, 0.82522, 2.52532, 2.9071, 5.89408, 2.09272, 4.86634, 2.06416, 2.51224, 0.93814, 2.07454, 1.33936, 5.78236, 2.035, 1.39936, 0.10372, 0.95908, 3.61018, 1.1776, 5.4811, 1.2103, 3.78706, 2.30752, 4.46176, 0.18784, 2.67502, 0.1801, 0.30586, 0.8542, 2.79004, 5.43328, 4.33996, 6.03304, 1.42936, 2.03332, 4.88668, 2.4016, 4.79224, 1.2793, 5.68678, 3.24352, 3.22804, 5.16154, 5.94868, 2.20612, 2.28754, 1.27138, 1.93174, 5.88634, 1.68946, 0.74812, 1.72516, 2.11474, 3.94108, 5.67454, 4.82668, 4.03888, 5.54794, 5.85418, 4.06408, 1.87168, 0.6205, 1.71376, 3.24424, 3.2629, 4.23484, 0.53296, 4.45528, 4.51744, 4.44412, 3.80044, 0.16912, 6.09958, 4.38868, 3.80344, 1.19848, 1.17004, 1.17172, 0.3724, 1.81198, 2.00848, 3.13882, 4.95424, 4.85422, 5.14078, 2.59702, 0.8881, 1.83604, 0.21754, 2.34778, 3.1516, 0.68506, 2.98336, 1.6246, 0.83896, 2.45788, 1.34152, 1.55722, 4.67602, 2.4772, 6.06682, 2.01586, 1.03162, 3.49174, 3.29734, 5.84986, 5.3836, 5.34892, 4.02508, 3.57148, 3.1018, 4.89724, 1.9804, 2.19358, 4.78906, 6.03904, 1.09852, 1.49374, 5.31676, 3.60034, 4.92538, 3.8014, 2.85154, 3.36118, 3.42166, 3.8665, 3.37708, 6.03988, 3.09022, 5.24374, 3.84316, 0.5701, 1.16368, 4.77148, 1.60462, 1.5316, 5.10202, 1.2739, 3.457, 5.35168, 1.82686, 0.32992, 5.32156, 2.65498, 5.5384] 0.1 6.1\n",
      "\n",
      "[1.45028, 3.67544, 0.99338, 0.68942, 3.77204, 0.95696, 5.69132, 2.06816, 4.8425, 3.4892, 1.37864, 4.82846, 0.30458, 1.81586, 0.23426, 0.22784, 1.0028, 2.7218, 0.31778, 3.7409, 5.51726, 3.97742, 4.89818, 3.08882, 4.89188, 1.30232, 1.86506, 2.21042, 5.53082, 5.29076, 4.22588, 1.07132, 0.44462, 2.20448, 1.0022, 1.139, 3.0482, 0.2675, 4.9808, 2.1308, 0.2756, 3.76202, 1.0088, 5.41478, 4.74554, 5.75366, 6.06098, 4.30694, 3.34646, 1.28078, 5.75636, 0.49358, 5.30564, 3.80342, 1.9412, 5.47946, 4.25822, 5.25854, 2.12486, 3.29726, 4.58864, 3.85706, 5.67398, 0.14984, 2.84372, 1.439, 4.68602, 2.3177, 3.74504, 5.67782, 1.51316, 3.41618, 0.1193, 5.1332, 4.51922, 2.64836, 1.66214, 2.03138, 2.21456, 2.3498, 0.6827, 5.88158, 0.1514, 5.86022, 5.14712, 1.80008, 2.27576, 4.0199, 1.32638, 0.71672, 2.55206, 0.25148, 0.14522, 1.72466, 3.14204, 1.56752, 4.6673, 3.98846, 5.46518, 5.34134, 5.48198, 5.50676, 2.52806, 3.03446, 2.32394, 3.19352, 5.81996, 1.8113, 4.42898, 3.914, 5.94236, 3.1193, 4.65782, 5.459, 6.02174, 5.22014, 5.03576, 3.94484, 4.0766, 4.7972, 2.36858, 0.62888, 3.818, 1.1105, 3.76742, 0.45182, 0.84812, 1.9652, 2.3438, 3.55958, 2.33846, 4.8866, 5.28806, 3.69542, 1.81184, 2.0882, 1.97876, 0.16796, 2.54378, 3.0272, 3.695, 0.43304, 3.77684, 4.59662, 0.29102, 4.46696, 2.29976, 3.48026, 1.20398, 6.0485, 5.0987, 5.10056, 0.45296, 0.82772, 0.26846, 3.61586, 5.77616, 5.85794, 5.43236, 5.2877, 4.08566, 3.64766, 5.0972, 5.79566, 1.38968, 5.72594, 4.9766, 0.24872, 2.40164, 4.07234, 4.73318, 1.52918, 3.45482, 2.4914, 2.61662, 0.72896, 3.73388, 3.4109, 4.09646, 2.2322]\n"
     ]
    }
   ],
   "source": [
    "ud2 = onetablein('Data/UD-2.docx')\n",
    "ud2a = 0.1\n",
    "ud2b = 6.1\n",
    "ud3 = onetablein('Data/UD-3.docx')\n",
    "print(ud2, ud2a, ud2b)\n",
    "print()\n",
    "print(ud3)"
   ]
  },
  {
   "cell_type": "code",
   "execution_count": 10,
   "metadata": {
    "collapsed": true
   },
   "outputs": [],
   "source": [
    "class UniSample():\n",
    "    def __init__(self, array, a, b):\n",
    "        self.array = [i for i in array]\n",
    "        self.n = len(array)\n",
    "        self.a = a\n",
    "        self.b = b\n",
    "    \n",
    "    def Fj(self,x):\n",
    "        s = 0\n",
    "        for i in self.array:\n",
    "            if i <= x:\n",
    "                s = s + 1\n",
    "        return s/self.n\n",
    "    \n",
    "    def Fjo(self,x):\n",
    "        s = 0\n",
    "        for i in self.array:\n",
    "            if i < x:\n",
    "                s = s + 1\n",
    "        return s/self.n\n",
    "    \n",
    "    def F(self,x):\n",
    "        if x < self.a:\n",
    "            return 0\n",
    "        if x > self.b:\n",
    "            return 1\n",
    "        return (x-self.a)/(self.b-self.a)\n",
    "    \n",
    "    def Dn(self):\n",
    "        a = [max([abs(self.Fj(i)-self.F(i)), abs(self.Fjo(i)-self.F(i))]) for i in self.array]\n",
    "        \n",
    "        return(max(a))\n",
    "    \n",
    "    def xx(self):\n",
    "        for i in self.array:\n",
    "            if self.Dn() == max([abs(self.Fj(i)-self.F(i)), abs(self.Fjo(i)-self.F(i))]):\n",
    "                return i\n",
    "    \n",
    "    def out_1(self):\n",
    "        x = self.xx()\n",
    "        l = [\n",
    "            self.a,\n",
    "            self.b,\n",
    "            self.n,\n",
    "            self.Dn(),\n",
    "            self.Dn()*(self.n**0.5),\n",
    "            x,\n",
    "            self.F(x),\n",
    "            self.Fj(x),\n",
    "            self.Fjo(x)\n",
    "        ]\n",
    "        return l\n",
    "    \n",
    "    def Graf(self, filename = 'Data/Uni_Graf.png', dx = 0.00001):\n",
    "        xmin = self.a - (self.b - self.a)/8\n",
    "        xmax = self.b + (self.b - self.a)/8\n",
    "        xlist = frange(xmin, xmax, dx)\n",
    "        ylist = [self.F(x) for x in xlist]\n",
    "        zlist = [self.Fj(x) for x in xlist]\n",
    "        plt.plot(xlist, ylist, color = 'blue', alpha = 0.75, linewidth = 2)\n",
    "        plt.plot(xlist, zlist, color = 'red', linewidth = 1.5)\n",
    "        plt.grid(True)\n",
    "        plt.savefig(filename, dpi = 128)\n",
    "        plt.clf()\n",
    "        print('Done! [gr_1]')\n",
    "        \n",
    "    def out_3(self, alpha = 0.05):\n",
    "        dn = self.Dn()*(self.n**0.5)\n",
    "        ka = kolm[alpha]\n",
    "        l = [\n",
    "            dn,\n",
    "            str(alpha),\n",
    "            str(ka),\n",
    "            hyp_text[dn <= ka]\n",
    "        ]\n",
    "        return l\n",
    "    \n",
    "    def out_4(self, alpha = 0.05):\n",
    "        g = pystats.kstest(self.array, scipy.stats.uniform(loc = self.a, scale = self.b-self.a).cdf).pvalue\n",
    "        l = [            \n",
    "            alpha,\n",
    "            g,\n",
    "            hyp_text[g >= alpha]\n",
    "        ]\n",
    "        return l\n",
    "    \n",
    "    def hyp(self, alpha = 0.05):\n",
    "        dn = self.Dn()*(self.n**0.5)\n",
    "        ka = kolm[alpha]\n",
    "        return dn <= ka"
   ]
  },
  {
   "cell_type": "code",
   "execution_count": 11,
   "metadata": {},
   "outputs": [
    {
     "name": "stdout",
     "output_type": "stream",
     "text": [
      "[0.1, 6.1, 225, 0.061078888888888905, 0.9161833333333336, 3.77314, 0.61219, 0.5555555555555556, 0.5511111111111111]\n",
      "Done! [gr_1]\n",
      "[0.9161833333333336, '0.05', '1.36', 'Да']\n",
      "[0.05, 0.35839668998740404, 'Да']\n"
     ]
    },
    {
     "data": {
      "text/plain": [
       "<Figure size 432x288 with 0 Axes>"
      ]
     },
     "metadata": {},
     "output_type": "display_data"
    }
   ],
   "source": [
    "us = UniSample(ud2, ud2a, ud2b)\n",
    "print(us.out_1())\n",
    "us.Graf(dx = 0.01)\n",
    "print(us.out_3())\n",
    "print(us.out_4())"
   ]
  },
  {
   "cell_type": "code",
   "execution_count": 12,
   "metadata": {
    "collapsed": true
   },
   "outputs": [],
   "source": [
    "class DoubleSample():\n",
    "    def __init__(self, arr_1, arr_2):\n",
    "        self.arr_1 = [i for i in arr_1]\n",
    "        self.arr_2 = [i for i in arr_2]\n",
    "        self.n = len(arr_1)\n",
    "        self.m = len(arr_2)\n",
    "        self.a = min(sorted(arr_1)[0], sorted(arr_2)[0])\n",
    "        self.b = max(sorted(arr_1)[self.n - 1], sorted(arr_2)[self.m - 1])\n",
    "    \n",
    "    def Fn(self,x):\n",
    "        s = 0\n",
    "        for i in self.arr_1:\n",
    "            if i <= x:\n",
    "                s = s + 1\n",
    "        return s/self.n\n",
    "    \n",
    "    def Fno(self,x):\n",
    "        s = 0\n",
    "        for i in self.arr_1:\n",
    "            if i < x:\n",
    "                s = s + 1\n",
    "        return s/self.n\n",
    "    \n",
    "    def Fm(self,x):\n",
    "        s = 0\n",
    "        for i in self.arr_2:\n",
    "            if i <= x:\n",
    "                s = s + 1\n",
    "        return s/self.m\n",
    "    \n",
    "    def Fmo(self,x):\n",
    "        s = 0\n",
    "        for i in self.arr_2:\n",
    "            if i < x:\n",
    "                s = s + 1\n",
    "        return s/self.m\n",
    "    \n",
    "    def Dnm(self):\n",
    "        l = []\n",
    "        l.extend([abs(self.Fn(i) - self.Fm(i)) for i in self.arr_1])\n",
    "        l.extend([abs(self.Fno(i) - self.Fm(i)) for i in self.arr_1])\n",
    "        l.extend([abs(self.Fn(i) - self.Fm(i)) for i in self.arr_2])\n",
    "        l.extend([abs(self.Fn(i) - self.Fmo(i)) for i in self.arr_2])\n",
    "        return max(l)\n",
    "    \n",
    "    def Knm(self):\n",
    "        return ((self.n*self.m/(self.n+self.m))**0.5)*self.Dnm()\n",
    "    \n",
    "    def xx(self):\n",
    "        for i in self.arr_1:\n",
    "            if (self.Dnm() == abs(self.Fn(i) - self.Fm(i))):\n",
    "                return i\n",
    "            if (self.Dnm() == abs(self.Fno(i) - self.Fm(i))):\n",
    "                return i\n",
    "        for i in self.arr_1:\n",
    "            if (self.Dnm() == abs(self.Fn(i) - self.Fm(i))):\n",
    "                return i\n",
    "            if (self.Dnm() == abs(self.Fn(i) - self.Fmo(i))):\n",
    "                return i\n",
    "    \n",
    "    def out_2(self):\n",
    "        x = self.xx()\n",
    "        l = [\n",
    "            self.n,\n",
    "            self.m,\n",
    "            self.Dnm(),\n",
    "            self.Knm(),\n",
    "            x,\n",
    "            self.Fn(x),\n",
    "            self.Fno(x),\n",
    "            self.Fm(x),\n",
    "            self.Fmo(x)\n",
    "        ]\n",
    "        return l\n",
    "    \n",
    "    def Graf(self, filename = 'Data/Double_Graf.png', dx = 0.00001):\n",
    "        xmin = self.a - (self.b - self.a)/8\n",
    "        xmax = self.b + (self.b - self.a)/8\n",
    "        xlist = frange(xmin, xmax, dx)\n",
    "        ylist = [self.Fn(x) for x in xlist]\n",
    "        zlist = [self.Fm(x) for x in xlist]\n",
    "        plt.plot(xlist, ylist, color = 'Green',  linewidth = 1.5)\n",
    "        plt.plot(xlist, zlist, color = 'red', linewidth = 1.5)\n",
    "        plt.grid(True)\n",
    "        plt.savefig(filename, dpi = 128)\n",
    "        plt.clf()\n",
    "        print('Done! [gr_2]')\n",
    "        \n",
    "    def out_5(self, alpha = 0.05):\n",
    "        Knm = self.Knm()\n",
    "        ka = kolm[alpha]\n",
    "        l = [\n",
    "            Knm,\n",
    "            str(alpha),\n",
    "            str(ka),\n",
    "            hyp_text[Knm <= ka]\n",
    "        ]\n",
    "        return l\n",
    "    \n",
    "    def out_6(self, alpha = 0.05):\n",
    "        g = scipy.stats.ks_2samp(self.arr_1, self.arr_2).pvalue\n",
    "        l = [\n",
    "            str(alpha),\n",
    "            g,\n",
    "            hyp_text[g >= alpha]\n",
    "        ]\n",
    "        return l\n",
    "    \n",
    "    def hyp(self, alpha = 0.05):\n",
    "        Knm = self.Knm()\n",
    "        ka = kolm[alpha]\n",
    "        return Knm <= ka"
   ]
  },
  {
   "cell_type": "code",
   "execution_count": 13,
   "metadata": {},
   "outputs": [
    {
     "name": "stdout",
     "output_type": "stream",
     "text": [
      "\n",
      "['N', 'M', 'D_N,M', 'K_N,M', 'x^*', 'F_N (x^*)', 'F_N (x^* - 0)', 'F_M (x^*)', 'F_M (x^* - 0)']\n",
      "[225, 180, 0.0711111111111111, 0.711111111111111, 0.49498, 0.044444444444444446, 0.04, 0.1111111111111111, 0.1111111111111111]\n",
      "\n",
      "['K_N,M', 'alpha', 'k_alpha', 'Верность гипотезы']\n",
      "[0.711111111111111, '0.05', '1.36', 'Да']\n",
      "\n",
      "['alpha', 'pval', 'Верность гипотезы']\n",
      "['0.05', 0.6665607685159748, 'Да']\n"
     ]
    }
   ],
   "source": [
    "usd = DoubleSample(ud2, ud3)\n",
    "print()\n",
    "print(head_2_str)\n",
    "print(usd.out_2())\n",
    "print()\n",
    "#usd.Graf(dx = 0.01)\n",
    "print(head_5_str)\n",
    "print(usd.out_5())\n",
    "print()\n",
    "print(head_6_str)\n",
    "print(usd.out_6())"
   ]
  },
  {
   "cell_type": "code",
   "execution_count": 14,
   "metadata": {
    "collapsed": true
   },
   "outputs": [],
   "source": [
    "def tabler(document, out, head = None):\n",
    "    tl = []\n",
    "    if head != None:\n",
    "        tl.append(head)\n",
    "    for i in out:\n",
    "        tl.append(i)\n",
    "    strm(tl)\n",
    "    \n",
    "    table = document.add_table(rows = len(tl),cols = len(tl[0]))\n",
    "    for i in range(len(tl)):\n",
    "        hdr_cells = table.rows[i].cells\n",
    "        for k in range(len(tl[0])):\n",
    "            if type(tl[i][k]) == str:\n",
    "                hdr_cells[k].text = tl[i][k]\n",
    "            else:\n",
    "                pass #LaTeh"
   ]
  },
  {
   "cell_type": "code",
   "execution_count": 15,
   "metadata": {
    "collapsed": true
   },
   "outputs": [],
   "source": [
    "text_anal_1 = {\n",
    "    True : 'Гипотеза о соответствии выборки равномерному распределению на отрезке [a, b] не противоречит экспериментальным данным (может быть принята) при уровне значимости alpha = 0,05.',\n",
    "    False : 'Гипотеза о соответствии выборки равномерному распределению на отрезке [a, b] противоречит экспериментальным данным (не может быть принята) при уровне значимости alpha = 0,05.'\n",
    "}\n",
    "\n",
    "text_anal_2 = {\n",
    "    True : 'Гипотеза об одинаковом распределении двух случайных выборок не противоречит экспериментальным данным (может быть принята) при уровне значимости alpha = 0,05.',\n",
    "    False : 'Гипотеза об одинаковом распределении двух случайных выборок противоречит экспериментальным данным (не может быть принята) при уровне значимости alpha = 0,05.'\n",
    "}"
   ]
  },
  {
   "cell_type": "code",
   "execution_count": 16,
   "metadata": {
    "collapsed": true
   },
   "outputs": [],
   "source": [
    "def doccreator(arr_1, arr_2, a,b, filename = 'Data/some'):\n",
    "    document = Document()\n",
    "    document.add_paragraph('Результаты расчетов')\n",
    "    \n",
    "    document.add_paragraph('Задание 1)')\n",
    "    tbl = line_out(arr_1)\n",
    "    document.add_paragraph('Полученная выборка:')\n",
    "    tabler(document,tbl)\n",
    "    document.add_paragraph('')\n",
    "    tbl = line_out(sorted(arr_1))\n",
    "    document.add_paragraph('Упорядоченная выборка:')\n",
    "    tabler(document, tbl)\n",
    "    document.add_paragraph('')\n",
    "    us = UniSample(arr_1, a, b)\n",
    "    us.Graf(filename = filename + '_1.png')\n",
    "    document.add_picture(filename + '_1.png')\n",
    "    document.add_paragraph('')\n",
    "    out_1 = us.out_1()\n",
    "    tabler(document, [out_1], head_1_str)\n",
    "    document.add_paragraph('')\n",
    "    s = 'При втором способе проверки гипотезы о соответствии'\n",
    "    s = s + ' выборки равномерному распределению с помощью критерия Колмогорова значение функции: pval = ' \n",
    "    s = s + str('%.5f'% us.out_4()[1])\n",
    "    document.add_paragraph(s)\n",
    "    \n",
    "    \n",
    "    document.add_paragraph('')\n",
    "    document.add_paragraph('')\n",
    "    \n",
    "    document.add_paragraph('Задание 2)')\n",
    "    document.add_paragraph('Полученная выборка:')\n",
    "    document.add_paragraph('X')\n",
    "    tbl = line_out(arr_1)\n",
    "    tabler(document,tbl)\n",
    "    document.add_paragraph('')\n",
    "    document.add_paragraph('Y')\n",
    "    tbl = line_out(arr_2)\n",
    "    tabler(document,tbl)\n",
    "    document.add_paragraph('')\n",
    "    document.add_paragraph('Упорядоченная выборка:')\n",
    "    document.add_paragraph('X')\n",
    "    tbl = line_out(sorted(arr_1))\n",
    "    tabler(document,tbl)\n",
    "    document.add_paragraph('')\n",
    "    document.add_paragraph('Y')\n",
    "    tbl = line_out(sorted(arr_2))\n",
    "    tabler(document,tbl)\n",
    "    document.add_paragraph('')\n",
    "    ds = DoubleSample(arr_1, arr_2)\n",
    "    ds.Graf(filename = filename + '_2.png')\n",
    "    document.add_picture(filename + '_2.png')\n",
    "    out_2 = ds.out_2()\n",
    "    tabler(document, [out_2], head_2_str)\n",
    "    s = 'При втором способе проверки гипотезы о соответствии'\n",
    "    s = s + ' выборки равномерному распределению с помощью критерия Колмогорова значение функции: pval = ' \n",
    "    s = s + str('%.5f'% ds.out_6()[1])\n",
    "    document.add_paragraph(s)\n",
    "    \n",
    "    document.add_paragraph('')\n",
    "    document.add_paragraph('')\n",
    "    \n",
    "    document.add_paragraph('Анализ результатов и выводы')\n",
    "    document.add_paragraph('Таблица критических значений:')\n",
    "    tbl = [['alpha'], ['k_alpha']]\n",
    "    tbl[0].extend([str(i) for i in kolm])\n",
    "    tbl[1].extend([str(kolm[i]) for i in kolm])\n",
    "    tabler(document, tbl)\n",
    "    document.add_paragraph('')\n",
    "    document.add_paragraph('Задание 1)')\n",
    "    tabler(document, [us.out_3()], head_3_str)\n",
    "    document.add_paragraph('')\n",
    "    tabler(document, [us.out_4()], head_4_str)\n",
    "    document.add_paragraph(text_anal_1[us.hyp()])\n",
    "    document.add_paragraph('')\n",
    "    document.add_paragraph('Задание 2)')\n",
    "    tabler(document, [ds.out_5()], head_5_str)\n",
    "    document.add_paragraph('')\n",
    "    tabler(document, [ds.out_6()], head_6_str)\n",
    "    document.add_paragraph(text_anal_2[ds.hyp()])\n",
    "    document.add_paragraph('')\n",
    "\n",
    "    \n",
    "    \n",
    "    document.save(filename + '.docx')\n",
    "    print('Done! [doc]')"
   ]
  },
  {
   "cell_type": "code",
   "execution_count": 17,
   "metadata": {},
   "outputs": [
    {
     "name": "stdout",
     "output_type": "stream",
     "text": [
      "Done! [gr_1]\n",
      "Done! [gr_2]\n",
      "Done! [doc]\n"
     ]
    },
    {
     "data": {
      "text/plain": [
       "<Figure size 432x288 with 0 Axes>"
      ]
     },
     "metadata": {},
     "output_type": "display_data"
    }
   ],
   "source": [
    "doccreator(ud2, ud3, ud2a, ud2b)"
   ]
  },
  {
   "cell_type": "code",
   "execution_count": null,
   "metadata": {
    "collapsed": true
   },
   "outputs": [],
   "source": []
  }
 ],
 "metadata": {
  "kernelspec": {
   "display_name": "Python 3",
   "language": "python",
   "name": "python3"
  },
  "language_info": {
   "codemirror_mode": {
    "name": "ipython",
    "version": 3
   },
   "file_extension": ".py",
   "mimetype": "text/x-python",
   "name": "python",
   "nbconvert_exporter": "python",
   "pygments_lexer": "ipython3",
   "version": "3.7.3"
  }
 },
 "nbformat": 4,
 "nbformat_minor": 2
}
