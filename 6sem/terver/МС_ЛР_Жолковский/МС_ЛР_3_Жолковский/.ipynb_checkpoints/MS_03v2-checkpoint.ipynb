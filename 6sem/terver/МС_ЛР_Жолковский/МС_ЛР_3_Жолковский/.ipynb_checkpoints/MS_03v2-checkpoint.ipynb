{
 "cells": [
  {
   "cell_type": "code",
   "execution_count": 1,
   "metadata": {
    "collapsed": true
   },
   "outputs": [],
   "source": [
    "import math\n",
    "import numpy\n",
    "\n",
    "import matplotlib.mlab as mlab\n",
    "import matplotlib.pyplot as plt\n",
    "\n",
    "import scipy\n",
    "import scipy.stats as pystats\n",
    "from scipy.stats import norm as pynorm\n",
    "from scipy.stats import uniform as pyuni\n",
    "\n",
    "from docx import Document"
   ]
  },
  {
   "cell_type": "code",
   "execution_count": 2,
   "metadata": {
    "collapsed": true
   },
   "outputs": [],
   "source": [
    "def strm(a):\n",
    "    n = len(a)\n",
    "    b = a[0]\n",
    "    m = len(b)\n",
    "    for i in range(n):\n",
    "        for k in range(m):\n",
    "            if type(a[i][k]) == int:\n",
    "                a[i][k] = str(a[i][k])\n",
    "            elif type(a[i][k]) != str:\n",
    "                a[i][k] = str('%.5f'% a[i][k])"
   ]
  },
  {
   "cell_type": "code",
   "execution_count": 3,
   "metadata": {
    "collapsed": true
   },
   "outputs": [],
   "source": [
    "def onetablein(docname):\n",
    "    document = Document(docname)\n",
    "    table = document.tables[0]\n",
    "    array = []\n",
    "    for i in range(3,len(table.rows)):\n",
    "        row = table.rows[i]\n",
    "        for cell in row.cells:\n",
    "            array.append(float(cell.text.replace(',','.')))\n",
    "    return array"
   ]
  },
  {
   "cell_type": "code",
   "execution_count": 4,
   "metadata": {
    "collapsed": true
   },
   "outputs": [],
   "source": [
    "krit_tbl = {\n",
    "    '4' : 9.5,\n",
    "    '5' : 11.1,\n",
    "    '6' : 12.6,\n",
    "    '7' : 14.1,\n",
    "    '8' : 15.5,\n",
    "}"
   ]
  },
  {
   "cell_type": "code",
   "execution_count": 5,
   "metadata": {},
   "outputs": [
    {
     "name": "stdout",
     "output_type": "stream",
     "text": [
      "[1.92365, -0.43155, 1.36435, 5.14544, 2.16002, 3.61435, 2.70394, 4.40222, 4.8374, 2.348, 1.87288, -0.36546, 1.17146, 3.02195, 2.76149, 2.81781, 0.51601, 3.30936, 3.2757, 1.99111, 4.40654, -1.06476, -1.43942, 4.34415, 2.22585, -0.72345, -1.18285, 1.75347, 0.14753, 2.4504, 0.65075, 0.48186, 1.39074, -0.17639, 5.62525, 0.16266, 0.68723, 2.68218, 3.3957, 2.78495, 4.32249, 2.60918, 3.68796, 1.6393, -1.73594, 0.70755, 1.44801, 2.76711, 1.61134, 0.86595, 5.17584, 2.48844, 2.7462, 1.29275, -0.12955, 0.30437, 3.92553, 1.8305, 1.35917, -0.20611, 0.61034, 4.32075, 4.70628, 2.71336, 0.09041, 3.38228, -1.02662, 4.92292, -0.50132, -1.44649, 2.05346, 1.46523, 3.48264, 5.24415, 1.59208, 2.5658, 0.0855, -0.21459, 6.07177, 1.26182, 2.52106, 3.19858, 0.15165, 3.80342, 0.97333, 2.41426, 2.22649, 4.13931, 2.58577, 0.68432, 4.11534, 2.93305, -0.07391, 2.47106, 2.90067, 1.59135, 2.47911, 2.91506, 1.36584, 3.5738, -0.06971, 2.91889, -0.94149, 1.76009, 3.13532, -1.46288, 3.03293, -1.28704, 2.44911, 1.84909, -0.05458, -0.51888, 2.57643, 1.91565, 3.29652, 3.39479, 2.64503, 2.64309, 3.07951, 0.8282, -0.0312, 2.86801, 1.27007, -0.85474, 3.56926, 0.09511, 0.70431, 4.20196, -1.6784, 3.099, -1.89598, -1.30452, 1.58809, -0.94294, 2.59101, -1.64154, 2.55224, 2.79878, 1.79134, 1.36763, 2.04454, 4.28018, 1.08233, 0.68189, 1.28313, 0.447, 3.81664, 2.79712, 1.29873, 0.48093, -0.66434, 2.36498, 1.30396, 1.08623, 0.44444, 1.30252, 1.84015, 2.1581, 1.4387, 2.53941, 1.07112, 2.29449, 3.58538, 3.82811, 2.35158, 4.07632, 1.82242, 2.92703, 0.72294, -0.13822, 2.85379, 4.13376, 1.80308, 0.93386, 2.84315, 1.06104, 5.19715, 3.92768, 0.5963, 2.33051, 4.36381, 3.49167, 2.74293, 4.27236, 1.2861, 2.3362, -0.20486, 1.14959, 0.53247, 2.88769, 1.45551, 5.14682, 4.05624, -0.79392, 1.31499, -0.32203, 3.12471, 2.57917, 2.15288, 1.07009, 2.59779, 3.62591, 3.00728, 3.09879, 1.28766, 2.06811, 2.1998, 4.4608, 2.60358, 1.06127, 2.93354, 1.42204, 1.31319, 3.2599, 2.7268, 1.68574, 0.81133, 2.97318, 2.08915, 1.11646, 4.22728, 0.16091, -0.45502, 5.14344, 2.07726, 2.62141, 2.67482, 4.9019, 1.83804, 1.844, 0.25135, 4.36952, -0.35253, 0.40354, 4.84454, 2.12738, 0.59978, 3.29426, 4.09134, -1.15953, 2.11121, 2.7324, 2.99344, 1.82926, 2.76051, 2.11771, 2.0024, 2.35136, 2.82351, 1.8101, 6.5606, 2.11408, 1.02921, 0.0826, 1.34898, 3.61522, 3.03793, 3.79764, 3.61104, -0.90767, 2.07747, -1.31999, -0.151, 3.42196, 1.57882, 3.6156, 5.85744, 4.39673, -0.29896, 0.64224]\n",
      "\n",
      "[2.19344, 2.04565, 4.16909, 5.89076, 7.16384, 2.91515, 6.52419, 4.76524, 2.01133, 2.43087, 7.20509, 6.84083, 6.83412, 3.48324, 3.69571, 2.06672, 3.13922, 4.44008, 4.35466, 2.21082, 7.01072, 6.36403, 3.56629, 5.1482, 5.69556, 2.50694, 3.42335, 4.06795, 5.2153, 6.7646, 3.20192, 4.41951, 3.62454, 2.92241, 4.67828, 5.60157, 6.09602, 5.55922, 7.20988, 5.56532, 4.86105, 2.19129, 7.31179, 5.89527, 6.42123, 7.4516, 6.20976, 5.9231, 6.74975, 3.82903, 7.17957, 5.43398, 6.23357, 2.70384, 6.63793, 2.92389, 6.14651, 5.96616, 4.40444, 4.84746, 6.31673, 7.29309, 5.45642, 6.39912, 6.40869, 3.8568, 6.74122, 2.89771, 6.21894, 5.30325, 6.32421, 6.60196, 6.80343, 6.4126, 5.96952, 3.02691, 4.71981, 6.35127, 4.11019, 6.00054, 3.3497, 2.91933, 2.62453, 2.71572, 2.41547, 7.36294, 7.06248, 4.72965, 4.04435, 6.39659, 5.46253, 7.34336, 6.4187, 5.12554, 3.17986, 4.38788, 3.70214, 3.29366, 7.43175, 6.82587, 4.58555, 2.46816, 3.33529, 7.30739, 2.35316, 7.46293, 5.19715, 2.90497, 2.5775, 2.96723, 4.0927, 3.75175, 6.58233, 4.53077, 2.24459, 6.82339, 5.68088, 2.12925, 3.97769, 3.49677, 7.48383, 7.34034, 5.79671, 5.64205, 3.59737, 6.0023, 2.05544, 3.59808, 4.0685, 3.93958, 7.13865, 2.28529, 3.87578, 3.58015, 5.16943, 5.46253, 5.57605, 2.7419, 5.37794, 6.3934, 5.06449, 4.87337, 3.27083, 2.15208, 2.14592, 5.79522, 6.00406, 2.64653, 4.13395, 2.63388, 2.84035, 3.15319, 6.94835, 4.62647, 6.76432, 3.76253, 3.03763, 6.95402, 3.91901, 5.36149, 3.27743, 6.09074, 2.24002, 2.43703, 4.4348, 4.5613, 5.02082, 7.07441, 7.34386, 2.80405, 4.05337, 2.24651, 3.63889, 3.82292, 5.17235, 5.49217, 3.72024, 4.15512, 6.67297, 6.24793, 2.74701, 3.79135, 5.21387, 4.0047, 5.24044, 6.55076, 5.64073, 2.32632, 5.57291, 3.51613, 5.86084, 2.72837, 4.60612, 4.38733, 3.54726, 4.34949, 2.56887, 6.53448, 6.56181, 6.52606, 2.03933, 7.30932, 4.06344, 4.87029, 2.67199, 4.33349, 4.14847, 5.29005, 3.37621, 5.07445, 7.4521, 2.92884, 6.3994, 3.45222, 6.23264, 3.42291, 3.68757, 7.42988, 5.00476, 4.11965, 4.5701, 3.40217, 5.4347, 2.53603, 6.2273, 4.62372, 5.03974, 6.39032, 2.7843, 2.57701, 3.9085, 2.04268, 2.00127, 4.49068, 3.41972, 4.54298, 6.52513, 2.40942, 5.05168, 5.07318, 4.52923, 5.53766, 5.63165, 2.16528, 2.20598, 4.63368, 5.20474, 4.1175, 3.25642, 7.47113, 4.86891, 7.22143, 5.22845, 2.1573, 3.48583, 2.86917, 5.8164, 3.29426, 5.40049, 4.019]\n",
      "\n",
      "0.05\n",
      "\n",
      "2 7.5\n",
      "\n"
     ]
    }
   ],
   "source": [
    "ln = onetablein('ND_9.docx')\n",
    "print(ln)\n",
    "print()\n",
    "lu = onetablein('UD_9.docx')\n",
    "print(lu)\n",
    "print()\n",
    "alfa = 0.05\n",
    "print(alfa)\n",
    "print()\n",
    "a = 2\n",
    "b = 7.5\n",
    "print(a,b)\n",
    "print()"
   ]
  },
  {
   "cell_type": "code",
   "execution_count": 6,
   "metadata": {
    "collapsed": true
   },
   "outputs": [],
   "source": [
    "class stat(object):\n",
    "    def __init__(self, array, m, ao = None, am = None):\n",
    "        self.m = m\n",
    "        if ao == None:\n",
    "            self.ao = min(array)\n",
    "        else:\n",
    "            self.ao = ao\n",
    "        if am == None:\n",
    "            self.am = max(array)\n",
    "        else:\n",
    "            self.am = am\n",
    "        self.h = (self.am - self.ao)/self.m\n",
    "        self.num = [self.ao + (i + 0.5)*self.h  for i in range(m)]\n",
    "        self.interval = [self.ao + i*self.h for i in range(m+1)]\n",
    "        self.cnt = [0 for i in range(m)]\n",
    "        for i in array:\n",
    "            for k in range(m):\n",
    "                if i <= self.interval[k+1]:\n",
    "                    break\n",
    "            self.cnt[k] = self.cnt[k] + 1\n",
    "        self.war = [i/len(array) for i in self.cnt]"
   ]
  },
  {
   "cell_type": "code",
   "execution_count": 7,
   "metadata": {
    "collapsed": true
   },
   "outputs": [],
   "source": [
    "class NormSample(object):\n",
    "    def __init__(self, array):\n",
    "        self.array = [i for i in array]\n",
    "        self.n = len(array)\n",
    "        self.m = 1 + int(math.log2(self.n))\n",
    "        self.stats = stat(array, self.m)\n",
    "    \n",
    "    def mean(self):\n",
    "        s = 0\n",
    "        for i in range(self.m):\n",
    "            s = s + self.stats.war[i]*self.stats.num[i]\n",
    "        return s\n",
    "    \n",
    "    def disp(self):\n",
    "        s = 0\n",
    "        for i in range(self.m):\n",
    "            s = s + self.stats.war[i]*(self.stats.num[i]**2)\n",
    "        return s - (self.stats.h**2)/12 - self.mean()**2\n",
    "    \n",
    "    def devi(self):\n",
    "        return self.disp()**0.5\n",
    "    \n",
    "    def graf(self, hist = True, theory = True, filename = 'graf_norm.png'):\n",
    "        dx = 0.005\n",
    "        xmin = self.stats.ao - self.stats.h\n",
    "        xmax = self.stats.am + self.stats.h\n",
    "        if hist:\n",
    "            plt.bar(\n",
    "                [i for i in self.stats.num],\n",
    "                [i/self.stats.h for i in self.stats.war],\n",
    "                color = 'blue', edgecolor = 'black', \n",
    "                linewidth = 1, alpha = 0.75, width = self.stats.h\n",
    "            )\n",
    "        if theory:\n",
    "            xlist = mlab.frange (xmin, xmax, dx)\n",
    "            ylist = [pystats.norm.pdf(xz, loc = self.mean(), scale = self.devi()) for xz in xlist]\n",
    "            plt.plot(xlist, ylist, color = 'red', linewidth = 2)\n",
    "        plt.savefig(filename)\n",
    "        plt.clf()\n",
    "    \n",
    "    def out_1(self):\n",
    "        l = []\n",
    "        for k in range(len(self.stats.interval)):\n",
    "            q = []\n",
    "            ak = self.stats.interval[k]\n",
    "            q.append(k)\n",
    "            q.append(ak)\n",
    "            q.append((ak - self.mean())/self.devi())\n",
    "            q.append(pynorm.pdf(q[2])/self.devi())\n",
    "            q.append(pynorm.cdf(q[2]))\n",
    "            if k == 0:\n",
    "                q.append('-')\n",
    "            elif k == 1:\n",
    "                q.append(q[4])\n",
    "            elif k == self.m:\n",
    "                q.append(1 - l[k-1][4])\n",
    "            else:\n",
    "                q.append(q[4] - l[k-1][4])\n",
    "            l.append(q)\n",
    "        return l\n",
    "    \n",
    "    def out_2(self):\n",
    "        out_1 = self.out_1()\n",
    "        l = []\n",
    "        f4 = 0\n",
    "        f5 = 0\n",
    "        for k in range(self.m):\n",
    "            q = []\n",
    "            q.append(k+1)\n",
    "            s = ''\n",
    "            if k == 0:\n",
    "                s = s + '['\n",
    "            else:\n",
    "                s = s + '('\n",
    "            s = s + str('%.5f'% out_1[k][1]) + '; ' + str('%.5f'% out_1[k+1][1]) + ']'\n",
    "            q.append(s)\n",
    "            q.append(self.stats.war[k])\n",
    "            q.append(out_1[k+1][5])\n",
    "            q.append(abs(q[2]-q[3]))\n",
    "            q.append(self.n*(q[4]**2)/q[3])\n",
    "            if q[4] > f4:\n",
    "                f4 = q[4]\n",
    "            f5 = f5 + q[5]\n",
    "            l.append(q)\n",
    "        l.append(['','','','',f4,f5])\n",
    "        return l\n",
    "        \n",
    "        \n",
    "    def hi2(self):\n",
    "        s = 0\n",
    "        n = [k for k in self.stats.cnt]\n",
    "        p = [k[3] for k in self.out_2()]\n",
    "        for k in range(self.m):\n",
    "            s = s + ((n[k]-self.n*p[k])**2)/(self.n*p[k])\n",
    "        return s\n",
    "    \n",
    "    def krit(self, tbl):\n",
    "        l = self.m - 3\n",
    "        if self.hi2() > tbl[str(l)]:\n",
    "            return False\n",
    "        else:\n",
    "            return True"
   ]
  },
  {
   "cell_type": "code",
   "execution_count": 41,
   "metadata": {},
   "outputs": [
    {
     "name": "stdout",
     "output_type": "stream",
     "text": [
      "1.9634221481481489\n",
      "2.87063820451835\n",
      "1.694295784247352\n",
      "\n",
      "[0, -1.89598, -2.2778798035330006, 0.0175873757567748, 0.011366869949336061, '-']\n",
      "[1, -0.9563599999999999, -1.723301312140836, 0.05333889762448412, 0.042417025306614384, 0.042417025306614384]\n",
      "[2, -0.016739999999999755, -1.168722820748672, 0.11893689304804571, 0.121257662215493, 0.07884063690887862]\n",
      "[3, 0.9228800000000004, -0.6141443293565079, 0.19499285739621458, 0.2695599785950523, 0.14830231637955932]\n",
      "[4, 1.8625000000000005, -0.05956583796434368, 0.23504465403648578, 0.47625071369532923, 0.2066907351002769]\n",
      "[5, 2.8021200000000004, 0.4950126534278203, 0.20831071647790805, 0.6897044056599178, 0.21345369196458852]\n",
      "[6, 3.741740000000001, 1.0495911448199848, 0.13573830066502213, 0.8530469349452889, 0.16334252928537119]\n",
      "[7, 4.6813600000000015, 1.6041696362121491, 0.0650313490640968, 0.945661667157201, 0.09261473221191208]\n",
      "[8, 5.620980000000001, 2.158748127604313, 0.022907235436421803, 0.9845651436112839, 0.038903476454082875]\n",
      "[9, 6.560600000000001, 2.7133266189964766, 0.005932696830508553, 0.996669429216835, 0.015434856388716112]\n",
      "\n",
      "[1, '[-1.89598; -0.95636]', 0.05185185185185185, 0.042417025306614384, 0.009434826545237467, 0.5666193432877507]\n",
      "[2, '(-0.95636; -0.01674]', 0.0962962962962963, 0.07884063690887862, 0.01745565938741768, 1.0434848738025846]\n",
      "[3, '(-0.01674; 0.92288]', 0.11481481481481481, 0.14830231637955932, 0.033487501564744504, 2.0416501432670775]\n",
      "[4, '(0.92288; 1.86250]', 0.1962962962962963, 0.2066907351002769, 0.01039443880398061, 0.14113828885104845]\n",
      "[5, '(1.86250; 2.80212]', 0.22962962962962963, 0.21345369196458852, 0.016175937665041107, 0.3309779201870643]\n",
      "[6, '(2.80212; 3.74174]', 0.16296296296296298, 0.16334252928537119, 0.0003795663224082091, 0.0002381441031245054]\n",
      "[7, '(3.74174; 4.68136]', 0.09259259259259259, 0.09261473221191208, 2.2139619319488935e-05, 1.4289728816835863e-06]\n",
      "[8, '(4.68136; 5.62098]', 0.040740740740740744, 0.038903476454082875, 0.0018372642866578692, 0.023427104696244476]\n",
      "[9, '(5.62098; 6.56060]', 0.014814814814814815, 0.015434856388716112, 0.0006200415739012963, 0.006725162631555488]\n",
      "['', '', '', '', 0.033487501564744504, 4.1542624097993315]\n",
      "\n",
      "4.154262409799331\n",
      "True\n"
     ]
    },
    {
     "name": "stderr",
     "output_type": "stream",
     "text": [
      "C:\\Users\\MI\\Anaconda3\\lib\\site-packages\\ipykernel_launcher.py:35: MatplotlibDeprecationWarning: numpy.arange\n"
     ]
    },
    {
     "data": {
      "text/plain": [
       "<Figure size 432x288 with 0 Axes>"
      ]
     },
     "metadata": {},
     "output_type": "display_data"
    }
   ],
   "source": [
    "sn = NormSample(ln)\n",
    "print(sn.mean())\n",
    "print(sn.disp())\n",
    "print(sn.devi())\n",
    "print()\n",
    "for i in sn.out_1():\n",
    "    print(i)\n",
    "print()\n",
    "for i in sn.out_2():\n",
    "    print(i)\n",
    "print()\n",
    "print(sn.hi2())\n",
    "print(sn.krit(krit_tbl))\n",
    "sn.graf()"
   ]
  },
  {
   "cell_type": "code",
   "execution_count": 42,
   "metadata": {
    "collapsed": true
   },
   "outputs": [],
   "source": [
    "class UniSample(object):\n",
    "    def __init__(self, array, a, b):\n",
    "        self.array = [i for i in array]\n",
    "        self.n = len(array)\n",
    "        self.a = a\n",
    "        self.b = b\n",
    "        self.m = 1 + int(math.log2(self.n))\n",
    "        self.stats = stat(array, self.m, ao = a, am = b)\n",
    "    \n",
    "    \n",
    "    def mean(self):\n",
    "        s = 0\n",
    "        for i in range(self.m):\n",
    "            s = s + self.stats.war[i]*self.stats.num[i]\n",
    "        return s\n",
    "    \n",
    "    def disp(self):\n",
    "        s = 0\n",
    "        for i in range(self.m):\n",
    "            s = s + self.stats.war[i]*(self.stats.num[i]**2)\n",
    "        return s - (self.stats.h**2)/12 - self.mean()**2\n",
    "    \n",
    "    def devi(self):\n",
    "        return self.disp()**0.5\n",
    "    \n",
    "    def graf(self, hist = True, theory = True, filename = 'graf_uni.png'):\n",
    "        dx = 0.005\n",
    "        xmin = self.stats.ao - self.stats.h\n",
    "        xmax = self.stats.am + self.stats.h\n",
    "        \n",
    "        if hist:\n",
    "            plt.bar(\n",
    "                [i for i in self.stats.num],\n",
    "                [i/self.stats.h for i in self.stats.war],\n",
    "                color = 'blue', edgecolor = 'black', \n",
    "                linewidth = 1, alpha = 0.75, width = self.stats.h\n",
    "            )\n",
    "        if theory:\n",
    "            xlist = mlab.frange (xmin, xmax, dx)\n",
    "            ylist = [pystats.uniform.pdf(xz, loc = self.a, scale = self.b - self.a) for xz in xlist]\n",
    "            plt.plot(xlist, ylist, color = 'red', linewidth = 2)\n",
    "        plt.savefig(filename)\n",
    "        plt.clf()\n",
    "        \n",
    "    def out_3(self):\n",
    "        l = []\n",
    "        f4 = 0\n",
    "        f5 = 0\n",
    "        for k in range(self.m):\n",
    "            q = []\n",
    "            q.append(k+1)\n",
    "            s = ''\n",
    "            if k == 0:\n",
    "                s = s + '['\n",
    "            else:\n",
    "                s = s + '('\n",
    "            s = s + str('%.5f'% self.stats.interval[k]) + '; ' + str('%.5f'% self.stats.interval[k+1]) + ']'\n",
    "            q.append(s)\n",
    "            q.append(self.stats.war[k])\n",
    "            q.append(1/self.m)\n",
    "            q.append(abs(q[2]-q[3]))\n",
    "            q.append(self.n*(q[4]**2)/q[3])\n",
    "            l.append(q)\n",
    "            if q[4] > f4:\n",
    "                f4 = q[4]\n",
    "            f5 = f5 + q[5]\n",
    "        l.append(['','','','',f4,f5])\n",
    "        return l\n",
    "    \n",
    "    def hi2(self):\n",
    "        s = 0\n",
    "        n = [k for k in self.stats.cnt]\n",
    "        p = [k[3] for k in self.out_3()]\n",
    "        for k in range(self.m):\n",
    "            s = s + ((n[k]-self.n*p[k])**2)/(self.n*p[k])\n",
    "        return s\n",
    "    \n",
    "    def krit(self, tbl):\n",
    "        l = self.m - 3\n",
    "        if self.hi2() > tbl[str(l)]:\n",
    "            return False\n",
    "        else:\n",
    "            return True"
   ]
  },
  {
   "cell_type": "code",
   "execution_count": 43,
   "metadata": {},
   "outputs": [
    {
     "name": "stdout",
     "output_type": "stream",
     "text": [
      "4.688888888888889\n",
      "2.4730500158277984\n",
      "1.5725934044843881\n",
      "\n",
      "[1, '[2.00000; 2.61111]', 0.12307692307692308, 0.1111111111111111, 0.011965811965811979, 0.3350427350427358]\n",
      "[2, '(2.61111; 3.22222]', 0.10384615384615385, 0.1111111111111111, 0.007264957264957253, 0.12350427350427311]\n",
      "[3, '(3.22222; 3.83333]', 0.12692307692307692, 0.1111111111111111, 0.01581196581196581, 0.5850427350427351]\n",
      "[4, '(3.83333; 4.44444]', 0.11538461538461539, 0.1111111111111111, 0.004273504273504286, 0.042735042735042986]\n",
      "[5, '(4.44444; 5.05556]', 0.09230769230769231, 0.1111111111111111, 0.018803418803418792, 0.8273504273504264]\n",
      "[6, '(5.05556; 5.66667]', 0.12692307692307692, 0.1111111111111111, 0.01581196581196581, 0.5850427350427351]\n",
      "[7, '(5.66667; 6.27778]', 0.08846153846153847, 0.1111111111111111, 0.02264957264957264, 1.2004273504273493]\n",
      "[8, '(6.27778; 6.88889]', 0.12307692307692308, 0.1111111111111111, 0.011965811965811979, 0.3350427350427358]\n",
      "[9, '(6.88889; 7.50000]', 0.1, 0.1111111111111111, 0.0111111111111111, 0.2888888888888883]\n",
      "['', '', '', '', 0.02264957264957264, 4.323076923076922]\n",
      "\n",
      "4.323076923076924\n",
      "True\n"
     ]
    },
    {
     "name": "stderr",
     "output_type": "stream",
     "text": [
      "C:\\Users\\MI\\Anaconda3\\lib\\site-packages\\ipykernel_launcher.py:39: MatplotlibDeprecationWarning: numpy.arange\n"
     ]
    },
    {
     "data": {
      "text/plain": [
       "<Figure size 432x288 with 0 Axes>"
      ]
     },
     "metadata": {},
     "output_type": "display_data"
    }
   ],
   "source": [
    "su = UniSample(lu,a,b)\n",
    "print(su.mean())\n",
    "print(su.disp())\n",
    "print(su.devi())\n",
    "print()\n",
    "for k in su.out_3():\n",
    "    print(k)\n",
    "print()\n",
    "print(su.hi2())\n",
    "print(su.krit(krit_tbl))\n",
    "su.graf()"
   ]
  },
  {
   "cell_type": "code",
   "execution_count": 44,
   "metadata": {
    "collapsed": true
   },
   "outputs": [],
   "source": [
    "head_1_str = [\n",
    "    'k',\n",
    "    'ak',\n",
    "    '(ak-a)/s',\n",
    "    '1/s*f((ak-a)/s)',\n",
    "    'F((ak-a)/s)',\n",
    "    'pk'\n",
    "]\n",
    "head_2_str = [\n",
    "    'k',\n",
    "    'Интервал',\n",
    "    'wk',\n",
    "    'pk',\n",
    "    '|wk-pk|',\n",
    "    'N(wk-pk)^2/pk'\n",
    "]"
   ]
  },
  {
   "cell_type": "code",
   "execution_count": 54,
   "metadata": {
    "collapsed": true
   },
   "outputs": [],
   "source": [
    "def tabler(document, out, head = None):\n",
    "    tl = []\n",
    "    if head != None:\n",
    "        tl.append(head)\n",
    "    for i in out:\n",
    "        tl.append(i)\n",
    "    strm(tl)\n",
    "    \n",
    "    table = document.add_table(rows = len(tl),cols = len(tl[0]))\n",
    "    for i in range(len(tl)):\n",
    "        hdr_cells = table.rows[i].cells\n",
    "        for k in range(len(tl[0])):\n",
    "            if type(tl[i][k]) == str:\n",
    "                hdr_cells[k].text = tl[i][k]\n",
    "            else:\n",
    "                pass #LaTeh\n",
    "    "
   ]
  },
  {
   "cell_type": "code",
   "execution_count": 55,
   "metadata": {
    "collapsed": true
   },
   "outputs": [],
   "source": [
    "def doc_task_1(document, sn):\n",
    "    document.add_paragraph('Задание 1)')\n",
    "    \n",
    "    document.add_paragraph('Полученная выборка:')\n",
    "    l = [i for i in sn.array]\n",
    "    tbl = []\n",
    "    q = []\n",
    "    for i in range(len(l)):\n",
    "        q.append(l[i])\n",
    "        if (len(q) == 10) or (i+1 == len(l)):\n",
    "            while(len(q) != 10):\n",
    "                q.append('')\n",
    "            tbl.append(q)\n",
    "            q = []\n",
    "    tabler(document, tbl)\n",
    "    \n",
    "    document.add_paragraph('')\n",
    "    document.add_paragraph('Упорядоченная выборка:')\n",
    "    l.sort()\n",
    "    tbl = []\n",
    "    q = []\n",
    "    for i in range(len(l)):\n",
    "        q.append(l[i])\n",
    "        if (len(q) == 10) or (i+1 == len(l)):\n",
    "            while(len(q) != 10):\n",
    "                q.append('')\n",
    "            tbl.append(q)\n",
    "            q = []\n",
    "    tabler(document, tbl)\n",
    "    \n",
    "    document.add_paragraph('')\n",
    "    document.add_paragraph('Группированная выборка (интервальный вариационный ряд):')\n",
    "    tbl = [['(ai-1,ai]'],['ni'],['wi']]\n",
    "    tbl[0].extend([i[1] for i in sn.out_2() if i[1] != ''])\n",
    "    tbl[1].extend(sn.stats.cnt)\n",
    "    tbl[2].extend(sn.stats.war)\n",
    "    tabler(document, tbl)\n",
    "    document.add_paragraph('<math>\\sum_{i=0}^\\{N}\\w_i</math> = ' + str('%.5f'% sum(sn.stats.war)))\n",
    "    \n",
    "    document.add_paragraph('Математическое ожидание: \\tilde{a} = ' + str('%.5f'% sn.mean()))\n",
    "    document.add_paragraph('Дисперсия: \\tilde{\\sigma}^2 = '+ str('%.5f'% sn.disp()))\n",
    "    document.add_paragraph('Среднеквадратическое отклонение: \\tilde{\\sigma} = ' + str('%.5f'% sn.devi()))\n",
    "    document.add_paragraph('')\n",
    "    \n",
    "    \n",
    "    tabler(document, sn.out_1(), head_1_str)    \n",
    "    document.add_paragraph('График плотности нормального распределения, наложенный на гистограмму относительных частот:')\n",
    "    sn.graf(filename = 'tsk1_graf.png')\n",
    "    document.add_picture('tsk1_graf.png')\n",
    "    \n",
    "    tabler(document, sn.out_2(), head_2_str)\n",
    "    document.add_paragraph('')\n",
    "    document.add_paragraph('\\chi_B^2 = '+ str('%.5f'% sn.hi2()))\n",
    "    document.add_paragraph('')\n"
   ]
  },
  {
   "cell_type": "code",
   "execution_count": 56,
   "metadata": {
    "collapsed": true
   },
   "outputs": [],
   "source": [
    "def doc_task_2(document, sn):\n",
    "    document.add_paragraph('Задание 2)')\n",
    "    document.add_paragraph('')\n",
    "    document.add_paragraph('a = ' + str(sn.a))\n",
    "    document.add_paragraph('b = ' + str(sn.b))\n",
    "    document.add_paragraph('')\n",
    "\n",
    "    \n",
    "    document.add_paragraph('Полученная выборка:')\n",
    "    l = [i for i in sn.array]\n",
    "    tbl = []\n",
    "    q = []\n",
    "    for i in range(len(l)):\n",
    "        q.append(l[i])\n",
    "        if (len(q) == 10) or (i+1 == len(l)):\n",
    "            while(len(q) != 10):\n",
    "                q.append('')\n",
    "            tbl.append(q)\n",
    "            q = []\n",
    "    tabler(document, tbl)\n",
    "    \n",
    "    document.add_paragraph('')\n",
    "    document.add_paragraph('Упорядоченная выборка:')\n",
    "    l.sort()\n",
    "    tbl = []\n",
    "    q = []\n",
    "    for i in range(len(l)):\n",
    "        q.append(l[i])\n",
    "        if (len(q) == 10) or (i+1 == len(l)):\n",
    "            while(len(q) != 10):\n",
    "                q.append('')\n",
    "            tbl.append(q)\n",
    "            q = []\n",
    "    tabler(document, tbl)\n",
    "    \n",
    "    document.add_paragraph('')\n",
    "    document.add_paragraph('Группированная выборка (интервальный вариационный ряд):')\n",
    "    tbl = [['(ai-1,ai]'],['ni'],['wi']]\n",
    "    tbl[0].extend([i[1] for i in sn.out_3() if i[1] != ''])\n",
    "    tbl[1].extend(sn.stats.cnt)\n",
    "    tbl[2].extend(sn.stats.war)\n",
    "    tabler(document, tbl)\n",
    "    document.add_paragraph('<math>\\sum_{i=0}^\\{N}\\w_i</math> = ' + str('%.5f'% sum(sn.stats.war)))\n",
    "    \n",
    "    document.add_paragraph('Математическое ожидание: \\tilde{a} = ' + str('%.5f'% sn.mean()))\n",
    "    document.add_paragraph('Дисперсия: \\tilde{\\sigma}^2 = '+ str('%.5f'% sn.disp()))\n",
    "    document.add_paragraph('Среднеквадратическое отклонение: \\tilde{\\sigma} = ' + str('%.5f'% sn.devi()))\n",
    "    document.add_paragraph('')\n",
    "    \n",
    "    document.add_paragraph('График плотности равномерного распределения, наложенный на гистограмму относительных частот:')\n",
    "    sn.graf(filename = 'tsk2_graf.png')\n",
    "    document.add_picture('tsk2_graf.png')\n",
    "    \n",
    "    \n",
    "    tabler(document, sn.out_3(), head_2_str)\n",
    "    document.add_paragraph('')\n",
    "    document.add_paragraph('\\chi_B^2 = '+ str('%.5f'% sn.hi2()))\n",
    "    document.add_paragraph('')"
   ]
  },
  {
   "cell_type": "code",
   "execution_count": 57,
   "metadata": {
    "collapsed": true
   },
   "outputs": [],
   "source": [
    "def doc_anal(document, sn, su, krit_table):\n",
    "    NormResult = {\n",
    "        True : 'Гипотеза о соответствии выборки нормальному распределению не противоречит экспериментальным данным (т.е. может быть принята) при уровне значимости alpha = 0,05. ',\n",
    "        False : 'Гипотеза о соответствии выборки нормальному распределению противоречит экспериментальным данным (т.е. не может быть принята) при уровне значимости alpha = 0,05. '\n",
    "    }\n",
    "    UniResult = {\n",
    "        True: 'Гипотеза о соответствии выборки равномерному распределению на отрезке [a, b] не противоречит экспериментальным данным (т.е. может быть принята) при уровне значимости alpha = 0,05. ',\n",
    "        False: 'Гипотеза о соответствии выборки равномерному распределению на отрезке [a, b] противоречит экспериментальным данным (т.е. не может быть принята) при уровне значимости alpha = 0,05. '\n",
    "    }\n",
    "    \n",
    "    document.add_paragraph('Анализ результатов и выводы')    \n",
    "    document.add_paragraph('')\n",
    "    document.add_paragraph('Таблица критических значений:')# \\chi_{кр,\\alpha}^2 (l) \n",
    "    tbl = [['l'],['chi']]#'\\chi_{кр,\\alpha}^2 (l)'\n",
    "    tbl[0].extend([i for i in krit_table])\n",
    "    tbl[1].extend([str(krit_table[i]) for i in krit_table])\n",
    "    tabler(document,tbl)\n",
    "    document.add_paragraph('')    \n",
    "    document.add_paragraph('1) Нормальное распределение')\n",
    "    document.add_paragraph('\\chi_B^2 = ' + str('%.5f'% sn.hi2()))\n",
    "    document.add_paragraph('chi(' + str(sn.m-3) + ') = ' + str(krit_table[str(sn.m-3)]) )#'\\chi_{кр,\\alpha}^2 (l)'\n",
    "    document.add_paragraph(NormResult[sn.krit(krit_table)])    \n",
    "\n",
    "    document.add_paragraph('')    \n",
    "    document.add_paragraph('2) Равномерное распределение')\n",
    "    document.add_paragraph('\\chi_B^2 = ' + str('%.5f'% su.hi2()))\n",
    "    document.add_paragraph('chi(' + str(su.m-3) + ') = ' + str(krit_table[str(su.m-3)]) )#'\\chi_{кр,\\alpha}^2 (l)'\n",
    "    document.add_paragraph(NormResult[su.krit(krit_table)])    \n"
   ]
  },
  {
   "cell_type": "code",
   "execution_count": 58,
   "metadata": {
    "collapsed": true
   },
   "outputs": [],
   "source": [
    "def doccreator(sn, su, krit_tbl, filename = 'final_doc.docx'):\n",
    "    document = Document()\n",
    "    doc_task_1(document, sn)\n",
    "    document.add_paragraph('')\n",
    "    doc_task_2(document, su)\n",
    "    document.add_paragraph('')\n",
    "    doc_anal(document, sn, su, krit_tbl)\n",
    "    document.save(filename)\n",
    "    print('Done!')"
   ]
  },
  {
   "cell_type": "code",
   "execution_count": 59,
   "metadata": {},
   "outputs": [
    {
     "name": "stderr",
     "output_type": "stream",
     "text": [
      "C:\\Users\\MI\\Anaconda3\\lib\\site-packages\\ipykernel_launcher.py:35: MatplotlibDeprecationWarning: numpy.arange\n",
      "C:\\Users\\MI\\Anaconda3\\lib\\site-packages\\ipykernel_launcher.py:39: MatplotlibDeprecationWarning: numpy.arange\n"
     ]
    },
    {
     "name": "stdout",
     "output_type": "stream",
     "text": [
      "Done!\n"
     ]
    },
    {
     "data": {
      "text/plain": [
       "<Figure size 432x288 with 0 Axes>"
      ]
     },
     "metadata": {},
     "output_type": "display_data"
    }
   ],
   "source": [
    "doccreator(sn, su, krit_tbl, filename = 'final_doc.docx')"
   ]
  },
  {
   "cell_type": "code",
   "execution_count": null,
   "metadata": {
    "collapsed": true
   },
   "outputs": [],
   "source": []
  }
 ],
 "metadata": {
  "kernelspec": {
   "display_name": "Python 3",
   "language": "python",
   "name": "python3"
  },
  "language_info": {
   "codemirror_mode": {
    "name": "ipython",
    "version": 3
   },
   "file_extension": ".py",
   "mimetype": "text/x-python",
   "name": "python",
   "nbconvert_exporter": "python",
   "pygments_lexer": "ipython3",
   "version": "3.7.3"
  }
 },
 "nbformat": 4,
 "nbformat_minor": 2
}
