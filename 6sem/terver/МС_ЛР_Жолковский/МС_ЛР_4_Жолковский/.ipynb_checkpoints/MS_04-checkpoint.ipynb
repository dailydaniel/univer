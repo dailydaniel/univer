{
 "cells": [
  {
   "cell_type": "code",
   "execution_count": 1,
   "metadata": {
    "collapsed": true
   },
   "outputs": [],
   "source": [
    "import math\n",
    "import numpy\n",
    "\n",
    "import matplotlib.mlab as mlab\n",
    "import matplotlib.pyplot as plt\n",
    "\n",
    "import scipy.stats as pystats\n",
    "import scipy\n",
    "\n",
    "from docx import Document"
   ]
  },
  {
   "cell_type": "code",
   "execution_count": null,
   "metadata": {
    "collapsed": true
   },
   "outputs": [],
   "source": []
  },
  {
   "cell_type": "code",
   "execution_count": 2,
   "metadata": {
    "collapsed": true
   },
   "outputs": [],
   "source": [
    "kolm = {\n",
    "    0.01 : 1.63,\n",
    "    0.02 : 1.57,\n",
    "    0.05 : 1.36,\n",
    "    0.1 : 1.22,\n",
    "    0.2 : 1.07\n",
    "}"
   ]
  },
  {
   "cell_type": "code",
   "execution_count": 3,
   "metadata": {
    "collapsed": true
   },
   "outputs": [],
   "source": [
    "head_1_str = [\n",
    "    'a', 'b', 'N', 'D_N', 'D_N sqrt{N}', 'x^*', 'F (x^*)', 'F_N (x^*)', 'F_N (x^* - 0)'\n",
    "]\n",
    "head_2_str = [\n",
    "    'N', 'M', 'D_N,M', 'K_N,M', 'x^*', 'F_N (x^*)', 'F_N (x^* - 0)', 'F_M (x^*)', 'F_M (x^* - 0)'\n",
    "]\n",
    "\n",
    "head_3_str = [\n",
    "    'D_N sqrt{N}', 'alpha', 'k_alpha', 'Верность гипотезы'\n",
    "]\n",
    "head_4_str = [\n",
    "    'alpha', 'pval', 'Верность гипотезы'\n",
    "]\n",
    "\n",
    "head_5_str = [\n",
    "    'K_N,M', 'alpha', 'k_alpha', 'Верность гипотезы'\n",
    "]\n",
    "head_6_str = [\n",
    "    'alpha', 'pval', 'Верность гипотезы'\n",
    "]"
   ]
  },
  {
   "cell_type": "code",
   "execution_count": 4,
   "metadata": {
    "collapsed": true
   },
   "outputs": [],
   "source": [
    "hyp_text = {\n",
    "    True : 'Да',\n",
    "    False : 'Нет'\n",
    "}"
   ]
  },
  {
   "cell_type": "code",
   "execution_count": null,
   "metadata": {
    "collapsed": true
   },
   "outputs": [],
   "source": []
  },
  {
   "cell_type": "code",
   "execution_count": null,
   "metadata": {
    "collapsed": true
   },
   "outputs": [],
   "source": []
  },
  {
   "cell_type": "code",
   "execution_count": 5,
   "metadata": {
    "collapsed": true
   },
   "outputs": [],
   "source": [
    "def strm(a):\n",
    "    n = len(a)\n",
    "    b = a[0]\n",
    "    m = len(b)\n",
    "    for i in range(n):\n",
    "        for k in range(m):\n",
    "            if type(a[i][k]) == int:\n",
    "                a[i][k] = str(a[i][k])\n",
    "            elif type(a[i][k]) != str:\n",
    "                a[i][k] = str('%.5f'% a[i][k])"
   ]
  },
  {
   "cell_type": "code",
   "execution_count": 6,
   "metadata": {
    "collapsed": true
   },
   "outputs": [],
   "source": [
    "def strm_lite(a):\n",
    "    n = len(a)\n",
    "    b = a[0]\n",
    "    m = len(b)\n",
    "    for i in range(n):\n",
    "        for k in range(m):\n",
    "            if type(a[i][k]) == int:\n",
    "                a[i][k] = str(a[i][k])\n",
    "            elif type(a[i][k]) != str:\n",
    "                a[i][k] = str(a[i][k])"
   ]
  },
  {
   "cell_type": "code",
   "execution_count": 7,
   "metadata": {
    "collapsed": true
   },
   "outputs": [],
   "source": [
    "def line_out(l, cols = 10):\n",
    "    tbl = []\n",
    "    q = []\n",
    "    for i in range(len(l)):\n",
    "        q.append(l[i])\n",
    "        if (len(q) == 10) or (i+1 == len(l)):\n",
    "            while(len(q) != 10):\n",
    "                q.append('')\n",
    "            tbl.append(q)\n",
    "            q = []\n",
    "    return tbl"
   ]
  },
  {
   "cell_type": "code",
   "execution_count": null,
   "metadata": {
    "collapsed": true
   },
   "outputs": [],
   "source": []
  },
  {
   "cell_type": "code",
   "execution_count": null,
   "metadata": {
    "collapsed": true
   },
   "outputs": [],
   "source": []
  },
  {
   "cell_type": "code",
   "execution_count": null,
   "metadata": {
    "collapsed": true
   },
   "outputs": [],
   "source": []
  },
  {
   "cell_type": "code",
   "execution_count": 8,
   "metadata": {
    "collapsed": true
   },
   "outputs": [],
   "source": [
    "def onetablein(docname):\n",
    "    document = Document(docname)\n",
    "    table = document.tables[0]\n",
    "    array = []\n",
    "    for i in range(0,len(table.rows)):\n",
    "        row = table.rows[i]\n",
    "        for cell in row.cells:\n",
    "            array.append(float(cell.text.replace(',','.')))\n",
    "    return array"
   ]
  },
  {
   "cell_type": "code",
   "execution_count": 9,
   "metadata": {},
   "outputs": [
    {
     "name": "stdout",
     "output_type": "stream",
     "text": [
      "[7.32109, 3.60672, 6.13974, 3.93133, 3.02053, 6.42332, 2.87956, 4.20682, 6.32075, 6.38686, 6.0298, 3.47516, 2.73024, 2.97763, 2.39166, 5.23076, 6.87872, 2.44534, 2.76494, 3.2969, 3.1143, 5.02869, 4.89465, 3.2199, 3.36499, 6.4918, 5.95401, 6.67517, 6.93218, 5.93855, 5.44443, 2.28919, 3.7886, 3.61161, 2.38379, 4.85841, 7.28935, 2.64367, 6.05625, 5.00718, 4.93678, 3.58796, 2.27148, 5.4727, 2.8569, 4.24884, 5.42997, 5.10431, 5.98255, 3.27358, 3.32897, 3.9442, 5.61636, 6.67935, 6.46749, 4.84598, 2.91157, 7.39957, 4.5058, 2.53235, 5.83306, 5.30055, 3.92643, 5.44262, 3.19961, 4.02169, 7.28275, 5.69188, 6.31723, 2.54703, 7.14811, 4.35681, 4.5366, 4.13098, 5.44586, 3.20857, 6.99521, 4.57956, 3.64021, 5.68863, 3.47934, 6.53838, 5.20386, 6.47953, 6.7905, 4.09644, 4.06201, 2.14696, 5.35412, 3.20852, 3.78816, 2.19371, 6.82922, 3.69582, 3.94821, 3.88419, 4.53429, 5.20579, 7.11484, 6.78616, 4.52478, 4.2082, 5.83103, 4.55134, 6.13578, 5.09381, 3.30279, 3.71578, 6.22076, 4.53242, 7.36586, 5.1636, 6.99785, 7.48757, 6.80332, 3.61387, 4.71794, 4.69671, 4.90725, 5.44504, 7.19156, 3.90223, 5.95929, 5.93795, 4.58264, 7.30778, 4.38249, 4.29884, 3.00106, 6.15756, 3.447, 6.30727, 3.01442, 7.08921, 4.31798, 4.68224, 4.68532, 7.44671, 4.08236, 3.0389, 4.49365, 6.77043, 4.10623, 5.11586, 5.85578, 2.48972, 3.68762, 3.08504, 5.67609, 5.64551, 4.57455, 3.8705, 6.63425, 4.95026, 2.73519, 5.24599, 4.66151, 2.30036, 4.27123, 3.36461, 5.10167, 4.19544, 4.53622, 2.15708, 5.54756, 4.27354, 2.79426, 5.15491, 5.06807, 5.84687, 5.44872, 2.71957, 5.0184, 2.66055, 3.68146, 2.16066, 3.6703, 7.08525, 2.10505, 3.3975, 6.53591, 4.72663, 6.36315, 2.0346, 4.79092, 2.97647, 3.40894, 2.33506, 4.90692, 5.54811, 3.47571, 5.60168, 2.8486, 5.13836, 5.3352, 4.9403, 4.52885, 6.95358, 3.69153, 6.84325, 3.14307, 6.06164, 7.25349, 7.10378, 3.40993, 2.43819, 2.9223, 5.94328, 4.68785, 5.80457, 3.49743, 2.92532, 5.6454, 3.54946, 4.32232, 4.91995, 2.57052, 6.8306, 3.90856, 4.62174, 5.36397, 4.11173, 3.6324, 2.48164, 6.21333] 2.0 7.5\n",
      "\n",
      "[4.39486, 5.66409, 5.64083, 5.47957, 5.508, 3.67491, 5.85054, 6.2296, 7.37481, 7.22934, 5.44794, 6.92365, 6.564, 2.77219, 4.04192, 3.98604, 4.76292, 3.23694, 3.70719, 5.81897, 2.94588, 7.25161, 6.61598, 5.80984, 7.10262, 3.60506, 5.18565, 3.7997, 2.07177, 3.95612, 3.12348, 6.52545, 3.33776, 3.14608, 4.92005, 4.24289, 4.58769, 6.74396, 7.14981, 3.98703, 6.36578, 3.34749, 2.98999, 5.9925, 3.33732, 6.73648, 7.21812, 2.65653, 5.05706, 6.06878, 7.14882, 2.39764, 6.88097, 3.05055, 4.67481, 6.1839, 6.98882, 4.16677, 2.71796, 3.19778, 6.34774, 2.65752, 6.70277, 2.28643, 3.63564, 4.68933, 6.43393, 2.31085, 2.68865, 4.82182, 6.57412, 4.60155, 4.94546, 6.93795, 2.11775, 3.41443, 5.068, 4.68504, 7.41469, 5.45163, 5.92188, 7.50714, 3.88275, 5.12036, 4.88678, 7.03282, 7.29985, 3.27445, 5.58616, 3.43615, 2.78011, 3.80207, 6.32486, 2.23165, 5.36698, 4.50343, 3.10489, 7.17681, 5.87199, 5.73598, 3.33952, 6.54992, 5.55822, 4.53456, 6.19891, 3.60225, 5.87744, 3.45546, 2.02463, 6.0679, 5.7005, 6.23422, 2.45121, 3.90393, 7.01803, 6.59046, 6.6498, 5.94289, 6.66652, 4.80406, 2.5726, 5.28597, 2.08266, 2.99115, 2.56429, 6.46533, 4.79009, 4.23074, 6.12015, 6.87354, 3.53471, 4.38782, 6.9814, 4.08416, 2.17434, 3.35118, 5.62411, 2.59031, 2.92751, 3.72864, 3.24085, 4.05969, 2.41249, 4.32176, 5.12306, 6.74902, 6.73802, 6.85842, 3.25586, 2.5919, 4.20241, 6.73951, 3.2854, 2.49263, 4.76182, 7.01671, 4.65215, 2.50077, 4.24344, 2.97982, 7.0711, 4.52323, 4.18008, 6.65624, 2.77302, 2.10367, 2.39649, 2.74425, 7.15525, 6.00047, 4.96086, 3.6226, 6.65189, 4.27353, 5.31325, 6.22658, 4.80901, 6.33168, 4.41141, 3.23491]\n"
     ]
    }
   ],
   "source": [
    "ud2 = onetablein('UD-2_10.docx')\n",
    "ud2a = 2.0\n",
    "ud2b = 7.5\n",
    "ud3 = onetablein('UD-3_10.docx')\n",
    "print(ud2, ud2a, ud2b)\n",
    "print()\n",
    "print(ud3)"
   ]
  },
  {
   "cell_type": "code",
   "execution_count": null,
   "metadata": {
    "collapsed": true
   },
   "outputs": [],
   "source": []
  },
  {
   "cell_type": "code",
   "execution_count": 14,
   "metadata": {
    "collapsed": true
   },
   "outputs": [],
   "source": [
    "class UniSample():\n",
    "    def __init__(self, array, a, b):\n",
    "        self.array = [i for i in array]\n",
    "        self.n = len(array)\n",
    "        self.a = a\n",
    "        self.b = b\n",
    "    \n",
    "    def Fj(self,x):\n",
    "        s = 0\n",
    "        for i in self.array:\n",
    "            if i <= x:\n",
    "                s = s + 1\n",
    "        return s/self.n\n",
    "    \n",
    "    def Fjo(self,x):\n",
    "        s = 0\n",
    "        for i in self.array:\n",
    "            if i < x:\n",
    "                s = s + 1\n",
    "        return s/self.n\n",
    "    \n",
    "    def F(self,x):\n",
    "        if x < self.a:\n",
    "            return 0\n",
    "        if x > self.b:\n",
    "            return 1\n",
    "        return (x-self.a)/(self.b-self.a)\n",
    "    \n",
    "    def Dn(self):\n",
    "        a = [max([abs(self.Fj(i)-self.F(i)), abs(self.Fjo(i)-self.F(i))]) for i in self.array]\n",
    "        \n",
    "        return(max(a))\n",
    "    \n",
    "    def xx(self):\n",
    "        for i in self.array:\n",
    "            if self.Dn() == max([abs(self.Fj(i)-self.F(i)), abs(self.Fjo(i)-self.F(i))]):\n",
    "                return i\n",
    "    \n",
    "    def out_1(self):\n",
    "        x = self.xx()\n",
    "        l = [\n",
    "            self.a,\n",
    "            self.b,\n",
    "            self.n,\n",
    "            self.Dn(),\n",
    "            self.Dn()*(self.n**0.5),\n",
    "            x,\n",
    "            self.F(x),\n",
    "            self.Fj(x),\n",
    "            self.Fjo(x)\n",
    "        ]\n",
    "        return l\n",
    "    \n",
    "    def Graf(self, filename = 'Uni_Graf.png', dx = 0.00001):\n",
    "        xmin = self.a - (self.b - self.a)/8\n",
    "        xmax = self.b + (self.b - self.a)/8\n",
    "        xlist = mlab.frange (xmin, xmax, dx)\n",
    "        ylist = [self.F(x) for x in xlist]\n",
    "        zlist = [self.Fj(x) for x in xlist]\n",
    "        plt.plot(xlist, ylist, color = 'blue', alpha = 0.75, linewidth = 2)\n",
    "        plt.plot(xlist, zlist, color = 'red', linewidth = 1.5)\n",
    "        plt.grid(True)\n",
    "        plt.savefig(filename, dpi = 128)\n",
    "        plt.clf()\n",
    "        print('Done! [gr_1]')\n",
    "        \n",
    "    def out_3(self, alpha = 0.05):\n",
    "        dn = self.Dn()*(self.n**0.5)\n",
    "        ka = kolm[alpha]\n",
    "        l = [\n",
    "            dn,\n",
    "            str(alpha),\n",
    "            str(ka),\n",
    "            hyp_text[dn <= ka]\n",
    "        ]\n",
    "        return l\n",
    "    \n",
    "    def out_4(self, alpha = 0.05):\n",
    "        g = pystats.kstest(self.array, scipy.stats.uniform(loc = self.a, scale = self.b-self.a).cdf).pvalue\n",
    "        l = [            \n",
    "            alpha,\n",
    "            g,\n",
    "            hyp_text[g >= alpha]\n",
    "        ]\n",
    "        return l\n",
    "    \n",
    "    def hyp(self, alpha = 0.05):\n",
    "        dn = self.Dn()*(self.n**0.5)\n",
    "        ka = kolm[alpha]\n",
    "        return dn <= ka"
   ]
  },
  {
   "cell_type": "code",
   "execution_count": 17,
   "metadata": {},
   "outputs": [
    {
     "name": "stdout",
     "output_type": "stream",
     "text": [
      "[2.0, 7.5, 225, 0.06208242424242416, 0.9312363636363624, 5.69188, 0.6712509090909091, 0.7333333333333333, 0.7288888888888889]\n",
      "Done! [gr_1]\n",
      "[0.9312363636363624, '0.05', '1.36', 'Да']\n",
      "[0.05, 0.3387667952280755, 'Да']\n",
      "KstestResult(statistic=0.2727435555555555, pvalue=2.886579864025407e-15)\n",
      "2.886579864025407e-15\n"
     ]
    },
    {
     "name": "stderr",
     "output_type": "stream",
     "text": [
      "C:\\Users\\MI\\Anaconda3\\lib\\site-packages\\ipykernel_launcher.py:57: MatplotlibDeprecationWarning: numpy.arange\n"
     ]
    },
    {
     "data": {
      "text/plain": [
       "<Figure size 432x288 with 0 Axes>"
      ]
     },
     "metadata": {},
     "output_type": "display_data"
    }
   ],
   "source": [
    "us = UniSample(ud2, ud2a, ud2b)\n",
    "print(us.out_1())\n",
    "us.Graf(dx = 0.01)\n",
    "print(us.out_3())\n",
    "print(us.out_4())"
   ]
  },
  {
   "cell_type": "code",
   "execution_count": null,
   "metadata": {
    "collapsed": true
   },
   "outputs": [],
   "source": []
  },
  {
   "cell_type": "code",
   "execution_count": 28,
   "metadata": {
    "collapsed": true
   },
   "outputs": [],
   "source": [
    "class DoubleSample():\n",
    "    def __init__(self, arr_1, arr_2):\n",
    "        self.arr_1 = [i for i in arr_1]\n",
    "        self.arr_2 = [i for i in arr_2]\n",
    "        self.n = len(arr_1)\n",
    "        self.m = len(arr_2)\n",
    "        self.a = min(sorted(arr_1)[0], sorted(arr_2)[0])\n",
    "        self.b = max(sorted(arr_1)[self.n - 1], sorted(arr_2)[self.m - 1])\n",
    "    \n",
    "    def Fn(self,x):\n",
    "        s = 0\n",
    "        for i in self.arr_1:\n",
    "            if i <= x:\n",
    "                s = s + 1\n",
    "        return s/self.n\n",
    "    \n",
    "    def Fno(self,x):\n",
    "        s = 0\n",
    "        for i in self.arr_1:\n",
    "            if i < x:\n",
    "                s = s + 1\n",
    "        return s/self.n\n",
    "    \n",
    "    def Fm(self,x):\n",
    "        s = 0\n",
    "        for i in self.arr_2:\n",
    "            if i <= x:\n",
    "                s = s + 1\n",
    "        return s/self.m\n",
    "    \n",
    "    def Fmo(self,x):\n",
    "        s = 0\n",
    "        for i in self.arr_2:\n",
    "            if i < x:\n",
    "                s = s + 1\n",
    "        return s/self.m\n",
    "    \n",
    "    def Dnm(self):\n",
    "        l = []\n",
    "        l.extend([abs(self.Fn(i) - self.Fm(i)) for i in self.arr_1])\n",
    "        l.extend([abs(self.Fno(i) - self.Fm(i)) for i in self.arr_1])\n",
    "        l.extend([abs(self.Fn(i) - self.Fm(i)) for i in self.arr_2])\n",
    "        l.extend([abs(self.Fn(i) - self.Fmo(i)) for i in self.arr_2])\n",
    "        return max(l)\n",
    "    \n",
    "    def Knm(self):\n",
    "        return ((self.n*self.m/(self.n+self.m))**0.5)*self.Dnm()\n",
    "    \n",
    "    def xx(self):\n",
    "        for i in self.arr_1:\n",
    "            if (self.Dnm() == abs(self.Fn(i) - self.Fm(i))):\n",
    "                return i\n",
    "            if (self.Dnm() == abs(self.Fno(i) - self.Fm(i))):\n",
    "                return i\n",
    "        for i in self.arr_1:\n",
    "            if (self.Dnm() == abs(self.Fn(i) - self.Fm(i))):\n",
    "                return i\n",
    "            if (self.Dnm() == abs(self.Fn(i) - self.Fmo(i))):\n",
    "                return i\n",
    "    \n",
    "    def out_2(self):\n",
    "        x = self.xx()\n",
    "        l = [\n",
    "            self.n,\n",
    "            self.m,\n",
    "            self.Dnm(),\n",
    "            self.Knm(),\n",
    "            x,\n",
    "            self.Fn(x),\n",
    "            self.Fno(x),\n",
    "            self.Fm(x),\n",
    "            self.Fmo(x)\n",
    "        ]\n",
    "        return l\n",
    "    \n",
    "    def Graf(self, filename = 'Double_Graf.png', dx = 0.00001):\n",
    "        xmin = self.a - (self.b - self.a)/8\n",
    "        xmax = self.b + (self.b - self.a)/8\n",
    "        xlist = mlab.frange (xmin, xmax, dx)\n",
    "        ylist = [self.Fn(x) for x in xlist]\n",
    "        zlist = [self.Fm(x) for x in xlist]\n",
    "        plt.plot(xlist, ylist, color = 'Green',  linewidth = 1.5)\n",
    "        plt.plot(xlist, zlist, color = 'red', linewidth = 1.5)\n",
    "        plt.grid(True)\n",
    "        plt.savefig(filename, dpi = 128)\n",
    "        plt.clf()\n",
    "        print('Done! [gr_2]')\n",
    "        \n",
    "    def out_5(self, alpha = 0.05):\n",
    "        Knm = self.Knm()\n",
    "        ka = kolm[alpha]\n",
    "        l = [\n",
    "            Knm,\n",
    "            str(alpha),\n",
    "            str(ka),\n",
    "            hyp_text[Knm <= ka]\n",
    "        ]\n",
    "        return l\n",
    "    \n",
    "    def out_6(self, alpha = 0.05):\n",
    "        g = scipy.stats.ks_2samp(self.arr_1, self.arr_2).pvalue\n",
    "        l = [\n",
    "            str(alpha),\n",
    "            g,\n",
    "            hyp_text[g >= alpha]\n",
    "        ]\n",
    "        return l\n",
    "    \n",
    "    def hyp(self, alpha = 0.05):\n",
    "        Knm = self.Knm()\n",
    "        ka = kolm[alpha]\n",
    "        return Knm <= ka"
   ]
  },
  {
   "cell_type": "code",
   "execution_count": 29,
   "metadata": {},
   "outputs": [
    {
     "name": "stdout",
     "output_type": "stream",
     "text": [
      "\n",
      "['N', 'M', 'D_N,M', 'K_N,M', 'x^*', 'F_N (x^*)', 'F_N (x^* - 0)', 'F_M (x^*)', 'F_M (x^* - 0)']\n",
      "[225, 180, 0.08999999999999997, 0.8999999999999997, 5.44586, 0.6844444444444444, 0.68, 0.5944444444444444, 0.5944444444444444]\n",
      "\n",
      "['K_N,M', 'alpha', 'k_alpha', 'Верность гипотезы']\n",
      "[0.8999999999999997, '0.05', '1.36', 'Да']\n",
      "\n",
      "['alpha', 'pval', 'Верность гипотезы']\n",
      "['0.05', 0.3766591349483967, 'Да']\n"
     ]
    }
   ],
   "source": [
    "usd = DoubleSample(ud2, ud3)\n",
    "print()\n",
    "print(head_2_str)\n",
    "print(usd.out_2())\n",
    "print()\n",
    "#usd.Graf(dx = 0.01)\n",
    "print(head_5_str)\n",
    "print(usd.out_5())\n",
    "print()\n",
    "print(head_6_str)\n",
    "print(usd.out_6())"
   ]
  },
  {
   "cell_type": "code",
   "execution_count": null,
   "metadata": {
    "collapsed": true
   },
   "outputs": [],
   "source": []
  },
  {
   "cell_type": "code",
   "execution_count": 30,
   "metadata": {
    "collapsed": true
   },
   "outputs": [],
   "source": [
    "def tabler(document, out, head = None):\n",
    "    tl = []\n",
    "    if head != None:\n",
    "        tl.append(head)\n",
    "    for i in out:\n",
    "        tl.append(i)\n",
    "    strm(tl)\n",
    "    \n",
    "    table = document.add_table(rows = len(tl),cols = len(tl[0]))\n",
    "    for i in range(len(tl)):\n",
    "        hdr_cells = table.rows[i].cells\n",
    "        for k in range(len(tl[0])):\n",
    "            if type(tl[i][k]) == str:\n",
    "                hdr_cells[k].text = tl[i][k]\n",
    "            else:\n",
    "                pass #LaTeh"
   ]
  },
  {
   "cell_type": "code",
   "execution_count": null,
   "metadata": {
    "collapsed": true
   },
   "outputs": [],
   "source": []
  },
  {
   "cell_type": "code",
   "execution_count": 31,
   "metadata": {
    "collapsed": true
   },
   "outputs": [],
   "source": [
    "text_anal_1 = {\n",
    "    True : 'Гипотеза о соответствии выборки равномерному распределению на отрезке [a, b] не противоречит экспериментальным данным (может быть принята) при уровне значимости alpha = 0,05.',\n",
    "    False : 'Гипотеза о соответствии выборки равномерному распределению на отрезке [a, b] противоречит экспериментальным данным (не может быть принята) при уровне значимости alpha = 0,05.'\n",
    "}\n",
    "\n",
    "text_anal_2 = {\n",
    "    True : 'Гипотеза об одинаковом распределении двух случайных выборок не противоречит экспериментальным данным (может быть принята) при уровне значимости alpha = 0,05.',\n",
    "    True : 'Гипотеза об одинаковом распределении двух случайных выборок противоречит экспериментальным данным (не может быть принята) при уровне значимости alpha = 0,05.'\n",
    "}"
   ]
  },
  {
   "cell_type": "code",
   "execution_count": null,
   "metadata": {
    "collapsed": true
   },
   "outputs": [],
   "source": []
  },
  {
   "cell_type": "code",
   "execution_count": 32,
   "metadata": {
    "collapsed": true
   },
   "outputs": [],
   "source": [
    "def doccreator(arr_1, arr_2, a,b, filename = 'some'):\n",
    "    document = Document()\n",
    "    document.add_paragraph('Результаты расчетов')\n",
    "    \n",
    "    document.add_paragraph('Задание 1)')\n",
    "    tbl = line_out(arr_1)\n",
    "    document.add_paragraph('Полученная выборка:')\n",
    "    tabler(document,tbl)\n",
    "    document.add_paragraph('')\n",
    "    tbl = line_out(sorted(arr_1))\n",
    "    document.add_paragraph('Упорядоченная выборка:')\n",
    "    tabler(document, tbl)\n",
    "    document.add_paragraph('')\n",
    "    us = UniSample(arr_1, a, b)\n",
    "    us.Graf(filename = filename + '_1.png')\n",
    "    document.add_picture(filename + '_1.png')\n",
    "    document.add_paragraph('')\n",
    "    out_1 = us.out_1()\n",
    "    tabler(document, [out_1], head_1_str)\n",
    "    document.add_paragraph('')\n",
    "    s = 'При втором способе проверки гипотезы о соответствии'\n",
    "    s = s + ' выборки равномерному распределению с помощью критерия Колмогорова значение функции: pval = ' \n",
    "    s = s + str('%.5f'% us.out_4()[1])\n",
    "    document.add_paragraph(s)\n",
    "    \n",
    "    \n",
    "    document.add_paragraph('')\n",
    "    document.add_paragraph('')\n",
    "    \n",
    "    document.add_paragraph('Задание 2)')\n",
    "    document.add_paragraph('Полученная выборка:')\n",
    "    document.add_paragraph('X')\n",
    "    tbl = line_out(arr_1)\n",
    "    tabler(document,tbl)\n",
    "    document.add_paragraph('')\n",
    "    document.add_paragraph('Y')\n",
    "    tbl = line_out(arr_2)\n",
    "    tabler(document,tbl)\n",
    "    document.add_paragraph('')\n",
    "    document.add_paragraph('Упорядоченная выборка:')\n",
    "    document.add_paragraph('X')\n",
    "    tbl = line_out(sorted(arr_1))\n",
    "    tabler(document,tbl)\n",
    "    document.add_paragraph('')\n",
    "    document.add_paragraph('Y')\n",
    "    tbl = line_out(sorted(arr_2))\n",
    "    tabler(document,tbl)\n",
    "    document.add_paragraph('')\n",
    "    ds = DoubleSample(arr_1, arr_2)\n",
    "    ds.Graf(filename = filename + '_2.png')\n",
    "    document.add_picture(filename + '_2.png')\n",
    "    out_2 = ds.out_2()\n",
    "    tabler(document, [out_2], head_2_str)\n",
    "    s = 'При втором способе проверки гипотезы о соответствии'\n",
    "    s = s + ' выборки равномерному распределению с помощью критерия Колмогорова значение функции: pval = ' \n",
    "    s = s + str('%.5f'% ds.out_6()[1])\n",
    "    document.add_paragraph(s)\n",
    "    \n",
    "    document.add_paragraph('')\n",
    "    document.add_paragraph('')\n",
    "    \n",
    "    document.add_paragraph('Анализ результатов и выводы')\n",
    "    document.add_paragraph('Таблица критических значений:')\n",
    "    tbl = [['alpha'], ['k_alpha']]\n",
    "    tbl[0].extend([str(i) for i in kolm])\n",
    "    tbl[1].extend([str(kolm[i]) for i in kolm])\n",
    "    tabler(document, tbl)\n",
    "    document.add_paragraph('')\n",
    "    document.add_paragraph('Задание 1)')\n",
    "    tabler(document, [us.out_3()], head_3_str)\n",
    "    document.add_paragraph('')\n",
    "    tabler(document, [us.out_4()], head_4_str)\n",
    "    document.add_paragraph(text_anal_1[us.hyp()])\n",
    "    document.add_paragraph('')\n",
    "    document.add_paragraph('Задание 2)')\n",
    "    tabler(document, [ds.out_5()], head_5_str)\n",
    "    document.add_paragraph('')\n",
    "    tabler(document, [ds.out_6()], head_6_str)\n",
    "    document.add_paragraph(text_anal_2[ds.hyp()])\n",
    "    document.add_paragraph('')\n",
    "\n",
    "    \n",
    "    \n",
    "    document.save(filename + '.docx')\n",
    "    print('Done! [doc]')"
   ]
  },
  {
   "cell_type": "code",
   "execution_count": 33,
   "metadata": {},
   "outputs": [
    {
     "name": "stderr",
     "output_type": "stream",
     "text": [
      "C:\\Users\\MI\\Anaconda3\\lib\\site-packages\\ipykernel_launcher.py:57: MatplotlibDeprecationWarning: numpy.arange\n"
     ]
    },
    {
     "name": "stdout",
     "output_type": "stream",
     "text": [
      "Done! [gr_1]\n"
     ]
    },
    {
     "name": "stderr",
     "output_type": "stream",
     "text": [
      "C:\\Users\\MI\\Anaconda3\\lib\\site-packages\\ipykernel_launcher.py:79: MatplotlibDeprecationWarning: numpy.arange\n"
     ]
    },
    {
     "name": "stdout",
     "output_type": "stream",
     "text": [
      "Done! [gr_2]\n",
      "Done! [doc]\n"
     ]
    },
    {
     "data": {
      "text/plain": [
       "<Figure size 432x288 with 0 Axes>"
      ]
     },
     "metadata": {},
     "output_type": "display_data"
    }
   ],
   "source": [
    "doccreator(ud2, ud3, ud2a, ud2b)"
   ]
  },
  {
   "cell_type": "code",
   "execution_count": null,
   "metadata": {
    "collapsed": true
   },
   "outputs": [],
   "source": []
  },
  {
   "cell_type": "code",
   "execution_count": null,
   "metadata": {
    "collapsed": true
   },
   "outputs": [],
   "source": []
  }
 ],
 "metadata": {
  "kernelspec": {
   "display_name": "Python 3",
   "language": "python",
   "name": "python3"
  },
  "language_info": {
   "codemirror_mode": {
    "name": "ipython",
    "version": 3
   },
   "file_extension": ".py",
   "mimetype": "text/x-python",
   "name": "python",
   "nbconvert_exporter": "python",
   "pygments_lexer": "ipython3",
   "version": "3.7.3"
  }
 },
 "nbformat": 4,
 "nbformat_minor": 2
}
