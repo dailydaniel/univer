{
 "cells": [
  {
   "cell_type": "code",
   "execution_count": 97,
   "metadata": {
    "collapsed": true
   },
   "outputs": [],
   "source": [
    "from collections import Counter\n",
    "\n",
    "from functools import reduce\n",
    "from scipy import stats as st\n",
    "import numpy as np\n",
    "from glob import glob\n",
    "import pickle\n",
    "import re"
   ]
  },
  {
   "cell_type": "code",
   "execution_count": 4,
   "metadata": {
    "collapsed": true
   },
   "outputs": [],
   "source": [
    "import matplotlib.pyplot as plt"
   ]
  },
  {
   "cell_type": "code",
   "execution_count": 50,
   "metadata": {
    "collapsed": true
   },
   "outputs": [],
   "source": [
    "variant = 9\n",
    "n = 5 + variant % 17\n",
    "p = 0.1 + 0.01 * variant\n",
    "size = 150\n",
    "\n",
    "binomial = st.binom(n, p)\n",
    "r = binomial.rvs(size=150)\n",
    "\n",
    "st_r = sorted(r)\n",
    "p_ch = Counter(r)"
   ]
  },
  {
   "cell_type": "code",
   "execution_count": 112,
   "metadata": {},
   "outputs": [
    {
     "data": {
      "image/png": "[encoded data removed]",
      "text/plain": [
       "<matplotlib.figure.Figure at 0x121a5cc18>"
      ]
     },
     "metadata": {},
     "output_type": "display_data"
    }
   ],
   "source": [
    "X = list(p_ch.keys())\n",
    "Y = [p_ch[x] for x in X]\n",
    "\n",
    "fig, ax = plt.subplots(figsize=(5, 5))\n",
    "ax.plot(X, Y, label='Полигон относительных частот')\n",
    "ax.set_title('Полигон относительных частот')\n",
    "ax.legend(loc='upper left')\n",
    "ax.set_ylabel('y')\n",
    "ax.set_xlabel('x')\n",
    "ax.set_xlim(xmin=0, xmax=max(X))\n",
    "ax.set_ylim(ymin=0, ymax=max(Y)+5)\n",
    "fig.tight_layout()\n",
    "ax.grid()\n",
    "\n",
    "plt.show()\n",
    "# fig.savefig('test.png')"
   ]
  },
  {
   "cell_type": "code",
   "execution_count": 140,
   "metadata": {},
   "outputs": [
    {
     "name": "stderr",
     "output_type": "stream",
     "text": [
      "/Library/Frameworks/Python.framework/Versions/3.5/lib/python3.5/site-packages/matplotlib/axes/_axes.py:545: UserWarning: No labelled objects found. Use label='...' kwarg on individual plots.\n",
      "  warnings.warn(\"No labelled objects found. \"\n"
     ]
    },
    {
     "data": {
      "image/png": "[encoded data removed]",
      "text/plain": [
       "<matplotlib.figure.Figure at 0x11b3850b8>"
      ]
     },
     "metadata": {},
     "output_type": "display_data"
    }
   ],
   "source": [
    "delta = 0.01\n",
    "items = list(zip(list(range(max(r)+2)), islice(list(range(max(r)+2)), 1, None))) # [(0, 1), (1, 2), ...]\n",
    "Xlist = [[x * delta for x in range(item[0] * int(1 / delta), item[1] * int(1 / delta))] for item in items]\n",
    "Ylist = [[st.binom.cdf(x, n, p) for x in line] for line in Xlist]\n",
    "\n",
    "# X = [x * delta for x in range((max(r) + 1) * int(1 / delta))]\n",
    "# Y = [st.binom.cdf(x, n, p) for x in X]\n",
    "\n",
    "\n",
    "fig, ax = plt.subplots(figsize=(5, 5))\n",
    "\n",
    "for X, Y in zip(Xlist, Ylist):\n",
    "    ax.plot(X, Y, label='')\n",
    "ax.set_title('Эмпирическая функция распределения')\n",
    "ax.legend(loc='upper left')\n",
    "ax.set_ylabel('y')\n",
    "ax.set_xlabel('x')\n",
    "ax.set_xlim(xmin=0, xmax=max(X))\n",
    "ax.set_ylim(ymin=0, ymax=1)\n",
    "fig.tight_layout()\n",
    "ax.grid()\n",
    "\n",
    "plt.show()\n",
    "# fig.savefig('test.png')"
   ]
  },
  {
   "cell_type": "code",
   "execution_count": 146,
   "metadata": {},
   "outputs": [
    {
     "data": {
      "text/plain": [
       "(array(2.66), array(2.1546), array(0.42238488), array(0.03555184))"
      ]
     },
     "execution_count": 146,
     "metadata": {},
     "output_type": "execute_result"
    }
   ],
   "source": [
    "mean, variance, skew, kurtosis = st.binom.stats(n, p, moments='mvsk') # среднее, дисперсия, ассиметрия, эксцесс\n",
    "standart, med = st.binom.std(n, p), st.binom.median(n, p) # стантартное отклонение, медиана"
   ]
  },
  {
   "cell_type": "code",
   "execution_count": null,
   "metadata": {
    "collapsed": true
   },
   "outputs": [],
   "source": []
  }
 ],
 "metadata": {
  "kernelspec": {
   "display_name": "Python 3",
   "language": "python",
   "name": "python3"
  },
  "language_info": {
   "codemirror_mode": {
    "name": "ipython",
    "version": 3
   },
   "file_extension": ".py",
   "mimetype": "text/x-python",
   "name": "python",
   "nbconvert_exporter": "python",
   "pygments_lexer": "ipython3",
   "version": "3.5.1"
  }
 },
 "nbformat": 4,
 "nbformat_minor": 2
}
