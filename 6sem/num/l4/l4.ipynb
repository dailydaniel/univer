{
 "cells": [
  {
   "cell_type": "code",
   "execution_count": 1,
   "metadata": {},
   "outputs": [],
   "source": [
    "import numpy as np\n",
    "from copy import deepcopy\n",
    "import sympy as sp\n",
    "from sympy import latex, preview, diff\n",
    "from IPython.display import display, Latex\n",
    "import matplotlib.pyplot as plt"
   ]
  },
  {
   "cell_type": "markdown",
   "metadata": {},
   "source": [
    "### функция"
   ]
  },
  {
   "cell_type": "code",
   "execution_count": 2,
   "metadata": {
    "collapsed": true
   },
   "outputs": [],
   "source": [
    "def f(x: float) -> float:\n",
    "    return 4 ** x - 5 * x - 2"
   ]
  },
  {
   "cell_type": "code",
   "execution_count": 3,
   "metadata": {},
   "outputs": [
    {
     "data": {
      "text/latex": [
       "$$4^{x} - 5 x - 2$$"
      ],
      "text/plain": [
       "<IPython.core.display.Latex object>"
      ]
     },
     "metadata": {},
     "output_type": "display_data"
    }
   ],
   "source": [
    "x = sp.symbols('x')\n",
    "func = 4 ** x - 5 * x - 2\n",
    "result = \"$${}$$\".format(latex(func))\n",
    "display(Latex(result))"
   ]
  },
  {
   "cell_type": "markdown",
   "metadata": {},
   "source": [
    "### построим функцию, чтобы примерно определить интервалы"
   ]
  },
  {
   "cell_type": "code",
   "execution_count": 4,
   "metadata": {},
   "outputs": [
    {
     "data": {
      "image/png": "[encoded data removed]",
      "text/plain": [
       "<matplotlib.figure.Figure at 0x11206b0b8>"
      ]
     },
     "metadata": {},
     "output_type": "display_data"
    }
   ],
   "source": [
    "delta = 0.005\n",
    "X = [x * delta for x in range(int(-10/delta), int(10/delta))]\n",
    "\n",
    "fig, ax = plt.subplots(figsize=(5, 5))\n",
    "ax.plot(X, [f(x) for x in X], label='func')\n",
    "ax.set_title('x')\n",
    "ax.legend(loc='upper left')\n",
    "ax.set_ylabel('y')\n",
    "ax.set_xlim(xmin=-10, xmax=10)\n",
    "ax.set_ylim(ymin=-10, ymax=10)\n",
    "fig.tight_layout()\n",
    "plt.grid()\n",
    "plt.show()"
   ]
  },
  {
   "cell_type": "code",
   "execution_count": 5,
   "metadata": {
    "collapsed": true
   },
   "outputs": [],
   "source": [
    "items = [(-10.0, 0.0), (1.25, 10.0)] # интервалы\n",
    "eps = 0.001"
   ]
  },
  {
   "cell_type": "markdown",
   "metadata": {},
   "source": [
    "### метод половинного деления"
   ]
  },
  {
   "cell_type": "code",
   "execution_count": 6,
   "metadata": {
    "collapsed": true
   },
   "outputs": [],
   "source": [
    "res = []\n",
    "for item in items:\n",
    "    a, b = item\n",
    "    while abs(a - b) > eps:\n",
    "        c = (a + b) / 2\n",
    "        (a, b) = (a, c) if f(a) * f(c) <= 0 else (c, b) \n",
    "    res.append((a, b))\n",
    "res = [(round(a, 4), round(b, 4)) for a, b in res]"
   ]
  },
  {
   "cell_type": "code",
   "execution_count": 7,
   "metadata": {},
   "outputs": [
    {
     "name": "stdout",
     "output_type": "stream",
     "text": [
      "a = -0.2612, b = -0.2606, f(a) = 0.0022, f(b) = -0.0033\n",
      "a = 1.6938, b = 1.6943, f(a) = -0.0033, f(b) = -0.0033\n"
     ]
    }
   ],
   "source": [
    "for ab, fab in zip(res, [(round(f(a), 4), round(f(c), 4)) for a, b in res]):\n",
    "    print('a = {0}, b = {1}, f(a) = {2}, f(b) = {3}'.format(*ab, *fab))"
   ]
  },
  {
   "cell_type": "markdown",
   "metadata": {},
   "source": [
    "### метод простой итерации"
   ]
  },
  {
   "cell_type": "code",
   "execution_count": 8,
   "metadata": {},
   "outputs": [],
   "source": [
    "res = [] \n",
    "for a, b in items:\n",
    "    x = (a + b) / 2\n",
    "    phi = lambda x: x / (1 + f(x))\n",
    "    while abs(f(x)) > eps:\n",
    "        x = phi(x)\n",
    "    res.append(round(x, 4))"
   ]
  },
  {
   "cell_type": "code",
   "execution_count": 9,
   "metadata": {},
   "outputs": [
    {
     "name": "stdout",
     "output_type": "stream",
     "text": [
      "x = -0.2605, f(x) = -0.0006\n",
      "x = -0.2607, f(x) = 0.0002\n"
     ]
    }
   ],
   "source": [
    "for x, fx in zip(res, [round(f(x), 4) for x in res]):\n",
    "    print('x = {0}, f(x) = {1}'.format(x, fx))"
   ]
  },
  {
   "cell_type": "markdown",
   "metadata": {},
   "source": [
    "### метод Ньютона"
   ]
  },
  {
   "cell_type": "code",
   "execution_count": 10,
   "metadata": {},
   "outputs": [],
   "source": [
    "res = []\n",
    "x = sp.Symbol('x')\n",
    "for a, b in items:\n",
    "    x_res = (a + b) / 2\n",
    "    phi = lambda x_res: x_res - f(x_res) / diff(func).evalf(subs={x: x_res})\n",
    "    while abs(f(x_res)) > eps:\n",
    "        x_res = phi(x_res)\n",
    "    res.append(round(x_res, 4))"
   ]
  },
  {
   "cell_type": "code",
   "execution_count": 11,
   "metadata": {},
   "outputs": [
    {
     "name": "stdout",
     "output_type": "stream",
     "text": [
      "x = -0.2607, f(x) = 0.0002\n",
      "x = 1.6942, f(x) = 0.0005\n"
     ]
    }
   ],
   "source": [
    "for x, fx in zip(res, [round(f(x), 4) for x in res]):\n",
    "    print('x = {0}, f(x) = {1}'.format(x, fx))"
   ]
  },
  {
   "cell_type": "markdown",
   "metadata": {},
   "source": [
    "### метод секущих"
   ]
  },
  {
   "cell_type": "code",
   "execution_count": 12,
   "metadata": {
    "collapsed": true
   },
   "outputs": [],
   "source": [
    "res = []\n",
    "x = sp.Symbol('x')\n",
    "for a, b in items:\n",
    "    x = a + (b - a) / 3\n",
    "    x0 = a + (b - a) * 2 / 3\n",
    "    phi = lambda xk, xkm1: xk - f(xk) / (f(xk) - f(xkm1)) * (xk - xkm1)\n",
    "    while abs(f(x)) > eps:\n",
    "        x, x0 = phi(x, x0), x\n",
    "    res.append(round(x, 4))"
   ]
  },
  {
   "cell_type": "code",
   "execution_count": 13,
   "metadata": {},
   "outputs": [
    {
     "name": "stdout",
     "output_type": "stream",
     "text": [
      "x = -0.2607, f(x) = 0.0002\n",
      "x = 1.6941, f(x) = -0.0004\n"
     ]
    }
   ],
   "source": [
    "for x, fx in zip(res, [round(f(x), 4) for x in res]):\n",
    "    print('x = {0}, f(x) = {1}'.format(x, fx))"
   ]
  }
 ],
 "metadata": {
  "kernelspec": {
   "display_name": "Python 3",
   "language": "python",
   "name": "python3"
  },
  "language_info": {
   "codemirror_mode": {
    "name": "ipython",
    "version": 3
   },
   "file_extension": ".py",
   "mimetype": "text/x-python",
   "name": "python",
   "nbconvert_exporter": "python",
   "pygments_lexer": "ipython3",
   "version": "3.5.1"
  }
 },
 "nbformat": 4,
 "nbformat_minor": 2
}
