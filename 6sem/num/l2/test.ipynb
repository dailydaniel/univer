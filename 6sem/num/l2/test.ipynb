{
 "cells": [
  {
   "cell_type": "code",
   "execution_count": 1,
   "metadata": {},
   "outputs": [],
   "source": [
    "import numpy as np\n",
    "\n",
    "from l2 import abc, PQ, generatePQ, solvePR"
   ]
  },
  {
   "cell_type": "code",
   "execution_count": 2,
   "metadata": {},
   "outputs": [],
   "source": [
    "m = np.loadtxt('matrix.txt')"
   ]
  },
  {
   "cell_type": "code",
   "execution_count": 3,
   "metadata": {},
   "outputs": [
    {
     "data": {
      "text/plain": [
       "array([[  16.,   -9.,    0.,    0.,    0.,  -27.],\n",
       "       [   8.,  -13.,   -5.,    0.,    0.,  -84.],\n",
       "       [   0.,   -3.,  -21.,    9.,    0., -225.],\n",
       "       [   0.,    0.,   -9.,   16.,   -5.,  -89.],\n",
       "       [   0.,    0.,    0.,    1.,   -9.,   69.]])"
      ]
     },
     "execution_count": 3,
     "metadata": {},
     "output_type": "execute_result"
    }
   ],
   "source": [
    "m"
   ]
  },
  {
   "cell_type": "code",
   "execution_count": 4,
   "metadata": {},
   "outputs": [],
   "source": [
    "pq = PQ(m)"
   ]
  },
  {
   "cell_type": "code",
   "execution_count": 5,
   "metadata": {},
   "outputs": [
    {
     "data": {
      "text/plain": [
       "-8.0"
      ]
     },
     "execution_count": 5,
     "metadata": {},
     "output_type": "execute_result"
    }
   ],
   "source": [
    "(69 - 1.0 * 0.39299610894941606) / (-9.0 + 1.0 * 0.424124513618677)"
   ]
  },
  {
   "cell_type": "code",
   "execution_count": 6,
   "metadata": {},
   "outputs": [
    {
     "data": {
      "text/plain": [
       "([0.5625, -0.5882352941176471, 0.46788990825688076, 0.424124513618677, 0.0],\n",
       " [-1.6875, 8.294117647058824, 10.403669724770642, 0.39299610894941606, -8.0])"
      ]
     },
     "execution_count": 6,
     "metadata": {},
     "output_type": "execute_result"
    }
   ],
   "source": [
    "pq[0], pq[1]"
   ]
  },
  {
   "cell_type": "code",
   "execution_count": 7,
   "metadata": {},
   "outputs": [],
   "source": [
    "x = solvePR(m)"
   ]
  },
  {
   "cell_type": "code",
   "execution_count": 8,
   "metadata": {},
   "outputs": [
    {
     "data": {
      "text/plain": [
       "[0.0, 3.0, 9.0, -3.0, -8.0]"
      ]
     },
     "execution_count": 8,
     "metadata": {},
     "output_type": "execute_result"
    }
   ],
   "source": [
    "x"
   ]
  },
  {
   "cell_type": "code",
   "execution_count": 9,
   "metadata": {},
   "outputs": [
    {
     "name": "stdout",
     "output_type": "stream",
     "text": [
      "(0.0, -8.0)\n",
      "(0.424124513618677, 0.39299610894941606)\n",
      "(0.46788990825688076, 10.403669724770642)\n",
      "(-0.5882352941176471, 8.294117647058824)\n",
      "(0.5625, -1.6875)\n"
     ]
    }
   ],
   "source": [
    "for t in generatePQ(m):\n",
    "    print(t)"
   ]
  },
  {
   "cell_type": "code",
   "execution_count": 10,
   "metadata": {},
   "outputs": [
    {
     "name": "stdout",
     "output_type": "stream",
     "text": [
      "0.0 16.0 -9.0 -27.0\n",
      "8.0 -13.0 -5.0 -84.0\n",
      "-3.0 -21.0 9.0 -225.0\n",
      "-9.0 16.0 -5.0 -89.0\n",
      "1.0 -9.0 0.0 69.0\n"
     ]
    }
   ],
   "source": [
    "for a, b, c, d in abc(m):\n",
    "    print(a, b, c, d)"
   ]
  },
  {
   "cell_type": "code",
   "execution_count": null,
   "metadata": {
    "collapsed": true
   },
   "outputs": [],
   "source": []
  }
 ],
 "metadata": {
  "kernelspec": {
   "display_name": "Python 3",
   "language": "python",
   "name": "python3"
  },
  "language_info": {
   "codemirror_mode": {
    "name": "ipython",
    "version": 3
   },
   "file_extension": ".py",
   "mimetype": "text/x-python",
   "name": "python",
   "nbconvert_exporter": "python",
   "pygments_lexer": "ipython3",
   "version": "3.5.1"
  }
 },
 "nbformat": 4,
 "nbformat_minor": 2
}
